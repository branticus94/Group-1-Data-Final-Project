{
 "cells": [
  {
   "cell_type": "markdown",
   "id": "5098518ea480110",
   "metadata": {},
   "source": [
    "## Obtaining COVID data from UKHSA API\n",
    "\n",
    "### Imports\n",
    "\n",
    "#### Here I define the imports used in the project, time is used as during initial requests I was throttling the server:"
   ]
  },
  {
   "cell_type": "code",
   "execution_count": 1,
   "id": "e2db98fe6faa7a91",
   "metadata": {
    "ExecuteTime": {
     "end_time": "2024-12-07T21:41:53.678126Z",
     "start_time": "2024-12-07T21:41:53.197441Z"
    }
   },
   "outputs": [],
   "source": [
    "import requests as req\n",
    "import pandas as pd\n",
    "import os\n",
    "from dotenv import load_dotenv\n",
    "import mysql.connector\n",
    "from sqlalchemy import create_engine\n",
    "import time "
   ]
  },
  {
   "cell_type": "markdown",
   "id": "768c132273e666b5",
   "metadata": {},
   "source": [
    "## The HSA database is built upon a REST API, one can retrieve the subset of available endpoints further on in the chain of the API request\n",
    "\n",
    "#### Firstly I get the geography types available for COVID-19 data, storing the geography types in a list:"
   ]
  },
  {
   "cell_type": "code",
   "execution_count": 2,
   "id": "initial_id",
   "metadata": {
    "ExecuteTime": {
     "end_time": "2024-11-20T13:45:30.016266Z",
     "start_time": "2024-11-20T13:45:29.943400Z"
    }
   },
   "outputs": [],
   "source": [
    "def get_geography_types():\n",
    "    geography_type_url= 'https://api.ukhsa-dashboard.data.gov.uk/themes/infectious_disease/sub_themes/respiratory/topics/COVID-19/geography_types'\n",
    "\n",
    "    geography_type_request = req.get(geography_type_url)\n",
    "    geography_data = geography_type_request.json()\n",
    "    \n",
    "    geography_types_list = []\n",
    "    \n",
    "    for geography_datum in geography_data:\n",
    "        geography_types_list.append(geography_datum['name'])\n",
    "        \n",
    "    return geography_types_list\n",
    "\n",
    "geography_types = get_geography_types()"
   ]
  },
  {
   "cell_type": "markdown",
   "id": "882a00eb65516617",
   "metadata": {},
   "source": [
    "## For each geography_type I call the API to retrieve the respective geographies, storing the results in a list:"
   ]
  },
  {
   "cell_type": "code",
   "execution_count": 3,
   "id": "ba93a1402d1fb5a1",
   "metadata": {
    "ExecuteTime": {
     "end_time": "2024-11-20T12:05:20.245147Z",
     "start_time": "2024-11-20T12:05:19.855041Z"
    }
   },
   "outputs": [],
   "source": [
    "def get_geographies():\n",
    "    \n",
    "    geographies_list = []\n",
    "    \n",
    "    for geography_type_name in geography_types:\n",
    "        geographies_url= 'https://api.ukhsa-dashboard.data.gov.uk/themes/infectious_disease/sub_themes/respiratory/topics/COVID-19/geography_types/' + geography_type_name + '/geographies'\n",
    "        \n",
    "        geographies_list = []\n",
    "        \n",
    "        geographies_request = req.get(geographies_url)\n",
    "    \n",
    "        for geographies_datum in geographies_request.json():\n",
    "            geographies_list.append(geographies_datum['name'])\n",
    "        \n",
    "        geographies_list.append(geographies_list)\n",
    "        \n",
    "    return geographies_list\n",
    "\n",
    "geographies = get_geographies()"
   ]
  },
  {
   "cell_type": "markdown",
   "id": "e299b83d0184562c",
   "metadata": {},
   "source": [
    "#### I get the list of available metrics for each geography within each geography type - storing the results as a list:"
   ]
  },
  {
   "cell_type": "code",
   "execution_count": 4,
   "id": "c113cbce08a15841",
   "metadata": {
    "ExecuteTime": {
     "end_time": "2024-11-20T15:09:32.385107Z",
     "start_time": "2024-11-20T15:02:25.914045Z"
    }
   },
   "outputs": [],
   "source": [
    "metric_for_geographies = []\n",
    "\n",
    "for i, geography_type in enumerate(geography_types):\n",
    "    unique_metrics = set()\n",
    "\n",
    "    for geography in geographies[i]:\n",
    "        url = (\n",
    "            'https://api.ukhsa-dashboard.data.gov.uk/themes/infectious_disease/'\n",
    "            'sub_themes/respiratory/topics/COVID-19/geography_types/'\n",
    "            + geography_type\n",
    "            + f'/geographies/{geography}/metrics'\n",
    "        )\n",
    "\n",
    "        request = req.get(url)\n",
    "        time.sleep(0.5)  \n",
    "\n",
    "        for item in request.json():\n",
    "            unique_metrics.add(item['name'])\n",
    "\n",
    "    metric_for_geographies.append(list(unique_metrics))"
   ]
  },
  {
   "cell_type": "markdown",
   "id": "4b441f8ccdbe69cc",
   "metadata": {},
   "source": [
    "## Storing the data\n",
    "\n",
    "#### The above lists are iterated over, in order to form a complete url which is used to obtain the available data - storing the output to an SQL database using sql alchemy.\n",
    "\n",
    "### First I set up the database (if it is not in existence):\n",
    "\n",
    "#### Loading the environment variables:\n"
   ]
  },
  {
   "cell_type": "code",
   "execution_count": 5,
   "id": "60c131cda1fc4570",
   "metadata": {
    "ExecuteTime": {
     "end_time": "2024-11-20T09:18:45.544236Z",
     "start_time": "2024-11-20T09:18:45.539448Z"
    }
   },
   "outputs": [
    {
     "data": {
      "text/plain": [
       "True"
      ]
     },
     "execution_count": 5,
     "metadata": {},
     "output_type": "execute_result"
    }
   ],
   "source": [
    "load_dotenv() "
   ]
  },
  {
   "cell_type": "markdown",
   "id": "4c4b4b37df9a92b4",
   "metadata": {},
   "source": [
    "#### Assign the environment variables to variables for use in database connection:\n"
   ]
  },
  {
   "cell_type": "code",
   "execution_count": 6,
   "id": "6b19c6026fb1b85c",
   "metadata": {
    "ExecuteTime": {
     "end_time": "2024-11-20T09:18:47.749840Z",
     "start_time": "2024-11-20T09:18:47.746617Z"
    }
   },
   "outputs": [],
   "source": [
    "host = os.getenv('SQL-HOST')\n",
    "user = os.getenv('SQL-USER')\n",
    "password = os.getenv('SQL-PASSWORD')\n",
    "sql_database = 'Ukhsa_covid_data'"
   ]
  },
  {
   "cell_type": "markdown",
   "id": "43e630533a9940dc",
   "metadata": {},
   "source": [
    "\n",
    "#### Create database if it does not exist:"
   ]
  },
  {
   "cell_type": "code",
   "execution_count": 7,
   "id": "d1242a852b1d69ae",
   "metadata": {
    "ExecuteTime": {
     "end_time": "2024-11-20T09:18:55.652658Z",
     "start_time": "2024-11-20T09:18:55.636421Z"
    }
   },
   "outputs": [],
   "source": [
    "connection = mysql.connector.connect(\n",
    "    host=host,\n",
    "    user=user,\n",
    "    password=password\n",
    ")\n",
    "\n",
    "cur = connection.cursor()\n",
    "\n",
    "cur.execute(f\"CREATE DATABASE IF NOT EXISTS {sql_database}\")\n",
    "\n",
    "connection.commit()\n",
    "\n",
    "cur.close()\n",
    "connection.close()"
   ]
  },
  {
   "cell_type": "markdown",
   "id": "e9c68d1ca1a7dd24",
   "metadata": {},
   "source": [
    "#### Create SQL Alchemy Connection"
   ]
  },
  {
   "cell_type": "code",
   "execution_count": 8,
   "id": "8db5990e4a2b930d",
   "metadata": {
    "ExecuteTime": {
     "end_time": "2024-11-20T09:26:45.416956Z",
     "start_time": "2024-11-20T09:26:45.413679Z"
    }
   },
   "outputs": [],
   "source": [
    "engine = create_engine(f'mysql+mysqlconnector://{user}:{password}@{host}/{sql_database}')"
   ]
  },
  {
   "cell_type": "markdown",
   "id": "6b508e94f965c501",
   "metadata": {},
   "source": [
    "#### Iterating over metrics for each geography (within difference geography types) to obtain a list of urls for each metric, creating a list of associated table names, accounting for the limit of table name length in mysql by replacing lower_tier_local_authority and upper_tier_local_authority with initialisms."
   ]
  },
  {
   "cell_type": "code",
   "execution_count": 223,
   "id": "812f2d97c2059ca7",
   "metadata": {
    "ExecuteTime": {
     "end_time": "2024-11-20T15:51:33.595401Z",
     "start_time": "2024-11-20T15:51:33.589865Z"
    }
   },
   "outputs": [],
   "source": [
    "urls = []\n",
    "\n",
    "parameters = []\n",
    "\n",
    "for i, metrics in enumerate(metric_for_geographies):\n",
    "    metric_per_geography_urls = []\n",
    "    for metric in metrics:\n",
    "        urls_list = []\n",
    "        formatted_geography_type = geography_types[i].lower().replace(' ', '_')\n",
    "        if formatted_geography_type == 'lower_tier_local_authority':\n",
    "            formatted_geography_type = 'ltla'\n",
    "        elif formatted_geography_type == 'upper_tier_local_authority':\n",
    "            formatted_geography_type = 'utla'\n",
    "        parameters.append(f'{formatted_geography_type}_{metric.lower().replace(\" \", \"_\")}')\n",
    "        for geography in geographies[i]:\n",
    "            url = f'https://api.ukhsa-dashboard.data.gov.uk/themes/infectious_disease/sub_themes/respiratory/topics/COVID-19/geography_types/{geography_types[i]}/geographies/{geography}/metrics/{metric}'\n",
    "            \n",
    "            urls_list.append(url)\n",
    "        \n",
    "        urls.append(urls_list)"
   ]
  },
  {
   "cell_type": "markdown",
   "id": "d570bc625c53b0f1",
   "metadata": {},
   "source": [
    "### Exploring the urls contained within the first metric"
   ]
  },
  {
   "cell_type": "code",
   "execution_count": 226,
   "id": "533b246e10116ea6",
   "metadata": {
    "ExecuteTime": {
     "end_time": "2024-11-20T15:56:07.111723Z",
     "start_time": "2024-11-20T15:56:07.109434Z"
    }
   },
   "outputs": [
    {
     "data": {
      "text/plain": [
       "['https://api.ukhsa-dashboard.data.gov.uk/themes/infectious_disease/sub_themes/respiratory/topics/COVID-19/geography_types/Government Office Region/geographies/East Midlands/metrics/COVID-19_deaths_ONSByDay',\n",
       " 'https://api.ukhsa-dashboard.data.gov.uk/themes/infectious_disease/sub_themes/respiratory/topics/COVID-19/geography_types/Government Office Region/geographies/East of England/metrics/COVID-19_deaths_ONSByDay',\n",
       " 'https://api.ukhsa-dashboard.data.gov.uk/themes/infectious_disease/sub_themes/respiratory/topics/COVID-19/geography_types/Government Office Region/geographies/London/metrics/COVID-19_deaths_ONSByDay',\n",
       " 'https://api.ukhsa-dashboard.data.gov.uk/themes/infectious_disease/sub_themes/respiratory/topics/COVID-19/geography_types/Government Office Region/geographies/North East/metrics/COVID-19_deaths_ONSByDay',\n",
       " 'https://api.ukhsa-dashboard.data.gov.uk/themes/infectious_disease/sub_themes/respiratory/topics/COVID-19/geography_types/Government Office Region/geographies/North West/metrics/COVID-19_deaths_ONSByDay',\n",
       " 'https://api.ukhsa-dashboard.data.gov.uk/themes/infectious_disease/sub_themes/respiratory/topics/COVID-19/geography_types/Government Office Region/geographies/South East/metrics/COVID-19_deaths_ONSByDay',\n",
       " 'https://api.ukhsa-dashboard.data.gov.uk/themes/infectious_disease/sub_themes/respiratory/topics/COVID-19/geography_types/Government Office Region/geographies/South West/metrics/COVID-19_deaths_ONSByDay',\n",
       " 'https://api.ukhsa-dashboard.data.gov.uk/themes/infectious_disease/sub_themes/respiratory/topics/COVID-19/geography_types/Government Office Region/geographies/West Midlands/metrics/COVID-19_deaths_ONSByDay',\n",
       " 'https://api.ukhsa-dashboard.data.gov.uk/themes/infectious_disease/sub_themes/respiratory/topics/COVID-19/geography_types/Government Office Region/geographies/Yorkshire and The Humber/metrics/COVID-19_deaths_ONSByDay']"
      ]
     },
     "execution_count": 226,
     "metadata": {},
     "output_type": "execute_result"
    }
   ],
   "source": [
    "urls[0]"
   ]
  },
  {
   "cell_type": "markdown",
   "id": "149cc3ec8acf85c7",
   "metadata": {},
   "source": [
    "### Testing out obtaining the data for the first metric from all regions, accounting for pagination of the API \n",
    "\n",
    "#### Note: the request for one parameter can take an incredibly long time as the API shuts off if too many requests are sent to it per second\n",
    "\n",
    "#### I first create a dataframe for all the data available, accounting for pagination and concatenating data for the pagination and region\n",
    "\n",
    "#### Note: I have commented out the following code to show my process when working out how to structure my query and store the data"
   ]
  },
  {
   "cell_type": "code",
   "execution_count": 236,
   "id": "341caf6d3fb7f81b",
   "metadata": {
    "ExecuteTime": {
     "end_time": "2024-11-20T16:36:05.932776Z",
     "start_time": "2024-11-20T16:07:17.708458Z"
    }
   },
   "outputs": [
    {
     "name": "stdout",
     "output_type": "stream",
     "text": [
      "{\"count\":1444,\"next\":\"https://api.ukhsa-dashboard.data.gov.uk/themes/infectious_disease/sub_themes/respiratory/topics/COVID-19/geography_types/Government%20Office%20Region/geographies/East%20Midlands/metrics/COVID-19_deaths_ONSByDay?page=2\",\"previous\":null,\"results\":[{\"theme\":\"infectious_disease\",\"sub_theme\":\"respiratory\",\"topic\":\"COVID-19\",\"geography_type\":\"Government Office Region\",\"geography\":\"East Midlands\",\"geography_code\":\"E12000004\",\"metric\":\"COVID-19_deaths_ONSByDay\",\"metric_group\":\"deaths\",\"stratum\":\"default\",\"sex\":\"all\",\"age\":\"all\",\"year\":2020,\"month\":1,\"epiweek\":5,\"date\":\"2020-01-30\",\"metric_value\":0.0,\"in_reporting_delay_period\":false},{\"theme\":\"infectious_disease\",\"sub_theme\":\"respiratory\",\"topic\":\"COVID-19\",\"geography_type\":\"Government Office Region\",\"geography\":\"East Midlands\",\"geography_code\":\"E12000004\",\"metric\":\"COVID-19_deaths_ONSByDay\",\"metric_group\":\"deaths\",\"stratum\":\"default\",\"sex\":\"all\",\"age\":\"all\",\"year\":2020,\"month\":1,\"epiweek\":5,\"date\":\"2020-01-31\",\"metric_value\":0.0,\"in_reporting_delay_period\":false},{\"theme\":\"infectious_disease\",\"sub_theme\":\"respiratory\",\"topic\":\"COVID-19\",\"geography_type\":\"Government Office Region\",\"geography\":\"East Midlands\",\"geography_code\":\"E12000004\",\"metric\":\"COVID-19_deaths_ONSByDay\",\"metric_group\":\"deaths\",\"stratum\":\"default\",\"sex\":\"all\",\"age\":\"all\",\"year\":2020,\"month\":2,\"epiweek\":5,\"date\":\"2020-02-01\",\"metric_value\":0.0,\"in_reporting_delay_period\":false},{\"theme\":\"infectious_disease\",\"sub_theme\":\"respiratory\",\"topic\":\"COVID-19\",\"geography_type\":\"Government Office Region\",\"geography\":\"East Midlands\",\"geography_code\":\"E12000004\",\"metric\":\"COVID-19_deaths_ONSByDay\",\"metric_group\":\"deaths\",\"stratum\":\"default\",\"sex\":\"all\",\"age\":\"all\",\"year\":2020,\"month\":2,\"epiweek\":5,\"date\":\"2020-02-02\",\"metric_value\":0.0,\"in_reporting_delay_period\":false},{\"theme\":\"infectious_disease\",\"sub_theme\":\"respiratory\",\"topic\":\"COVID-19\",\"geography_type\":\"Government Office Region\",\"geography\":\"East Midlands\",\"geography_code\":\"E12000004\",\"metric\":\"COVID-19_deaths_ONSByDay\",\"metric_group\":\"deaths\",\"stratum\":\"default\",\"sex\":\"all\",\"age\":\"all\",\"year\":2020,\"month\":2,\"epiweek\":6,\"date\":\"2020-02-03\",\"metric_value\":0.0,\"in_reporting_delay_period\":false}]}\n",
      "{\"count\":1444,\"next\":\"https://api.ukhsa-dashboard.data.gov.uk/themes/infectious_disease/sub_themes/respiratory/topics/COVID-19/geography_types/Government%20Office%20Region/geographies/East%20of%20England/metrics/COVID-19_deaths_ONSByDay?page=2\",\"previous\":null,\"results\":[{\"theme\":\"infectious_disease\",\"sub_theme\":\"respiratory\",\"topic\":\"COVID-19\",\"geography_type\":\"Government Office Region\",\"geography\":\"East of England\",\"geography_code\":\"E12000006\",\"metric\":\"COVID-19_deaths_ONSByDay\",\"metric_group\":\"deaths\",\"stratum\":\"default\",\"sex\":\"all\",\"age\":\"all\",\"year\":2020,\"month\":1,\"epiweek\":5,\"date\":\"2020-01-30\",\"metric_value\":0.0,\"in_reporting_delay_period\":false},{\"theme\":\"infectious_disease\",\"sub_theme\":\"respiratory\",\"topic\":\"COVID-19\",\"geography_type\":\"Government Office Region\",\"geography\":\"East of England\",\"geography_code\":\"E12000006\",\"metric\":\"COVID-19_deaths_ONSByDay\",\"metric_group\":\"deaths\",\"stratum\":\"default\",\"sex\":\"all\",\"age\":\"all\",\"year\":2020,\"month\":1,\"epiweek\":5,\"date\":\"2020-01-31\",\"metric_value\":0.0,\"in_reporting_delay_period\":false},{\"theme\":\"infectious_disease\",\"sub_theme\":\"respiratory\",\"topic\":\"COVID-19\",\"geography_type\":\"Government Office Region\",\"geography\":\"East of England\",\"geography_code\":\"E12000006\",\"metric\":\"COVID-19_deaths_ONSByDay\",\"metric_group\":\"deaths\",\"stratum\":\"default\",\"sex\":\"all\",\"age\":\"all\",\"year\":2020,\"month\":2,\"epiweek\":5,\"date\":\"2020-02-01\",\"metric_value\":0.0,\"in_reporting_delay_period\":false},{\"theme\":\"infectious_disease\",\"sub_theme\":\"respiratory\",\"topic\":\"COVID-19\",\"geography_type\":\"Government Office Region\",\"geography\":\"East of England\",\"geography_code\":\"E12000006\",\"metric\":\"COVID-19_deaths_ONSByDay\",\"metric_group\":\"deaths\",\"stratum\":\"default\",\"sex\":\"all\",\"age\":\"all\",\"year\":2020,\"month\":2,\"epiweek\":5,\"date\":\"2020-02-02\",\"metric_value\":1.0,\"in_reporting_delay_period\":false},{\"theme\":\"infectious_disease\",\"sub_theme\":\"respiratory\",\"topic\":\"COVID-19\",\"geography_type\":\"Government Office Region\",\"geography\":\"East of England\",\"geography_code\":\"E12000006\",\"metric\":\"COVID-19_deaths_ONSByDay\",\"metric_group\":\"deaths\",\"stratum\":\"default\",\"sex\":\"all\",\"age\":\"all\",\"year\":2020,\"month\":2,\"epiweek\":6,\"date\":\"2020-02-03\",\"metric_value\":0.0,\"in_reporting_delay_period\":false}]}\n",
      "{\"count\":1444,\"next\":\"https://api.ukhsa-dashboard.data.gov.uk/themes/infectious_disease/sub_themes/respiratory/topics/COVID-19/geography_types/Government%20Office%20Region/geographies/London/metrics/COVID-19_deaths_ONSByDay?page=2\",\"previous\":null,\"results\":[{\"theme\":\"infectious_disease\",\"sub_theme\":\"respiratory\",\"topic\":\"COVID-19\",\"geography_type\":\"Government Office Region\",\"geography\":\"London\",\"geography_code\":\"E12000007\",\"metric\":\"COVID-19_deaths_ONSByDay\",\"metric_group\":\"deaths\",\"stratum\":\"default\",\"sex\":\"all\",\"age\":\"all\",\"year\":2020,\"month\":1,\"epiweek\":5,\"date\":\"2020-01-30\",\"metric_value\":0.0,\"in_reporting_delay_period\":false},{\"theme\":\"infectious_disease\",\"sub_theme\":\"respiratory\",\"topic\":\"COVID-19\",\"geography_type\":\"Government Office Region\",\"geography\":\"London\",\"geography_code\":\"E12000007\",\"metric\":\"COVID-19_deaths_ONSByDay\",\"metric_group\":\"deaths\",\"stratum\":\"default\",\"sex\":\"all\",\"age\":\"all\",\"year\":2020,\"month\":1,\"epiweek\":5,\"date\":\"2020-01-31\",\"metric_value\":0.0,\"in_reporting_delay_period\":false},{\"theme\":\"infectious_disease\",\"sub_theme\":\"respiratory\",\"topic\":\"COVID-19\",\"geography_type\":\"Government Office Region\",\"geography\":\"London\",\"geography_code\":\"E12000007\",\"metric\":\"COVID-19_deaths_ONSByDay\",\"metric_group\":\"deaths\",\"stratum\":\"default\",\"sex\":\"all\",\"age\":\"all\",\"year\":2020,\"month\":2,\"epiweek\":5,\"date\":\"2020-02-01\",\"metric_value\":0.0,\"in_reporting_delay_period\":false},{\"theme\":\"infectious_disease\",\"sub_theme\":\"respiratory\",\"topic\":\"COVID-19\",\"geography_type\":\"Government Office Region\",\"geography\":\"London\",\"geography_code\":\"E12000007\",\"metric\":\"COVID-19_deaths_ONSByDay\",\"metric_group\":\"deaths\",\"stratum\":\"default\",\"sex\":\"all\",\"age\":\"all\",\"year\":2020,\"month\":2,\"epiweek\":5,\"date\":\"2020-02-02\",\"metric_value\":0.0,\"in_reporting_delay_period\":false},{\"theme\":\"infectious_disease\",\"sub_theme\":\"respiratory\",\"topic\":\"COVID-19\",\"geography_type\":\"Government Office Region\",\"geography\":\"London\",\"geography_code\":\"E12000007\",\"metric\":\"COVID-19_deaths_ONSByDay\",\"metric_group\":\"deaths\",\"stratum\":\"default\",\"sex\":\"all\",\"age\":\"all\",\"year\":2020,\"month\":2,\"epiweek\":6,\"date\":\"2020-02-03\",\"metric_value\":0.0,\"in_reporting_delay_period\":false}]}\n",
      "{\"count\":1444,\"next\":\"https://api.ukhsa-dashboard.data.gov.uk/themes/infectious_disease/sub_themes/respiratory/topics/COVID-19/geography_types/Government%20Office%20Region/geographies/North%20East/metrics/COVID-19_deaths_ONSByDay?page=2\",\"previous\":null,\"results\":[{\"theme\":\"infectious_disease\",\"sub_theme\":\"respiratory\",\"topic\":\"COVID-19\",\"geography_type\":\"Government Office Region\",\"geography\":\"North East\",\"geography_code\":\"E12000001\",\"metric\":\"COVID-19_deaths_ONSByDay\",\"metric_group\":\"deaths\",\"stratum\":\"default\",\"sex\":\"all\",\"age\":\"all\",\"year\":2020,\"month\":1,\"epiweek\":5,\"date\":\"2020-01-30\",\"metric_value\":0.0,\"in_reporting_delay_period\":false},{\"theme\":\"infectious_disease\",\"sub_theme\":\"respiratory\",\"topic\":\"COVID-19\",\"geography_type\":\"Government Office Region\",\"geography\":\"North East\",\"geography_code\":\"E12000001\",\"metric\":\"COVID-19_deaths_ONSByDay\",\"metric_group\":\"deaths\",\"stratum\":\"default\",\"sex\":\"all\",\"age\":\"all\",\"year\":2020,\"month\":1,\"epiweek\":5,\"date\":\"2020-01-31\",\"metric_value\":0.0,\"in_reporting_delay_period\":false},{\"theme\":\"infectious_disease\",\"sub_theme\":\"respiratory\",\"topic\":\"COVID-19\",\"geography_type\":\"Government Office Region\",\"geography\":\"North East\",\"geography_code\":\"E12000001\",\"metric\":\"COVID-19_deaths_ONSByDay\",\"metric_group\":\"deaths\",\"stratum\":\"default\",\"sex\":\"all\",\"age\":\"all\",\"year\":2020,\"month\":2,\"epiweek\":5,\"date\":\"2020-02-01\",\"metric_value\":0.0,\"in_reporting_delay_period\":false},{\"theme\":\"infectious_disease\",\"sub_theme\":\"respiratory\",\"topic\":\"COVID-19\",\"geography_type\":\"Government Office Region\",\"geography\":\"North East\",\"geography_code\":\"E12000001\",\"metric\":\"COVID-19_deaths_ONSByDay\",\"metric_group\":\"deaths\",\"stratum\":\"default\",\"sex\":\"all\",\"age\":\"all\",\"year\":2020,\"month\":2,\"epiweek\":5,\"date\":\"2020-02-02\",\"metric_value\":0.0,\"in_reporting_delay_period\":false},{\"theme\":\"infectious_disease\",\"sub_theme\":\"respiratory\",\"topic\":\"COVID-19\",\"geography_type\":\"Government Office Region\",\"geography\":\"North East\",\"geography_code\":\"E12000001\",\"metric\":\"COVID-19_deaths_ONSByDay\",\"metric_group\":\"deaths\",\"stratum\":\"default\",\"sex\":\"all\",\"age\":\"all\",\"year\":2020,\"month\":2,\"epiweek\":6,\"date\":\"2020-02-03\",\"metric_value\":0.0,\"in_reporting_delay_period\":false}]}\n",
      "{\"count\":1444,\"next\":\"https://api.ukhsa-dashboard.data.gov.uk/themes/infectious_disease/sub_themes/respiratory/topics/COVID-19/geography_types/Government%20Office%20Region/geographies/North%20West/metrics/COVID-19_deaths_ONSByDay?page=2\",\"previous\":null,\"results\":[{\"theme\":\"infectious_disease\",\"sub_theme\":\"respiratory\",\"topic\":\"COVID-19\",\"geography_type\":\"Government Office Region\",\"geography\":\"North West\",\"geography_code\":\"E12000002\",\"metric\":\"COVID-19_deaths_ONSByDay\",\"metric_group\":\"deaths\",\"stratum\":\"default\",\"sex\":\"all\",\"age\":\"all\",\"year\":2020,\"month\":1,\"epiweek\":5,\"date\":\"2020-01-30\",\"metric_value\":0.0,\"in_reporting_delay_period\":false},{\"theme\":\"infectious_disease\",\"sub_theme\":\"respiratory\",\"topic\":\"COVID-19\",\"geography_type\":\"Government Office Region\",\"geography\":\"North West\",\"geography_code\":\"E12000002\",\"metric\":\"COVID-19_deaths_ONSByDay\",\"metric_group\":\"deaths\",\"stratum\":\"default\",\"sex\":\"all\",\"age\":\"all\",\"year\":2020,\"month\":1,\"epiweek\":5,\"date\":\"2020-01-31\",\"metric_value\":0.0,\"in_reporting_delay_period\":false},{\"theme\":\"infectious_disease\",\"sub_theme\":\"respiratory\",\"topic\":\"COVID-19\",\"geography_type\":\"Government Office Region\",\"geography\":\"North West\",\"geography_code\":\"E12000002\",\"metric\":\"COVID-19_deaths_ONSByDay\",\"metric_group\":\"deaths\",\"stratum\":\"default\",\"sex\":\"all\",\"age\":\"all\",\"year\":2020,\"month\":2,\"epiweek\":5,\"date\":\"2020-02-01\",\"metric_value\":0.0,\"in_reporting_delay_period\":false},{\"theme\":\"infectious_disease\",\"sub_theme\":\"respiratory\",\"topic\":\"COVID-19\",\"geography_type\":\"Government Office Region\",\"geography\":\"North West\",\"geography_code\":\"E12000002\",\"metric\":\"COVID-19_deaths_ONSByDay\",\"metric_group\":\"deaths\",\"stratum\":\"default\",\"sex\":\"all\",\"age\":\"all\",\"year\":2020,\"month\":2,\"epiweek\":5,\"date\":\"2020-02-02\",\"metric_value\":0.0,\"in_reporting_delay_period\":false},{\"theme\":\"infectious_disease\",\"sub_theme\":\"respiratory\",\"topic\":\"COVID-19\",\"geography_type\":\"Government Office Region\",\"geography\":\"North West\",\"geography_code\":\"E12000002\",\"metric\":\"COVID-19_deaths_ONSByDay\",\"metric_group\":\"deaths\",\"stratum\":\"default\",\"sex\":\"all\",\"age\":\"all\",\"year\":2020,\"month\":2,\"epiweek\":6,\"date\":\"2020-02-03\",\"metric_value\":0.0,\"in_reporting_delay_period\":false}]}\n",
      "{\"count\":1444,\"next\":\"https://api.ukhsa-dashboard.data.gov.uk/themes/infectious_disease/sub_themes/respiratory/topics/COVID-19/geography_types/Government%20Office%20Region/geographies/South%20East/metrics/COVID-19_deaths_ONSByDay?page=2\",\"previous\":null,\"results\":[{\"theme\":\"infectious_disease\",\"sub_theme\":\"respiratory\",\"topic\":\"COVID-19\",\"geography_type\":\"Government Office Region\",\"geography\":\"South East\",\"geography_code\":\"E12000008\",\"metric\":\"COVID-19_deaths_ONSByDay\",\"metric_group\":\"deaths\",\"stratum\":\"default\",\"sex\":\"all\",\"age\":\"all\",\"year\":2020,\"month\":1,\"epiweek\":5,\"date\":\"2020-01-30\",\"metric_value\":1.0,\"in_reporting_delay_period\":false},{\"theme\":\"infectious_disease\",\"sub_theme\":\"respiratory\",\"topic\":\"COVID-19\",\"geography_type\":\"Government Office Region\",\"geography\":\"South East\",\"geography_code\":\"E12000008\",\"metric\":\"COVID-19_deaths_ONSByDay\",\"metric_group\":\"deaths\",\"stratum\":\"default\",\"sex\":\"all\",\"age\":\"all\",\"year\":2020,\"month\":1,\"epiweek\":5,\"date\":\"2020-01-31\",\"metric_value\":0.0,\"in_reporting_delay_period\":false},{\"theme\":\"infectious_disease\",\"sub_theme\":\"respiratory\",\"topic\":\"COVID-19\",\"geography_type\":\"Government Office Region\",\"geography\":\"South East\",\"geography_code\":\"E12000008\",\"metric\":\"COVID-19_deaths_ONSByDay\",\"metric_group\":\"deaths\",\"stratum\":\"default\",\"sex\":\"all\",\"age\":\"all\",\"year\":2020,\"month\":2,\"epiweek\":5,\"date\":\"2020-02-01\",\"metric_value\":0.0,\"in_reporting_delay_period\":false},{\"theme\":\"infectious_disease\",\"sub_theme\":\"respiratory\",\"topic\":\"COVID-19\",\"geography_type\":\"Government Office Region\",\"geography\":\"South East\",\"geography_code\":\"E12000008\",\"metric\":\"COVID-19_deaths_ONSByDay\",\"metric_group\":\"deaths\",\"stratum\":\"default\",\"sex\":\"all\",\"age\":\"all\",\"year\":2020,\"month\":2,\"epiweek\":5,\"date\":\"2020-02-02\",\"metric_value\":0.0,\"in_reporting_delay_period\":false},{\"theme\":\"infectious_disease\",\"sub_theme\":\"respiratory\",\"topic\":\"COVID-19\",\"geography_type\":\"Government Office Region\",\"geography\":\"South East\",\"geography_code\":\"E12000008\",\"metric\":\"COVID-19_deaths_ONSByDay\",\"metric_group\":\"deaths\",\"stratum\":\"default\",\"sex\":\"all\",\"age\":\"all\",\"year\":2020,\"month\":2,\"epiweek\":6,\"date\":\"2020-02-03\",\"metric_value\":0.0,\"in_reporting_delay_period\":false}]}\n",
      "{\"count\":1444,\"next\":\"https://api.ukhsa-dashboard.data.gov.uk/themes/infectious_disease/sub_themes/respiratory/topics/COVID-19/geography_types/Government%20Office%20Region/geographies/South%20West/metrics/COVID-19_deaths_ONSByDay?page=2\",\"previous\":null,\"results\":[{\"theme\":\"infectious_disease\",\"sub_theme\":\"respiratory\",\"topic\":\"COVID-19\",\"geography_type\":\"Government Office Region\",\"geography\":\"South West\",\"geography_code\":\"E12000009\",\"metric\":\"COVID-19_deaths_ONSByDay\",\"metric_group\":\"deaths\",\"stratum\":\"default\",\"sex\":\"all\",\"age\":\"all\",\"year\":2020,\"month\":1,\"epiweek\":5,\"date\":\"2020-01-30\",\"metric_value\":0.0,\"in_reporting_delay_period\":false},{\"theme\":\"infectious_disease\",\"sub_theme\":\"respiratory\",\"topic\":\"COVID-19\",\"geography_type\":\"Government Office Region\",\"geography\":\"South West\",\"geography_code\":\"E12000009\",\"metric\":\"COVID-19_deaths_ONSByDay\",\"metric_group\":\"deaths\",\"stratum\":\"default\",\"sex\":\"all\",\"age\":\"all\",\"year\":2020,\"month\":1,\"epiweek\":5,\"date\":\"2020-01-31\",\"metric_value\":0.0,\"in_reporting_delay_period\":false},{\"theme\":\"infectious_disease\",\"sub_theme\":\"respiratory\",\"topic\":\"COVID-19\",\"geography_type\":\"Government Office Region\",\"geography\":\"South West\",\"geography_code\":\"E12000009\",\"metric\":\"COVID-19_deaths_ONSByDay\",\"metric_group\":\"deaths\",\"stratum\":\"default\",\"sex\":\"all\",\"age\":\"all\",\"year\":2020,\"month\":2,\"epiweek\":5,\"date\":\"2020-02-01\",\"metric_value\":0.0,\"in_reporting_delay_period\":false},{\"theme\":\"infectious_disease\",\"sub_theme\":\"respiratory\",\"topic\":\"COVID-19\",\"geography_type\":\"Government Office Region\",\"geography\":\"South West\",\"geography_code\":\"E12000009\",\"metric\":\"COVID-19_deaths_ONSByDay\",\"metric_group\":\"deaths\",\"stratum\":\"default\",\"sex\":\"all\",\"age\":\"all\",\"year\":2020,\"month\":2,\"epiweek\":5,\"date\":\"2020-02-02\",\"metric_value\":0.0,\"in_reporting_delay_period\":false},{\"theme\":\"infectious_disease\",\"sub_theme\":\"respiratory\",\"topic\":\"COVID-19\",\"geography_type\":\"Government Office Region\",\"geography\":\"South West\",\"geography_code\":\"E12000009\",\"metric\":\"COVID-19_deaths_ONSByDay\",\"metric_group\":\"deaths\",\"stratum\":\"default\",\"sex\":\"all\",\"age\":\"all\",\"year\":2020,\"month\":2,\"epiweek\":6,\"date\":\"2020-02-03\",\"metric_value\":0.0,\"in_reporting_delay_period\":false}]}\n",
      "{\"count\":1444,\"next\":\"https://api.ukhsa-dashboard.data.gov.uk/themes/infectious_disease/sub_themes/respiratory/topics/COVID-19/geography_types/Government%20Office%20Region/geographies/West%20Midlands/metrics/COVID-19_deaths_ONSByDay?page=2\",\"previous\":null,\"results\":[{\"theme\":\"infectious_disease\",\"sub_theme\":\"respiratory\",\"topic\":\"COVID-19\",\"geography_type\":\"Government Office Region\",\"geography\":\"West Midlands\",\"geography_code\":\"E12000005\",\"metric\":\"COVID-19_deaths_ONSByDay\",\"metric_group\":\"deaths\",\"stratum\":\"default\",\"sex\":\"all\",\"age\":\"all\",\"year\":2020,\"month\":1,\"epiweek\":5,\"date\":\"2020-01-30\",\"metric_value\":0.0,\"in_reporting_delay_period\":false},{\"theme\":\"infectious_disease\",\"sub_theme\":\"respiratory\",\"topic\":\"COVID-19\",\"geography_type\":\"Government Office Region\",\"geography\":\"West Midlands\",\"geography_code\":\"E12000005\",\"metric\":\"COVID-19_deaths_ONSByDay\",\"metric_group\":\"deaths\",\"stratum\":\"default\",\"sex\":\"all\",\"age\":\"all\",\"year\":2020,\"month\":1,\"epiweek\":5,\"date\":\"2020-01-31\",\"metric_value\":0.0,\"in_reporting_delay_period\":false},{\"theme\":\"infectious_disease\",\"sub_theme\":\"respiratory\",\"topic\":\"COVID-19\",\"geography_type\":\"Government Office Region\",\"geography\":\"West Midlands\",\"geography_code\":\"E12000005\",\"metric\":\"COVID-19_deaths_ONSByDay\",\"metric_group\":\"deaths\",\"stratum\":\"default\",\"sex\":\"all\",\"age\":\"all\",\"year\":2020,\"month\":2,\"epiweek\":5,\"date\":\"2020-02-01\",\"metric_value\":0.0,\"in_reporting_delay_period\":false},{\"theme\":\"infectious_disease\",\"sub_theme\":\"respiratory\",\"topic\":\"COVID-19\",\"geography_type\":\"Government Office Region\",\"geography\":\"West Midlands\",\"geography_code\":\"E12000005\",\"metric\":\"COVID-19_deaths_ONSByDay\",\"metric_group\":\"deaths\",\"stratum\":\"default\",\"sex\":\"all\",\"age\":\"all\",\"year\":2020,\"month\":2,\"epiweek\":5,\"date\":\"2020-02-02\",\"metric_value\":0.0,\"in_reporting_delay_period\":false},{\"theme\":\"infectious_disease\",\"sub_theme\":\"respiratory\",\"topic\":\"COVID-19\",\"geography_type\":\"Government Office Region\",\"geography\":\"West Midlands\",\"geography_code\":\"E12000005\",\"metric\":\"COVID-19_deaths_ONSByDay\",\"metric_group\":\"deaths\",\"stratum\":\"default\",\"sex\":\"all\",\"age\":\"all\",\"year\":2020,\"month\":2,\"epiweek\":6,\"date\":\"2020-02-03\",\"metric_value\":0.0,\"in_reporting_delay_period\":false}]}\n",
      "{\"count\":1444,\"next\":\"https://api.ukhsa-dashboard.data.gov.uk/themes/infectious_disease/sub_themes/respiratory/topics/COVID-19/geography_types/Government%20Office%20Region/geographies/Yorkshire%20and%20The%20Humber/metrics/COVID-19_deaths_ONSByDay?page=2\",\"previous\":null,\"results\":[{\"theme\":\"infectious_disease\",\"sub_theme\":\"respiratory\",\"topic\":\"COVID-19\",\"geography_type\":\"Government Office Region\",\"geography\":\"Yorkshire and The Humber\",\"geography_code\":\"E12000003\",\"metric\":\"COVID-19_deaths_ONSByDay\",\"metric_group\":\"deaths\",\"stratum\":\"default\",\"sex\":\"all\",\"age\":\"all\",\"year\":2020,\"month\":1,\"epiweek\":5,\"date\":\"2020-01-30\",\"metric_value\":0.0,\"in_reporting_delay_period\":false},{\"theme\":\"infectious_disease\",\"sub_theme\":\"respiratory\",\"topic\":\"COVID-19\",\"geography_type\":\"Government Office Region\",\"geography\":\"Yorkshire and The Humber\",\"geography_code\":\"E12000003\",\"metric\":\"COVID-19_deaths_ONSByDay\",\"metric_group\":\"deaths\",\"stratum\":\"default\",\"sex\":\"all\",\"age\":\"all\",\"year\":2020,\"month\":1,\"epiweek\":5,\"date\":\"2020-01-31\",\"metric_value\":0.0,\"in_reporting_delay_period\":false},{\"theme\":\"infectious_disease\",\"sub_theme\":\"respiratory\",\"topic\":\"COVID-19\",\"geography_type\":\"Government Office Region\",\"geography\":\"Yorkshire and The Humber\",\"geography_code\":\"E12000003\",\"metric\":\"COVID-19_deaths_ONSByDay\",\"metric_group\":\"deaths\",\"stratum\":\"default\",\"sex\":\"all\",\"age\":\"all\",\"year\":2020,\"month\":2,\"epiweek\":5,\"date\":\"2020-02-01\",\"metric_value\":0.0,\"in_reporting_delay_period\":false},{\"theme\":\"infectious_disease\",\"sub_theme\":\"respiratory\",\"topic\":\"COVID-19\",\"geography_type\":\"Government Office Region\",\"geography\":\"Yorkshire and The Humber\",\"geography_code\":\"E12000003\",\"metric\":\"COVID-19_deaths_ONSByDay\",\"metric_group\":\"deaths\",\"stratum\":\"default\",\"sex\":\"all\",\"age\":\"all\",\"year\":2020,\"month\":2,\"epiweek\":5,\"date\":\"2020-02-02\",\"metric_value\":0.0,\"in_reporting_delay_period\":false},{\"theme\":\"infectious_disease\",\"sub_theme\":\"respiratory\",\"topic\":\"COVID-19\",\"geography_type\":\"Government Office Region\",\"geography\":\"Yorkshire and The Humber\",\"geography_code\":\"E12000003\",\"metric\":\"COVID-19_deaths_ONSByDay\",\"metric_group\":\"deaths\",\"stratum\":\"default\",\"sex\":\"all\",\"age\":\"all\",\"year\":2020,\"month\":2,\"epiweek\":6,\"date\":\"2020-02-03\",\"metric_value\":0.0,\"in_reporting_delay_period\":false}]}\n",
      "                 theme    sub_theme     topic            geography_type  \\\n",
      "0   infectious_disease  respiratory  COVID-19  Government Office Region   \n",
      "1   infectious_disease  respiratory  COVID-19  Government Office Region   \n",
      "2   infectious_disease  respiratory  COVID-19  Government Office Region   \n",
      "3   infectious_disease  respiratory  COVID-19  Government Office Region   \n",
      "4   infectious_disease  respiratory  COVID-19  Government Office Region   \n",
      "..                 ...          ...       ...                       ...   \n",
      "4   infectious_disease  respiratory  COVID-19  Government Office Region   \n",
      "0   infectious_disease  respiratory  COVID-19  Government Office Region   \n",
      "1   infectious_disease  respiratory  COVID-19  Government Office Region   \n",
      "2   infectious_disease  respiratory  COVID-19  Government Office Region   \n",
      "3   infectious_disease  respiratory  COVID-19  Government Office Region   \n",
      "\n",
      "                   geography geography_code                    metric  \\\n",
      "0              East Midlands      E12000004  COVID-19_deaths_ONSByDay   \n",
      "1              East Midlands      E12000004  COVID-19_deaths_ONSByDay   \n",
      "2              East Midlands      E12000004  COVID-19_deaths_ONSByDay   \n",
      "3              East Midlands      E12000004  COVID-19_deaths_ONSByDay   \n",
      "4              East Midlands      E12000004  COVID-19_deaths_ONSByDay   \n",
      "..                       ...            ...                       ...   \n",
      "4   Yorkshire and The Humber      E12000003  COVID-19_deaths_ONSByDay   \n",
      "0   Yorkshire and The Humber      E12000003  COVID-19_deaths_ONSByDay   \n",
      "1   Yorkshire and The Humber      E12000003  COVID-19_deaths_ONSByDay   \n",
      "2   Yorkshire and The Humber      E12000003  COVID-19_deaths_ONSByDay   \n",
      "3   Yorkshire and The Humber      E12000003  COVID-19_deaths_ONSByDay   \n",
      "\n",
      "   metric_group  stratum  sex  age  year  month  epiweek        date  \\\n",
      "0        deaths  default  all  all  2020      1        5  2020-01-30   \n",
      "1        deaths  default  all  all  2020      1        5  2020-01-31   \n",
      "2        deaths  default  all  all  2020      2        5  2020-02-01   \n",
      "3        deaths  default  all  all  2020      2        5  2020-02-02   \n",
      "4        deaths  default  all  all  2020      2        6  2020-02-03   \n",
      "..          ...      ...  ...  ...   ...    ...      ...         ...   \n",
      "4        deaths  default  all  all  2024      1        2  2024-01-08   \n",
      "0        deaths  default  all  all  2024      1        2  2024-01-09   \n",
      "1        deaths  default  all  all  2024      1        2  2024-01-10   \n",
      "2        deaths  default  all  all  2024      1        2  2024-01-11   \n",
      "3        deaths  default  all  all  2024      1        2  2024-01-12   \n",
      "\n",
      "    metric_value  in_reporting_delay_period  \n",
      "0            0.0                      False  \n",
      "1            0.0                      False  \n",
      "2            0.0                      False  \n",
      "3            0.0                      False  \n",
      "4            0.0                      False  \n",
      "..           ...                        ...  \n",
      "4            1.0                      False  \n",
      "0            2.0                      False  \n",
      "1            1.0                      False  \n",
      "2            0.0                      False  \n",
      "3            0.0                      False  \n",
      "\n",
      "[12996 rows x 17 columns]\n"
     ]
    }
   ],
   "source": [
    "parameter = parameters[0]\n",
    "\n",
    "url_final_dataframe = pd.DataFrame()\n",
    "\n",
    "for url in urls[0]:\n",
    "    request = req.get(url)\n",
    "    time.sleep(0.5)\n",
    "\n",
    "    if request.status_code == 200:\n",
    "        url_dataframe = pd.DataFrame(request.json()['results'])\n",
    "\n",
    "        while request.json()['next'] is not None:\n",
    "            url = request.json()['next']\n",
    "            request = req.get(url)\n",
    "            new_data_frame = pd.DataFrame(request.json()['results'])\n",
    "            url_dataframe = pd.concat([url_dataframe, new_data_frame])\n",
    "            time.sleep(0.5)\n",
    "\n",
    "        url_final_dataframe = pd.concat([url_final_dataframe, url_dataframe])\n",
    "\n",
    "    else:\n",
    "        print(request.status_code)\n",
    "        print(request.text)\n",
    "\n",
    "url_final_dataframe\n"
   ]
  },
  {
   "cell_type": "markdown",
   "id": "ba292d05068af4b2",
   "metadata": {},
   "source": [
    "#### Exploring the final dataframe for that url group:"
   ]
  },
  {
   "cell_type": "code",
   "execution_count": 244,
   "id": "cadd430bf6fd7a14",
   "metadata": {
    "ExecuteTime": {
     "end_time": "2024-11-20T17:21:32.140091Z",
     "start_time": "2024-11-20T17:21:32.129723Z"
    }
   },
   "outputs": [
    {
     "data": {
      "text/html": [
       "<div>\n",
       "<style scoped>\n",
       "    .dataframe tbody tr th:only-of-type {\n",
       "        vertical-align: middle;\n",
       "    }\n",
       "\n",
       "    .dataframe tbody tr th {\n",
       "        vertical-align: top;\n",
       "    }\n",
       "\n",
       "    .dataframe thead th {\n",
       "        text-align: right;\n",
       "    }\n",
       "</style>\n",
       "<table border=\"1\" class=\"dataframe\">\n",
       "  <thead>\n",
       "    <tr style=\"text-align: right;\">\n",
       "      <th></th>\n",
       "      <th>theme</th>\n",
       "      <th>sub_theme</th>\n",
       "      <th>topic</th>\n",
       "      <th>geography_type</th>\n",
       "      <th>geography</th>\n",
       "      <th>geography_code</th>\n",
       "      <th>metric</th>\n",
       "      <th>metric_group</th>\n",
       "      <th>stratum</th>\n",
       "      <th>sex</th>\n",
       "      <th>age</th>\n",
       "      <th>year</th>\n",
       "      <th>month</th>\n",
       "      <th>epiweek</th>\n",
       "      <th>date</th>\n",
       "      <th>metric_value</th>\n",
       "      <th>in_reporting_delay_period</th>\n",
       "    </tr>\n",
       "  </thead>\n",
       "  <tbody>\n",
       "    <tr>\n",
       "      <th>0</th>\n",
       "      <td>infectious_disease</td>\n",
       "      <td>respiratory</td>\n",
       "      <td>COVID-19</td>\n",
       "      <td>Government Office Region</td>\n",
       "      <td>East Midlands</td>\n",
       "      <td>E12000004</td>\n",
       "      <td>COVID-19_deaths_ONSByDay</td>\n",
       "      <td>deaths</td>\n",
       "      <td>default</td>\n",
       "      <td>all</td>\n",
       "      <td>all</td>\n",
       "      <td>2020</td>\n",
       "      <td>1</td>\n",
       "      <td>5</td>\n",
       "      <td>2020-01-30</td>\n",
       "      <td>0.0</td>\n",
       "      <td>False</td>\n",
       "    </tr>\n",
       "    <tr>\n",
       "      <th>1</th>\n",
       "      <td>infectious_disease</td>\n",
       "      <td>respiratory</td>\n",
       "      <td>COVID-19</td>\n",
       "      <td>Government Office Region</td>\n",
       "      <td>East Midlands</td>\n",
       "      <td>E12000004</td>\n",
       "      <td>COVID-19_deaths_ONSByDay</td>\n",
       "      <td>deaths</td>\n",
       "      <td>default</td>\n",
       "      <td>all</td>\n",
       "      <td>all</td>\n",
       "      <td>2020</td>\n",
       "      <td>1</td>\n",
       "      <td>5</td>\n",
       "      <td>2020-01-31</td>\n",
       "      <td>0.0</td>\n",
       "      <td>False</td>\n",
       "    </tr>\n",
       "    <tr>\n",
       "      <th>2</th>\n",
       "      <td>infectious_disease</td>\n",
       "      <td>respiratory</td>\n",
       "      <td>COVID-19</td>\n",
       "      <td>Government Office Region</td>\n",
       "      <td>East Midlands</td>\n",
       "      <td>E12000004</td>\n",
       "      <td>COVID-19_deaths_ONSByDay</td>\n",
       "      <td>deaths</td>\n",
       "      <td>default</td>\n",
       "      <td>all</td>\n",
       "      <td>all</td>\n",
       "      <td>2020</td>\n",
       "      <td>2</td>\n",
       "      <td>5</td>\n",
       "      <td>2020-02-01</td>\n",
       "      <td>0.0</td>\n",
       "      <td>False</td>\n",
       "    </tr>\n",
       "    <tr>\n",
       "      <th>3</th>\n",
       "      <td>infectious_disease</td>\n",
       "      <td>respiratory</td>\n",
       "      <td>COVID-19</td>\n",
       "      <td>Government Office Region</td>\n",
       "      <td>East Midlands</td>\n",
       "      <td>E12000004</td>\n",
       "      <td>COVID-19_deaths_ONSByDay</td>\n",
       "      <td>deaths</td>\n",
       "      <td>default</td>\n",
       "      <td>all</td>\n",
       "      <td>all</td>\n",
       "      <td>2020</td>\n",
       "      <td>2</td>\n",
       "      <td>5</td>\n",
       "      <td>2020-02-02</td>\n",
       "      <td>0.0</td>\n",
       "      <td>False</td>\n",
       "    </tr>\n",
       "    <tr>\n",
       "      <th>4</th>\n",
       "      <td>infectious_disease</td>\n",
       "      <td>respiratory</td>\n",
       "      <td>COVID-19</td>\n",
       "      <td>Government Office Region</td>\n",
       "      <td>East Midlands</td>\n",
       "      <td>E12000004</td>\n",
       "      <td>COVID-19_deaths_ONSByDay</td>\n",
       "      <td>deaths</td>\n",
       "      <td>default</td>\n",
       "      <td>all</td>\n",
       "      <td>all</td>\n",
       "      <td>2020</td>\n",
       "      <td>2</td>\n",
       "      <td>6</td>\n",
       "      <td>2020-02-03</td>\n",
       "      <td>0.0</td>\n",
       "      <td>False</td>\n",
       "    </tr>\n",
       "    <tr>\n",
       "      <th>...</th>\n",
       "      <td>...</td>\n",
       "      <td>...</td>\n",
       "      <td>...</td>\n",
       "      <td>...</td>\n",
       "      <td>...</td>\n",
       "      <td>...</td>\n",
       "      <td>...</td>\n",
       "      <td>...</td>\n",
       "      <td>...</td>\n",
       "      <td>...</td>\n",
       "      <td>...</td>\n",
       "      <td>...</td>\n",
       "      <td>...</td>\n",
       "      <td>...</td>\n",
       "      <td>...</td>\n",
       "      <td>...</td>\n",
       "      <td>...</td>\n",
       "    </tr>\n",
       "    <tr>\n",
       "      <th>4</th>\n",
       "      <td>infectious_disease</td>\n",
       "      <td>respiratory</td>\n",
       "      <td>COVID-19</td>\n",
       "      <td>Government Office Region</td>\n",
       "      <td>Yorkshire and The Humber</td>\n",
       "      <td>E12000003</td>\n",
       "      <td>COVID-19_deaths_ONSByDay</td>\n",
       "      <td>deaths</td>\n",
       "      <td>default</td>\n",
       "      <td>all</td>\n",
       "      <td>all</td>\n",
       "      <td>2024</td>\n",
       "      <td>1</td>\n",
       "      <td>2</td>\n",
       "      <td>2024-01-08</td>\n",
       "      <td>1.0</td>\n",
       "      <td>False</td>\n",
       "    </tr>\n",
       "    <tr>\n",
       "      <th>0</th>\n",
       "      <td>infectious_disease</td>\n",
       "      <td>respiratory</td>\n",
       "      <td>COVID-19</td>\n",
       "      <td>Government Office Region</td>\n",
       "      <td>Yorkshire and The Humber</td>\n",
       "      <td>E12000003</td>\n",
       "      <td>COVID-19_deaths_ONSByDay</td>\n",
       "      <td>deaths</td>\n",
       "      <td>default</td>\n",
       "      <td>all</td>\n",
       "      <td>all</td>\n",
       "      <td>2024</td>\n",
       "      <td>1</td>\n",
       "      <td>2</td>\n",
       "      <td>2024-01-09</td>\n",
       "      <td>2.0</td>\n",
       "      <td>False</td>\n",
       "    </tr>\n",
       "    <tr>\n",
       "      <th>1</th>\n",
       "      <td>infectious_disease</td>\n",
       "      <td>respiratory</td>\n",
       "      <td>COVID-19</td>\n",
       "      <td>Government Office Region</td>\n",
       "      <td>Yorkshire and The Humber</td>\n",
       "      <td>E12000003</td>\n",
       "      <td>COVID-19_deaths_ONSByDay</td>\n",
       "      <td>deaths</td>\n",
       "      <td>default</td>\n",
       "      <td>all</td>\n",
       "      <td>all</td>\n",
       "      <td>2024</td>\n",
       "      <td>1</td>\n",
       "      <td>2</td>\n",
       "      <td>2024-01-10</td>\n",
       "      <td>1.0</td>\n",
       "      <td>False</td>\n",
       "    </tr>\n",
       "    <tr>\n",
       "      <th>2</th>\n",
       "      <td>infectious_disease</td>\n",
       "      <td>respiratory</td>\n",
       "      <td>COVID-19</td>\n",
       "      <td>Government Office Region</td>\n",
       "      <td>Yorkshire and The Humber</td>\n",
       "      <td>E12000003</td>\n",
       "      <td>COVID-19_deaths_ONSByDay</td>\n",
       "      <td>deaths</td>\n",
       "      <td>default</td>\n",
       "      <td>all</td>\n",
       "      <td>all</td>\n",
       "      <td>2024</td>\n",
       "      <td>1</td>\n",
       "      <td>2</td>\n",
       "      <td>2024-01-11</td>\n",
       "      <td>0.0</td>\n",
       "      <td>False</td>\n",
       "    </tr>\n",
       "    <tr>\n",
       "      <th>3</th>\n",
       "      <td>infectious_disease</td>\n",
       "      <td>respiratory</td>\n",
       "      <td>COVID-19</td>\n",
       "      <td>Government Office Region</td>\n",
       "      <td>Yorkshire and The Humber</td>\n",
       "      <td>E12000003</td>\n",
       "      <td>COVID-19_deaths_ONSByDay</td>\n",
       "      <td>deaths</td>\n",
       "      <td>default</td>\n",
       "      <td>all</td>\n",
       "      <td>all</td>\n",
       "      <td>2024</td>\n",
       "      <td>1</td>\n",
       "      <td>2</td>\n",
       "      <td>2024-01-12</td>\n",
       "      <td>0.0</td>\n",
       "      <td>False</td>\n",
       "    </tr>\n",
       "  </tbody>\n",
       "</table>\n",
       "<p>12996 rows × 17 columns</p>\n",
       "</div>"
      ],
      "text/plain": [
       "                 theme    sub_theme     topic            geography_type  \\\n",
       "0   infectious_disease  respiratory  COVID-19  Government Office Region   \n",
       "1   infectious_disease  respiratory  COVID-19  Government Office Region   \n",
       "2   infectious_disease  respiratory  COVID-19  Government Office Region   \n",
       "3   infectious_disease  respiratory  COVID-19  Government Office Region   \n",
       "4   infectious_disease  respiratory  COVID-19  Government Office Region   \n",
       "..                 ...          ...       ...                       ...   \n",
       "4   infectious_disease  respiratory  COVID-19  Government Office Region   \n",
       "0   infectious_disease  respiratory  COVID-19  Government Office Region   \n",
       "1   infectious_disease  respiratory  COVID-19  Government Office Region   \n",
       "2   infectious_disease  respiratory  COVID-19  Government Office Region   \n",
       "3   infectious_disease  respiratory  COVID-19  Government Office Region   \n",
       "\n",
       "                   geography geography_code                    metric  \\\n",
       "0              East Midlands      E12000004  COVID-19_deaths_ONSByDay   \n",
       "1              East Midlands      E12000004  COVID-19_deaths_ONSByDay   \n",
       "2              East Midlands      E12000004  COVID-19_deaths_ONSByDay   \n",
       "3              East Midlands      E12000004  COVID-19_deaths_ONSByDay   \n",
       "4              East Midlands      E12000004  COVID-19_deaths_ONSByDay   \n",
       "..                       ...            ...                       ...   \n",
       "4   Yorkshire and The Humber      E12000003  COVID-19_deaths_ONSByDay   \n",
       "0   Yorkshire and The Humber      E12000003  COVID-19_deaths_ONSByDay   \n",
       "1   Yorkshire and The Humber      E12000003  COVID-19_deaths_ONSByDay   \n",
       "2   Yorkshire and The Humber      E12000003  COVID-19_deaths_ONSByDay   \n",
       "3   Yorkshire and The Humber      E12000003  COVID-19_deaths_ONSByDay   \n",
       "\n",
       "   metric_group  stratum  sex  age  year  month  epiweek        date  \\\n",
       "0        deaths  default  all  all  2020      1        5  2020-01-30   \n",
       "1        deaths  default  all  all  2020      1        5  2020-01-31   \n",
       "2        deaths  default  all  all  2020      2        5  2020-02-01   \n",
       "3        deaths  default  all  all  2020      2        5  2020-02-02   \n",
       "4        deaths  default  all  all  2020      2        6  2020-02-03   \n",
       "..          ...      ...  ...  ...   ...    ...      ...         ...   \n",
       "4        deaths  default  all  all  2024      1        2  2024-01-08   \n",
       "0        deaths  default  all  all  2024      1        2  2024-01-09   \n",
       "1        deaths  default  all  all  2024      1        2  2024-01-10   \n",
       "2        deaths  default  all  all  2024      1        2  2024-01-11   \n",
       "3        deaths  default  all  all  2024      1        2  2024-01-12   \n",
       "\n",
       "    metric_value  in_reporting_delay_period  \n",
       "0            0.0                      False  \n",
       "1            0.0                      False  \n",
       "2            0.0                      False  \n",
       "3            0.0                      False  \n",
       "4            0.0                      False  \n",
       "..           ...                        ...  \n",
       "4            1.0                      False  \n",
       "0            2.0                      False  \n",
       "1            1.0                      False  \n",
       "2            0.0                      False  \n",
       "3            0.0                      False  \n",
       "\n",
       "[12996 rows x 17 columns]"
      ]
     },
     "execution_count": 244,
     "metadata": {},
     "output_type": "execute_result"
    }
   ],
   "source": [
    "# url_final_dataframe"
   ]
  },
  {
   "cell_type": "markdown",
   "id": "ac279184d556400b",
   "metadata": {},
   "source": [
    "#### Writing the dataframe to mysql"
   ]
  },
  {
   "cell_type": "code",
   "execution_count": 240,
   "id": "79bdec2a7ad78ae",
   "metadata": {
    "ExecuteTime": {
     "end_time": "2024-11-20T17:05:05.129563Z",
     "start_time": "2024-11-20T17:05:04.788326Z"
    }
   },
   "outputs": [
    {
     "data": {
      "text/plain": [
       "12996"
      ]
     },
     "execution_count": 240,
     "metadata": {},
     "output_type": "execute_result"
    }
   ],
   "source": [
    "# url_final_dataframe.to_sql(name=parameters[0].replace('-', '_'), con=engine, if_exists='replace', index=False)"
   ]
  },
  {
   "cell_type": "code",
   "execution_count": null,
   "id": "417012da-997d-4acd-aa87-475cd6cdb7ee",
   "metadata": {},
   "outputs": [],
   "source": "url_final_dataframe.to_csv(r'../4_integrated_csv_files/government_office_region_covid_19_deaths_onsbyday.csv', index=False)"
  },
  {
   "cell_type": "markdown",
   "id": "a3ca62f69abea79f",
   "metadata": {},
   "source": [
    "## Once, I confirmed that the data has been successfully written to MySQL database I then produced a script to iterate over the entire list of parameters to create a database for each parameter within the API - there is so much data - this takes hours to run to get all the data from the API\n",
    "\n",
    "## The below code was not needed as based on the analysis we only want the morbidity data for the region. I therefore save the region data directly to csv for cleaning. However, I leave it in to show how I would scrape an API to get all the data and save data from the API to a sql database."
   ]
  },
  {
   "cell_type": "code",
   "execution_count": null,
   "id": "a7861bf562c73c67",
   "metadata": {
    "ExecuteTime": {
     "start_time": "2024-11-20T18:03:09.076918Z"
    },
    "jupyter": {
     "is_executing": true
    }
   },
   "outputs": [],
   "source": [
    "# for i, parameter in enumerate(parameters):\n",
    "#     database_name = parameters[i].replace('-', '_')\n",
    "#     url_final_dataframe = pd.DataFrame()\n",
    "    \n",
    "#     for url in urls[i]:\n",
    "#         request = req.get(url)\n",
    "#         time.sleep(0.5)\n",
    "    \n",
    "#         if request.status_code == 200:\n",
    "#             url_dataframe = pd.DataFrame(request.json()['results'])\n",
    "        \n",
    "#             while request.json()['next'] is not None:\n",
    "#                 url = request.json()['next']\n",
    "#                 request = req.get(url)\n",
    "#                 new_data_frame = pd.DataFrame(request.json()['results'])\n",
    "#                 url_dataframe = pd.concat([url_dataframe, new_data_frame])\n",
    "#                 time.sleep(0.5)\n",
    "            \n",
    "#             url_final_dataframe = pd.concat([url_final_dataframe, url_dataframe])\n",
    "            \n",
    "#         else:\n",
    "#             print(request.status_code)\n",
    "#             print(request.text)\n",
    "        \n",
    "#     url_final_dataframe.to_sql(name=database_name, con=engine, if_exists='replace', index=False)"
   ]
  }
 ],
 "metadata": {
  "kernelspec": {
   "display_name": "Python 3 (ipykernel)",
   "language": "python",
   "name": "python3"
  },
  "language_info": {
   "codemirror_mode": {
    "name": "ipython",
    "version": 3
   },
   "file_extension": ".py",
   "mimetype": "text/x-python",
   "name": "python",
   "nbconvert_exporter": "python",
   "pygments_lexer": "ipython3",
   "version": "3.12.6"
  }
 },
 "nbformat": 4,
 "nbformat_minor": 5
}
