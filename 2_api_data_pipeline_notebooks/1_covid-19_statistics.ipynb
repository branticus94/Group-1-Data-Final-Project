{
 "cells": [
  {
   "cell_type": "markdown",
   "id": "bb74d1a23e45ea2f",
   "metadata": {},
   "source": [
    "# COVID API Data Retrieval (https://covid-api.com/)\n",
    "## Imports\n",
    "### Importing necessary libraries & modules\n"
   ]
  },
  {
   "cell_type": "code",
   "execution_count": 1,
   "id": "initial_id",
   "metadata": {
    "ExecuteTime": {
     "end_time": "2024-12-07T23:47:23.916341Z",
     "start_time": "2024-12-07T23:47:23.871673Z"
    }
   },
   "outputs": [],
   "source": [
    "import requests\n",
    "import datetime\n",
    "from datetime import timedelta\n",
    "import pandas as pd\n",
    "from pandas import json_normalize"
   ]
  },
  {
   "cell_type": "markdown",
   "id": "a6b411d3974140f5",
   "metadata": {},
   "source": [
    "# API connectors\n",
    "## Here I define the functions I will be using to connect to the COVID API\n",
    "### Creating a function to call the COVID API when passed in parameters"
   ]
  },
  {
   "cell_type": "code",
   "execution_count": 2,
   "id": "d8e6939e0466b56e",
   "metadata": {
    "ExecuteTime": {
     "end_time": "2024-11-23T13:41:22.851590Z",
     "start_time": "2024-11-23T13:41:22.848785Z"
    }
   },
   "outputs": [],
   "source": [
    "def get_data(url, params=None):\n",
    "    response = requests.get(url, params=params)\n",
    "    if response.status_code == 200:\n",
    "        return response.json()\n",
    "    else:\n",
    "        return [response.status_code, response.text]"
   ]
  },
  {
   "cell_type": "markdown",
   "id": "6c3090df2b3d6afb",
   "metadata": {},
   "source": [
    "### Setting the base url to be used for all requests:"
   ]
  },
  {
   "cell_type": "code",
   "execution_count": 3,
   "id": "ff5fdd0bf72186a",
   "metadata": {
    "ExecuteTime": {
     "end_time": "2024-11-23T13:41:23.521380Z",
     "start_time": "2024-11-23T13:41:23.519448Z"
    }
   },
   "outputs": [],
   "source": [
    "base_url = 'https://covid-api.com/api/'"
   ]
  },
  {
   "cell_type": "markdown",
   "id": "476e4da2a167add4",
   "metadata": {},
   "source": [
    "### Getting Regions Data"
   ]
  },
  {
   "cell_type": "code",
   "execution_count": 4,
   "id": "cc9293b4214cabe",
   "metadata": {
    "ExecuteTime": {
     "end_time": "2024-11-23T13:41:24.332338Z",
     "start_time": "2024-11-23T13:41:24.330202Z"
    }
   },
   "outputs": [],
   "source": [
    "def get_all_regions():\n",
    "    regions_data = get_data(f\"{base_url}regions\", params=None)\n",
    "    return regions_data['data']"
   ]
  },
  {
   "cell_type": "markdown",
   "id": "e31d8eaf00a52378",
   "metadata": {},
   "source": [
    "### Getting Provinces Data"
   ]
  },
  {
   "cell_type": "code",
   "execution_count": 5,
   "id": "6bd43c183c918ec8",
   "metadata": {
    "ExecuteTime": {
     "end_time": "2024-11-23T13:41:25.418434Z",
     "start_time": "2024-11-23T13:41:25.416513Z"
    }
   },
   "outputs": [],
   "source": [
    "def get_all_provinces_by_iso(iso):\n",
    "    params={'per_page': 250}\n",
    "    url = f\"{base_url}provinces/{iso}\"\n",
    "    provinces_for_region = get_data(url, params=params)\n",
    "    return provinces_for_region"
   ]
  },
  {
   "cell_type": "markdown",
   "id": "6513e2ee9d68dc96",
   "metadata": {},
   "source": [
    "### Get Reports Total Worldwide for ISO and/or date"
   ]
  },
  {
   "cell_type": "code",
   "execution_count": 6,
   "id": "2b3b9a5ab615c7f",
   "metadata": {
    "ExecuteTime": {
     "end_time": "2024-11-23T13:41:26.391900Z",
     "start_time": "2024-11-23T13:41:26.389702Z"
    }
   },
   "outputs": [],
   "source": [
    "def get_reports_total(params=None):\n",
    "    url = f\"{base_url}reports/total\"\n",
    "    reports_total = get_data(url, params=params)\n",
    "    return reports_total['data']"
   ]
  },
  {
   "cell_type": "code",
   "execution_count": 7,
   "id": "efe4164e64f679b8",
   "metadata": {
    "ExecuteTime": {
     "end_time": "2024-11-23T13:41:26.910995Z",
     "start_time": "2024-11-23T13:41:26.907942Z"
    }
   },
   "outputs": [],
   "source": [
    "def get_reports_total_for_iso(iso):\n",
    "    params = {'iso': iso}\n",
    "    reports_total_for_iso = get_reports_total(params)\n",
    "    return reports_total_for_iso"
   ]
  },
  {
   "cell_type": "code",
   "execution_count": 8,
   "id": "e5ea8024ca558a6f",
   "metadata": {
    "ExecuteTime": {
     "end_time": "2024-11-23T13:41:27.359771Z",
     "start_time": "2024-11-23T13:41:27.358153Z"
    }
   },
   "outputs": [],
   "source": [
    "def get_reports_total_for_date(date):\n",
    "    params = {'date': date}\n",
    "    reports_total_for_date = get_reports_total(params)\n",
    "    return reports_total_for_date"
   ]
  },
  {
   "cell_type": "code",
   "execution_count": 9,
   "id": "e716313d31c245c0",
   "metadata": {
    "ExecuteTime": {
     "end_time": "2024-11-23T13:41:27.779972Z",
     "start_time": "2024-11-23T13:41:27.778129Z"
    }
   },
   "outputs": [],
   "source": [
    "def get_reports_total_for_date_and_iso(date, iso):\n",
    "    params = {'date': date, 'iso': iso}\n",
    "    reports_total_for_date_and_iso = get_reports_total(params)\n",
    "    return reports_total_for_date_and_iso"
   ]
  },
  {
   "cell_type": "code",
   "execution_count": 10,
   "id": "5cdd059ef73fd5cd",
   "metadata": {
    "ExecuteTime": {
     "end_time": "2024-11-23T13:41:28.249561Z",
     "start_time": "2024-11-23T13:41:28.247591Z"
    }
   },
   "outputs": [],
   "source": [
    "def get_reports_total_worldwide():\n",
    "    return get_reports_total()"
   ]
  },
  {
   "cell_type": "markdown",
   "id": "5fe7db186bb6686c",
   "metadata": {},
   "source": [
    "### Get Reports for Country/Region by Date\n"
   ]
  },
  {
   "cell_type": "code",
   "execution_count": 11,
   "id": "1b1a5cce44d904b1",
   "metadata": {
    "ExecuteTime": {
     "end_time": "2024-11-23T13:41:29.156114Z",
     "start_time": "2024-11-23T13:41:29.153742Z"
    }
   },
   "outputs": [],
   "source": [
    "def get_reports_total_for_province(date, iso, region_name=None, region_province=None):\n",
    "    params = {'date': date, 'iso': iso}\n",
    "    \n",
    "    if region_name:\n",
    "        params['region'] = region_name\n",
    "    if region_province:\n",
    "        params['region_province'] = region_province\n",
    "        \n",
    "    url = f\"{base_url}reports\"\n",
    "    reports_total = get_data(url, params=params)\n",
    "    return reports_total['data']"
   ]
  },
  {
   "cell_type": "markdown",
   "id": "2d1083fc431e22c1",
   "metadata": {},
   "source": [
    "# User selectors \n",
    "## Now I define the functions used to call the API I build a selector to help us retrieve the necessary data before saving it for analysis:"
   ]
  },
  {
   "cell_type": "code",
   "execution_count": 12,
   "id": "25e4d8ae61371e75",
   "metadata": {
    "ExecuteTime": {
     "end_time": "2024-11-23T13:41:29.999015Z",
     "start_time": "2024-11-23T13:41:29.996943Z"
    }
   },
   "outputs": [],
   "source": [
    "def display_sorted_regions(regions):\n",
    "    regions_sorted = sorted(regions, key=lambda region: region['name'])\n",
    "    print(\"Available countries:\")\n",
    "    for i, region in enumerate(regions_sorted, 1):\n",
    "        print(f\"{i}. {region['name']}\")"
   ]
  },
  {
   "cell_type": "code",
   "execution_count": 13,
   "id": "de40be9fc182c712",
   "metadata": {
    "ExecuteTime": {
     "end_time": "2024-11-23T13:41:30.438016Z",
     "start_time": "2024-11-23T13:41:30.434656Z"
    }
   },
   "outputs": [],
   "source": [
    "def validate_selected_regions(regions, selected_countries_numbers):    \n",
    "    try:\n",
    "        if all(1 <= number <= len(regions) for number in selected_countries_numbers):\n",
    "            return selected_countries_numbers\n",
    "        else:\n",
    "            print(f\"Error: Please enter numbers between 1 and {len(regions)}.\")\n",
    "    except ValueError:\n",
    "        print(\"Error: Please enter only numbers separated by commas.\")\n",
    "    except AttributeError:\n",
    "        print(\"Error: Please check your list format.\")"
   ]
  },
  {
   "cell_type": "code",
   "execution_count": 14,
   "id": "640fbcad30b9d1",
   "metadata": {
    "ExecuteTime": {
     "end_time": "2024-11-23T13:41:30.853995Z",
     "start_time": "2024-11-23T13:41:30.852172Z"
    }
   },
   "outputs": [],
   "source": [
    "def get_selected_regions_iso_list(regions, selected_numbers):\n",
    "    regions_sorted = sorted(regions, key=lambda x: x['name'])\n",
    "    selected_isos = []\n",
    "\n",
    "    for number in selected_numbers:\n",
    "        region = regions_sorted[number - 1]\n",
    "        selected_isos.append(region['iso'])\n",
    "\n",
    "    return selected_isos"
   ]
  },
  {
   "cell_type": "markdown",
   "id": "7b9af166d1b2a349",
   "metadata": {},
   "source": [
    "# COVID-19 API Request Selections\n",
    "### Displaying list of countries sorted alphabetically so you can select the countries to be included in your report\n"
   ]
  },
  {
   "cell_type": "code",
   "execution_count": 15,
   "id": "7f7efe78523cf9dc",
   "metadata": {
    "ExecuteTime": {
     "end_time": "2024-11-23T13:41:31.866600Z",
     "start_time": "2024-11-23T13:41:31.697655Z"
    }
   },
   "outputs": [],
   "source": [
    "regions = get_all_regions()"
   ]
  },
  {
   "cell_type": "code",
   "execution_count": 16,
   "id": "359d3d4d1516e02b",
   "metadata": {
    "ExecuteTime": {
     "end_time": "2024-11-23T13:41:32.606878Z",
     "start_time": "2024-11-23T13:41:32.603922Z"
    }
   },
   "outputs": [
    {
     "name": "stdout",
     "output_type": "stream",
     "text": [
      "Available countries:\n",
      "1. Afghanistan\n",
      "2. Albania\n",
      "3. Algeria\n",
      "4. Andorra\n",
      "5. Angola\n",
      "6. Antigua and Barbuda\n",
      "7. Argentina\n",
      "8. Armenia\n",
      "9. Aruba\n",
      "10. Australia\n",
      "11. Austria\n",
      "12. Azerbaijan\n",
      "13. Bahamas\n",
      "14. Bahrain\n",
      "15. Bangladesh\n",
      "16. Barbados\n",
      "17. Belarus\n",
      "18. Belgium\n",
      "19. Belize\n",
      "20. Benin\n",
      "21. Bhutan\n",
      "22. Bolivia\n",
      "23. Bosnia and Herzegovina\n",
      "24. Botswana\n",
      "25. Brazil\n",
      "26. Brunei\n",
      "27. Bulgaria\n",
      "28. Burkina Faso\n",
      "29. Burma\n",
      "30. Burundi\n",
      "31. Cabo Verde\n",
      "32. Cambodia\n",
      "33. Cameroon\n",
      "34. Canada\n",
      "35. Cayman Islands\n",
      "36. Central African Republic\n",
      "37. Chad\n",
      "38. Channel Islands\n",
      "39. Chile\n",
      "40. China\n",
      "41. Colombia\n",
      "42. Comoros\n",
      "43. Congo (Brazzaville)\n",
      "44. Congo (Kinshasa)\n",
      "45. Costa Rica\n",
      "46. Cote d'Ivoire\n",
      "47. Croatia\n",
      "48. Cruise Ship\n",
      "49. Cuba\n",
      "50. Curacao\n",
      "51. Cyprus\n",
      "52. Czechia\n",
      "53. Denmark\n",
      "54. Diamond Princess\n",
      "55. Djibouti\n",
      "56. Dominica\n",
      "57. Dominican Republic\n",
      "58. Ecuador\n",
      "59. Egypt\n",
      "60. El Salvador\n",
      "61. Equatorial Guinea\n",
      "62. Eritrea\n",
      "63. Estonia\n",
      "64. Eswatini\n",
      "65. Ethiopia\n",
      "66. Faroe Islands\n",
      "67. Fiji\n",
      "68. Finland\n",
      "69. France\n",
      "70. French Guiana\n",
      "71. Gabon\n",
      "72. Gambia\n",
      "73. Georgia\n",
      "74. Germany\n",
      "75. Ghana\n",
      "76. Gibraltar\n",
      "77. Greece\n",
      "78. Greenland\n",
      "79. Grenada\n",
      "80. Guadeloupe\n",
      "81. Guam\n",
      "82. Guatemala\n",
      "83. Guernsey\n",
      "84. Guinea\n",
      "85. Guinea-Bissau\n",
      "86. Guyana\n",
      "87. Haiti\n",
      "88. Holy See\n",
      "89. Honduras\n",
      "90. Hungary\n",
      "91. Iceland\n",
      "92. India\n",
      "93. Indonesia\n",
      "94. Iran\n",
      "95. Iraq\n",
      "96. Ireland\n",
      "97. Israel\n",
      "98. Italy\n",
      "99. Jamaica\n",
      "100. Japan\n",
      "101. Jersey\n",
      "102. Jordan\n",
      "103. Kazakhstan\n",
      "104. Kenya\n",
      "105. Kiribati\n",
      "106. Korea, South\n",
      "107. Kosovo\n",
      "108. Kuwait\n",
      "109. Kyrgyzstan\n",
      "110. Laos\n",
      "111. Latvia\n",
      "112. Lebanon\n",
      "113. Lesotho\n",
      "114. Liberia\n",
      "115. Libya\n",
      "116. Liechtenstein\n",
      "117. Lithuania\n",
      "118. Luxembourg\n",
      "119. MS Zaandam\n",
      "120. Macao SAR\n",
      "121. Madagascar\n",
      "122. Malawi\n",
      "123. Malaysia\n",
      "124. Maldives\n",
      "125. Mali\n",
      "126. Malta\n",
      "127. Marshall Islands\n",
      "128. Martinique\n",
      "129. Mauritania\n",
      "130. Mauritius\n",
      "131. Mayotte\n",
      "132. Mexico\n",
      "133. Moldova\n",
      "134. Monaco\n",
      "135. Mongolia\n",
      "136. Montenegro\n",
      "137. Morocco\n",
      "138. Mozambique\n",
      "139. Namibia\n",
      "140. Nauru\n",
      "141. Nepal\n",
      "142. Netherlands\n",
      "143. New Zealand\n",
      "144. Nicaragua\n",
      "145. Niger\n",
      "146. Nigeria\n",
      "147. North Macedonia\n",
      "148. Norway\n",
      "149. Oman\n",
      "150. Others\n",
      "151. Pakistan\n",
      "152. Palau\n",
      "153. Panama\n",
      "154. Papua New Guinea\n",
      "155. Paraguay\n",
      "156. Peru\n",
      "157. Philippines\n",
      "158. Poland\n",
      "159. Portugal\n",
      "160. Puerto Rico\n",
      "161. Qatar\n",
      "162. Reunion\n",
      "163. Romania\n",
      "164. Russia\n",
      "165. Rwanda\n",
      "166. Saint Barthelemy\n",
      "167. Saint Kitts and Nevis\n",
      "168. Saint Lucia\n",
      "169. Saint Martin\n",
      "170. Saint Vincent and the Grenadines\n",
      "171. Samoa\n",
      "172. San Marino\n",
      "173. Sao Tome and Principe\n",
      "174. Saudi Arabia\n",
      "175. Senegal\n",
      "176. Serbia\n",
      "177. Seychelles\n",
      "178. Sierra Leone\n",
      "179. Singapore\n",
      "180. Slovakia\n",
      "181. Slovenia\n",
      "182. Solomon Islands\n",
      "183. Somalia\n",
      "184. South Africa\n",
      "185. South Sudan\n",
      "186. Spain\n",
      "187. Sri Lanka\n",
      "188. Sudan\n",
      "189. Suriname\n",
      "190. Sweden\n",
      "191. Switzerland\n",
      "192. Syria\n",
      "193. Taipei and environs\n",
      "194. Taiwan*\n",
      "195. Tajikistan\n",
      "196. Tanzania\n",
      "197. Thailand\n",
      "198. Timor-Leste\n",
      "199. Togo\n",
      "200. Tonga\n",
      "201. Trinidad and Tobago\n",
      "202. Tunisia\n",
      "203. Turkey\n",
      "204. Tuvalu\n",
      "205. US\n",
      "206. Uganda\n",
      "207. Ukraine\n",
      "208. United Arab Emirates\n",
      "209. United Kingdom\n",
      "210. Uruguay\n",
      "211. Uzbekistan\n",
      "212. Vanuatu\n",
      "213. Venezuela\n",
      "214. Vietnam\n",
      "215. West Bank and Gaza\n",
      "216. Western Sahara\n",
      "217. Yemen\n",
      "218. Zambia\n",
      "219. Zimbabwe\n"
     ]
    }
   ],
   "source": [
    "display_sorted_regions(regions)"
   ]
  },
  {
   "cell_type": "markdown",
   "id": "fe2348df8423a994",
   "metadata": {},
   "source": [
    "### Space for you to write the comma separated list of numbers of your selection\n",
    "#### Please note must be list of integers - replace below numbers for your selection, if you want to select only one country it still must be in list form e.g. for england selected_countries = [209]\n",
    "#### In the below example I have selected - the United Kingdom, USA, India & China"
   ]
  },
  {
   "cell_type": "code",
   "execution_count": 17,
   "id": "dbaf6065fbe03c34",
   "metadata": {
    "ExecuteTime": {
     "end_time": "2024-11-23T13:41:33.778031Z",
     "start_time": "2024-11-23T13:41:33.776578Z"
    }
   },
   "outputs": [],
   "source": [
    "selected_countries = [203]"
   ]
  },
  {
   "cell_type": "markdown",
   "id": "29d7c0c2dce5507a",
   "metadata": {},
   "source": [
    "### Run this function to ensure that your list is a valid set of values before proceeding"
   ]
  },
  {
   "cell_type": "code",
   "execution_count": 18,
   "id": "97d7cfaff46cbb43",
   "metadata": {
    "ExecuteTime": {
     "end_time": "2024-11-23T13:41:34.854877Z",
     "start_time": "2024-11-23T13:41:34.852305Z"
    }
   },
   "outputs": [],
   "source": [
    "selected_regions = validate_selected_regions(regions, selected_countries)"
   ]
  },
  {
   "cell_type": "markdown",
   "id": "7465dee1d304ee4f",
   "metadata": {},
   "source": [
    "### Finally, run this to generate your list of ISO codes, this will be used for data retrieval once you have selected your desired dates"
   ]
  },
  {
   "cell_type": "code",
   "execution_count": 19,
   "id": "8fdadbafe3feb3e0",
   "metadata": {
    "ExecuteTime": {
     "end_time": "2024-11-23T13:41:41.867546Z",
     "start_time": "2024-11-23T13:41:41.864498Z"
    }
   },
   "outputs": [],
   "source": [
    "selected_isos = get_selected_regions_iso_list(regions, selected_regions)"
   ]
  },
  {
   "cell_type": "markdown",
   "id": "5e1c28f2aa670ce",
   "metadata": {},
   "source": [
    "## Now we need to select the dates for us to retrieve information from - the API accepts requests in the format yyyy-mm-dd"
   ]
  },
  {
   "cell_type": "code",
   "execution_count": 20,
   "id": "5a5af0c1f5ba7026",
   "metadata": {
    "ExecuteTime": {
     "end_time": "2024-11-23T13:41:42.799144Z",
     "start_time": "2024-11-23T13:41:42.797018Z"
    }
   },
   "outputs": [],
   "source": [
    "def convert_start_end_to_datetime(start_day, start_month, start_year, end_day, end_month, end_year):\n",
    "    try:\n",
    "        start_date = datetime.date(start_year, start_month, start_day)\n",
    "        end_date = datetime.date(end_year, end_month, end_day)\n",
    "        return start_date, end_date\n",
    "    except ValueError:\n",
    "        print(\"Start date and end date are not valid.\")"
   ]
  },
  {
   "cell_type": "code",
   "execution_count": 21,
   "id": "8493a29dff0fa898",
   "metadata": {
    "ExecuteTime": {
     "end_time": "2024-11-23T13:41:43.279459Z",
     "start_time": "2024-11-23T13:41:43.277607Z"
    }
   },
   "outputs": [],
   "source": [
    "def get_dates_list_between_start_and_end(start_date, end_date):\n",
    "    if start_date > end_date:\n",
    "        raise ValueError(\"start_date must be before or equal to end_date\")\n",
    "    \n",
    "    delta = end_date - start_date\n",
    "    dates = [start_date + timedelta(days=i) for i in range(delta.days + 1)]\n",
    "    return dates"
   ]
  },
  {
   "cell_type": "code",
   "execution_count": 22,
   "id": "4a21ee68f1a467f3",
   "metadata": {
    "ExecuteTime": {
     "end_time": "2024-11-23T13:41:43.774133Z",
     "start_time": "2024-11-23T13:41:43.771992Z"
    }
   },
   "outputs": [],
   "source": [
    "def date_generator(start_date, end_date):\n",
    "    try:\n",
    "        dates_list = get_dates_list_between_start_and_end(start_date, end_date)\n",
    "        return dates_list\n",
    "    except ValueError as e:\n",
    "        print(e)"
   ]
  },
  {
   "cell_type": "markdown",
   "id": "855f0423b80988fe",
   "metadata": {},
   "source": [
    "### Insert your start and end dates for the desired data\n",
    "#### The COVID-19 API data starts on March 17, 2020"
   ]
  },
  {
   "cell_type": "code",
   "execution_count": 23,
   "id": "be080ce78deb123",
   "metadata": {},
   "outputs": [],
   "source": [
    "start_day = 1\n",
    "start_month = 1\n",
    "start_year = 2020"
   ]
  },
  {
   "cell_type": "code",
   "execution_count": 24,
   "id": "638208978232065a",
   "metadata": {},
   "outputs": [],
   "source": [
    "end_day = 1\n",
    "end_month = 1\n",
    "end_year = 2021"
   ]
  },
  {
   "cell_type": "code",
   "execution_count": 25,
   "id": "e81412a6e87dfa91",
   "metadata": {},
   "outputs": [],
   "source": [
    "start_date, end_date = convert_start_end_to_datetime(start_day, start_month, start_year, end_day, end_month, end_year)"
   ]
  },
  {
   "cell_type": "code",
   "execution_count": 26,
   "id": "a39d922821e8b548",
   "metadata": {},
   "outputs": [],
   "source": [
    "dates = date_generator(start_date, end_date)"
   ]
  },
  {
   "cell_type": "markdown",
   "id": "d1c1f40ac1a3311f",
   "metadata": {},
   "source": [
    "## Performing the API requests for the selected parameters"
   ]
  },
  {
   "cell_type": "code",
   "execution_count": 27,
   "id": "ac65d183b752120d",
   "metadata": {},
   "outputs": [],
   "source": [
    "reports = []\n",
    "\n",
    "for iso in selected_isos:\n",
    "    for date in dates:\n",
    "        date = date.strftime(\"%Y-%m-%d\")\n",
    "        report = get_reports_total_for_province(date, iso)\n",
    "        reports.append(report)"
   ]
  },
  {
   "cell_type": "code",
   "execution_count": 28,
   "id": "2ca80962e4d07d1e",
   "metadata": {},
   "outputs": [],
   "source": [
    "dataframes = []\n",
    "\n",
    "for report in reports:\n",
    "    try:\n",
    "        dataframe = pd.DataFrame(report)\n",
    "        region_dataframe = json_normalize(dataframe['region'])\n",
    "        data = pd.concat([dataframe.drop('region', axis=1), region_dataframe], axis=1)\n",
    "        dataframes.append(data) \n",
    "    except KeyError:\n",
    "        pass"
   ]
  },
  {
   "cell_type": "code",
   "execution_count": 29,
   "id": "40c0248209a58e1f",
   "metadata": {
    "ExecuteTime": {
     "end_time": "2024-11-23T13:53:56.138391Z",
     "start_time": "2024-11-23T13:53:56.119348Z"
    }
   },
   "outputs": [
    {
     "data": {
      "text/html": [
       "<div>\n",
       "<style scoped>\n",
       "    .dataframe tbody tr th:only-of-type {\n",
       "        vertical-align: middle;\n",
       "    }\n",
       "\n",
       "    .dataframe tbody tr th {\n",
       "        vertical-align: top;\n",
       "    }\n",
       "\n",
       "    .dataframe thead th {\n",
       "        text-align: right;\n",
       "    }\n",
       "</style>\n",
       "<table border=\"1\" class=\"dataframe\">\n",
       "  <thead>\n",
       "    <tr style=\"text-align: right;\">\n",
       "      <th></th>\n",
       "      <th>date</th>\n",
       "      <th>confirmed</th>\n",
       "      <th>deaths</th>\n",
       "      <th>recovered</th>\n",
       "      <th>confirmed_diff</th>\n",
       "      <th>deaths_diff</th>\n",
       "      <th>recovered_diff</th>\n",
       "      <th>last_update</th>\n",
       "      <th>active</th>\n",
       "      <th>active_diff</th>\n",
       "      <th>fatality_rate</th>\n",
       "      <th>iso</th>\n",
       "      <th>name</th>\n",
       "      <th>province</th>\n",
       "      <th>lat</th>\n",
       "      <th>long</th>\n",
       "      <th>cities</th>\n",
       "    </tr>\n",
       "  </thead>\n",
       "  <tbody>\n",
       "    <tr>\n",
       "      <th>0</th>\n",
       "      <td>2020-03-11</td>\n",
       "      <td>1</td>\n",
       "      <td>0</td>\n",
       "      <td>0</td>\n",
       "      <td>0</td>\n",
       "      <td>0</td>\n",
       "      <td>0</td>\n",
       "      <td>2020-03-11 03:33:05</td>\n",
       "      <td>1</td>\n",
       "      <td>0</td>\n",
       "      <td>0.0000</td>\n",
       "      <td>TUR</td>\n",
       "      <td>Turkey</td>\n",
       "      <td></td>\n",
       "      <td>38.9637</td>\n",
       "      <td>35.2433</td>\n",
       "      <td>[]</td>\n",
       "    </tr>\n",
       "    <tr>\n",
       "      <th>1</th>\n",
       "      <td>2020-03-12</td>\n",
       "      <td>1</td>\n",
       "      <td>0</td>\n",
       "      <td>0</td>\n",
       "      <td>0</td>\n",
       "      <td>0</td>\n",
       "      <td>0</td>\n",
       "      <td>2020-03-11 03:33:05</td>\n",
       "      <td>1</td>\n",
       "      <td>0</td>\n",
       "      <td>0.0000</td>\n",
       "      <td>TUR</td>\n",
       "      <td>Turkey</td>\n",
       "      <td></td>\n",
       "      <td>38.9637</td>\n",
       "      <td>35.2433</td>\n",
       "      <td>[]</td>\n",
       "    </tr>\n",
       "    <tr>\n",
       "      <th>2</th>\n",
       "      <td>2020-03-13</td>\n",
       "      <td>5</td>\n",
       "      <td>0</td>\n",
       "      <td>0</td>\n",
       "      <td>4</td>\n",
       "      <td>0</td>\n",
       "      <td>0</td>\n",
       "      <td>2020-03-11 20:00:00</td>\n",
       "      <td>5</td>\n",
       "      <td>4</td>\n",
       "      <td>0.0000</td>\n",
       "      <td>TUR</td>\n",
       "      <td>Turkey</td>\n",
       "      <td></td>\n",
       "      <td>38.9637</td>\n",
       "      <td>35.2433</td>\n",
       "      <td>[]</td>\n",
       "    </tr>\n",
       "    <tr>\n",
       "      <th>3</th>\n",
       "      <td>2020-03-14</td>\n",
       "      <td>5</td>\n",
       "      <td>0</td>\n",
       "      <td>0</td>\n",
       "      <td>0</td>\n",
       "      <td>0</td>\n",
       "      <td>0</td>\n",
       "      <td>2020-03-13 23:33:06</td>\n",
       "      <td>5</td>\n",
       "      <td>0</td>\n",
       "      <td>0.0000</td>\n",
       "      <td>TUR</td>\n",
       "      <td>Turkey</td>\n",
       "      <td></td>\n",
       "      <td>38.9637</td>\n",
       "      <td>35.2433</td>\n",
       "      <td>[]</td>\n",
       "    </tr>\n",
       "    <tr>\n",
       "      <th>4</th>\n",
       "      <td>2020-03-15</td>\n",
       "      <td>6</td>\n",
       "      <td>0</td>\n",
       "      <td>0</td>\n",
       "      <td>1</td>\n",
       "      <td>0</td>\n",
       "      <td>0</td>\n",
       "      <td>2020-03-15 18:20:18</td>\n",
       "      <td>6</td>\n",
       "      <td>1</td>\n",
       "      <td>0.0000</td>\n",
       "      <td>TUR</td>\n",
       "      <td>Turkey</td>\n",
       "      <td></td>\n",
       "      <td>38.9637</td>\n",
       "      <td>35.2433</td>\n",
       "      <td>[]</td>\n",
       "    </tr>\n",
       "    <tr>\n",
       "      <th>...</th>\n",
       "      <td>...</td>\n",
       "      <td>...</td>\n",
       "      <td>...</td>\n",
       "      <td>...</td>\n",
       "      <td>...</td>\n",
       "      <td>...</td>\n",
       "      <td>...</td>\n",
       "      <td>...</td>\n",
       "      <td>...</td>\n",
       "      <td>...</td>\n",
       "      <td>...</td>\n",
       "      <td>...</td>\n",
       "      <td>...</td>\n",
       "      <td>...</td>\n",
       "      <td>...</td>\n",
       "      <td>...</td>\n",
       "      <td>...</td>\n",
       "    </tr>\n",
       "    <tr>\n",
       "      <th>292</th>\n",
       "      <td>2020-12-28</td>\n",
       "      <td>2162775</td>\n",
       "      <td>20135</td>\n",
       "      <td>2037433</td>\n",
       "      <td>15197</td>\n",
       "      <td>257</td>\n",
       "      <td>22203</td>\n",
       "      <td>2020-12-29 05:22:37</td>\n",
       "      <td>105207</td>\n",
       "      <td>-7263</td>\n",
       "      <td>0.0093</td>\n",
       "      <td>TUR</td>\n",
       "      <td>Turkey</td>\n",
       "      <td></td>\n",
       "      <td>38.9637</td>\n",
       "      <td>35.2433</td>\n",
       "      <td>[]</td>\n",
       "    </tr>\n",
       "    <tr>\n",
       "      <th>293</th>\n",
       "      <td>2020-12-29</td>\n",
       "      <td>2178580</td>\n",
       "      <td>20388</td>\n",
       "      <td>2058437</td>\n",
       "      <td>15805</td>\n",
       "      <td>253</td>\n",
       "      <td>21004</td>\n",
       "      <td>2020-12-30 05:22:34</td>\n",
       "      <td>99755</td>\n",
       "      <td>-5452</td>\n",
       "      <td>0.0094</td>\n",
       "      <td>TUR</td>\n",
       "      <td>Turkey</td>\n",
       "      <td></td>\n",
       "      <td>38.9637</td>\n",
       "      <td>35.2433</td>\n",
       "      <td>[]</td>\n",
       "    </tr>\n",
       "    <tr>\n",
       "      <th>294</th>\n",
       "      <td>2020-12-30</td>\n",
       "      <td>2194272</td>\n",
       "      <td>20642</td>\n",
       "      <td>2078629</td>\n",
       "      <td>15692</td>\n",
       "      <td>254</td>\n",
       "      <td>20192</td>\n",
       "      <td>2020-12-31 05:22:49</td>\n",
       "      <td>95001</td>\n",
       "      <td>-4754</td>\n",
       "      <td>0.0094</td>\n",
       "      <td>TUR</td>\n",
       "      <td>Turkey</td>\n",
       "      <td></td>\n",
       "      <td>38.9637</td>\n",
       "      <td>35.2433</td>\n",
       "      <td>[]</td>\n",
       "    </tr>\n",
       "    <tr>\n",
       "      <th>295</th>\n",
       "      <td>2020-12-31</td>\n",
       "      <td>2208652</td>\n",
       "      <td>20881</td>\n",
       "      <td>2100650</td>\n",
       "      <td>14380</td>\n",
       "      <td>239</td>\n",
       "      <td>22021</td>\n",
       "      <td>2021-01-01 05:23:07</td>\n",
       "      <td>87121</td>\n",
       "      <td>-7880</td>\n",
       "      <td>0.0095</td>\n",
       "      <td>TUR</td>\n",
       "      <td>Turkey</td>\n",
       "      <td></td>\n",
       "      <td>38.9637</td>\n",
       "      <td>35.2433</td>\n",
       "      <td>[]</td>\n",
       "    </tr>\n",
       "    <tr>\n",
       "      <th>296</th>\n",
       "      <td>2021-01-01</td>\n",
       "      <td>2220855</td>\n",
       "      <td>21093</td>\n",
       "      <td>2114760</td>\n",
       "      <td>12203</td>\n",
       "      <td>212</td>\n",
       "      <td>14110</td>\n",
       "      <td>2021-01-02 05:22:33</td>\n",
       "      <td>85002</td>\n",
       "      <td>-2119</td>\n",
       "      <td>0.0095</td>\n",
       "      <td>TUR</td>\n",
       "      <td>Turkey</td>\n",
       "      <td></td>\n",
       "      <td>38.9637</td>\n",
       "      <td>35.2433</td>\n",
       "      <td>[]</td>\n",
       "    </tr>\n",
       "  </tbody>\n",
       "</table>\n",
       "<p>297 rows × 17 columns</p>\n",
       "</div>"
      ],
      "text/plain": [
       "           date  confirmed  deaths  recovered  confirmed_diff  deaths_diff  \\\n",
       "0    2020-03-11          1       0          0               0            0   \n",
       "1    2020-03-12          1       0          0               0            0   \n",
       "2    2020-03-13          5       0          0               4            0   \n",
       "3    2020-03-14          5       0          0               0            0   \n",
       "4    2020-03-15          6       0          0               1            0   \n",
       "..          ...        ...     ...        ...             ...          ...   \n",
       "292  2020-12-28    2162775   20135    2037433           15197          257   \n",
       "293  2020-12-29    2178580   20388    2058437           15805          253   \n",
       "294  2020-12-30    2194272   20642    2078629           15692          254   \n",
       "295  2020-12-31    2208652   20881    2100650           14380          239   \n",
       "296  2021-01-01    2220855   21093    2114760           12203          212   \n",
       "\n",
       "     recovered_diff          last_update  active  active_diff  fatality_rate  \\\n",
       "0                 0  2020-03-11 03:33:05       1            0         0.0000   \n",
       "1                 0  2020-03-11 03:33:05       1            0         0.0000   \n",
       "2                 0  2020-03-11 20:00:00       5            4         0.0000   \n",
       "3                 0  2020-03-13 23:33:06       5            0         0.0000   \n",
       "4                 0  2020-03-15 18:20:18       6            1         0.0000   \n",
       "..              ...                  ...     ...          ...            ...   \n",
       "292           22203  2020-12-29 05:22:37  105207        -7263         0.0093   \n",
       "293           21004  2020-12-30 05:22:34   99755        -5452         0.0094   \n",
       "294           20192  2020-12-31 05:22:49   95001        -4754         0.0094   \n",
       "295           22021  2021-01-01 05:23:07   87121        -7880         0.0095   \n",
       "296           14110  2021-01-02 05:22:33   85002        -2119         0.0095   \n",
       "\n",
       "     iso    name province      lat     long cities  \n",
       "0    TUR  Turkey           38.9637  35.2433     []  \n",
       "1    TUR  Turkey           38.9637  35.2433     []  \n",
       "2    TUR  Turkey           38.9637  35.2433     []  \n",
       "3    TUR  Turkey           38.9637  35.2433     []  \n",
       "4    TUR  Turkey           38.9637  35.2433     []  \n",
       "..   ...     ...      ...      ...      ...    ...  \n",
       "292  TUR  Turkey           38.9637  35.2433     []  \n",
       "293  TUR  Turkey           38.9637  35.2433     []  \n",
       "294  TUR  Turkey           38.9637  35.2433     []  \n",
       "295  TUR  Turkey           38.9637  35.2433     []  \n",
       "296  TUR  Turkey           38.9637  35.2433     []  \n",
       "\n",
       "[297 rows x 17 columns]"
      ]
     },
     "execution_count": 29,
     "metadata": {},
     "output_type": "execute_result"
    }
   ],
   "source": [
    "combined_df = pd.concat(dataframes, ignore_index=True)\n",
    "combined_df"
   ]
  },
  {
   "cell_type": "markdown",
   "id": "a627131f72a1ce80",
   "metadata": {},
   "source": [
    "## Saving the data to csv"
   ]
  },
  {
   "cell_type": "code",
   "execution_count": 30,
   "id": "d877d3650ee4a703",
   "metadata": {
    "ExecuteTime": {
     "end_time": "2024-12-07T17:28:37.709618Z",
     "start_time": "2024-12-07T17:28:37.707288Z"
    }
   },
   "outputs": [],
   "source": [
    "def generate_file_name(start_date, end_date, selected_isos):\n",
    "    formatted_start_date = start_date.strftime(\"%d_%m_%Y\")\n",
    "    formatted_end_date = end_date.strftime(\"%d_%m_%Y\")\n",
    "    formatted_isos = '_'.join(selected_isos)\n",
    "    return f\"{formatted_start_date}_{formatted_end_date}_{formatted_isos}\"    "
   ]
  },
  {
   "cell_type": "code",
   "execution_count": 31,
   "id": "557b5f33fadd7dd7",
   "metadata": {
    "ExecuteTime": {
     "end_time": "2024-11-23T13:49:28.237312Z",
     "start_time": "2024-11-23T13:49:28.235626Z"
    }
   },
   "outputs": [],
   "source": [
    "file_name = generate_file_name(start_date, end_date, selected_isos)"
   ]
  },
  {
   "cell_type": "code",
   "execution_count": 32,
   "id": "66fd2aa86e4d1406",
   "metadata": {
    "ExecuteTime": {
     "end_time": "2024-11-29T17:12:03.960353Z",
     "start_time": "2024-11-29T17:12:03.872256Z"
    }
   },
   "outputs": [],
   "source": [
    "combined_df.to_csv(rf'../4_integrated_csv_files/covid_19_api_data/{file_name}.csv', index=False)"
   ]
  }
 ],
 "metadata": {
  "kernelspec": {
   "display_name": "Python 3 (ipykernel)",
   "language": "python",
   "name": "python3"
  },
  "language_info": {
   "codemirror_mode": {
    "name": "ipython",
    "version": 3
   },
   "file_extension": ".py",
   "mimetype": "text/x-python",
   "name": "python",
   "nbconvert_exporter": "python",
   "pygments_lexer": "ipython3",
   "version": "3.12.6"
  }
 },
 "nbformat": 4,
 "nbformat_minor": 5
}
