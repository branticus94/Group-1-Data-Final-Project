{
  "nbformat": 4,
  "nbformat_minor": 0,
  "metadata": {
    "colab": {
      "provenance": []
    },
    "kernelspec": {
      "name": "python3",
      "display_name": "Python 3"
    },
    "language_info": {
      "name": "python"
    }
  },
  "cells": [
    {
      "cell_type": "code",
      "execution_count": 1,
      "metadata": {
        "id": "HiAUr_PYU3OO"
      },
      "outputs": [],
      "source": [
        "# Import necessary libraries\n",
        "import pandas as pd\n",
        "import matplotlib.pyplot as plt\n",
        "from nltk.sentiment.vader import SentimentIntensityAnalyzer\n",
        "import nltk"
      ]
    },
    {
      "cell_type": "code",
      "source": [
        "# Download NLTK resources (VADER)\n",
        "nltk.download('vader_lexicon')"
      ],
      "metadata": {
        "colab": {
          "base_uri": "https://localhost:8080/"
        },
        "id": "wBahRRNhVPwN",
        "outputId": "de6e18d3-1180-4654-dd2b-76111d7f15d5"
      },
      "execution_count": 3,
      "outputs": [
        {
          "output_type": "stream",
          "name": "stderr",
          "text": [
            "[nltk_data] Downloading package vader_lexicon to /root/nltk_data...\n"
          ]
        },
        {
          "output_type": "execute_result",
          "data": {
            "text/plain": [
              "True"
            ]
          },
          "metadata": {},
          "execution_count": 3
        }
      ]
    },
    {
      "cell_type": "code",
      "source": [
        "# Loading the dataset\n",
        "file_path = \"AAAI_Dataset.xlsx\"\n",
        "data = pd.read_excel(file_path)"
      ],
      "metadata": {
        "id": "lWB44XSBVWbb"
      },
      "execution_count": 6,
      "outputs": []
    },
    {
      "cell_type": "code",
      "source": [
        "# Displaying the first few rows\n",
        "print(data.head())"
      ],
      "metadata": {
        "colab": {
          "base_uri": "https://localhost:8080/"
        },
        "id": "VlMnVHnzVhy4",
        "outputId": "0dfd76bf-624e-44e8-af26-d0e5a78d7998"
      },
      "execution_count": 8,
      "outputs": [
        {
          "output_type": "stream",
          "name": "stdout",
          "text": [
            "   id                                              tweet label\n",
            "0   1  Chinese converting to Islam after realising th...  fake\n",
            "1   2  11 out of 13 people (from the Diamond Princess...  fake\n",
            "2   3  COVID-19 Is Caused By A Bacterium, Not Virus A...  fake\n",
            "3   4  Mike Pence in RNC speech praises Donald Trump’...  fake\n",
            "4   5  6/10 Sky's @EdConwaySky explains the latest #C...  real\n"
          ]
        }
      ]
    },
    {
      "cell_type": "code",
      "source": [
        "# Initialising the VADER Sentiment Analyzer\n",
        "sia = SentimentIntensityAnalyzer()"
      ],
      "metadata": {
        "id": "9kytZLBGVnyc"
      },
      "execution_count": 9,
      "outputs": []
    },
    {
      "cell_type": "code",
      "source": [
        "# Defining a function to calculate sentiment scores\n",
        "def get_sentiment(text):\n",
        "    if pd.isna(text):\n",
        "        return None  # Handle NaN tweets\n",
        "    scores = sia.polarity_scores(text)\n",
        "    if scores['compound'] > 0.05:\n",
        "        return 'Positive'\n",
        "    elif scores['compound'] < -0.05:\n",
        "        return 'Negative'\n",
        "    else:\n",
        "        return 'Neutral'"
      ],
      "metadata": {
        "id": "4nppWaAoVtDw"
      },
      "execution_count": 10,
      "outputs": []
    },
    {
      "cell_type": "code",
      "source": [
        "# Appling sentiment analysis to tweets\n",
        "data['sentiment'] = data['tweet'].apply(get_sentiment)"
      ],
      "metadata": {
        "id": "BrL7X5TJVyYb"
      },
      "execution_count": 11,
      "outputs": []
    },
    {
      "cell_type": "code",
      "source": [
        "# Displaying the first few rows with sentiment\n",
        "print(data[['tweet', 'label', 'sentiment']].head())"
      ],
      "metadata": {
        "colab": {
          "base_uri": "https://localhost:8080/"
        },
        "id": "64lsN7LmWAqv",
        "outputId": "47cdc7c8-7b71-4b42-a201-688ed135768c"
      },
      "execution_count": 12,
      "outputs": [
        {
          "output_type": "stream",
          "name": "stdout",
          "text": [
            "                                               tweet label sentiment\n",
            "0  Chinese converting to Islam after realising th...  fake  Negative\n",
            "1  11 out of 13 people (from the Diamond Princess...  fake  Positive\n",
            "2  COVID-19 Is Caused By A Bacterium, Not Virus A...  fake   Neutral\n",
            "3  Mike Pence in RNC speech praises Donald Trump’...  fake  Positive\n",
            "4  6/10 Sky's @EdConwaySky explains the latest #C...  real   Neutral\n"
          ]
        }
      ]
    },
    {
      "cell_type": "code",
      "source": [
        "# Comparing sentiment trends between real and fake tweets\n",
        "real_tweets = data[data['label'] == 'real']\n",
        "fake_tweets = data[data['label'] == 'fake']\n",
        "\n",
        "real_sentiment_counts = real_tweets['sentiment'].value_counts()\n",
        "fake_sentiment_counts = fake_tweets['sentiment'].value_counts()\n",
        "\n",
        "print(\"\\nSentiment distribution in real tweets:\")\n",
        "print(real_sentiment_counts)\n",
        "\n",
        "print(\"\\nSentiment distribution in fake tweets:\")\n",
        "print(fake_sentiment_counts)\n"
      ],
      "metadata": {
        "colab": {
          "base_uri": "https://localhost:8080/"
        },
        "id": "lwwy0mm4WGmT",
        "outputId": "0ec6e37e-b028-4e4b-c930-712b927ea27f"
      },
      "execution_count": 15,
      "outputs": [
        {
          "output_type": "stream",
          "name": "stdout",
          "text": [
            "\n",
            "Sentiment distribution in real tweets:\n",
            "sentiment\n",
            "Positive    504\n",
            "Neutral     317\n",
            "Negative    299\n",
            "Name: count, dtype: int64\n",
            "\n",
            "Sentiment distribution in fake tweets:\n",
            "sentiment\n",
            "Negative    404\n",
            "Neutral     324\n",
            "Positive    292\n",
            "Name: count, dtype: int64\n"
          ]
        }
      ]
    },
    {
      "cell_type": "code",
      "source": [
        "# Visualising sentiment trends\n",
        "plt.figure(figsize=(12, 6))"
      ],
      "metadata": {
        "colab": {
          "base_uri": "https://localhost:8080/",
          "height": 53
        },
        "id": "-3GeAKC7Wdqz",
        "outputId": "1e5fd28f-7392-493a-faa7-2386a8b3adf5"
      },
      "execution_count": 16,
      "outputs": [
        {
          "output_type": "execute_result",
          "data": {
            "text/plain": [
              "<Figure size 1200x600 with 0 Axes>"
            ]
          },
          "metadata": {},
          "execution_count": 16
        },
        {
          "output_type": "display_data",
          "data": {
            "text/plain": [
              "<Figure size 1200x600 with 0 Axes>"
            ]
          },
          "metadata": {}
        }
      ]
    },
    {
      "cell_type": "code",
      "source": [
        "# Bar chart for real tweets\n",
        "plt.subplot(1, 2, 1)\n",
        "real_sentiment_counts.plot(kind='bar', color=['green', 'red', 'blue'])\n",
        "plt.title('Sentiment Distribution in Real Tweets')\n",
        "plt.xlabel('Sentiment')\n",
        "plt.ylabel('Count')\n",
        "plt.xticks(rotation=0)"
      ],
      "metadata": {
        "colab": {
          "base_uri": "https://localhost:8080/",
          "height": 508
        },
        "id": "pxI9VpAJWnIT",
        "outputId": "1f109fa9-45f4-442f-d8ab-0ee214931a63"
      },
      "execution_count": 17,
      "outputs": [
        {
          "output_type": "execute_result",
          "data": {
            "text/plain": [
              "(array([0, 1, 2]),\n",
              " [Text(0, 0, 'Positive'), Text(1, 0, 'Neutral'), Text(2, 0, 'Negative')])"
            ]
          },
          "metadata": {},
          "execution_count": 17
        },
        {
          "output_type": "display_data",
          "data": {
            "text/plain": [
              "<Figure size 640x480 with 1 Axes>"
            ],
            "image/png": "[encoded data removed]"
          },
          "metadata": {}
        }
      ]
    },
    {
      "cell_type": "code",
      "source": [
        "# Bar chart for fake tweets\n",
        "plt.subplot(1, 2, 2)\n",
        "fake_sentiment_counts.plot(kind='bar', color=['green', 'red', 'blue'])\n",
        "plt.title('Sentiment Distribution in Fake Tweets')\n",
        "plt.xlabel('Sentiment')\n",
        "plt.ylabel('Count')\n",
        "plt.xticks(rotation=0)\n",
        "\n",
        "plt.tight_layout()\n",
        "plt.show()"
      ],
      "metadata": {
        "colab": {
          "base_uri": "https://localhost:8080/",
          "height": 487
        },
        "id": "FQXEfq-IWsMw",
        "outputId": "c57d471e-0e98-4908-c138-059ec8478121"
      },
      "execution_count": 19,
      "outputs": [
        {
          "output_type": "display_data",
          "data": {
            "text/plain": [
              "<Figure size 640x480 with 1 Axes>"
            ],
            "image/png": "[encoded data removed]"
          },
          "metadata": {}
        }
      ]
    },
    {
      "cell_type": "code",
      "source": [
        "# Summary of Sentiment Trends\n",
        "real_total = real_sentiment_counts.sum()\n",
        "fake_total = fake_sentiment_counts.sum()\n",
        "\n",
        "print(f\"\\nPercentage of positive tweets in real data: {100 * real_sentiment_counts.get('Positive', 0) / real_total:.2f}%\")\n",
        "print(f\"Percentage of positive tweets in fake data: {100 * fake_sentiment_counts.get('Positive', 0) / fake_total:.2f}%\")\n",
        "\n",
        "print(f\"Percentage of negative tweets in real data: {100 * real_sentiment_counts.get('Negative', 0) / real_total:.2f}%\")\n",
        "print(f\"Percentage of negative tweets in fake data: {100 * fake_sentiment_counts.get('Negative', 0) / fake_total:.2f}%\")\n",
        "\n",
        "print(f\"Percentage of neutral tweets in real data: {100 * real_sentiment_counts.get('Neutral', 0) / real_total:.2f}%\")\n",
        "print(f\"Percentage of neutral tweets in fake data: {100 * fake_sentiment_counts.get('Neutral', 0) / fake_total:.2f}%\")"
      ],
      "metadata": {
        "colab": {
          "base_uri": "https://localhost:8080/"
        },
        "id": "BYnXMIFVW08y",
        "outputId": "5adef76b-a8a6-4af5-958f-6234101648cb"
      },
      "execution_count": 20,
      "outputs": [
        {
          "output_type": "stream",
          "name": "stdout",
          "text": [
            "\n",
            "Percentage of positive tweets in real data: 45.00%\n",
            "Percentage of positive tweets in fake data: 28.63%\n",
            "Percentage of negative tweets in real data: 26.70%\n",
            "Percentage of negative tweets in fake data: 39.61%\n",
            "Percentage of neutral tweets in real data: 28.30%\n",
            "Percentage of neutral tweets in fake data: 31.76%\n"
          ]
        }
      ]
    },
    {
      "cell_type": "code",
      "source": [
        "# Data for plotting\n",
        "categories = ['Positive', 'Negative', 'Neutral']\n",
        "real_percentages = [45.00, 26.70, 28.30]\n",
        "fake_percentages = [28.63, 39.61, 31.76]\n",
        "\n",
        "x = np.arange(len(categories))  # Label locations\n",
        "\n",
        "# Plot\n",
        "plt.figure(figsize=(10, 6))\n",
        "bar_width = 0.35  # Width of the bars\n",
        "\n",
        "plt.bar(x - bar_width/2, real_percentages, bar_width, label='Real Tweets', color='green')\n",
        "plt.bar(x + bar_width/2, fake_percentages, bar_width, label='Fake Tweets', color='red')\n",
        "\n",
        "# Add labels and title\n",
        "plt.xlabel('Sentiment Categories')\n",
        "plt.ylabel('Percentage')\n",
        "plt.title('Comparison of Sentiment in Real vs Fake Tweets')\n",
        "plt.xticks(x, categories)\n",
        "plt.legend()\n",
        "\n",
        "# Show the plot\n",
        "plt.tight_layout()\n",
        "plt.show()\n"
      ],
      "metadata": {
        "colab": {
          "base_uri": "https://localhost:8080/",
          "height": 607
        },
        "id": "S11g1yOfXRSi",
        "outputId": "911e0c4d-abc6-4cc6-8da2-0ee793a85b1c"
      },
      "execution_count": 22,
      "outputs": [
        {
          "output_type": "display_data",
          "data": {
            "text/plain": [
              "<Figure size 1000x600 with 1 Axes>"
            ],
            "image/png": "[encoded data removed]"
          },
          "metadata": {}
        }
      ]
    },
    {
      "cell_type": "markdown",
      "source": [
        "**Conclusions**\n",
        "\n",
        "    Real Tweets Are More Positive:\n",
        "        A higher percentage of real tweets (45%) are classified as positive compared to fake tweets (28.63%).\n",
        "        This suggests that real tweets are more likely to focus on encouraging or optimistic topics, such as public health achievements, factual updates, or positive outcomes.\n",
        "\n",
        "    Fake Tweets Are More Negative:\n",
        "        Fake tweets have a significantly higher percentage of negative sentiment (39.61%) compared to real tweets (26.70%).\n",
        "        This aligns with the tendency of misinformation to provoke fear, anger, or outrage, which are powerful emotional triggers that encourage sharing and engagement.\n",
        "\n",
        "    Neutral Sentiments Are Similar:\n",
        "        The percentage of neutral tweets is fairly similar in both categories (real: 28.30%, fake: 31.76%).\n",
        "        This indicates that some tweets in both categories may focus on information-sharing or descriptive content without strong emotional tone.\n",
        "\n",
        "    Emotional Manipulation in Fake Tweets:\n",
        "        The higher prevalence of negative sentiment in fake tweets suggests that misinformation may be crafted to exploit emotional responses, such as anxiety or mistrust, to influence behaviour or beliefs.\n",
        "\n",
        "    Balanced Sentiment in Real Tweets:\n",
        "        Real tweets display a more balanced sentiment distribution, with substantial proportions of positive, neutral, and negative sentiments. This reflects the multifaceted nature of factual reporting, which covers good, bad, and neutral events."
      ],
      "metadata": {
        "id": "Kb22o6c7Xv1W"
      }
    }
  ]
}