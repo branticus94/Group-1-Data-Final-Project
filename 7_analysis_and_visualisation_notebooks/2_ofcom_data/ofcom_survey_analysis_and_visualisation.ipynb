{
 "cells": [
  {
   "cell_type": "markdown",
   "id": "c900b99b-f531-4553-84f7-39d0df336a41",
   "metadata": {},
   "source": [
    "# OFCOM Survey Data Analysis & Visualisation"
   ]
  },
  {
   "cell_type": "markdown",
   "id": "b5248da837b9207e",
   "metadata": {},
   "source": [
    "## 1. Importing necessary Libraries & Modules"
   ]
  },
  {
   "cell_type": "code",
   "execution_count": 1,
   "id": "ccb4d0667ae57f10",
   "metadata": {
    "ExecuteTime": {
     "end_time": "2024-12-07T23:26:36.409046Z",
     "start_time": "2024-12-07T23:26:36.325750Z"
    }
   },
   "outputs": [],
   "source": [
    "import pandas as pd\n",
    "from pathlib import Path\n",
    "import matplotlib.pyplot as plt\n",
    "import matplotlib.dates as mdates\n",
    "import seaborn as sns\n",
    "import numpy as np\n",
    "import datetime as dt\n",
    "import squarify\n",
    "import geopandas as gpd\n",
    "from wordcloud import WordCloud\n",
    "from matplotlib import cm\n",
    "from scipy.interpolate import make_interp_spline"
   ]
  },
  {
   "cell_type": "markdown",
   "id": "704c6f33fb15bb36",
   "metadata": {},
   "source": [
    "## 2. Loading the OFCOM survey data, Regional COVID Cases, Mortality Data and Vaccination Data and UK cases/mortality data \n",
    "### Loading the OFCOM data:"
   ]
  },
  {
   "cell_type": "code",
   "execution_count": 2,
   "id": "b29c818c91a4e3bf",
   "metadata": {
    "ExecuteTime": {
     "end_time": "2024-12-07T21:27:34.250270Z",
     "start_time": "2024-12-07T21:27:34.162773Z"
    }
   },
   "outputs": [],
   "source": [
    "path_for_datasets = r'../../6_cleaned_files/ofcom_survey_data'\n",
    "\n",
    "directory_path = Path(path_for_datasets)\n",
    "\n",
    "file_list = [f.name for f in directory_path.iterdir() if f.is_file()]\n",
    "\n",
    "file_paths = [f'{path_for_datasets}/{file}' for file in file_list if file[-4:] == '.csv']\n",
    "\n",
    "ofcom_dataframes = {}\n",
    "\n",
    "for i, file_path in enumerate(file_paths):\n",
    "    \n",
    "    dataframe = pd.read_csv(file_path)\n",
    "    \n",
    "    dataframe['start_date'] = pd.to_datetime(dataframe['start_date'], errors='coerce')\n",
    "    dataframe['end_date'] = pd.to_datetime(dataframe['end_date'], errors='coerce')\n",
    "    \n",
    "    dataframe['start_date'] = dataframe['start_date'].dt.date\n",
    "    dataframe['end_date'] = dataframe['end_date'].dt.date\n",
    "    \n",
    "    ofcom_dataframes[file_list[i][:-12]] = dataframe"
   ]
  },
  {
   "cell_type": "code",
   "execution_count": 3,
   "id": "11d36b1f611bc372",
   "metadata": {
    "ExecuteTime": {
     "end_time": "2024-12-07T21:27:35.091403Z",
     "start_time": "2024-12-07T21:27:35.088041Z"
    }
   },
   "outputs": [],
   "source": [
    "dataframe['start_date'] = pd.to_datetime(dataframe['start_date'], errors='coerce')\n",
    "dataframe['end_date'] = pd.to_datetime(dataframe['end_date'], errors='coerce')\n",
    "\n",
    "dataframe['start_date'] = dataframe['start_date'].dt.date\n",
    "dataframe['end_date'] = dataframe['end_date'].dt.date"
   ]
  },
  {
   "cell_type": "markdown",
   "id": "35b874a5befd6df4",
   "metadata": {},
   "source": [
    "### Loading the UKHSA regional information for mortality, vaccination and cases"
   ]
  },
  {
   "cell_type": "code",
   "execution_count": 4,
   "id": "293f0fe9f018e886",
   "metadata": {
    "ExecuteTime": {
     "end_time": "2024-12-07T21:27:36.506601Z",
     "start_time": "2024-12-07T21:27:36.496858Z"
    }
   },
   "outputs": [],
   "source": [
    "ukhsa_mortality_dataframe = pd.read_csv(r'../../6_cleaned_files/ukhsa_mortality_data/uk_regional_covid_mortality_cleaned.csv')"
   ]
  },
  {
   "cell_type": "code",
   "execution_count": 5,
   "id": "8113ea821dc767d2",
   "metadata": {
    "ExecuteTime": {
     "end_time": "2024-12-07T21:27:37.016203Z",
     "start_time": "2024-12-07T21:27:37.008255Z"
    }
   },
   "outputs": [],
   "source": [
    "ukhsa_cases_dataframe = pd.read_csv(r'../../6_cleaned_files/ukhsa_cases_data/ukhsa_cases_data_cleaned.csv')"
   ]
  },
  {
   "cell_type": "code",
   "execution_count": 6,
   "id": "640a4f1bc919e6a1",
   "metadata": {
    "ExecuteTime": {
     "end_time": "2024-12-07T21:27:37.507996Z",
     "start_time": "2024-12-07T21:27:37.491204Z"
    }
   },
   "outputs": [],
   "source": [
    "ukhsa_vaccination_dataframe = pd.read_csv(r'../../6_cleaned_files/ukhsa_vaccination_data/ukhsa_vaccination_data_cleaned.csv')"
   ]
  },
  {
   "cell_type": "code",
   "execution_count": 7,
   "id": "f1ca03ac-487a-483e-ad0d-4852de9275db",
   "metadata": {
    "ExecuteTime": {
     "end_time": "2024-12-07T21:27:37.947113Z",
     "start_time": "2024-12-07T21:27:37.944930Z"
    }
   },
   "outputs": [],
   "source": [
    "ukhsa_cases_data_by_date = ukhsa_cases_dataframe.copy()"
   ]
  },
  {
   "cell_type": "code",
   "execution_count": 8,
   "id": "bdc60624-06fb-4c10-9dd7-0cf2a48d6d73",
   "metadata": {
    "ExecuteTime": {
     "end_time": "2024-12-07T21:27:38.390282Z",
     "start_time": "2024-12-07T21:27:38.386043Z"
    }
   },
   "outputs": [],
   "source": [
    "ukhsa_cases_data_by_date= ukhsa_cases_data_by_date.groupby('date')['new_cases_by_specimen_date'].sum()"
   ]
  },
  {
   "cell_type": "markdown",
   "id": "2fe2c7f390a5858",
   "metadata": {},
   "source": [
    "### Loading the UK COVID API data "
   ]
  },
  {
   "cell_type": "code",
   "execution_count": 9,
   "id": "e95337deb3eef282",
   "metadata": {
    "ExecuteTime": {
     "end_time": "2024-12-07T22:42:33.625830Z",
     "start_time": "2024-12-07T22:42:33.594337Z"
    }
   },
   "outputs": [],
   "source": [
    "covid_api_uk_dataframe = pd.read_csv(r'../../6_cleaned_files/covid_api_data/covid_api_uk_cleaned.csv')"
   ]
  },
  {
   "cell_type": "markdown",
   "id": "7e3ccea88f780654",
   "metadata": {},
   "source": [
    "# 3. Frequency of getting information and news on the pandemic\n",
    "## I first get the corresponding dataframe"
   ]
  },
  {
   "cell_type": "code",
   "execution_count": 10,
   "id": "2f61317240c343f2",
   "metadata": {
    "ExecuteTime": {
     "end_time": "2024-12-01T23:15:04.352845Z",
     "start_time": "2024-12-01T23:15:04.350749Z"
    }
   },
   "outputs": [],
   "source": [
    "dataframe = ofcom_dataframes['frequency_of_getting_infonews_about_coronavirus_outbreak_in_last_week']"
   ]
  },
  {
   "cell_type": "markdown",
   "id": "706a746e4ee3c530",
   "metadata": {},
   "source": [
    "## I ensure that the dates are appropriately formatted"
   ]
  },
  {
   "cell_type": "code",
   "execution_count": 11,
   "id": "db5d8450d05bbbde",
   "metadata": {
    "ExecuteTime": {
     "end_time": "2024-12-01T23:15:04.394451Z",
     "start_time": "2024-12-01T23:15:04.391981Z"
    }
   },
   "outputs": [],
   "source": [
    "dataframe['start_date'] = pd.to_datetime(dataframe['start_date'], errors='coerce')\n",
    "dataframe['end_date'] = pd.to_datetime(dataframe['end_date'], errors='coerce')\n",
    "\n",
    "dataframe['start_date'] = dataframe['start_date'].dt.date\n",
    "dataframe['end_date'] = dataframe['end_date'].dt.date"
   ]
  },
  {
   "cell_type": "markdown",
   "id": "51309bd63da0885",
   "metadata": {},
   "source": [
    "## I want to plot the percentage of respondants over time so I need to create a dataframe which contains unique dates and weighted bases from the dataframe and calculate the percentage of respondents"
   ]
  },
  {
   "cell_type": "code",
   "execution_count": 12,
   "id": "e86a36e05f06173e",
   "metadata": {
    "ExecuteTime": {
     "end_time": "2024-12-01T23:15:04.435914Z",
     "start_time": "2024-12-01T23:15:04.433489Z"
    }
   },
   "outputs": [],
   "source": [
    "weighted_bases = dataframe[dataframe['response'] == 'Weighted base'][['start_date', 'total']].reset_index(drop=True)"
   ]
  },
  {
   "cell_type": "code",
   "execution_count": 13,
   "id": "ae9e279791751329",
   "metadata": {
    "ExecuteTime": {
     "end_time": "2024-12-01T23:15:04.496052Z",
     "start_time": "2024-12-01T23:15:04.474763Z"
    }
   },
   "outputs": [],
   "source": [
    "def get_total(start_date):\n",
    "    lookup_dict = weighted_bases.set_index('start_date')['total'].to_dict()\n",
    "    \n",
    "    return lookup_dict.get(start_date)\n",
    "\n",
    "dataframe['weighted_base'] = dataframe['start_date'].map(get_total)"
   ]
  },
  {
   "cell_type": "code",
   "execution_count": 14,
   "id": "8663a51e09ff1e18",
   "metadata": {
    "ExecuteTime": {
     "end_time": "2024-12-01T23:15:04.537791Z",
     "start_time": "2024-12-01T23:15:04.535856Z"
    }
   },
   "outputs": [],
   "source": [
    "dataframe['percentage_total_respondents'] = round((dataframe['total']/dataframe['weighted_base']) * 100, 2)"
   ]
  },
  {
   "cell_type": "code",
   "execution_count": 15,
   "id": "a4e277358bc5cbf3",
   "metadata": {
    "ExecuteTime": {
     "end_time": "2024-12-01T23:15:04.580657Z",
     "start_time": "2024-12-01T23:15:04.579136Z"
    }
   },
   "outputs": [],
   "source": [
    "dataframe = dataframe[['start_date', 'response', 'percentage_total_respondents']]"
   ]
  },
  {
   "cell_type": "code",
   "execution_count": 16,
   "id": "5e76f2c9b9ef4b4a",
   "metadata": {
    "ExecuteTime": {
     "end_time": "2024-12-01T23:15:04.620517Z",
     "start_time": "2024-12-01T23:15:04.618793Z"
    }
   },
   "outputs": [],
   "source": [
    "dataframe = dataframe[~dataframe['response'].isin(['Unweighted base', 'NET: At least once a day', 'Weighted base'])]"
   ]
  },
  {
   "cell_type": "markdown",
   "id": "6124f330-b46d-487c-b235-726111d03d9b",
   "metadata": {},
   "source": [
    "## I then get the comparative data from the COVID-19 API to plot on the graph"
   ]
  },
  {
   "cell_type": "code",
   "execution_count": 17,
   "id": "4fe373714a74cb92",
   "metadata": {
    "ExecuteTime": {
     "end_time": "2024-12-08T12:14:32.696235Z",
     "start_time": "2024-12-08T12:14:32.584720Z"
    }
   },
   "outputs": [],
   "source": [
    "start_date = min(dataframe['start_date'])"
   ]
  },
  {
   "cell_type": "code",
   "execution_count": 18,
   "id": "c34e0cc33e54bc25",
   "metadata": {
    "ExecuteTime": {
     "end_time": "2024-12-01T23:15:04.746838Z",
     "start_time": "2024-12-01T23:15:04.744948Z"
    }
   },
   "outputs": [],
   "source": [
    "end_date = max(dataframe['start_date'])"
   ]
  },
  {
   "cell_type": "code",
   "execution_count": 19,
   "id": "eca9c412c66ba39a",
   "metadata": {
    "ExecuteTime": {
     "end_time": "2024-12-01T23:15:04.796247Z",
     "start_time": "2024-12-01T23:15:04.794707Z"
    }
   },
   "outputs": [],
   "source": [
    "cases_dataframe = covid_api_uk_dataframe.copy()"
   ]
  },
  {
   "cell_type": "code",
   "execution_count": 20,
   "id": "cea71db106be82a7",
   "metadata": {
    "ExecuteTime": {
     "end_time": "2024-12-01T23:15:04.839327Z",
     "start_time": "2024-12-01T23:15:04.836085Z"
    }
   },
   "outputs": [],
   "source": [
    "cases_dataframe['date'] = pd.to_datetime(cases_dataframe['date'], errors='coerce')\n",
    "cases_dataframe['date'] = cases_dataframe['date'].dt.date"
   ]
  },
  {
   "cell_type": "code",
   "execution_count": 21,
   "id": "e23440eb84759e25",
   "metadata": {
    "ExecuteTime": {
     "end_time": "2024-12-01T23:15:04.924192Z",
     "start_time": "2024-12-01T23:15:04.920624Z"
    }
   },
   "outputs": [],
   "source": [
    "date_filtered_dataframe = cases_dataframe[(cases_dataframe['date'] >= start_date) & (cases_dataframe['date'] <= end_date)]"
   ]
  },
  {
   "cell_type": "code",
   "execution_count": 22,
   "id": "bc5f06b4a50a9fd3",
   "metadata": {
    "ExecuteTime": {
     "end_time": "2024-12-01T23:15:04.978470Z",
     "start_time": "2024-12-01T23:15:04.976099Z"
    }
   },
   "outputs": [],
   "source": [
    "cases_dataframe = date_filtered_dataframe[['date','confirmed_diff']]"
   ]
  },
  {
   "cell_type": "code",
   "execution_count": 23,
   "id": "e9337c91-1d57-4989-ab02-22f17c72da5b",
   "metadata": {},
   "outputs": [],
   "source": [
    "mortality_dataframe = date_filtered_dataframe[['date','deaths']]"
   ]
  },
  {
   "cell_type": "code",
   "execution_count": 24,
   "id": "62214ce1-9554-4f37-95d7-282138273912",
   "metadata": {},
   "outputs": [],
   "source": [
    "df_no_outliers = cases_dataframe.copy()"
   ]
  },
  {
   "cell_type": "markdown",
   "id": "816ef38d-d79e-4e4a-a3d0-d76425cd1b51",
   "metadata": {},
   "source": [
    "### Finally, I plot the graph:"
   ]
  },
  {
   "cell_type": "code",
   "execution_count": 25,
   "id": "a6cc725c43f7befc",
   "metadata": {
    "ExecuteTime": {
     "end_time": "2024-12-08T12:53:54.605769Z",
     "start_time": "2024-12-08T12:53:54.580421Z"
    }
   },
   "outputs": [
    {
     "data": {
      "image/png": "[encoded data removed]",
      "text/plain": [
       "<Figure size 1500x1000 with 2 Axes>"
      ]
     },
     "metadata": {},
     "output_type": "display_data"
    }
   ],
   "source": [
    "fig, ax1 = plt.subplots(figsize=(15, 10))\n",
    "\n",
    "colours = plt.cm.viridis(np.linspace(0, 1, len(dataframe['response'].unique())))\n",
    "\n",
    "for i, category in enumerate(dataframe['response'].unique()):\n",
    "    category_data = dataframe[dataframe['response'] == category]\n",
    "    ax1.plot(category_data['start_date'], category_data['percentage_total_respondents'], \n",
    "             label=category, linestyle='-', color=colours[i])\n",
    "\n",
    "ax1.set_xlabel('Date')\n",
    "ax1.set_ylabel('Percentage of Total Survey Respondents')\n",
    "\n",
    "ax1.xaxis.set_major_locator(mdates.MonthLocator())\n",
    "ax1.xaxis.set_major_formatter(mdates.DateFormatter('%b %Y'))\n",
    "\n",
    "ax1.set_xlim([dt.datetime(2020, 3, 27), dt.datetime(2021, 6, 4)])\n",
    "\n",
    "ax2 = ax1.twinx()\n",
    "\n",
    "ax2.plot(cases_dataframe['date'], cases_dataframe['confirmed_diff'], label='COVID Cases', linestyle='--', color='black')\n",
    "ax2.set_ylabel('Number of COVID Cases Per Day')\n",
    "\n",
    "ax1.legend(title='COVID News Search Frequency:', loc='upper left')\n",
    "ax2.legend(title='Number of reported COVID Cases Per Day', loc='upper right')\n",
    "\n",
    "ax1.grid(False)\n",
    "ax2.grid(False)\n",
    "\n",
    "for spine in ax1.spines.values():\n",
    "    spine.set_visible(True)\n",
    "    spine.set_color('black')\n",
    "    \n",
    "ax1.set_facecolor('white')\n",
    "ax2.set_facecolor('white')\n",
    "\n",
    "lockdown_periods = [\n",
    "    ('2020-03-27', '2020-05-10', '1st Lockdown'),\n",
    "    ('2020-11-05', '2020-12-02', '2nd Lockdown'),\n",
    "    ('2021-01-06', '2021-03-08', '3rd Lockdown'),\n",
    "]\n",
    "    \n",
    "for start_date, end_date, label in lockdown_periods:\n",
    "    ax1.axvspan(\n",
    "        dt.datetime.strptime(start_date, '%Y-%m-%d'), \n",
    "        dt.datetime.strptime(end_date, '%Y-%m-%d'), \n",
    "        color='gray', alpha=0.3, label=label\n",
    "    )\n",
    "\n",
    "plt.text(\n",
    "    dt.datetime(2021, 4, 17), 51000,\n",
    "    'Shaded areas\\nrepresent lockdown\\nperiods',\n",
    "    fontsize=10,\n",
    "    color='black',\n",
    "    ha='center',\n",
    "    va='center',\n",
    "    bbox=dict(\n",
    "        facecolor='white',\n",
    "        edgecolor='black',\n",
    "        boxstyle='round,pad=0.5', \n",
    "        alpha=0.3\n",
    "    )\n",
    ")\n",
    "\n",
    "plt.title('Time Series of COVID News Search Frequency and Number of COVID Cases')\n",
    "\n",
    "plt.tight_layout()\n",
    "\n",
    "plt.savefig('../../8_final_visualisations/misinformation_ofcom/frequency_of_sourcing_news/misinformation_frequency_of_news_covid_timeseries.png', dpi=300)\n",
    "\n",
    "plt.show()"
   ]
  },
  {
   "cell_type": "code",
   "execution_count": 26,
   "id": "0b2b0488-dcc3-41fd-bb54-7397803cdcb3",
   "metadata": {},
   "outputs": [],
   "source": [
    "## Streamgraph"
   ]
  },
  {
   "cell_type": "code",
   "execution_count": 27,
   "id": "cdda0373-1ada-455e-9427-9e82a4b0b205",
   "metadata": {},
   "outputs": [],
   "source": [
    "streamplot_dataframe = dataframe.copy()"
   ]
  },
  {
   "cell_type": "code",
   "execution_count": 28,
   "id": "8702da4a-a48a-480d-b561-c2ebc43dab18",
   "metadata": {},
   "outputs": [],
   "source": [
    "streamplot_dataframe = streamplot_dataframe.drop_duplicates()"
   ]
  },
  {
   "cell_type": "code",
   "execution_count": 29,
   "id": "f0a34936-1fca-4f8c-8969-b1e40337ed1f",
   "metadata": {},
   "outputs": [
    {
     "data": {
      "text/html": [
       "<div>\n",
       "<style scoped>\n",
       "    .dataframe tbody tr th:only-of-type {\n",
       "        vertical-align: middle;\n",
       "    }\n",
       "\n",
       "    .dataframe tbody tr th {\n",
       "        vertical-align: top;\n",
       "    }\n",
       "\n",
       "    .dataframe thead th {\n",
       "        text-align: right;\n",
       "    }\n",
       "</style>\n",
       "<table border=\"1\" class=\"dataframe\">\n",
       "  <thead>\n",
       "    <tr style=\"text-align: right;\">\n",
       "      <th></th>\n",
       "      <th>start_date</th>\n",
       "      <th>response</th>\n",
       "      <th>percentage_total_respondents</th>\n",
       "    </tr>\n",
       "  </thead>\n",
       "  <tbody>\n",
       "    <tr>\n",
       "      <th>2</th>\n",
       "      <td>2020-03-27</td>\n",
       "      <td>20 times or more a day</td>\n",
       "      <td>23.61</td>\n",
       "    </tr>\n",
       "    <tr>\n",
       "      <th>3</th>\n",
       "      <td>2020-03-27</td>\n",
       "      <td>10-19 times a day</td>\n",
       "      <td>21.51</td>\n",
       "    </tr>\n",
       "    <tr>\n",
       "      <th>4</th>\n",
       "      <td>2020-03-27</td>\n",
       "      <td>5-9 times a day</td>\n",
       "      <td>28.23</td>\n",
       "    </tr>\n",
       "    <tr>\n",
       "      <th>5</th>\n",
       "      <td>2020-03-27</td>\n",
       "      <td>2-4 times a day</td>\n",
       "      <td>21.82</td>\n",
       "    </tr>\n",
       "    <tr>\n",
       "      <th>6</th>\n",
       "      <td>2020-03-27</td>\n",
       "      <td>About once a day</td>\n",
       "      <td>3.41</td>\n",
       "    </tr>\n",
       "    <tr>\n",
       "      <th>...</th>\n",
       "      <td>...</td>\n",
       "      <td>...</td>\n",
       "      <td>...</td>\n",
       "    </tr>\n",
       "    <tr>\n",
       "      <th>271</th>\n",
       "      <td>2021-06-04</td>\n",
       "      <td>2-4 times a day</td>\n",
       "      <td>33.07</td>\n",
       "    </tr>\n",
       "    <tr>\n",
       "      <th>272</th>\n",
       "      <td>2021-06-04</td>\n",
       "      <td>About once a day</td>\n",
       "      <td>23.37</td>\n",
       "    </tr>\n",
       "    <tr>\n",
       "      <th>273</th>\n",
       "      <td>2021-06-04</td>\n",
       "      <td>A few times a week</td>\n",
       "      <td>9.98</td>\n",
       "    </tr>\n",
       "    <tr>\n",
       "      <th>274</th>\n",
       "      <td>2021-06-04</td>\n",
       "      <td>20 times or more a day</td>\n",
       "      <td>4.26</td>\n",
       "    </tr>\n",
       "    <tr>\n",
       "      <th>275</th>\n",
       "      <td>2021-06-04</td>\n",
       "      <td>Never - not following the coronavirus outbreak</td>\n",
       "      <td>3.04</td>\n",
       "    </tr>\n",
       "  </tbody>\n",
       "</table>\n",
       "<p>184 rows × 3 columns</p>\n",
       "</div>"
      ],
      "text/plain": [
       "     start_date                                        response  \\\n",
       "2    2020-03-27                          20 times or more a day   \n",
       "3    2020-03-27                               10-19 times a day   \n",
       "4    2020-03-27                                 5-9 times a day   \n",
       "5    2020-03-27                                 2-4 times a day   \n",
       "6    2020-03-27                                About once a day   \n",
       "..          ...                                             ...   \n",
       "271  2021-06-04                                 2-4 times a day   \n",
       "272  2021-06-04                                About once a day   \n",
       "273  2021-06-04                              A few times a week   \n",
       "274  2021-06-04                          20 times or more a day   \n",
       "275  2021-06-04  Never - not following the coronavirus outbreak   \n",
       "\n",
       "     percentage_total_respondents  \n",
       "2                           23.61  \n",
       "3                           21.51  \n",
       "4                           28.23  \n",
       "5                           21.82  \n",
       "6                            3.41  \n",
       "..                            ...  \n",
       "271                         33.07  \n",
       "272                         23.37  \n",
       "273                          9.98  \n",
       "274                          4.26  \n",
       "275                          3.04  \n",
       "\n",
       "[184 rows x 3 columns]"
      ]
     },
     "execution_count": 29,
     "metadata": {},
     "output_type": "execute_result"
    }
   ],
   "source": [
    "streamplot_dataframe"
   ]
  },
  {
   "cell_type": "code",
   "execution_count": 30,
   "id": "1a552794-2c19-4759-9449-46f85355a722",
   "metadata": {},
   "outputs": [],
   "source": [
    "reshaped_df = streamplot_dataframe.pivot(\n",
    "    index='start_date',\n",
    "    columns='response',\n",
    "    values='percentage_total_respondents'\n",
    ")"
   ]
  },
  {
   "cell_type": "code",
   "execution_count": 31,
   "id": "fbb9e248-bb17-4813-aa4f-7851b6c03c84",
   "metadata": {},
   "outputs": [],
   "source": [
    "reshaped_df = reshaped_df.reset_index()"
   ]
  },
  {
   "cell_type": "code",
   "execution_count": 32,
   "id": "c4aaebf3-11f7-4269-a22e-00a38cc79774",
   "metadata": {},
   "outputs": [],
   "source": [
    "reshaped_df['start_date'] = pd.to_datetime(reshaped_df['start_date'])"
   ]
  },
  {
   "cell_type": "code",
   "execution_count": 33,
   "id": "02ea7e25-7d40-4b26-9b3e-f776b08ed24d",
   "metadata": {},
   "outputs": [],
   "source": [
    "reshaped_df['start_date'] = reshaped_df['start_date'].map(pd.Timestamp.toordinal)"
   ]
  },
  {
   "cell_type": "code",
   "execution_count": 34,
   "id": "a1040531-fdb9-4af5-a742-91f9581a456f",
   "metadata": {},
   "outputs": [],
   "source": [
    "reshaped_df = reshaped_df.set_index('start_date')"
   ]
  },
  {
   "cell_type": "code",
   "execution_count": 35,
   "id": "9ef46e67-9df7-4277-ab68-947003b28ee1",
   "metadata": {},
   "outputs": [],
   "source": [
    "reshaped_df = reshaped_df[['Never - not following the coronavirus outbreak', 'Less than a few times a week', 'A few times a week', 'About once a day', '2-4 times a day', '5-9 times a day', '10-19 times a day', '20 times or more a day']]"
   ]
  },
  {
   "cell_type": "code",
   "execution_count": 36,
   "id": "d7f93a94-a2d0-4e4f-b587-5886983fb67a",
   "metadata": {},
   "outputs": [
    {
     "data": {
      "image/png": "[encoded data removed]",
      "text/plain": [
       "<Figure size 800x800 with 1 Axes>"
      ]
     },
     "metadata": {},
     "output_type": "display_data"
    }
   ],
   "source": [
    "custom_colors = cm.viridis(np.linspace(0, 1, len(reshaped_df.columns)))\n",
    "\n",
    "x_smooth = np.linspace(reshaped_df.index.min(), reshaped_df.index.max(), 300)\n",
    "\n",
    "pivot_smooth = pd.DataFrame({\n",
    "    column: make_interp_spline(reshaped_df.index, reshaped_df[column])(x_smooth)\n",
    "    for column in reshaped_df\n",
    "})\n",
    "\n",
    "x_smooth_dates = pd.to_datetime([pd.Timestamp.fromordinal(int(date)) for date in x_smooth])\n",
    "\n",
    "plt.figure(figsize=(8, 8))\n",
    "plt.stackplot(\n",
    "    x_smooth_dates,\n",
    "    pivot_smooth.values.T,\n",
    "    labels=reshaped_df.columns,\n",
    "    colors=custom_colors\n",
    ")\n",
    "\n",
    "ax = plt.gca()\n",
    "\n",
    "# Line to demonstrate the 1st lockdown end\n",
    "ax.plot([18413, 18413],[0, 103], color='black', linewidth=1)    \n",
    "ax.plot(18413, 103, marker='o', markersize=5, color='black')\n",
    "plt.text(18306, 105, '1st lockdown ends', fontsize=10, color='black', fontweight='bold')\n",
    "\n",
    "# Line to demonstrate the 2nd lockdown start\n",
    "ax.plot([18570, 18570],[0, 103], color='black', linewidth=1)    \n",
    "ax.plot(18570, 103, marker='o', markersize=5, color='black')\n",
    "plt.text(18491, 105, '2nd lockdown', fontsize=10, color='black', fontweight='bold')\n",
    "\n",
    "# Line to demonstrate the 2nd lockdown end\n",
    "ax.plot([18600, 18600],[0, 110], color='black', linewidth=1)    \n",
    "ax.plot(18600, 110, marker='o', markersize=5, color='black')\n",
    "plt.text(18488, 112, '2nd lockdown ends', fontsize=10, color='black', fontweight='bold')\n",
    "\n",
    "# Line to demonstrate the 3rd lockdown start\n",
    "ax.plot([18630, 18630],[0, 110], color='black', linewidth=1)    \n",
    "ax.plot(18630, 110, marker='o', markersize=5, color='black')\n",
    "plt.text(18626, 112, '3rd lockdown', fontsize=10, color='black', fontweight='bold')\n",
    "\n",
    "# Line to demonstrate the school reopening \n",
    "ax.plot([18688, 18688],[0, 103], color='black', linewidth=1)    \n",
    "ax.plot(18688, 103, marker='o', markersize=5, color='black')\n",
    "plt.text(18684, 105, 'Schools reopen', fontsize=10, color='black', fontweight='bold')\n",
    "\n",
    "def add_annotations_frequency(news_check_frequency, value_placement, color):\n",
    "    plt.text(18790, value_placement, news_check_frequency, fontsize=10, color=color, fontweight='bold')\n",
    "\n",
    "frequencies = ['Never - not following the coronavirus outbreak', 'Less than a few times a week', 'A few times a week', 'About once a day', '2-4 times a day', '5-9 times a day', '10-19 times a day', '20 times or more a day']\n",
    "values_placement = [1, 5, 9, 28, 55, 82, 92, 97]\n",
    "custom_colors.tolist().reverse()\n",
    "\n",
    "for frequency, value, colour in zip(frequencies, values_placement, custom_colors):\n",
    "    add_annotations_frequency(frequency, value, colour)\n",
    "\n",
    "plt.text(18325, -17,\n",
    "         'COVID-19 News Consumption Frequency 2020/21',\n",
    "         fontsize=15, \n",
    "         color='black',\n",
    "         fontweight = 'bold')\n",
    "\n",
    "plt.text(18325, -9, 'Source:', fontsize=10, color='black', fontweight = 'bold')\n",
    "plt.text(18373, -9, 'OFCOM Covid-19 news and information, consumption and attitudes', fontsize=10, color='black')\n",
    "plt.text(18325, -12, 'Data:', fontsize=10, color='black', fontweight = 'bold')\n",
    "plt.text(18360, -12, 'Percentage of survey respondents reported news consumption frequency', fontsize=10, color='black')\n",
    "\n",
    "ax.spines['left'].set_visible(False)\n",
    "ax.spines['right'].set_visible(False)\n",
    "ax.spines['top'].set_visible(False)\n",
    "\n",
    "ax.tick_params(left=False, labelleft=False)\n",
    "\n",
    "plt.savefig('../../8_final_visualisations/misinformation_ofcom/frequency_of_sourcing_news/stacked_area_chart_frequency.png', bbox_inches='tight', \n",
    "            dpi=300)\n",
    "\n",
    "plt.show()"
   ]
  },
  {
   "cell_type": "markdown",
   "id": "9d99dbe1c7f85986",
   "metadata": {},
   "source": [
    "# 4. Sources used to get information about the coronavirus outbreak"
   ]
  },
  {
   "cell_type": "code",
   "execution_count": 37,
   "id": "379499d2a1ec2839",
   "metadata": {
    "ExecuteTime": {
     "end_time": "2024-12-01T23:15:06.384219Z",
     "start_time": "2024-12-01T23:15:06.382706Z"
    }
   },
   "outputs": [],
   "source": [
    "sources_used_dataframe = ofcom_dataframes['sources_used_to_get_infonews_about_coronavirus_outbreak_in_last_week']"
   ]
  },
  {
   "cell_type": "markdown",
   "id": "b30b746090d35866",
   "metadata": {},
   "source": [
    "### As I will be plotting many time series for the graph, I made a function to return the weighted percentages:"
   ]
  },
  {
   "cell_type": "code",
   "execution_count": 38,
   "id": "d0b124e2672ee742",
   "metadata": {
    "ExecuteTime": {
     "end_time": "2024-12-01T23:15:06.429288Z",
     "start_time": "2024-12-01T23:15:06.426900Z"
    }
   },
   "outputs": [],
   "source": [
    "def calculate_percentage(dataframe):\n",
    "    \n",
    "    weighted_bases = dataframe[dataframe['response'] == 'Weighted base'][['start_date', 'total']].reset_index(drop=True)\n",
    "\n",
    "    def get_total(start_date):\n",
    "        lookup_dict = weighted_bases.set_index('start_date')['total'].to_dict()\n",
    "        return lookup_dict.get(start_date)\n",
    "\n",
    "    dataframe['weighted_base'] = dataframe['start_date'].map(get_total)\n",
    "\n",
    "    dataframe['percentage_total_respondents'] = round((dataframe['total'] / dataframe['weighted_base']) * 100, 2)\n",
    "\n",
    "    return dataframe[['start_date', 'response', 'percentage_total_respondents']]"
   ]
  },
  {
   "cell_type": "code",
   "execution_count": 39,
   "id": "888b856e-3b3e-487f-9ad4-a0921eb067c8",
   "metadata": {
    "ExecuteTime": {
     "end_time": "2024-12-01T23:15:06.622775Z",
     "start_time": "2024-12-01T23:15:06.470225Z"
    }
   },
   "outputs": [],
   "source": [
    "sources_used_dataframe = calculate_percentage(sources_used_dataframe)"
   ]
  },
  {
   "cell_type": "code",
   "execution_count": 40,
   "id": "3d74a20ad85234c5",
   "metadata": {
    "ExecuteTime": {
     "end_time": "2024-12-01T23:15:06.662570Z",
     "start_time": "2024-12-01T23:15:06.661160Z"
    }
   },
   "outputs": [],
   "source": [
    "# sources_used_dataframe"
   ]
  },
  {
   "cell_type": "code",
   "execution_count": 41,
   "id": "e525af3ed1f90c11",
   "metadata": {
    "ExecuteTime": {
     "end_time": "2024-12-01T23:15:06.701986Z",
     "start_time": "2024-12-01T23:15:06.700003Z"
    }
   },
   "outputs": [],
   "source": [
    "sources_used_dataframe = sources_used_dataframe[~sources_used_dataframe['response'].isin(['Unweighted base', 'NET: At least once a day', 'Weighted base'])]"
   ]
  },
  {
   "cell_type": "markdown",
   "id": "29b97113e1f9a6a5",
   "metadata": {},
   "source": [
    "### From the response categories (uncomment) I have selected a few broad categories of interest for different plots"
   ]
  },
  {
   "cell_type": "code",
   "execution_count": 42,
   "id": "66857c15d3c18a18",
   "metadata": {
    "ExecuteTime": {
     "end_time": "2024-12-01T23:15:06.742281Z",
     "start_time": "2024-12-01T23:15:06.740755Z"
    }
   },
   "outputs": [],
   "source": [
    "# sources_used_dataframe['response'].unique()"
   ]
  },
  {
   "cell_type": "code",
   "execution_count": 43,
   "id": "9b23b2d00929b08",
   "metadata": {
    "ExecuteTime": {
     "end_time": "2024-12-01T23:15:06.780986Z",
     "start_time": "2024-12-01T23:15:06.779660Z"
    }
   },
   "outputs": [],
   "source": [
    "local_news = [\n",
    "    \"Family and friends directly\",\n",
    "    \"Community radio\",\n",
    "    \"People in your local area/neighbourhood\"\n",
    "]"
   ]
  },
  {
   "cell_type": "code",
   "execution_count": 44,
   "id": "ff166caa4a5ba539",
   "metadata": {
    "ExecuteTime": {
     "end_time": "2024-12-01T23:15:06.819710Z",
     "start_time": "2024-12-01T23:15:06.818181Z"
    }
   },
   "outputs": [],
   "source": [
    "newspapers = [\n",
    "        '“Red-top tabloids” such as The Sun or Daily Mirror ( printed )',\n",
    "       '“Red-top tabloids” such as The Sun or Mirror ( online )',\n",
    "       '“Broadsheets” such as The Times or Guardian',\n",
    "       '“Broadsheets” such as The Times or Guardian ( online )',\n",
    "       '“Mid-market tabloids” such as The Daily Mail or Daily Express ( printed )',\n",
    "       '“Mid-market tabloids” such as MailOnline or Express ( online )'\n",
    "]"
   ]
  },
  {
   "cell_type": "markdown",
   "id": "970580332f7482d8",
   "metadata": {},
   "source": [
    "#### After playing with the plotting function, I noted that the response changed from Direct from Government website/ email/ text/ post to Direct from UK Government website/ email/ text/ post I therefore combined the groups"
   ]
  },
  {
   "cell_type": "code",
   "execution_count": 45,
   "id": "b547ad0303f25ae5",
   "metadata": {
    "ExecuteTime": {
     "end_time": "2024-12-01T23:15:06.858328Z",
     "start_time": "2024-12-01T23:15:06.856903Z"
    }
   },
   "outputs": [],
   "source": [
    "official_sources = [\n",
    "    \"Direct from Local health service website/ email/ text/ post\",\n",
    "    \"Direct from NHS website/ email/ text/ post\",\n",
    "    \"Direct from World Health Organisation (WHO) website/ email/ text/ post\",\n",
    "    \"Direct from UK Government website/ email/ text/ post\",\n",
    "    \"Direct from Local council website/ email/ text/ post\",\n",
    "    \"Official scientists\"\n",
    "]"
   ]
  },
  {
   "cell_type": "code",
   "execution_count": 46,
   "id": "e4bee7d6cd04a810",
   "metadata": {
    "ExecuteTime": {
     "end_time": "2024-12-01T23:15:06.896177Z",
     "start_time": "2024-12-01T23:15:06.894459Z"
    }
   },
   "outputs": [],
   "source": [
    "sources_used_dataframe.loc[sources_used_dataframe['response'] == \"Direct from Government website/ email/ text/ post\", 'response'] = \"Direct from UK Government website/ email/ text/ post\""
   ]
  },
  {
   "cell_type": "code",
   "execution_count": 47,
   "id": "206c73c2f2aba416",
   "metadata": {
    "ExecuteTime": {
     "end_time": "2024-12-01T23:15:06.934382Z",
     "start_time": "2024-12-01T23:15:06.933032Z"
    }
   },
   "outputs": [],
   "source": [
    "television = [\n",
    "    'BBC - TV',\n",
    "    'Channel 4',\n",
    "    'Channel 5',\n",
    "    'ITV'\n",
    "]"
   ]
  },
  {
   "cell_type": "code",
   "execution_count": 48,
   "id": "3bb27fa17e50f5f7",
   "metadata": {
    "ExecuteTime": {
     "end_time": "2024-12-01T23:15:06.972934Z",
     "start_time": "2024-12-01T23:15:06.971565Z"
    }
   },
   "outputs": [],
   "source": [
    "social_media = [\n",
    "    \"NET: Social Media\",\n",
    "    \"NET: Facebook (Facebook and Facebook Messenger)\",\n",
    "    \"NET: WhatsApp (WhatsApp and WhatsApp groups)\",\n",
    "    \"Instagram\",\n",
    "    \"Twitter\",\n",
    "    \"YouTube\",\n",
    "    \"Snapchat\",\n",
    "]"
   ]
  },
  {
   "cell_type": "markdown",
   "id": "241fbe880ead1d6b",
   "metadata": {},
   "source": [
    "## I created a function to plot similar Time Series graphs to Save time and decide which Plots are most relevant"
   ]
  },
  {
   "cell_type": "code",
   "execution_count": 49,
   "id": "ad40a79fbf20f4a8",
   "metadata": {
    "ExecuteTime": {
     "end_time": "2024-12-01T23:15:07.013711Z",
     "start_time": "2024-12-01T23:15:07.010377Z"
    }
   },
   "outputs": [],
   "source": [
    "def plot_time_series(dataframe_1, dataframe_2, categories, filename, plot_title, x_title, y_title, y2_title, legend_1_title, legend_2_title, min_date, max_date):\n",
    "    fig, ax1 = plt.subplots(figsize=(15, 10))\n",
    "\n",
    "    colours = plt.cm.viridis_r(np.linspace(0, 1, len(dataframe['response'].unique())))\n",
    "\n",
    "    for i, category in enumerate(categories):\n",
    "        category_data = dataframe_1[dataframe_1['response'] == category]\n",
    "        ax1.plot(category_data['start_date'], category_data['percentage_total_respondents'], \n",
    "                 label=category, linestyle='-', color = colours[i])\n",
    "    ax1.grid(False)\n",
    "\n",
    "    for spine in ax1.spines.values():\n",
    "        spine.set_visible(True)\n",
    "        spine.set_color('black')\n",
    "        \n",
    "    ax1.set_facecolor('white')\n",
    "\n",
    "    ax1.set_xlabel(f'{x_title}')\n",
    "    ax1.set_ylabel(f'{y_title}')\n",
    "\n",
    "    ax1.xaxis.set_major_locator(mdates.MonthLocator())\n",
    "    ax1.xaxis.set_major_formatter(mdates.DateFormatter('%b %Y'))\n",
    "\n",
    "    ax2 = ax1.twinx()\n",
    "\n",
    "    ax2.grid(False)\n",
    "    \n",
    "    ax2.set_facecolor('white')\n",
    "\n",
    "    ax2.plot(dataframe_2['date'], dataframe_2['confirmed_diff'], label=f'{y2_title}', linestyle='--', color='black')\n",
    "    ax2.set_ylabel('Number of COVID Cases Per Day')\n",
    "\n",
    "    ax1.legend(title=f'{legend_1_title}', loc='upper left')\n",
    "    ax2.legend(title=f'{legend_2_title}', loc='upper right')\n",
    "\n",
    "    ax1.xaxis.set_major_locator(mdates.MonthLocator())\n",
    "    ax1.xaxis.set_major_formatter(mdates.DateFormatter('%b %Y'))\n",
    "    ax1.set_xlim([min_date, max_date])\n",
    "    \n",
    "    lockdown_periods = [\n",
    "        ('2020-03-27', '2020-05-10', '1st Lockdown'),\n",
    "        ('2020-11-05', '2020-12-02', '2nd Lockdown'),\n",
    "        ('2021-01-06', '2021-03-08', '3rd Lockdown'),\n",
    "    ]\n",
    "\n",
    "    for start_date, end_date, label in lockdown_periods:\n",
    "        ax1.axvspan(\n",
    "            dt.datetime.strptime(start_date, '%Y-%m-%d'), \n",
    "            dt.datetime.strptime(end_date, '%Y-%m-%d'), \n",
    "            color='gray', alpha=0.3, label=label\n",
    "        )\n",
    "\n",
    "    plt.text(\n",
    "    dt.datetime (2021, 4, 17), 51000,\n",
    "    'Shaded areas\\nrepresent lockdown\\nperiods',\n",
    "    fontsize=10,\n",
    "    color='black',\n",
    "    ha='center',\n",
    "    va='center',\n",
    "    bbox=dict(\n",
    "        facecolor='white',\n",
    "        edgecolor='black',\n",
    "        boxstyle='round,pad=0.5', \n",
    "        alpha=0.3\n",
    "    )\n",
    ")\n",
    "\n",
    "    plt.title(f'{plot_title}')\n",
    "    plt.tight_layout()\n",
    "\n",
    "    plt.savefig(f'{filename}.png', dpi=300)\n",
    "\n",
    "    plt.close('all')"
   ]
  },
  {
   "cell_type": "markdown",
   "id": "5a52965290c69fcf",
   "metadata": {},
   "source": [
    "#### I set the root for the file path for the news_source_figures"
   ]
  },
  {
   "cell_type": "code",
   "execution_count": 50,
   "id": "28c26a1b9df99df8",
   "metadata": {
    "ExecuteTime": {
     "end_time": "2024-12-01T23:15:07.052104Z",
     "start_time": "2024-12-01T23:15:07.050817Z"
    }
   },
   "outputs": [],
   "source": [
    "root_image_path = r'../../8_final_visualisations/misinformation_ofcom/news_sources_figures/'"
   ]
  },
  {
   "cell_type": "markdown",
   "id": "a46571390645ff73",
   "metadata": {},
   "source": [
    "## I also create two functions to filter the dataframe and return minimum and maximum date"
   ]
  },
  {
   "cell_type": "code",
   "execution_count": 51,
   "id": "b2ed7121a93665ea",
   "metadata": {
    "ExecuteTime": {
     "end_time": "2024-12-01T23:15:07.091656Z",
     "start_time": "2024-12-01T23:15:07.090149Z"
    }
   },
   "outputs": [],
   "source": [
    "def filter_dataframe(dataframe, category):\n",
    "    copy_dataframe = dataframe.copy()\n",
    "    copy_dataframe = copy_dataframe[copy_dataframe['response'].isin(category)]\n",
    "    return copy_dataframe"
   ]
  },
  {
   "cell_type": "code",
   "execution_count": 52,
   "id": "c5c936c51edeb118",
   "metadata": {
    "ExecuteTime": {
     "end_time": "2024-12-01T23:15:07.130234Z",
     "start_time": "2024-12-01T23:15:07.128684Z"
    }
   },
   "outputs": [],
   "source": [
    "def return_min_max_date(dataframe):\n",
    "    min_date = dataframe['start_date'].min()\n",
    "    max_date = dataframe['start_date'].max()\n",
    "    return min_date, max_date"
   ]
  },
  {
   "cell_type": "markdown",
   "id": "a9d19897-adb0-495b-8159-e8bf0acc584e",
   "metadata": {},
   "source": [
    "## Plotting the newspaper sources dataframe"
   ]
  },
  {
   "cell_type": "code",
   "execution_count": 53,
   "id": "b8559e220c35df47",
   "metadata": {
    "ExecuteTime": {
     "end_time": "2024-12-01T23:15:07.171214Z",
     "start_time": "2024-12-01T23:15:07.169337Z"
    }
   },
   "outputs": [],
   "source": [
    "newspaper_dataframe = filter_dataframe(sources_used_dataframe, newspapers)"
   ]
  },
  {
   "cell_type": "code",
   "execution_count": 54,
   "id": "1b9cc23102210753",
   "metadata": {
    "ExecuteTime": {
     "end_time": "2024-12-01T23:15:07.211967Z",
     "start_time": "2024-12-01T23:15:07.210363Z"
    }
   },
   "outputs": [],
   "source": [
    "min_date, max_date = return_min_max_date(newspaper_dataframe)"
   ]
  },
  {
   "cell_type": "code",
   "execution_count": 55,
   "id": "5974c2a17c26e5ae",
   "metadata": {
    "ExecuteTime": {
     "end_time": "2024-12-01T23:15:08.153188Z",
     "start_time": "2024-12-01T23:15:07.251281Z"
    }
   },
   "outputs": [],
   "source": [
    "plot_time_series(dataframe_1 = newspaper_dataframe, dataframe_2 = df_no_outliers, categories = newspapers, plot_title = 'Time Series of Newspaper Source Usage and COVID Cases', x_title = 'Date', y_title = 'Percentage of Total Survey Respondents', y2_title = 'Number of COVID Cases Per Day', legend_1_title = 'Percentage of Respondents using Newspaper Source', legend_2_title = 'Number of reported COVID Cases Per Day', filename = f'{root_image_path}newspaper_sources_time_series', min_date = min_date, max_date = max_date)"
   ]
  },
  {
   "cell_type": "markdown",
   "id": "0cb44eb6-20e0-44f8-92eb-373b11b0f2a7",
   "metadata": {},
   "source": [
    "## Plotting the official sources data"
   ]
  },
  {
   "cell_type": "code",
   "execution_count": 56,
   "id": "9cf4d086-a7cf-4772-9823-21cfa7fc2422",
   "metadata": {
    "ExecuteTime": {
     "end_time": "2024-12-01T23:15:08.193477Z",
     "start_time": "2024-12-01T23:15:08.191545Z"
    }
   },
   "outputs": [],
   "source": [
    "official_sources_dataframe = filter_dataframe(sources_used_dataframe, official_sources)"
   ]
  },
  {
   "cell_type": "code",
   "execution_count": 57,
   "id": "92f06fa3-f95e-4c07-ba4c-2119342c9d69",
   "metadata": {
    "ExecuteTime": {
     "end_time": "2024-12-01T23:15:08.232832Z",
     "start_time": "2024-12-01T23:15:08.231313Z"
    }
   },
   "outputs": [],
   "source": [
    "min_date, max_date = return_min_max_date(official_sources_dataframe)"
   ]
  },
  {
   "cell_type": "code",
   "execution_count": 58,
   "id": "e5049ec802494e1e",
   "metadata": {
    "ExecuteTime": {
     "end_time": "2024-12-01T23:15:09.155897Z",
     "start_time": "2024-12-01T23:15:08.270864Z"
    }
   },
   "outputs": [],
   "source": [
    "plot_time_series(dataframe_1 = official_sources_dataframe, dataframe_2 = df_no_outliers, categories = official_sources, plot_title = 'Time Series of Official Source Usage and COVID Cases', x_title = 'Date', y_title = 'Percentage of Total Survey Respondents', y2_title = 'Number of COVID Cases Per Day', legend_1_title = 'Percentage of Respondents using Official Source', legend_2_title = 'Number of reported COVID Cases Per Day', filename = f'{root_image_path}official_sources_time_series', min_date = min_date, max_date = max_date)"
   ]
  },
  {
   "cell_type": "markdown",
   "id": "904aa121-eb59-4c84-9c4f-a19fdbf8dd36",
   "metadata": {},
   "source": [
    "## Plotting the television sources data"
   ]
  },
  {
   "cell_type": "code",
   "execution_count": 59,
   "id": "a1739db2-2b7f-4524-8f21-35984ac95c0a",
   "metadata": {
    "ExecuteTime": {
     "end_time": "2024-12-01T23:15:09.196613Z",
     "start_time": "2024-12-01T23:15:09.194754Z"
    }
   },
   "outputs": [],
   "source": [
    "television_sources_dataframe = filter_dataframe(sources_used_dataframe, television)"
   ]
  },
  {
   "cell_type": "code",
   "execution_count": 60,
   "id": "c09c6964-5f4c-437d-b493-c416f955bf71",
   "metadata": {
    "ExecuteTime": {
     "end_time": "2024-12-01T23:15:09.235827Z",
     "start_time": "2024-12-01T23:15:09.234417Z"
    }
   },
   "outputs": [],
   "source": [
    "min_date, max_date = return_min_max_date(television_sources_dataframe)"
   ]
  },
  {
   "cell_type": "code",
   "execution_count": 61,
   "id": "51c924f7-8735-4d44-abb2-d89bbef6f07e",
   "metadata": {
    "ExecuteTime": {
     "end_time": "2024-12-01T23:15:10.144776Z",
     "start_time": "2024-12-01T23:15:09.274429Z"
    }
   },
   "outputs": [],
   "source": [
    "plot_time_series(dataframe_1 = television_sources_dataframe, dataframe_2 = df_no_outliers, categories = television, plot_title = 'Time Series of Television News Source Usage and COVID Cases', x_title = 'Date', y_title = 'Percentage of Total Survey Respondents', y2_title = 'Number of COVID Cases Per Day', legend_1_title = 'Percentage of Respondents using Television News Source', legend_2_title = 'Number of reported COVID Cases Per Day', filename = f'{root_image_path}television_time_series', min_date = min_date, max_date = max_date)"
   ]
  },
  {
   "cell_type": "markdown",
   "id": "61710b99-00c4-40b6-b337-619e30e81cad",
   "metadata": {},
   "source": [
    "## Plotting the social media source usage"
   ]
  },
  {
   "cell_type": "code",
   "execution_count": 62,
   "id": "d1c199375bfeb449",
   "metadata": {
    "ExecuteTime": {
     "end_time": "2024-12-01T23:15:10.184450Z",
     "start_time": "2024-12-01T23:15:10.182414Z"
    }
   },
   "outputs": [],
   "source": [
    "social_media_dataframe = filter_dataframe(sources_used_dataframe, social_media)"
   ]
  },
  {
   "cell_type": "code",
   "execution_count": 63,
   "id": "71e7f15268e15e74",
   "metadata": {
    "ExecuteTime": {
     "end_time": "2024-12-01T23:15:10.224745Z",
     "start_time": "2024-12-01T23:15:10.223155Z"
    }
   },
   "outputs": [],
   "source": [
    "min_date, max_date = return_min_max_date(social_media_dataframe)"
   ]
  },
  {
   "cell_type": "code",
   "execution_count": 64,
   "id": "58843cfff8fb867f",
   "metadata": {
    "ExecuteTime": {
     "end_time": "2024-12-01T23:15:11.157274Z",
     "start_time": "2024-12-01T23:15:10.263570Z"
    }
   },
   "outputs": [],
   "source": [
    "plot_time_series(dataframe_1 = social_media_dataframe, dataframe_2 = df_no_outliers, categories = social_media, plot_title = 'Time Series of Social Media News Source Usage and COVID Cases', x_title = 'Date', y_title = 'Percentage of Total Survey Respondents', y2_title = 'Number of COVID Cases Per Day', legend_1_title = 'Percentage of Respondents using Social Media News Source', legend_2_title = 'Number of reported COVID Cases Per Day', filename = f'{root_image_path}social_media_time_series', min_date = min_date, max_date = max_date)"
   ]
  },
  {
   "cell_type": "markdown",
   "id": "199e2677dc9cb372",
   "metadata": {},
   "source": [
    "## Plotting the local news source usage\n"
   ]
  },
  {
   "cell_type": "code",
   "execution_count": 65,
   "id": "33932113fc2a286c",
   "metadata": {
    "ExecuteTime": {
     "end_time": "2024-12-01T23:15:11.196597Z",
     "start_time": "2024-12-01T23:15:11.194553Z"
    }
   },
   "outputs": [],
   "source": [
    "local_news_dataframe = filter_dataframe(sources_used_dataframe, local_news)"
   ]
  },
  {
   "cell_type": "code",
   "execution_count": 66,
   "id": "2fb4969895e72248",
   "metadata": {
    "ExecuteTime": {
     "end_time": "2024-12-01T23:15:11.234693Z",
     "start_time": "2024-12-01T23:15:11.233267Z"
    }
   },
   "outputs": [],
   "source": [
    "min_date, max_date = return_min_max_date(local_news_dataframe)"
   ]
  },
  {
   "cell_type": "code",
   "execution_count": 67,
   "id": "82e61e3a5ed12259",
   "metadata": {
    "ExecuteTime": {
     "end_time": "2024-12-01T23:15:12.200320Z",
     "start_time": "2024-12-01T23:15:11.277009Z"
    }
   },
   "outputs": [],
   "source": [
    "plot_time_series(dataframe_1 = local_news_dataframe, dataframe_2 = df_no_outliers, categories = local_news, plot_title = 'Time Series of Local News Source Usage and COVID Cases', x_title = 'Date', y_title = 'Percentage of Total Survey Respondents (%)', y2_title = 'Number of COVID Cases Per Day', legend_1_title = 'Percentage of Respondents using Local News Source', legend_2_title = 'Number of reported COVID Cases Per Day', filename = f'{root_image_path}local_news_time_series', min_date = min_date, max_date = max_date)"
   ]
  },
  {
   "cell_type": "code",
   "execution_count": 68,
   "id": "bf788b7e-b4cb-45b6-9d20-ed1412aadc57",
   "metadata": {},
   "outputs": [],
   "source": [
    "## I created a pie chart plotting function which can be called in a similar manner to save time when plotting these graphs and to add consistency to the layout"
   ]
  },
  {
   "cell_type": "code",
   "execution_count": 69,
   "id": "80df7dba-88b4-477d-954f-12bf94f26fb3",
   "metadata": {
    "ExecuteTime": {
     "end_time": "2024-12-01T23:15:12.483582Z",
     "start_time": "2024-12-01T23:15:12.481544Z"
    }
   },
   "outputs": [],
   "source": [
    "def plot_pie_chart(data, labels, output_file, title, colorscheme='viridis', explode_index=0, figsize=(16, 12)):\n",
    "\n",
    "    plt.figure(figsize=figsize)\n",
    "\n",
    "    colors = plt.colormaps.get_cmap(colorscheme)(np.linspace(0, 0.95, len(labels)))\n",
    "\n",
    "    viridis_colors = plt.cm.viridis(np.linspace(0, 0.95, 16))\n",
    "\n",
    "\n",
    "    explosion = np.zeros(len(data))\n",
    "    explosion[explode_index] = 0.1\n",
    "\n",
    "    _, _, autotexts = plt.pie(\n",
    "        data,\n",
    "        labels=labels,\n",
    "        colors=colors,\n",
    "        autopct='%1.1f%%',\n",
    "        startangle=140,\n",
    "        labeldistance=1.1,\n",
    "        explode=explosion\n",
    "\n",
    "    )\n",
    "\n",
    "    for autotext in autotexts:\n",
    "        autotext.set_color('white')\n",
    "\n",
    "    plt.title(title, fontsize=14)\n",
    "\n",
    "    plt.tight_layout()\n",
    "\n",
    "    plt.savefig(output_file, dpi=300)\n",
    "\n",
    "    plt.close('all')"
   ]
  },
  {
   "cell_type": "markdown",
   "id": "95aff782-5552-4ecc-a8af-4906ac015bd5",
   "metadata": {},
   "source": [
    "# 5. Most important news source"
   ]
  },
  {
   "cell_type": "code",
   "execution_count": 70,
   "id": "b0c6f816-4491-4962-b4fd-35f493150d2b",
   "metadata": {
    "ExecuteTime": {
     "end_time": "2024-12-01T23:15:12.367701Z",
     "start_time": "2024-12-01T23:15:12.366200Z"
    }
   },
   "outputs": [],
   "source": [
    "most_important_source_dataframe = ofcom_dataframes['most_important_source_used_in_last_week']"
   ]
  },
  {
   "cell_type": "markdown",
   "id": "688c0b2a-1462-4605-8a12-92172a396fcb",
   "metadata": {},
   "source": [
    "## Pie chart of all source frequencies"
   ]
  },
  {
   "cell_type": "markdown",
   "id": "f3fb0799-5e9c-48dc-b945-60239d32056d",
   "metadata": {},
   "source": [
    "## I plotted the pie chart for the sources described as most important, I ran into some challenges when plotting as there were so many graphs I therefore played around with groupings to find the combination which allowed me to see meaningful data without combining too many of the smaller columns:"
   ]
  },
  {
   "cell_type": "code",
   "execution_count": 71,
   "id": "226fc858-886e-4150-95f2-76551b5eca02",
   "metadata": {
    "ExecuteTime": {
     "end_time": "2024-12-01T23:15:12.509412Z",
     "start_time": "2024-12-01T23:15:12.506945Z"
    }
   },
   "outputs": [],
   "source": [
    "source_frequency = most_important_source_dataframe.copy()"
   ]
  },
  {
   "cell_type": "code",
   "execution_count": 72,
   "id": "581402a1-d273-4236-9d00-a80a66d8626f",
   "metadata": {
    "ExecuteTime": {
     "end_time": "2024-12-01T23:15:12.569758Z",
     "start_time": "2024-12-01T23:15:12.567195Z"
    }
   },
   "outputs": [],
   "source": [
    "source_frequency = source_frequency[['response', 'total']]"
   ]
  },
  {
   "cell_type": "code",
   "execution_count": 73,
   "id": "c577b0f0-b558-40c5-a257-456da06f7818",
   "metadata": {
    "ExecuteTime": {
     "end_time": "2024-12-01T23:15:12.619854Z",
     "start_time": "2024-12-01T23:15:12.617477Z"
    }
   },
   "outputs": [],
   "source": [
    "source_frequency = source_frequency.groupby('response').sum()"
   ]
  },
  {
   "cell_type": "code",
   "execution_count": 74,
   "id": "d040d96c-7048-4430-b3c7-31f2011c2903",
   "metadata": {
    "ExecuteTime": {
     "end_time": "2024-12-01T23:15:12.667500Z",
     "start_time": "2024-12-01T23:15:12.665609Z"
    }
   },
   "outputs": [],
   "source": [
    "source_frequency = source_frequency[~source_frequency.index.str.contains('NET:|Weighted base|Unweighted base')]"
   ]
  },
  {
   "cell_type": "code",
   "execution_count": 75,
   "id": "222b3576-bb6e-4623-832f-c0eca36a1089",
   "metadata": {
    "ExecuteTime": {
     "end_time": "2024-12-01T23:15:12.711400Z",
     "start_time": "2024-12-01T23:15:12.709435Z"
    }
   },
   "outputs": [],
   "source": [
    "source_frequency = source_frequency.sort_values(by='total', ascending = False)"
   ]
  },
  {
   "cell_type": "code",
   "execution_count": 76,
   "id": "9369511d-4e22-4861-90cd-674bb5493f6d",
   "metadata": {
    "ExecuteTime": {
     "end_time": "2024-12-01T23:15:12.755798Z",
     "start_time": "2024-12-01T23:15:12.754401Z"
    }
   },
   "outputs": [],
   "source": [
    "biggest_news_sources = source_frequency[:15]"
   ]
  },
  {
   "cell_type": "code",
   "execution_count": 77,
   "id": "17dc1324-9eb5-404a-9fcb-39a5c536095d",
   "metadata": {
    "ExecuteTime": {
     "end_time": "2024-12-01T23:15:12.801110Z",
     "start_time": "2024-12-01T23:15:12.799401Z"
    }
   },
   "outputs": [],
   "source": [
    "other = source_frequency[15:]\n",
    "other_total = other.sum().item()   "
   ]
  },
  {
   "cell_type": "code",
   "execution_count": 78,
   "id": "dfb1ec06-0725-40ad-9e00-9cd46d0b741d",
   "metadata": {
    "ExecuteTime": {
     "end_time": "2024-12-01T23:15:12.845110Z",
     "start_time": "2024-12-01T23:15:12.843583Z"
    }
   },
   "outputs": [],
   "source": [
    "current_other_row = biggest_news_sources.loc['Other']"
   ]
  },
  {
   "cell_type": "code",
   "execution_count": 79,
   "id": "7681cf93-371d-4e6a-8019-42f73a361a5b",
   "metadata": {
    "ExecuteTime": {
     "end_time": "2024-12-01T23:15:12.889029Z",
     "start_time": "2024-12-01T23:15:12.887624Z"
    }
   },
   "outputs": [],
   "source": [
    "current_other_row_total = current_other_row.iloc[0].item()"
   ]
  },
  {
   "cell_type": "code",
   "execution_count": 80,
   "id": "b648d336-3b24-434d-9e34-9e282af73afd",
   "metadata": {
    "ExecuteTime": {
     "end_time": "2024-12-01T23:15:12.931308Z",
     "start_time": "2024-12-01T23:15:12.929889Z"
    }
   },
   "outputs": [],
   "source": [
    "current_other_row['total'] = other_total + current_other_row_total"
   ]
  },
  {
   "cell_type": "code",
   "execution_count": 81,
   "id": "a8672653-02c3-4b94-9e5c-ab476c9f2d9d",
   "metadata": {
    "ExecuteTime": {
     "end_time": "2024-12-01T23:15:12.974717Z",
     "start_time": "2024-12-01T23:15:12.973115Z"
    }
   },
   "outputs": [],
   "source": [
    "biggest_news_sources = biggest_news_sources.sort_values(by='total', ascending = False)"
   ]
  },
  {
   "cell_type": "code",
   "execution_count": 82,
   "id": "5c505eec-cb5f-4350-b5ae-297e8507b7bb",
   "metadata": {
    "ExecuteTime": {
     "end_time": "2024-12-01T23:15:13.017355Z",
     "start_time": "2024-12-01T23:15:13.015898Z"
    }
   },
   "outputs": [],
   "source": [
    "data = biggest_news_sources['total']"
   ]
  },
  {
   "cell_type": "code",
   "execution_count": 83,
   "id": "fdd0ca70-8888-4dfe-be08-6f9b765e0ffe",
   "metadata": {
    "ExecuteTime": {
     "end_time": "2024-12-01T23:15:13.059851Z",
     "start_time": "2024-12-01T23:15:13.058517Z"
    }
   },
   "outputs": [],
   "source": [
    "output_filepath = rf'../../8_final_visualisations/misinformation_ofcom/news_sources_figures/all_sources_piechart.png'"
   ]
  },
  {
   "cell_type": "code",
   "execution_count": 84,
   "id": "58278cfd-aa32-4d93-a59d-3836568f82c4",
   "metadata": {
    "ExecuteTime": {
     "end_time": "2024-12-01T23:15:13.101991Z",
     "start_time": "2024-12-01T23:15:13.100649Z"
    }
   },
   "outputs": [],
   "source": [
    "title = \"Percieved Most Important News Sources During the Pandemic (All Sources)\""
   ]
  },
  {
   "cell_type": "code",
   "execution_count": 85,
   "id": "ad17d3db-3167-4d3c-a54a-c5114b2c7a58",
   "metadata": {
    "ExecuteTime": {
     "end_time": "2024-12-01T23:15:13.143455Z",
     "start_time": "2024-12-01T23:15:13.142058Z"
    }
   },
   "outputs": [],
   "source": [
    "explosion = np.zeros(len(biggest_news_sources['total']))\n",
    "explosion[0] = 0.1"
   ]
  },
  {
   "cell_type": "code",
   "execution_count": 86,
   "id": "30414e31-0032-4d0f-afb5-3e5715082f65",
   "metadata": {
    "ExecuteTime": {
     "end_time": "2024-12-01T23:15:14.330827Z",
     "start_time": "2024-12-01T23:15:13.185211Z"
    }
   },
   "outputs": [],
   "source": [
    "plot_pie_chart(\n",
    "    data=data, \n",
    "    labels = biggest_news_sources.index, \n",
    "    output_file = output_filepath, \n",
    "    title = title, \n",
    "    colorscheme='viridis', \n",
    "    explode_index=0, \n",
    "    figsize=(16, 12))"
   ]
  },
  {
   "cell_type": "markdown",
   "id": "3789d54e-64aa-475f-978a-3b69cbab26c8",
   "metadata": {},
   "source": [
    "## Trial plotting with enhanced graphical appearence "
   ]
  },
  {
   "cell_type": "code",
   "execution_count": 87,
   "id": "80bffd1b-ac3f-435b-9998-ded260e67651",
   "metadata": {},
   "outputs": [
    {
     "data": {
      "text/plain": [
       "Index(['BBC - TV', 'Other', 'BBC - Online/ app', 'Sky', 'ITV', 'BBC - Radio',\n",
       "       'Direct from NHS website/ email/ text/ post',\n",
       "       'Websites or apps that bring together news from different news providers',\n",
       "       'Direct from UK Government website/ email/ text/ post',\n",
       "       '“Broadsheets” such as The Times or Guardian ( online )', 'Facebook',\n",
       "       'Search engine (e.g. Google)', 'Family and friends directly', 'Twitter',\n",
       "       'Direct from Government website/ email/ text/ post'],\n",
       "      dtype='object', name='response')"
      ]
     },
     "execution_count": 87,
     "metadata": {},
     "output_type": "execute_result"
    }
   ],
   "source": [
    "biggest_news_sources.index"
   ]
  },
  {
   "cell_type": "code",
   "execution_count": 88,
   "id": "7c78a5f1-6908-4775-8bfb-1f0c7d6ceae7",
   "metadata": {},
   "outputs": [],
   "source": [
    "biggest_news_sources.rename(index={\"Direct from NHS website/ email/ text/ post\": \"NHS website/ email/ text/ post\",\n",
    "                                   \"Websites or apps that bring together news from different news providers\": \"Aggregated news platforms\",\n",
    "                                   \"Direct from UK Government website/ email/ text/ post\": \"UK Government website/ email/ text/ post\",\n",
    "                                   '“Broadsheets” such as The Times or Guardian ( online )': '“Broadsheets” ( online )',\n",
    "                                    \"Search engine (e.g. Google)\": \"Search engines\",\n",
    "                                   \"Direct from Government website/ email/ text/ post\": \"Government website/ email/ text/ post\",\n",
    "                                  }, inplace=True)\n"
   ]
  },
  {
   "cell_type": "code",
   "execution_count": 89,
   "id": "393f1dbf-f416-4833-998f-cfb49aedfd85",
   "metadata": {},
   "outputs": [],
   "source": [
    "plt.figure(figsize=(16, 12))\n",
    "\n",
    "colors = plt.colormaps.get_cmap('viridis')(np.linspace(0, 0.95, len(biggest_news_sources)))\n",
    "\n",
    "viridis_colors = plt.cm.viridis(np.linspace(0, 0.95, 16))\n",
    "\n",
    "wedges, texts, autotexts = plt.pie(\n",
    "    data,\n",
    "    labels=biggest_news_sources.index,\n",
    "    colors=colors,\n",
    "    autopct='%1.1f%%',\n",
    "    startangle=140,\n",
    "    labeldistance=1.06,\n",
    ")\n",
    "\n",
    "for autotext in autotexts:\n",
    "    autotext.set_color('white')\n",
    "    autotext.set_fontweight('bold')\n",
    "    autotext.set_fontweight('bold')\n",
    "    autotext.set_fontsize(10)  \n",
    "\n",
    "for text, color in zip(texts, colors):\n",
    "    text.set_fontweight('bold')\n",
    "    text.set_fontsize(12)       \n",
    "    text.set_color(color) \n",
    "\n",
    "plt.text(-1.25, -1.3,\"Preferred News Sources During COVID-19\", fontsize=30, color='black', fontweight = 'bold')\n",
    "\n",
    "plt.text(-1.25, -1.15, 'Source:', fontsize=12, color='black', fontweight = 'bold')\n",
    "plt.text(-1.08, -1.15, 'OFCOM Covid-19 news and information, consumption and attitudes.', fontsize=12, color='black')\n",
    "plt.text(-1.25, -1.20, 'Metric:', fontsize=12, color='black', fontweight = 'bold')\n",
    "plt.text(-1.09, -1.20, 'Most important news sources.', fontsize=12, color='black')\n",
    "\n",
    "plt.tight_layout()\n",
    "\n",
    "plt.savefig(r'../../8_final_visualisations/misinformation_ofcom/news_sources_figures/news_sources_updated_visual', dpi=300)\n",
    "\n",
    "plt.close('all')"
   ]
  },
  {
   "cell_type": "markdown",
   "id": "c15b5b59-b250-4101-800d-a79b4b79e030",
   "metadata": {},
   "source": [
    "## Pie Chart for grouped source frequencies"
   ]
  },
  {
   "cell_type": "code",
   "execution_count": 90,
   "id": "1255a488-2cf7-42d2-94d4-d534cff80436",
   "metadata": {
    "ExecuteTime": {
     "end_time": "2024-12-01T23:15:14.424842Z",
     "start_time": "2024-12-01T23:15:14.422990Z"
    }
   },
   "outputs": [],
   "source": [
    "net_information_sources_most_important = most_important_source_dataframe.copy()"
   ]
  },
  {
   "cell_type": "code",
   "execution_count": 91,
   "id": "e41af0bc-c707-43cc-9092-0364660bbbbd",
   "metadata": {
    "ExecuteTime": {
     "end_time": "2024-12-01T23:15:14.472782Z",
     "start_time": "2024-12-01T23:15:14.470585Z"
    }
   },
   "outputs": [],
   "source": [
    "net_information_sources_most_important = net_information_sources_most_important[['response', 'total']]"
   ]
  },
  {
   "cell_type": "code",
   "execution_count": 92,
   "id": "cd9ace81-5d2a-459e-ac44-c73441470763",
   "metadata": {
    "ExecuteTime": {
     "end_time": "2024-12-01T23:15:14.518228Z",
     "start_time": "2024-12-01T23:15:14.516126Z"
    }
   },
   "outputs": [],
   "source": [
    "net_information_sources_most_important = net_information_sources_most_important.groupby('response').sum()"
   ]
  },
  {
   "cell_type": "code",
   "execution_count": 93,
   "id": "98677da1-f379-40bf-a57d-be3354ae46c3",
   "metadata": {
    "ExecuteTime": {
     "end_time": "2024-12-01T23:15:14.632310Z",
     "start_time": "2024-12-01T23:15:14.629906Z"
    }
   },
   "outputs": [],
   "source": [
    "net_information_sources_most_important = net_information_sources_most_important[net_information_sources_most_important.index.str.contains('NET:')]"
   ]
  },
  {
   "cell_type": "code",
   "execution_count": 94,
   "id": "68ba84bd-4c5f-4bc7-a23f-eaa547aa6e2b",
   "metadata": {
    "ExecuteTime": {
     "end_time": "2024-12-01T23:15:14.680718Z",
     "start_time": "2024-12-01T23:15:14.678719Z"
    }
   },
   "outputs": [],
   "source": [
    "net_information_sources_most_important = net_information_sources_most_important.sort_values(by='total', ascending = False)"
   ]
  },
  {
   "cell_type": "code",
   "execution_count": 95,
   "id": "0d426f0d-cd56-4d71-8d30-26a78563484f",
   "metadata": {
    "ExecuteTime": {
     "end_time": "2024-12-01T23:15:14.727791Z",
     "start_time": "2024-12-01T23:15:14.725756Z"
    }
   },
   "outputs": [],
   "source": [
    "net_information_sources_most_important = net_information_sources_most_important[~net_information_sources_most_important.index.isin(['NET: Offline', 'NET: Closed groups', 'NET: WhatsApp (WhatsApp and WhatsApp groups)'])]"
   ]
  },
  {
   "cell_type": "code",
   "execution_count": 96,
   "id": "ed660759-7291-4dd0-bd88-cc4eac83b349",
   "metadata": {
    "ExecuteTime": {
     "end_time": "2024-12-01T23:15:14.774073Z",
     "start_time": "2024-12-01T23:15:14.772009Z"
    }
   },
   "outputs": [],
   "source": [
    "data = net_information_sources_most_important['total']"
   ]
  },
  {
   "cell_type": "code",
   "execution_count": 97,
   "id": "819aecb4-90b7-4a38-a443-8fa6e1ca20c2",
   "metadata": {
    "ExecuteTime": {
     "end_time": "2024-12-01T23:15:14.820660Z",
     "start_time": "2024-12-01T23:15:14.818973Z"
    }
   },
   "outputs": [],
   "source": [
    "output_file = r'../../8_final_visualisations/misinformation_ofcom/news_sources_figures/net_most_important_piechart.png'"
   ]
  },
  {
   "cell_type": "code",
   "execution_count": 98,
   "id": "f66db177-e902-46bd-85df-8b82912d56de",
   "metadata": {
    "ExecuteTime": {
     "end_time": "2024-12-01T23:15:14.866114Z",
     "start_time": "2024-12-01T23:15:14.864682Z"
    }
   },
   "outputs": [],
   "source": [
    "title = \"Percieved Most Important News Sources During the Pandemic (Grouped Sources)\""
   ]
  },
  {
   "cell_type": "code",
   "execution_count": 99,
   "id": "bac58cbe-42ef-4562-94b6-ee596e1bf3b0",
   "metadata": {
    "ExecuteTime": {
     "end_time": "2024-12-01T23:15:16.007664Z",
     "start_time": "2024-12-01T23:15:14.910219Z"
    }
   },
   "outputs": [],
   "source": [
    "plot_pie_chart(\n",
    "    data=data, \n",
    "    labels = net_information_sources_most_important.index, \n",
    "    output_file = output_file, \n",
    "    title = title, \n",
    "    colorscheme='viridis', \n",
    "    explode_index=0, \n",
    "    figsize=(16, 12))\n",
    "\n",
    "plt.close('all')"
   ]
  },
  {
   "cell_type": "markdown",
   "id": "e66f97f7-9d15-4e8f-b301-3a6bc6ee7f4d",
   "metadata": {},
   "source": [
    "## Time series graphs of change in grouped information sources over time"
   ]
  },
  {
   "cell_type": "code",
   "execution_count": 100,
   "id": "25b3a2d8-e6da-4b68-933e-ac80b81bfb5f",
   "metadata": {
    "ExecuteTime": {
     "end_time": "2024-12-01T23:15:16.234159Z",
     "start_time": "2024-12-01T23:15:16.099695Z"
    }
   },
   "outputs": [],
   "source": [
    "most_important_source_dataframe = calculate_percentage(most_important_source_dataframe)"
   ]
  },
  {
   "cell_type": "code",
   "execution_count": 101,
   "id": "e5e51b6b-2f87-4d11-898c-cc97b1c93874",
   "metadata": {
    "ExecuteTime": {
     "end_time": "2024-12-01T23:15:16.275131Z",
     "start_time": "2024-12-01T23:15:16.273367Z"
    }
   },
   "outputs": [],
   "source": [
    "most_important_source_dataframe = most_important_source_dataframe[~most_important_source_dataframe['response'].isin(['Unweighted base', 'NET: At least once a day', 'Weighted base'])]"
   ]
  },
  {
   "cell_type": "markdown",
   "id": "68593373-0262-4bf2-9cb7-9bb40fba3eb0",
   "metadata": {},
   "source": [
    "## Local News information sources"
   ]
  },
  {
   "cell_type": "code",
   "execution_count": 102,
   "id": "62c58867-dd63-48f3-9e1a-f6b27fe90a42",
   "metadata": {
    "ExecuteTime": {
     "end_time": "2024-12-01T23:15:16.315292Z",
     "start_time": "2024-12-01T23:15:16.313128Z"
    }
   },
   "outputs": [],
   "source": [
    "local_news_dataframe = filter_dataframe(most_important_source_dataframe, local_news)"
   ]
  },
  {
   "cell_type": "code",
   "execution_count": 103,
   "id": "21ce26c0-89b3-44a5-a459-89a172046f7a",
   "metadata": {
    "ExecuteTime": {
     "end_time": "2024-12-01T23:15:16.355238Z",
     "start_time": "2024-12-01T23:15:16.353762Z"
    }
   },
   "outputs": [],
   "source": [
    "min_date, max_date = return_min_max_date(local_news_dataframe)"
   ]
  },
  {
   "cell_type": "code",
   "execution_count": 104,
   "id": "842881b6-1eef-4ddd-ad36-9c1dc3bb8809",
   "metadata": {
    "ExecuteTime": {
     "end_time": "2024-12-01T23:15:17.537380Z",
     "start_time": "2024-12-01T23:15:16.394163Z"
    }
   },
   "outputs": [],
   "source": [
    "plot_time_series(dataframe_1 = local_news_dataframe, dataframe_2 = df_no_outliers, categories = local_news, plot_title = 'Time Series of Respondants Considering Each Local News Source as The Most Important and COVID Cases', x_title = 'Date', y_title = 'Percentage of Total Survey Respondents (%)', y2_title = 'Number of COVID Cases Per Day', legend_1_title = 'Percentage of Respondents considering Local News Source Most Important', legend_2_title = 'Number of reported COVID Cases Per Day', filename = f'{root_image_path}most_important_local_news_time_series', min_date = min_date, max_date = max_date)"
   ]
  },
  {
   "cell_type": "markdown",
   "id": "db38b9c4-adf7-44ea-b479-201185e39120",
   "metadata": {},
   "source": [
    "## Newspaper information sources"
   ]
  },
  {
   "cell_type": "code",
   "execution_count": 105,
   "id": "c3233a5a-ef1c-46b3-9093-8869eda4867a",
   "metadata": {
    "ExecuteTime": {
     "end_time": "2024-12-01T23:15:17.588662Z",
     "start_time": "2024-12-01T23:15:17.585204Z"
    }
   },
   "outputs": [],
   "source": [
    "newspapers_dataframe = filter_dataframe(most_important_source_dataframe, newspapers)"
   ]
  },
  {
   "cell_type": "code",
   "execution_count": 106,
   "id": "72e47821-4e74-422c-8a68-0d61c9d5951e",
   "metadata": {
    "ExecuteTime": {
     "end_time": "2024-12-01T23:15:17.677241Z",
     "start_time": "2024-12-01T23:15:17.674228Z"
    }
   },
   "outputs": [],
   "source": [
    "min_date, max_date = return_min_max_date(newspapers_dataframe)"
   ]
  },
  {
   "cell_type": "code",
   "execution_count": 107,
   "id": "4412c018-f681-4950-826b-c10dc1bba809",
   "metadata": {
    "ExecuteTime": {
     "end_time": "2024-12-01T23:15:18.747690Z",
     "start_time": "2024-12-01T23:15:17.682937Z"
    }
   },
   "outputs": [],
   "source": [
    "plot_time_series(dataframe_1 = newspapers_dataframe, dataframe_2 = df_no_outliers, categories = newspapers, plot_title = 'Time Series of Respondants Considering Newspaper Source as The Most Important and COVID Cases', x_title = 'Date', y_title = 'Percentage of Total Survey Respondents (%)', y2_title = 'Number of COVID Cases Per Day', legend_1_title = 'Percentage of Respondents considering Newspaper Source Most Important', legend_2_title = 'Number of reported COVID Cases Per Day', filename = f'{root_image_path}most_important_newspaper_time_series', min_date = min_date, max_date = max_date)"
   ]
  },
  {
   "cell_type": "markdown",
   "id": "dfc5d3ae-d727-4adc-b6c3-9641a25ff297",
   "metadata": {},
   "source": [
    "## Official information sources"
   ]
  },
  {
   "cell_type": "code",
   "execution_count": 108,
   "id": "956fe58c-11fe-450e-bad0-1bd10f590151",
   "metadata": {
    "ExecuteTime": {
     "end_time": "2024-12-01T23:15:18.803924Z",
     "start_time": "2024-12-01T23:15:18.801590Z"
    }
   },
   "outputs": [],
   "source": [
    "official_sources_dataframe = filter_dataframe(most_important_source_dataframe, official_sources)"
   ]
  },
  {
   "cell_type": "code",
   "execution_count": 109,
   "id": "9e9d509d-662e-4975-bec4-b438d0eb5783",
   "metadata": {
    "ExecuteTime": {
     "end_time": "2024-12-01T23:15:18.847275Z",
     "start_time": "2024-12-01T23:15:18.845743Z"
    }
   },
   "outputs": [],
   "source": [
    "min_date, max_date = return_min_max_date(official_sources_dataframe)"
   ]
  },
  {
   "cell_type": "code",
   "execution_count": 110,
   "id": "d6e051cf-be3b-4b41-a091-3c96cec56298",
   "metadata": {
    "ExecuteTime": {
     "end_time": "2024-12-01T23:15:19.811709Z",
     "start_time": "2024-12-01T23:15:18.886620Z"
    }
   },
   "outputs": [],
   "source": [
    "plot_time_series(dataframe_1 = official_sources_dataframe, dataframe_2 = df_no_outliers, categories = official_sources, plot_title = 'Time Series of Respondants Considering Official Source as The Most Important and COVID Cases', x_title = 'Date', y_title = 'Percentage of Total Survey Respondents (%)', y2_title = 'Number of COVID Cases Per Day', legend_1_title = 'Percentage of Respondents considering Official Source Most Important', legend_2_title = 'Number of reported COVID Cases Per Day', filename = f'{root_image_path}most_important_official_source_time_series', min_date = min_date, max_date = max_date)"
   ]
  },
  {
   "cell_type": "markdown",
   "id": "fb0a6dbd-b94f-4b7d-a0e2-b7742ec38379",
   "metadata": {},
   "source": [
    "## Television Information Sources"
   ]
  },
  {
   "cell_type": "code",
   "execution_count": 111,
   "id": "0a3a93e6-b844-4d39-904f-71b99c2dc204",
   "metadata": {
    "ExecuteTime": {
     "end_time": "2024-12-01T23:15:19.852834Z",
     "start_time": "2024-12-01T23:15:19.850655Z"
    }
   },
   "outputs": [],
   "source": [
    "television_sources_dataframe = filter_dataframe(most_important_source_dataframe, television)"
   ]
  },
  {
   "cell_type": "code",
   "execution_count": 112,
   "id": "fd54ce0c-3352-42e0-95ae-f31b569da31b",
   "metadata": {
    "ExecuteTime": {
     "end_time": "2024-12-01T23:15:19.892876Z",
     "start_time": "2024-12-01T23:15:19.891345Z"
    }
   },
   "outputs": [],
   "source": [
    "min_date, max_date = return_min_max_date(television_sources_dataframe)"
   ]
  },
  {
   "cell_type": "code",
   "execution_count": 113,
   "id": "73f55dcd-b10c-4c75-a2d4-21636fa8b1da",
   "metadata": {
    "ExecuteTime": {
     "end_time": "2024-12-01T23:15:20.797733Z",
     "start_time": "2024-12-01T23:15:19.931292Z"
    }
   },
   "outputs": [],
   "source": [
    "plot_time_series(dataframe_1 = television_sources_dataframe, dataframe_2 = df_no_outliers, categories = television, plot_title = 'Time Series of Respondants Considering Television Source as The Most Important and COVID Cases', x_title = 'Date', y_title = 'Percentage of Total Survey Respondents (%)', y2_title = 'Number of COVID Cases Per Day', legend_1_title = 'Percentage of Respondents considering Television Source Most Important', legend_2_title = 'Number of reported COVID Cases Per Day', filename = f'{root_image_path}most_important_official_source_time_series', min_date = min_date, max_date = max_date)"
   ]
  },
  {
   "cell_type": "markdown",
   "id": "8775dcfb-0c2d-429b-b161-9b45ee44a602",
   "metadata": {},
   "source": [
    "## Social Media"
   ]
  },
  {
   "cell_type": "code",
   "execution_count": 114,
   "id": "2243483c-40b6-45e0-a169-51e2e2a9633e",
   "metadata": {
    "ExecuteTime": {
     "end_time": "2024-12-01T23:15:20.840890Z",
     "start_time": "2024-12-01T23:15:20.838919Z"
    }
   },
   "outputs": [],
   "source": [
    "social_media_sources_dataframe = filter_dataframe(most_important_source_dataframe, social_media)"
   ]
  },
  {
   "cell_type": "code",
   "execution_count": 115,
   "id": "6386311a-8004-490c-95c7-549c94a8e3be",
   "metadata": {
    "ExecuteTime": {
     "end_time": "2024-12-01T23:15:20.881394Z",
     "start_time": "2024-12-01T23:15:20.879944Z"
    }
   },
   "outputs": [],
   "source": [
    "min_date, max_date = return_min_max_date(social_media_sources_dataframe)"
   ]
  },
  {
   "cell_type": "code",
   "execution_count": 116,
   "id": "ab290e79-0a35-483b-8502-dda5ceeccce0",
   "metadata": {
    "ExecuteTime": {
     "end_time": "2024-12-01T23:15:21.972827Z",
     "start_time": "2024-12-01T23:15:20.921141Z"
    }
   },
   "outputs": [],
   "source": [
    "plot_time_series(dataframe_1 = social_media_sources_dataframe, dataframe_2 = df_no_outliers, categories = social_media, plot_title = 'Time Series of Respondants Considering Television Source as The Most Important and COVID Cases', x_title = 'Date', y_title = 'Percentage of Total Survey Respondents (%)', y2_title = 'Number of COVID Cases Per Day', legend_1_title = 'Percentage of Respondents considering Social Media Source Most Important', legend_2_title = 'Number of reported COVID Cases Per Day', filename = f'{root_image_path}most_important_social_media_source_time_series', min_date = min_date, max_date = max_date)"
   ]
  },
  {
   "cell_type": "markdown",
   "id": "d96b959e-eee6-449b-87d1-697378ea9876",
   "metadata": {},
   "source": [
    "## 6. Trust in the news"
   ]
  },
  {
   "cell_type": "code",
   "execution_count": 117,
   "id": "62aa3f87-3a2e-4d4e-a4ca-70c8c4480708",
   "metadata": {
    "ExecuteTime": {
     "end_time": "2024-12-01T23:15:22.015751Z",
     "start_time": "2024-12-01T23:15:22.014343Z"
    }
   },
   "outputs": [],
   "source": [
    "trust_in_source_dataframe = ofcom_dataframes['trust_in_the_sources_for_informationnews_about_coronavirus_used_in_last_week']"
   ]
  },
  {
   "cell_type": "code",
   "execution_count": 118,
   "id": "5c0692b7-45e2-4751-ab36-6a97ef8dfd33",
   "metadata": {
    "ExecuteTime": {
     "end_time": "2024-12-01T23:15:22.080100Z",
     "start_time": "2024-12-01T23:15:22.058242Z"
    }
   },
   "outputs": [],
   "source": [
    "trust_in_source_dataframe = calculate_percentage(trust_in_source_dataframe)"
   ]
  },
  {
   "cell_type": "code",
   "execution_count": 119,
   "id": "c9efbc3a-3915-4856-9416-085afc2a425b",
   "metadata": {
    "ExecuteTime": {
     "end_time": "2024-12-01T23:15:22.120334Z",
     "start_time": "2024-12-01T23:15:22.118518Z"
    }
   },
   "outputs": [],
   "source": [
    "trust_in_source_dataframe = trust_in_source_dataframe[~trust_in_source_dataframe['response'].isin(['Unweighted base', 'Weighted base', 'NET: Trust', 'NET: Do not trust', 'Mean', 'Standard deviation Standard error'])]"
   ]
  },
  {
   "cell_type": "code",
   "execution_count": 120,
   "id": "694d5f80-d701-4a14-b8b5-12513a52e7d2",
   "metadata": {
    "ExecuteTime": {
     "end_time": "2024-12-01T23:15:22.162801Z",
     "start_time": "2024-12-01T23:15:22.160822Z"
    }
   },
   "outputs": [],
   "source": [
    "min_date, max_date = return_min_max_date(trust_in_source_dataframe)"
   ]
  },
  {
   "cell_type": "code",
   "execution_count": 121,
   "id": "17996d50-0111-4f6d-af77-d0bb18ac9ca7",
   "metadata": {
    "ExecuteTime": {
     "end_time": "2024-12-01T23:15:22.205758Z",
     "start_time": "2024-12-01T23:15:22.204255Z"
    }
   },
   "outputs": [],
   "source": [
    "categories = trust_in_source_dataframe['response'].unique()"
   ]
  },
  {
   "cell_type": "code",
   "execution_count": 122,
   "id": "d7a6e5d0-0216-4844-a061-a45e71ac7de6",
   "metadata": {
    "ExecuteTime": {
     "end_time": "2024-12-01T23:15:23.185251Z",
     "start_time": "2024-12-01T23:15:22.247065Z"
    }
   },
   "outputs": [],
   "source": [
    "plot_time_series(dataframe_1 = trust_in_source_dataframe, dataframe_2 = df_no_outliers, categories = categories, plot_title = 'Time Series of Trust in News Sources and COVID Cases', x_title = 'Date', y_title = 'Percentage of Total Survey Respondents (%)', y2_title = 'Number of COVID Cases Per Day', legend_1_title = 'Percentage of Respondents and their Trust Rating', legend_2_title = 'Number of reported COVID Cases Per Day', filename = f'{root_image_path}trust_in_news_source_time_series', min_date = min_date, max_date = max_date)"
   ]
  },
  {
   "cell_type": "markdown",
   "id": "504cdf4a-b2d4-4a80-aec0-5bff7b30416a",
   "metadata": {},
   "source": [
    "## 7. Frequency of Exposure to misinformation \n",
    "### Exposure to misinformation over the pandemic"
   ]
  },
  {
   "cell_type": "code",
   "execution_count": 123,
   "id": "bfd89c59-5e87-4a59-8beb-3d3a45465733",
   "metadata": {
    "ExecuteTime": {
     "end_time": "2024-12-01T23:15:23.225299Z",
     "start_time": "2024-12-01T23:15:23.223832Z"
    }
   },
   "outputs": [],
   "source": [
    "exposure_fake_news = ofcom_dataframes['whether_came_across_informationnews_about_coronavirus_that_you_think_has_been_false_or_misleading_in_last_week']"
   ]
  },
  {
   "cell_type": "code",
   "execution_count": 124,
   "id": "c18cceed-a033-438c-bc82-5fe0953a688e",
   "metadata": {
    "ExecuteTime": {
     "end_time": "2024-12-01T23:15:23.272719Z",
     "start_time": "2024-12-01T23:15:23.266971Z"
    }
   },
   "outputs": [],
   "source": [
    "exposure_fake_news = calculate_percentage(exposure_fake_news)"
   ]
  },
  {
   "cell_type": "code",
   "execution_count": 125,
   "id": "e18951aa-76d0-4f09-a867-651130ce67bb",
   "metadata": {
    "ExecuteTime": {
     "end_time": "2024-12-01T23:15:23.314818Z",
     "start_time": "2024-12-01T23:15:23.313008Z"
    }
   },
   "outputs": [],
   "source": [
    "exposure_fake_news = exposure_fake_news[~exposure_fake_news['response'].isin(['Unweighted base', 'Weighted base'])]"
   ]
  },
  {
   "cell_type": "code",
   "execution_count": 126,
   "id": "3602e8ab-8cf3-4d32-bcb3-86ace7711837",
   "metadata": {
    "ExecuteTime": {
     "end_time": "2024-12-01T23:15:23.355198Z",
     "start_time": "2024-12-01T23:15:23.353656Z"
    }
   },
   "outputs": [],
   "source": [
    "categories = exposure_fake_news['response'].unique()"
   ]
  },
  {
   "cell_type": "code",
   "execution_count": 127,
   "id": "b42fe51d-8229-4634-8aa4-650d2fc36158",
   "metadata": {
    "ExecuteTime": {
     "end_time": "2024-12-01T23:15:23.394911Z",
     "start_time": "2024-12-01T23:15:23.393419Z"
    }
   },
   "outputs": [],
   "source": [
    "min_date, max_date = return_min_max_date(exposure_fake_news)"
   ]
  },
  {
   "cell_type": "code",
   "execution_count": 128,
   "id": "e5e52653-3136-497a-8f0c-abee944d09cb",
   "metadata": {
    "ExecuteTime": {
     "end_time": "2024-12-01T23:15:24.259075Z",
     "start_time": "2024-12-01T23:15:23.433100Z"
    }
   },
   "outputs": [],
   "source": [
    "plot_time_series(dataframe_1 = exposure_fake_news, dataframe_2 = df_no_outliers, categories = categories, plot_title = 'Time Series of Exposure to Misinformation and COVID Cases', x_title = 'Date', y_title = 'Percentage of Total Survey Respondents (%)', y2_title = 'Number of COVID Cases Per Day', legend_1_title = 'Percentage of Respondents Who Have Been Exposed', legend_2_title = 'Number of reported COVID Cases Per Day', filename = f'{root_image_path}exposure_to_misinformation_time_series', min_date = min_date, max_date = max_date)"
   ]
  },
  {
   "cell_type": "markdown",
   "id": "8bc382f2c3e7f6cf",
   "metadata": {},
   "source": [
    "## 8. How misinformation has been reported"
   ]
  },
  {
   "cell_type": "markdown",
   "id": "cc48431c-4148-452c-b7c8-4e3be22b9fb8",
   "metadata": {
    "ExecuteTime": {
     "end_time": "2024-12-01T23:15:24.304347Z",
     "start_time": "2024-12-01T23:15:24.299007Z"
    }
   },
   "source": [
    "### I iterated over several of the OFCOM dataframes to produce stacking bar charts which demonstrated how different sources were reported and how this was percieved by gender, age, region and social class to see if any patterns emerge."
   ]
  },
  {
   "cell_type": "code",
   "execution_count": 129,
   "id": "90c39a06-d206-4a83-a64b-8f622f2db5b0",
   "metadata": {
    "ExecuteTime": {
     "end_time": "2024-12-01T23:15:24.358610Z",
     "start_time": "2024-12-01T23:15:24.356999Z"
    }
   },
   "outputs": [],
   "source": [
    "fake_news = [ 'how_claims_that_the_coronavirus_vaccine_is_a_cover_for_a_plan_to_implant_trackable_microchips_in_people_have_been_reported',\n",
    "    'how_claims_that_the_coronavirus_vaccine_may_reduce_fertility_have_been_reported',\n",
    "    'how_theory_that_the_origin_or_cause_of_coronavirus_is_in_some_way_linked_to_5g_technology_has_been_reported',\n",
    "    'how_claims_about_injecting_disinfectant_have_been_reported',\n",
    "    'how_claims_about_empty_hospitals_on_social_media_posts_prove_that_coronavirus_has_been_exaggerated_have_been_reported','how_claims_about_the_coronavirus_test_which_shows_if_you_currently_have_the_virus_does_not_work_and_93_of_tests_produce_a_false_positive_have_been_reported',\n",
    "    'how_claims_stating_that_the_flu_alone_is_killing_more_people_than_coronavirus_have_been_reported',\n",
    "    'how_claims_about_the_potential_dangers_of_a_coronavirus_vaccine_have_been_reported',\n",
    "    'how_claims_about_face_maskscoverings_offering_no_protection_or_being_harmful_have_been_reported'\n",
    "]"
   ]
  },
  {
   "cell_type": "code",
   "execution_count": 130,
   "id": "378941678d7ddedc",
   "metadata": {
    "ExecuteTime": {
     "end_time": "2024-12-01T23:15:24.362037Z",
     "start_time": "2024-12-01T23:15:24.360121Z"
    }
   },
   "outputs": [],
   "source": [
    "categories = {'gender': ['male', 'female'], 'age': ['16-24', '18-24', '25-34', '35-44', '45-54', '55-64', '65+'],\n",
    "              'class': ['class_upper_and_middle', 'class_lower_middle', 'class_skilled_working',\n",
    "                        'class_working_class_lowest_grade'],\n",
    "              'region': ['scotland', 'north_east', 'north_west', 'yorkshire_&_humberside', 'west_midlands',\n",
    "                         'east_midlands', 'wales', 'eastern', 'london', 'south_east', 'south_west', 'northern_ireland']}"
   ]
  },
  {
   "cell_type": "code",
   "execution_count": 131,
   "id": "4e73b983df992d05",
   "metadata": {
    "ExecuteTime": {
     "end_time": "2024-12-01T23:15:38.702712Z",
     "start_time": "2024-12-01T23:15:24.383736Z"
    }
   },
   "outputs": [
    {
     "name": "stdout",
     "output_type": "stream",
     "text": [
      "Error when plotting how_claims_about_injecting_disinfectant_have_been_reported region graph\n",
      "Error when plotting how_claims_about_the_potential_dangers_of_a_coronavirus_vaccine_have_been_reported region graph\n"
     ]
    }
   ],
   "source": [
    "for news in fake_news:\n",
    "    misinformation_dataframe = ofcom_dataframes[news]\n",
    "    \n",
    "    for category, category_list in categories.items():\n",
    "        \n",
    "        try:\n",
    "        \n",
    "            formatted_labels = [c.title().replace('_', ' ') for c in category_list]\n",
    "            \n",
    "            copy_df = misinformation_dataframe.copy()\n",
    "                    \n",
    "            columns = category_list + ['response', 'start_date']\n",
    "            copy_df = copy_df[columns]\n",
    "    \n",
    "            aggregated_df = copy_df.groupby(['response'])[category_list].sum().reset_index()\n",
    "            \n",
    "            aggregated_df = aggregated_df.loc[~aggregated_df['response'].isin(['Weighted base', 'Unweighted base'])] \n",
    "                \n",
    "            groups = tuple(category_list)\n",
    "    \n",
    "            response_dict = {}\n",
    "            \n",
    "            response_list = []\n",
    "            \n",
    "            response_df = aggregated_df['response']\n",
    "    \n",
    "            for response in response_df:\n",
    "                response_dict[response] = []\n",
    "                response_list.append(response)\n",
    "                    \n",
    "            for i, group in enumerate(groups):\n",
    "                response_df = aggregated_df['response']\n",
    "                \n",
    "                filter_df = aggregated_df[group]\n",
    "                \n",
    "                filter_df = filter_df.loc[~aggregated_df['response'].isin(['Weighted base', 'Unweighted base'])]\n",
    "                \n",
    "                for i, value in enumerate(filter_df):\n",
    "                    response_dict[response_list[i]].append(value)\n",
    "            \n",
    "            for key, value in response_dict.items():\n",
    "                response_dict[key] = np.array(value)\n",
    "            \n",
    "            width = 0.5\n",
    "    \n",
    "            fig, ax = plt.subplots(figsize=(12, 8))\n",
    "            bottom = np.zeros(len(category_list))\n",
    "            \n",
    "            cmap = plt.get_cmap(\"viridis_r\")\n",
    "\n",
    "            positions = np.linspace(0, 1, 3)\n",
    "\n",
    "            colours = [cmap(pos) for pos in positions]\n",
    "            \n",
    "            i = 0\n",
    "            \n",
    "            for group, response_count in response_dict.items():\n",
    "                p = ax.bar(groups, response_count, width, label=group, bottom=bottom, color=colours[i])\n",
    "                bottom += response_count\n",
    "                i += 1\n",
    "    \n",
    "            ax.set_title(f\"{news.replace('_', ' ').title()}\")\n",
    "            \n",
    "            ax.legend(loc=\"upper right\")\n",
    "                    \n",
    "            plt.xticks(ticks=range(len(groups)), labels=formatted_labels, rotation=90)\n",
    "            \n",
    "            plt.ylabel(\"Number of Respondents\")\n",
    "            \n",
    "            plt.xlabel(category.title())\n",
    "\n",
    "            plt.tight_layout()\n",
    "\n",
    "            plt.savefig(rf'../../8_final_visualisations/misinformation_ofcom/how_false_news_has_been_reported/{news}_{category}.png', dpi=300)\n",
    "            \n",
    "            plt.close('all')\n",
    "            \n",
    "        except KeyError:\n",
    "            print(f\"Error when plotting {news} {category} graph\")\n",
    "        "
   ]
  },
  {
   "cell_type": "code",
   "execution_count": 132,
   "id": "d754c289-6f54-440e-a302-b9deaea431c2",
   "metadata": {},
   "outputs": [],
   "source": [
    "joined_fake_news_df = ofcom_dataframes[fake_news[0]].copy()\n",
    "\n",
    "for i, news in enumerate(fake_news[1:]):\n",
    "    joined_fake_news_df = pd.concat([joined_fake_news_df, ofcom_dataframes[fake_news[i]]])"
   ]
  },
  {
   "cell_type": "code",
   "execution_count": 133,
   "id": "6ba58126-5870-4af3-85d5-931fd2538c4f",
   "metadata": {},
   "outputs": [],
   "source": [
    "joined_fake_news_df = joined_fake_news_df[['question', 'response', 'total']]"
   ]
  },
  {
   "cell_type": "code",
   "execution_count": 134,
   "id": "6d749efa-8e94-4674-b7d0-82a00debb8d0",
   "metadata": {},
   "outputs": [],
   "source": [
    "joined_fake_news_df = joined_fake_news_df[~joined_fake_news_df['response'].isin(['Unweighted base', 'Weighted base'])]"
   ]
  },
  {
   "cell_type": "code",
   "execution_count": 135,
   "id": "b5b561b4-ea24-475d-9583-a1c52ecaf978",
   "metadata": {},
   "outputs": [],
   "source": [
    "joined_fake_news_df = joined_fake_news_df.drop_duplicates()"
   ]
  },
  {
   "cell_type": "code",
   "execution_count": 136,
   "id": "55b780be-bacc-4c01-8d22-a0af19f95e61",
   "metadata": {},
   "outputs": [],
   "source": [
    "joined_fake_news_df = joined_fake_news_df.groupby(['question', 'response'])['total'].sum()"
   ]
  },
  {
   "cell_type": "code",
   "execution_count": 137,
   "id": "7ba1e7aa-133f-428a-b136-2a8eddf7e62e",
   "metadata": {},
   "outputs": [],
   "source": [
    "joined_fake_news_df = joined_fake_news_df.to_frame()"
   ]
  },
  {
   "cell_type": "code",
   "execution_count": 138,
   "id": "ebeaa59a-c804-49dd-9418-ce5d86dda464",
   "metadata": {},
   "outputs": [],
   "source": [
    "joined_fake_news_df = joined_fake_news_df.reset_index()"
   ]
  },
  {
   "cell_type": "code",
   "execution_count": 139,
   "id": "23144615-c20a-4dfa-853b-fed054eeb2f4",
   "metadata": {},
   "outputs": [],
   "source": [
    "joined_fake_news_df['question'] = joined_fake_news_df['question'].str.strip().str[17:].str.replace('_',' ').str.title().str.replace('He ', '').str.replace('G','')"
   ]
  },
  {
   "cell_type": "code",
   "execution_count": 140,
   "id": "be12793c-d742-4073-8f2b-24507d305fe5",
   "metadata": {},
   "outputs": [],
   "source": [
    "joined_fake_news_df['response'] = joined_fake_news_df['response'].str.replace(' / described', '')"
   ]
  },
  {
   "cell_type": "code",
   "execution_count": 141,
   "id": "7fde4027-4c71-4acd-9e6c-773593d81c70",
   "metadata": {},
   "outputs": [],
   "source": [
    "joined_fake_news_df.set_index('question', inplace=True)"
   ]
  },
  {
   "cell_type": "code",
   "execution_count": 142,
   "id": "8e26e2b9-b630-4d3d-b20e-e63fc0f42651",
   "metadata": {},
   "outputs": [],
   "source": [
    "joined_fake_news_df['response'] = joined_fake_news_df['response'].str.replace('Reported as a true theory', 'Reported as a true claim')\n",
    "joined_fake_news_df['response'] = joined_fake_news_df['response'].str.replace('Reported as a false theory', 'Reported as a false claim')"
   ]
  },
  {
   "cell_type": "code",
   "execution_count": 143,
   "id": "c201cddb-3a80-49df-8790-34337d0ab623",
   "metadata": {},
   "outputs": [],
   "source": [
    "joined_fake_news_df['total'] = joined_fake_news_df['total'].rename('response_total')"
   ]
  },
  {
   "cell_type": "code",
   "execution_count": 144,
   "id": "6f9ebb20-6ea1-42ef-8676-f7a6a62a4336",
   "metadata": {},
   "outputs": [],
   "source": [
    "totals = joined_fake_news_df.groupby('question')['total'].sum()"
   ]
  },
  {
   "cell_type": "code",
   "execution_count": 145,
   "id": "0b69d8bd-f21d-4404-a4a1-56260cbedd33",
   "metadata": {},
   "outputs": [],
   "source": [
    "totals = totals.to_frame()"
   ]
  },
  {
   "cell_type": "code",
   "execution_count": 146,
   "id": "201bc7fe-5434-4d76-b610-e5309be3de3f",
   "metadata": {},
   "outputs": [],
   "source": [
    "merged_df = pd.merge(joined_fake_news_df, totals, left_index=True, right_index=True)"
   ]
  },
  {
   "cell_type": "code",
   "execution_count": 147,
   "id": "91706230-7b0f-4788-ac8c-b5a9dd07aca7",
   "metadata": {},
   "outputs": [],
   "source": [
    "merged_df['percentage'] = (merged_df['total_x']/merged_df['total_y'])*100"
   ]
  },
  {
   "cell_type": "code",
   "execution_count": 148,
   "id": "19197c6e-2553-43a0-827c-a716d590f73d",
   "metadata": {},
   "outputs": [],
   "source": [
    "merged_df = merged_df[['response', 'percentage']]"
   ]
  },
  {
   "cell_type": "code",
   "execution_count": 149,
   "id": "4262d30f-b63b-42c2-82e5-1d9c42d1c06a",
   "metadata": {},
   "outputs": [],
   "source": [
    "merged_df = merged_df.reset_index()"
   ]
  },
  {
   "cell_type": "code",
   "execution_count": 150,
   "id": "cddbcd05-33d7-4de0-8282-83461a50fa4c",
   "metadata": {},
   "outputs": [],
   "source": [
    "pivot_df = merged_df.pivot(index='question', columns='response', values='percentage')"
   ]
  },
  {
   "cell_type": "code",
   "execution_count": 151,
   "id": "09ffa457-2452-4c42-8d5b-df076b51f3f4",
   "metadata": {},
   "outputs": [
    {
     "data": {
      "text/plain": [
       "Index([' That The Flu Alone Is Killing More People Than Coronavirus Have Been Reported',\n",
       "       'Coronavirus Vaccine Is A Cover For A Plan To Implant Trackable Microchips In People Have Been Reported',\n",
       "       'Coronavirus Vaccine May Reduce Fertility Have Been Reported',\n",
       "       'Empty Hospitals On Social Media Posts Prove That Coronavirus Has Been Exaggerated Have Been Reported',\n",
       "       'Injecting Disinfectant Have Been Reported',\n",
       "       'Origin Or Cause Of Coronavirus Is In Some Way Linked To 5 Technology Has Been Reported',\n",
       "       'The Coronavirus Test Which Shows If You Currently Have The Virus Does Not Work And 93% Of Tests Produce A False Positive Have Been Reported',\n",
       "       'The Potential Dangers Of A Coronavirus Vaccine Have Been Reported'],\n",
       "      dtype='object', name='question')"
      ]
     },
     "execution_count": 151,
     "metadata": {},
     "output_type": "execute_result"
    }
   ],
   "source": [
    "pivot_df.index"
   ]
  },
  {
   "cell_type": "code",
   "execution_count": 152,
   "id": "8d703927-7ae2-4879-80bf-1b9316e40689",
   "metadata": {},
   "outputs": [],
   "source": [
    "pivot_df = pivot_df.rename(index={\n",
    "    ' That The Flu Alone Is Killing More People Than Coronavirus Have Been Reported': 'Flu alone killing more than coronavirus',\n",
    "    'Coronavirus Vaccine Is A Cover For A Plan To Implant Trackable Microchips In People Have Been Reported': 'Vaccine a plot to implant microchips',\n",
    "    'Coronavirus Vaccine May Reduce Fertility Have Been Reported': 'Vaccine may reduce fertility',                          \n",
    "    'Empty Hospitals On Social Media Posts Prove That Coronavirus Has Been Exaggerated Have Been Reported': 'There are empty hosptials',\n",
    "    'Injecting Disinfectant Have Been Reported': 'Injecting disinfectant',\n",
    "    'Origin Or Cause Of Coronavirus Is In Some Way Linked To 5 Technology Has Been Reported': 'Origin of COVID linked to 5G technology',\n",
    "    'The Coronavirus Test Which Shows If You Currently Have The Virus Does Not Work And 93% Of Tests Produce A False Positive Have Been Reported':\n",
    "    'COVID-test does not work',\n",
    "    'The Potential Dangers Of A Coronavirus Vaccine Have Been Reported': 'Dangers of a vaccine'})"
   ]
  },
  {
   "cell_type": "code",
   "execution_count": 153,
   "id": "c17a4a1d-2b55-42a3-8936-c83768a87b73",
   "metadata": {},
   "outputs": [],
   "source": [
    "categories_order = ['Reported as a true claim', 'Unclear whether true or false', 'Reported as a false claim']\n",
    "\n",
    "pivot_df = pivot_df[categories_order]"
   ]
  },
  {
   "cell_type": "code",
   "execution_count": 154,
   "id": "8369c5cf-7157-40d5-bd92-de1f05d2acfb",
   "metadata": {},
   "outputs": [
    {
     "data": {
      "text/html": [
       "<div>\n",
       "<style scoped>\n",
       "    .dataframe tbody tr th:only-of-type {\n",
       "        vertical-align: middle;\n",
       "    }\n",
       "\n",
       "    .dataframe tbody tr th {\n",
       "        vertical-align: top;\n",
       "    }\n",
       "\n",
       "    .dataframe thead th {\n",
       "        text-align: right;\n",
       "    }\n",
       "</style>\n",
       "<table border=\"1\" class=\"dataframe\">\n",
       "  <thead>\n",
       "    <tr style=\"text-align: right;\">\n",
       "      <th>response</th>\n",
       "      <th>Reported as a true claim</th>\n",
       "      <th>Unclear whether true or false</th>\n",
       "      <th>Reported as a false claim</th>\n",
       "    </tr>\n",
       "    <tr>\n",
       "      <th>question</th>\n",
       "      <th></th>\n",
       "      <th></th>\n",
       "      <th></th>\n",
       "    </tr>\n",
       "  </thead>\n",
       "  <tbody>\n",
       "    <tr>\n",
       "      <th>Flu alone killing more than coronavirus</th>\n",
       "      <td>37.989324</td>\n",
       "      <td>40.035587</td>\n",
       "      <td>21.975089</td>\n",
       "    </tr>\n",
       "    <tr>\n",
       "      <th>Vaccine a plot to implant microchips</th>\n",
       "      <td>29.295426</td>\n",
       "      <td>31.149567</td>\n",
       "      <td>39.555006</td>\n",
       "    </tr>\n",
       "    <tr>\n",
       "      <th>Vaccine may reduce fertility</th>\n",
       "      <td>25.187970</td>\n",
       "      <td>40.852130</td>\n",
       "      <td>33.959900</td>\n",
       "    </tr>\n",
       "    <tr>\n",
       "      <th>There are empty hosptials</th>\n",
       "      <td>29.633028</td>\n",
       "      <td>30.000000</td>\n",
       "      <td>40.366972</td>\n",
       "    </tr>\n",
       "    <tr>\n",
       "      <th>Injecting disinfectant</th>\n",
       "      <td>15.647922</td>\n",
       "      <td>17.114914</td>\n",
       "      <td>67.237164</td>\n",
       "    </tr>\n",
       "    <tr>\n",
       "      <th>Origin of COVID linked to 5G technology</th>\n",
       "      <td>32.616239</td>\n",
       "      <td>21.790423</td>\n",
       "      <td>45.593338</td>\n",
       "    </tr>\n",
       "    <tr>\n",
       "      <th>COVID-test does not work</th>\n",
       "      <td>37.433155</td>\n",
       "      <td>43.850267</td>\n",
       "      <td>18.716578</td>\n",
       "    </tr>\n",
       "    <tr>\n",
       "      <th>Dangers of a vaccine</th>\n",
       "      <td>35.277325</td>\n",
       "      <td>43.393148</td>\n",
       "      <td>21.329527</td>\n",
       "    </tr>\n",
       "  </tbody>\n",
       "</table>\n",
       "</div>"
      ],
      "text/plain": [
       "response                                 Reported as a true claim  \\\n",
       "question                                                            \n",
       "Flu alone killing more than coronavirus                 37.989324   \n",
       "Vaccine a plot to implant microchips                    29.295426   \n",
       "Vaccine may reduce fertility                            25.187970   \n",
       "There are empty hosptials                               29.633028   \n",
       "Injecting disinfectant                                  15.647922   \n",
       "Origin of COVID linked to 5G technology                 32.616239   \n",
       "COVID-test does not work                                37.433155   \n",
       "Dangers of a vaccine                                    35.277325   \n",
       "\n",
       "response                                 Unclear whether true or false  \\\n",
       "question                                                                 \n",
       "Flu alone killing more than coronavirus                      40.035587   \n",
       "Vaccine a plot to implant microchips                         31.149567   \n",
       "Vaccine may reduce fertility                                 40.852130   \n",
       "There are empty hosptials                                    30.000000   \n",
       "Injecting disinfectant                                       17.114914   \n",
       "Origin of COVID linked to 5G technology                      21.790423   \n",
       "COVID-test does not work                                     43.850267   \n",
       "Dangers of a vaccine                                         43.393148   \n",
       "\n",
       "response                                 Reported as a false claim  \n",
       "question                                                            \n",
       "Flu alone killing more than coronavirus                  21.975089  \n",
       "Vaccine a plot to implant microchips                     39.555006  \n",
       "Vaccine may reduce fertility                             33.959900  \n",
       "There are empty hosptials                                40.366972  \n",
       "Injecting disinfectant                                   67.237164  \n",
       "Origin of COVID linked to 5G technology                  45.593338  \n",
       "COVID-test does not work                                 18.716578  \n",
       "Dangers of a vaccine                                     21.329527  "
      ]
     },
     "execution_count": 154,
     "metadata": {},
     "output_type": "execute_result"
    }
   ],
   "source": [
    "pivot_df"
   ]
  },
  {
   "cell_type": "code",
   "execution_count": 155,
   "id": "d17a5f3f-5605-4273-94ef-0e5d8c6e8e08",
   "metadata": {},
   "outputs": [],
   "source": [
    "colours = ['#43337A', '#4D9F88', '#A6D659']\n",
    "\n",
    "ax = pivot_df.plot(\n",
    "    kind='barh',\n",
    "    figsize=(12, 6),\n",
    "    stacked=True,\n",
    "    color=colours\n",
    ")\n",
    "\n",
    "ax.get_legend().remove()\n",
    "\n",
    "plt.text(-0.1, -0.25, \"False News: Reported as True or False\", fontsize=20, color='black', fontweight='bold', ha='center', transform=ax.transAxes)\n",
    "\n",
    "plt.text(-0.48, -0.1, 'Source:', fontsize=12, color='black', fontweight='bold', ha='center', transform=ax.transAxes)\n",
    "plt.text(-0.01, -0.1, 'OFCOM Covid-19 news and information, consumption and attitudes.', fontsize=12, color='black', ha='center', transform=ax.transAxes)\n",
    "plt.text(-0.48, -0.15, 'Metric:', fontsize=12, color='black', fontweight='bold', ha='center', transform=ax.transAxes)\n",
    "plt.text(0.06, -0.15, 'Percentage of survey respondents perception of how misinformation is reported.', fontsize=12, color='black', ha='center', transform=ax.transAxes)\n",
    "\n",
    "plt.text(.82, 1.025, \"Reported as a False Claim\", fontsize=9, color='#A6D659', fontweight='bold', ha='center', transform=ax.transAxes)\n",
    "plt.text(.13, 1.025, \"Reported as a True Claim\", fontsize=9, color='#43337A', fontweight='bold', ha='center', transform=ax.transAxes)\n",
    "plt.text(.5, 1.025, \"Unclear if True/False Claim\", fontsize=9, color='#4D9F88', fontweight='bold', ha='center', transform=ax.transAxes)\n",
    "\n",
    "ax.set_ylabel(\"\")\n",
    "\n",
    "ax.tick_params(axis='y', labelsize=12)\n",
    "for label in ax.get_yticklabels():\n",
    "    label.set_fontweight('bold')\n",
    "\n",
    "ax.tick_params(axis='x', which='both', bottom=False, top=False, labelbottom=False)\n",
    "\n",
    "ax.spines['top'].set_visible(False)\n",
    "ax.spines['right'].set_visible(False)\n",
    "ax.spines['bottom'].set_visible(False)\n",
    "\n",
    "plt.tight_layout()\n",
    "\n",
    "plt.savefig(rf'../../8_final_visualisations/misinformation_ofcom/how_false_news_has_been_reported/summary.png', dpi=300)\n",
    "            \n",
    "plt.close('all')"
   ]
  },
  {
   "cell_type": "markdown",
   "id": "620e1f019b0c82cb",
   "metadata": {},
   "source": [
    "## 9. Exposure to specific false or misleading recommendations/claims"
   ]
  },
  {
   "cell_type": "code",
   "execution_count": 156,
   "id": "e33d982b-3541-49f9-982b-b0a5706a05ba",
   "metadata": {
    "ExecuteTime": {
     "end_time": "2024-12-01T23:15:38.707084Z",
     "start_time": "2024-12-01T23:15:38.705633Z"
    }
   },
   "outputs": [],
   "source": [
    "exposure_dataframe = ofcom_dataframes['whether_came_across_any_of_these_false_or_misleading_recommendations_about_avoiding_the_coronavirus_in_the_last_week']"
   ]
  },
  {
   "cell_type": "code",
   "execution_count": 157,
   "id": "b4aacb1dcffe9193",
   "metadata": {
    "ExecuteTime": {
     "end_time": "2024-12-01T23:15:38.749362Z",
     "start_time": "2024-12-01T23:15:38.746878Z"
    }
   },
   "outputs": [],
   "source": [
    "aggregated_df = exposure_dataframe[['response','total', 'male', 'female', 'class_upper_and_middle', 'class_lower_middle', 'class_skilled_working', 'class_working_class_lowest_grade']].groupby('response').sum()"
   ]
  },
  {
   "cell_type": "code",
   "execution_count": 158,
   "id": "1bf7470a43bee2b0",
   "metadata": {
    "ExecuteTime": {
     "end_time": "2024-12-01T23:15:38.792620Z",
     "start_time": "2024-12-01T23:15:38.789966Z"
    }
   },
   "outputs": [],
   "source": [
    "columns_to_calculate = [\n",
    "    'male', \n",
    "    'female', \n",
    "    'class_upper_and_middle', \n",
    "    'class_lower_middle', \n",
    "    'class_skilled_working', \n",
    "    'class_working_class_lowest_grade'\n",
    "]\n",
    "\n",
    "for column in columns_to_calculate:\n",
    "    aggregated_df[f'{column}_percentage'] = round(aggregated_df[column] / aggregated_df.loc['Weighted base', column] * 100, 2)"
   ]
  },
  {
   "cell_type": "code",
   "execution_count": 159,
   "id": "f92e3c0a-5557-4a5e-b2ee-aa899d51b4a4",
   "metadata": {
    "ExecuteTime": {
     "end_time": "2024-12-01T23:15:38.834399Z",
     "start_time": "2024-12-01T23:15:38.832285Z"
    }
   },
   "outputs": [],
   "source": [
    "aggregated_df = aggregated_df.drop(index=['Unweighted base', 'Weighted base', 'NET: Any'])\n",
    "aggregated_df = aggregated_df.rename(index={'Increasing use of natural remedies such as colloidal silver, essential oils, garlic, MMS (chlorine dioxide) or vitamin C': 'Increasing use of natural remedies e.g. colloidal silver'})"
   ]
  },
  {
   "cell_type": "code",
   "execution_count": 160,
   "id": "54b09628-8775-48d4-8bd1-ccda3398680c",
   "metadata": {
    "ExecuteTime": {
     "end_time": "2024-12-01T23:15:38.874582Z",
     "start_time": "2024-12-01T23:15:38.872837Z"
    }
   },
   "outputs": [],
   "source": [
    "index_order = [i for i in aggregated_df.index if i not in ['Other', 'None of these']] + ['Other', 'None of these']\n",
    "aggregated_df = aggregated_df.reindex(index_order)"
   ]
  },
  {
   "cell_type": "code",
   "execution_count": 161,
   "id": "fcccd156-aea7-4a2a-8285-7f4bf0a94bc6",
   "metadata": {
    "ExecuteTime": {
     "end_time": "2024-12-01T23:15:38.914155Z",
     "start_time": "2024-12-01T23:15:38.912584Z"
    }
   },
   "outputs": [],
   "source": [
    "gender_percentage_misleading_claims = aggregated_df[['male_percentage', 'female_percentage']]"
   ]
  },
  {
   "cell_type": "code",
   "execution_count": 162,
   "id": "a5c6f814c8e60a0",
   "metadata": {
    "ExecuteTime": {
     "end_time": "2024-12-01T23:15:39.740369Z",
     "start_time": "2024-12-01T23:15:38.952930Z"
    }
   },
   "outputs": [],
   "source": [
    "plt.figure(figsize=(15, 12))\n",
    "ax = sns.heatmap(gender_percentage_misleading_claims, annot=True, cmap='viridis_r', fmt='.2f', cbar=True, cbar_kws={'label': 'Percentage Total Respondents Reporting Exposure'})\n",
    "\n",
    "x_labels = ax.get_xticklabels()\n",
    "new_labels = [label.get_text().replace('_', ' ').title()[:-10] for label in x_labels]\n",
    "ax.set_xticklabels(new_labels)\n",
    "\n",
    "plt.title(\"Heatmap of Exposure to Misleading Claims by Gender\")\n",
    "plt.xlabel(\"Gender\")\n",
    "plt.ylabel(\"Misleading Claim\")\n",
    "\n",
    "plt.tight_layout()\n",
    "\n",
    "plt.savefig(rf'../../8_final_visualisations/misinformation_ofcom/exposure_to_misinformation/exposure_by_gender.png', dpi=300)\n",
    "\n",
    "plt.close('all')"
   ]
  },
  {
   "cell_type": "code",
   "execution_count": 163,
   "id": "6068f072effde381",
   "metadata": {
    "ExecuteTime": {
     "end_time": "2024-12-01T23:15:39.781548Z",
     "start_time": "2024-12-01T23:15:39.779192Z"
    }
   },
   "outputs": [],
   "source": [
    "class_percentage_misleading_claims = aggregated_df[['class_upper_and_middle_percentage', 'class_lower_middle_percentage', 'class_skilled_working_percentage', 'class_working_class_lowest_grade_percentage']]"
   ]
  },
  {
   "cell_type": "code",
   "execution_count": 164,
   "id": "83eb7b95-e7f0-4da1-bd29-16bdbc616c34",
   "metadata": {
    "ExecuteTime": {
     "end_time": "2024-12-01T23:15:40.716021Z",
     "start_time": "2024-12-01T23:15:39.820905Z"
    }
   },
   "outputs": [],
   "source": [
    "plt.figure(figsize=(15, 12))\n",
    "ax = sns.heatmap(class_percentage_misleading_claims, annot=True, cmap='viridis_r', fmt='.2f', cbar=True, cbar_kws={'label': 'Percentage Total Respondents Reporting Exposure'})\n",
    "\n",
    "x_labels = ax.get_xticklabels()\n",
    "new_labels = [label.get_text().replace('_', ' ').title()[6:-10] for label in x_labels]\n",
    "ax.set_xticklabels(new_labels, rotation=90)\n",
    "\n",
    "plt.title(\"Heatmap of Percentage Exposure of Survey Respondents to Misleading Claims by Social Class\")\n",
    "plt.xlabel(\"Social Class\")\n",
    "plt.ylabel(\"Misleading Claim\")\n",
    "\n",
    "plt.tight_layout()\n",
    "\n",
    "plt.savefig(rf'../../8_final_visualisations/misinformation_ofcom/exposure_to_misinformation/exposure_by_class.png', dpi=300)\n",
    "\n",
    "plt.close('all')"
   ]
  },
  {
   "cell_type": "markdown",
   "id": "cbd56477-3936-4541-904e-7762cb0093f6",
   "metadata": {
    "ExecuteTime": {
     "end_time": "2024-12-01T09:03:44.781861Z",
     "start_time": "2024-12-01T09:03:44.780160Z"
    }
   },
   "source": [
    "## 10. Device usage "
   ]
  },
  {
   "cell_type": "code",
   "execution_count": 165,
   "id": "5a2447c5-1d19-44c2-a528-870cbf68c704",
   "metadata": {
    "ExecuteTime": {
     "end_time": "2024-12-01T23:15:40.755978Z",
     "start_time": "2024-12-01T23:15:40.754350Z"
    }
   },
   "outputs": [],
   "source": [
    "device_used_to_connect = ofcom_dataframes['device_usage_to_connect_to_internet']"
   ]
  },
  {
   "cell_type": "code",
   "execution_count": 166,
   "id": "9d23ee58-22fc-4147-b60a-2a79671f10a2",
   "metadata": {
    "ExecuteTime": {
     "end_time": "2024-12-01T23:15:40.797729Z",
     "start_time": "2024-12-01T23:15:40.796150Z"
    }
   },
   "outputs": [],
   "source": [
    "device_used_to_connect = device_used_to_connect[['response', 'total']]"
   ]
  },
  {
   "cell_type": "code",
   "execution_count": 167,
   "id": "7a2f70ba-fe35-444f-83c4-30b6157038a0",
   "metadata": {
    "ExecuteTime": {
     "end_time": "2024-12-01T23:15:40.837583Z",
     "start_time": "2024-12-01T23:15:40.835653Z"
    }
   },
   "outputs": [],
   "source": [
    "device_used_to_connect = device_used_to_connect.groupby('response').sum()"
   ]
  },
  {
   "cell_type": "code",
   "execution_count": 168,
   "id": "30dbda8e-5ece-45b2-96e4-84bf2b363bd7",
   "metadata": {
    "ExecuteTime": {
     "end_time": "2024-12-01T23:15:40.877675Z",
     "start_time": "2024-12-01T23:15:40.875662Z"
    }
   },
   "outputs": [],
   "source": [
    "device_used_to_connect = device_used_to_connect.sort_values(by='total', ascending=False)"
   ]
  },
  {
   "cell_type": "code",
   "execution_count": 169,
   "id": "04221607-0239-4601-95bf-de1ec3f89510",
   "metadata": {
    "ExecuteTime": {
     "end_time": "2024-12-01T23:15:40.917122Z",
     "start_time": "2024-12-01T23:15:40.915688Z"
    }
   },
   "outputs": [],
   "source": [
    "biggest_used_devices = device_used_to_connect[:13]"
   ]
  },
  {
   "cell_type": "code",
   "execution_count": 170,
   "id": "3887cec3-a8ab-4352-8a00-fea8e16f2637",
   "metadata": {
    "ExecuteTime": {
     "end_time": "2024-12-01T23:15:40.956484Z",
     "start_time": "2024-12-01T23:15:40.954975Z"
    }
   },
   "outputs": [],
   "source": [
    "other = device_used_to_connect[13:-1]"
   ]
  },
  {
   "cell_type": "code",
   "execution_count": 171,
   "id": "5260a308-3c64-4897-8724-602b6e3767f7",
   "metadata": {
    "ExecuteTime": {
     "end_time": "2024-12-01T23:15:40.996696Z",
     "start_time": "2024-12-01T23:15:40.994874Z"
    }
   },
   "outputs": [],
   "source": [
    "final_row = device_used_to_connect[-1:]"
   ]
  },
  {
   "cell_type": "code",
   "execution_count": 172,
   "id": "82e6bc28-864e-4557-8700-ade6807b7208",
   "metadata": {
    "ExecuteTime": {
     "end_time": "2024-12-01T23:15:41.039580Z",
     "start_time": "2024-12-01T23:15:41.037564Z"
    }
   },
   "outputs": [],
   "source": [
    "other_total = other.sum().item()"
   ]
  },
  {
   "cell_type": "code",
   "execution_count": 173,
   "id": "d92d1033-b8f8-4c85-b70e-70077e20e6b9",
   "metadata": {
    "ExecuteTime": {
     "end_time": "2024-12-01T23:15:41.139678Z",
     "start_time": "2024-12-01T23:15:41.137802Z"
    }
   },
   "outputs": [],
   "source": [
    "current_other_row = biggest_used_devices.loc['Other portable/ handheld device (e.g. portable games console/ iPod Touch)']"
   ]
  },
  {
   "cell_type": "code",
   "execution_count": 174,
   "id": "5dd3f899-9288-44cd-87fe-11cfbedac581",
   "metadata": {
    "ExecuteTime": {
     "end_time": "2024-12-01T23:15:41.149461Z",
     "start_time": "2024-12-01T23:15:41.147378Z"
    }
   },
   "outputs": [],
   "source": [
    "other_total = other.sum().item() \n",
    "\n",
    "current_other_row_total = current_other_row.iloc[0].item()\n",
    "\n",
    "current_other_row['total'] = other_total + current_other_row_total"
   ]
  },
  {
   "cell_type": "code",
   "execution_count": 175,
   "id": "7f9b41e7-5c97-4a4e-9efa-1a09e6e34fec",
   "metadata": {
    "ExecuteTime": {
     "end_time": "2024-12-01T23:15:41.192349Z",
     "start_time": "2024-12-01T23:15:41.190267Z"
    }
   },
   "outputs": [],
   "source": [
    "biggest_used_devices = pd.concat([biggest_used_devices, final_row], ignore_index=False)"
   ]
  },
  {
   "cell_type": "code",
   "execution_count": 176,
   "id": "57675746-f80e-42bd-9dff-c9ac15d5b319",
   "metadata": {
    "ExecuteTime": {
     "end_time": "2024-12-01T23:15:41.233343Z",
     "start_time": "2024-12-01T23:15:41.231408Z"
    }
   },
   "outputs": [],
   "source": [
    "biggest_used_devices = biggest_used_devices.sort_values(by='total', ascending=False)"
   ]
  },
  {
   "cell_type": "code",
   "execution_count": 177,
   "id": "dcec8b62-78a7-45ae-8942-98c0234f8b7a",
   "metadata": {
    "ExecuteTime": {
     "end_time": "2024-12-01T23:15:41.275662Z",
     "start_time": "2024-12-01T23:15:41.273598Z"
    }
   },
   "outputs": [],
   "source": [
    "data = biggest_used_devices['total']"
   ]
  },
  {
   "cell_type": "code",
   "execution_count": 178,
   "id": "eb1664c9-bbc7-4ee5-8198-c52a42cd2abb",
   "metadata": {
    "ExecuteTime": {
     "end_time": "2024-12-01T23:15:41.316309Z",
     "start_time": "2024-12-01T23:15:41.314965Z"
    }
   },
   "outputs": [],
   "source": [
    "labels = biggest_used_devices.index"
   ]
  },
  {
   "cell_type": "code",
   "execution_count": 179,
   "id": "29812f1f-f9e0-4e51-a641-3dd2b7f0bcdc",
   "metadata": {
    "ExecuteTime": {
     "end_time": "2024-12-01T23:15:41.419649Z",
     "start_time": "2024-12-01T23:15:41.418248Z"
    }
   },
   "outputs": [],
   "source": [
    "title = \"Pie Chart Showing the Devices Used by Respondents to Access the Internet.\""
   ]
  },
  {
   "cell_type": "code",
   "execution_count": 180,
   "id": "24397675-2744-44c4-8da3-adf1a45ae557",
   "metadata": {
    "ExecuteTime": {
     "end_time": "2024-12-01T23:15:41.443340Z",
     "start_time": "2024-12-01T23:15:41.441586Z"
    }
   },
   "outputs": [],
   "source": [
    "output_file = r\"../../8_final_visualisations/misinformation_ofcom/device_usage/piechart_devices_used_all_respondents\""
   ]
  },
  {
   "cell_type": "code",
   "execution_count": 181,
   "id": "ce6e688d-ea89-4128-ae6e-868c07154d11",
   "metadata": {
    "ExecuteTime": {
     "end_time": "2024-12-01T23:15:42.690441Z",
     "start_time": "2024-12-01T23:15:41.544904Z"
    }
   },
   "outputs": [],
   "source": [
    "plot_pie_chart(data= data, labels=labels, output_file = output_file, title = title, colorscheme='viridis', explode_index=0, figsize=(16, 12))"
   ]
  },
  {
   "cell_type": "code",
   "execution_count": 182,
   "id": "db956760-101e-4cd5-8adb-07e048f2530a",
   "metadata": {},
   "outputs": [],
   "source": [
    "data = data.to_frame()"
   ]
  },
  {
   "cell_type": "code",
   "execution_count": 183,
   "id": "7a0d6117-cff4-43a1-ba91-33214212a840",
   "metadata": {},
   "outputs": [
    {
     "data": {
      "text/plain": [
       "Index(['Weighted base', 'Unweighted base',\n",
       "       'NET: Used device to connect to internet', 'Smartphone', 'Laptop',\n",
       "       'Tablet computer (e.g. iPad)', 'TV set', 'Desktop PC', 'Games console',\n",
       "       'Smart speaker (e.g. Amazon Echo, Google Home)',\n",
       "       'E-reader (e.g. Kindle)',\n",
       "       'Other portable/ handheld device (e.g. portable games console/ iPod Touch)',\n",
       "       'Smart watch (e.g. Apple Watch, Pebble, Samsung, Sony)',\n",
       "       'Not applicable, I do not have access to the internet'],\n",
       "      dtype='object', name='response')"
      ]
     },
     "execution_count": 183,
     "metadata": {},
     "output_type": "execute_result"
    }
   ],
   "source": [
    "data.index"
   ]
  },
  {
   "cell_type": "code",
   "execution_count": 184,
   "id": "27619e41-b627-489c-a8f2-0a09ac3f5b88",
   "metadata": {},
   "outputs": [],
   "source": [
    "data.rename(index={\"Other portable/ handheld device (e.g. portable games console/ iPod Touch)\": \"Other\", \n",
    "                   \"Smart speaker (e.g. Amazon Echo, Google Home)\": \"Smart speaker\",\n",
    "                   \"Smart watch (e.g. Apple Watch, Pebble, Samsung, Sony)\": \"Smart watch\",\n",
    "                   \"Tablet computer (e.g. iPad)\": \"Tablet computer\",\n",
    "                   \"E-reader (e.g. Kindle)\": \"E-reader\"\n",
    "                  }, inplace=True)"
   ]
  },
  {
   "cell_type": "code",
   "execution_count": 185,
   "id": "42c235a5-29d2-4c1b-b3d9-eb49795105b4",
   "metadata": {},
   "outputs": [],
   "source": [
    "## Plotting the pie chart with enhanced visuals"
   ]
  },
  {
   "cell_type": "code",
   "execution_count": 186,
   "id": "f72b8d8c-5fca-4824-9d6f-a86e5ad62b2b",
   "metadata": {},
   "outputs": [],
   "source": [
    "plt.figure(figsize=(16, 12))\n",
    "\n",
    "colors = plt.colormaps.get_cmap('viridis')(np.linspace(0, 0.95, len(data)))\n",
    "\n",
    "wedges, texts, autotexts = plt.pie(\n",
    "    data['total'],\n",
    "    labels=data.index,\n",
    "    colors=colors,\n",
    "    autopct='%1.1f%%',\n",
    "    startangle=140,\n",
    "    labeldistance=1.05\n",
    ")\n",
    "\n",
    "for autotext in autotexts:\n",
    "    autotext.set_color('white')\n",
    "    autotext.set_fontweight('bold')\n",
    "    autotext.set_fontweight('bold')\n",
    "    autotext.set_fontsize(12)  \n",
    "\n",
    "for text, color in zip(texts, colors):\n",
    "    text.set_fontweight('bold')\n",
    "    text.set_fontsize(12)       \n",
    "    text.set_color(color) \n",
    "\n",
    "plt.text(-1.25, -1.3,\"Preferred device for COVID-19 updates\", fontsize=30, color='black', fontweight = 'bold')\n",
    "\n",
    "plt.text(-1.25, -1.15, 'Source:', fontsize=12, color='black', fontweight = 'bold')\n",
    "plt.text(-1.08, -1.15, 'OFCOM Covid-19 news and information, consumption and attitudes.', fontsize=12, color='black')\n",
    "plt.text(-1.25, -1.20, 'Metric:', fontsize=12, color='black', fontweight = 'bold')\n",
    "plt.text(-1.09, -1.20, 'Percentage of survey respondents device used to access the internet.', fontsize=12, color='black')\n",
    "\n",
    "plt.tight_layout()\n",
    "\n",
    "plt.savefig(rf'../../8_final_visualisations/misinformation_ofcom/device_usage/device_pie_chart_updated_visual.png', dpi=300)\n",
    "\n",
    "plt.close('all')"
   ]
  },
  {
   "cell_type": "markdown",
   "id": "1145227b-e983-4b47-84e9-be0aea432b76",
   "metadata": {},
   "source": [
    "# 11. Frequency of sources used"
   ]
  },
  {
   "cell_type": "code",
   "execution_count": 187,
   "id": "7f8cec1e-ecae-4871-916f-56941653668a",
   "metadata": {
    "ExecuteTime": {
     "end_time": "2024-12-01T23:18:12.559709Z",
     "start_time": "2024-12-01T23:18:12.557546Z"
    }
   },
   "outputs": [],
   "source": [
    "sources_used_dataframe = ofcom_dataframes['sources_used_to_get_infonews_about_coronavirus_outbreak_in_last_week']"
   ]
  },
  {
   "cell_type": "code",
   "execution_count": 188,
   "id": "e95b8a68ad6da043",
   "metadata": {
    "ExecuteTime": {
     "end_time": "2024-12-01T23:18:12.767855Z",
     "start_time": "2024-12-01T23:18:12.765482Z"
    }
   },
   "outputs": [],
   "source": [
    "all_sources_dataframe = sources_used_dataframe.copy()"
   ]
  },
  {
   "cell_type": "code",
   "execution_count": 189,
   "id": "3b7c1cb46afa73d5",
   "metadata": {
    "ExecuteTime": {
     "end_time": "2024-12-01T23:18:12.947733Z",
     "start_time": "2024-12-01T23:18:12.945544Z"
    }
   },
   "outputs": [],
   "source": [
    "all_sources_dataframe = all_sources_dataframe[['response', 'total']]"
   ]
  },
  {
   "cell_type": "code",
   "execution_count": 190,
   "id": "22c75847c1a8b5b1",
   "metadata": {
    "ExecuteTime": {
     "end_time": "2024-12-01T23:18:13.152321Z",
     "start_time": "2024-12-01T23:18:13.149509Z"
    }
   },
   "outputs": [],
   "source": [
    "all_sources_dataframe = all_sources_dataframe.groupby('response').sum()"
   ]
  },
  {
   "cell_type": "code",
   "execution_count": 191,
   "id": "4d0d931a7d1c0dac",
   "metadata": {
    "ExecuteTime": {
     "end_time": "2024-12-01T23:18:13.405736Z",
     "start_time": "2024-12-01T23:18:13.403694Z"
    }
   },
   "outputs": [],
   "source": [
    "all_sources_dataframe = all_sources_dataframe.groupby('response').sum()"
   ]
  },
  {
   "cell_type": "code",
   "execution_count": 192,
   "id": "d27b3af0ebe31bba",
   "metadata": {
    "ExecuteTime": {
     "end_time": "2024-12-01T23:18:13.918489Z",
     "start_time": "2024-12-01T23:18:13.916735Z"
    }
   },
   "outputs": [],
   "source": [
    "all_sources_dataframe = all_sources_dataframe.sort_values(by='total', ascending=False)"
   ]
  },
  {
   "cell_type": "code",
   "execution_count": 193,
   "id": "2086a6c2b7bbc404",
   "metadata": {
    "ExecuteTime": {
     "end_time": "2024-12-01T23:18:14.334573Z",
     "start_time": "2024-12-01T23:18:14.332680Z"
    }
   },
   "outputs": [],
   "source": [
    "all_sources_dataframe = all_sources_dataframe[\n",
    "    ~all_sources_dataframe.index.str.contains('NET:|Weighted base|Unweighted base')]"
   ]
  },
  {
   "cell_type": "code",
   "execution_count": 194,
   "id": "b849e8ca-bc01-47d7-8e1e-08e4f0444d8e",
   "metadata": {},
   "outputs": [],
   "source": [
    "colors = plt.cm.viridis(np.linspace(0, 1, len(all_sources_dataframe)))\n",
    "\n",
    "plt.figure(figsize=(20, 15))\n",
    "\n",
    "squarify.plot(\n",
    "    sizes=all_sources_dataframe['total'],\n",
    "    color=colors\n",
    ")\n",
    "\n",
    "plt.title(\"Treemap of Source of News Reported Usage Frequencies\", fontsize=14)\n",
    "\n",
    "plt.axis('off')\n",
    "\n",
    "handles = [plt.Rectangle((0, 0), 1, 1, color=colors[i]) for i in range(len(all_sources_dataframe))]\n",
    "plt.legend(handles, all_sources_dataframe.index, title=\"Media Types\", loc='center left', bbox_to_anchor=(1, 0.5), fontsize=10)\n",
    "\n",
    "plt.tight_layout()\n",
    "\n",
    "plt.savefig(rf'../../8_final_visualisations/misinformation_ofcom/news_sources_figures/news_sources_used_treemap.png', dpi=300)\n",
    "\n",
    "plt.close('all')"
   ]
  },
  {
   "cell_type": "code",
   "execution_count": 195,
   "id": "e2642f78-c732-433c-acb0-f30e6bf15906",
   "metadata": {},
   "outputs": [
    {
     "data": {
      "text/html": [
       "<div>\n",
       "<style scoped>\n",
       "    .dataframe tbody tr th:only-of-type {\n",
       "        vertical-align: middle;\n",
       "    }\n",
       "\n",
       "    .dataframe tbody tr th {\n",
       "        vertical-align: top;\n",
       "    }\n",
       "\n",
       "    .dataframe thead th {\n",
       "        text-align: right;\n",
       "    }\n",
       "</style>\n",
       "<table border=\"1\" class=\"dataframe\">\n",
       "  <thead>\n",
       "    <tr style=\"text-align: right;\">\n",
       "      <th></th>\n",
       "      <th>total</th>\n",
       "    </tr>\n",
       "    <tr>\n",
       "      <th>response</th>\n",
       "      <th></th>\n",
       "    </tr>\n",
       "  </thead>\n",
       "  <tbody>\n",
       "    <tr>\n",
       "      <th>BBC - TV</th>\n",
       "      <td>31621</td>\n",
       "    </tr>\n",
       "    <tr>\n",
       "      <th>ITV</th>\n",
       "      <td>15607</td>\n",
       "    </tr>\n",
       "    <tr>\n",
       "      <th>BBC - Online/ app</th>\n",
       "      <td>14673</td>\n",
       "    </tr>\n",
       "    <tr>\n",
       "      <th>Family and friends directly</th>\n",
       "      <td>14522</td>\n",
       "    </tr>\n",
       "    <tr>\n",
       "      <th>Facebook</th>\n",
       "      <td>13722</td>\n",
       "    </tr>\n",
       "    <tr>\n",
       "      <th>...</th>\n",
       "      <td>...</td>\n",
       "    </tr>\n",
       "    <tr>\n",
       "      <th>RTÉ</th>\n",
       "      <td>109</td>\n",
       "    </tr>\n",
       "    <tr>\n",
       "      <th>Flyers, e.g. leaflets that you may be given or find when out and about</th>\n",
       "      <td>108</td>\n",
       "    </tr>\n",
       "    <tr>\n",
       "      <th>Stickers, e.g. on lamp posts or other places in your neighbourhood</th>\n",
       "      <td>106</td>\n",
       "    </tr>\n",
       "    <tr>\n",
       "      <th>S4C</th>\n",
       "      <td>54</td>\n",
       "    </tr>\n",
       "    <tr>\n",
       "      <th>BBC Alba</th>\n",
       "      <td>19</td>\n",
       "    </tr>\n",
       "  </tbody>\n",
       "</table>\n",
       "<p>63 rows × 1 columns</p>\n",
       "</div>"
      ],
      "text/plain": [
       "                                                    total\n",
       "response                                                 \n",
       "BBC - TV                                            31621\n",
       "ITV                                                 15607\n",
       "BBC - Online/ app                                   14673\n",
       "Family and friends directly                         14522\n",
       "Facebook                                            13722\n",
       "...                                                   ...\n",
       "RTÉ                                                   109\n",
       "Flyers, e.g. leaflets that you may be given or ...    108\n",
       "Stickers, e.g. on lamp posts or other places in...    106\n",
       "S4C                                                    54\n",
       "BBC Alba                                               19\n",
       "\n",
       "[63 rows x 1 columns]"
      ]
     },
     "execution_count": 195,
     "metadata": {},
     "output_type": "execute_result"
    }
   ],
   "source": [
    "all_sources_dataframe"
   ]
  },
  {
   "cell_type": "code",
   "execution_count": 196,
   "id": "478da8b2-3b39-4a40-b3de-6fdf2318602a",
   "metadata": {},
   "outputs": [],
   "source": [
    "response_counts = dict(zip(all_sources_dataframe.index, all_sources_dataframe['total']))\n",
    "\n",
    "wordcloud = WordCloud(width=800, height=400, background_color='white', colormap='viridis_r').generate_from_frequencies(response_counts)\n",
    "\n",
    "plt.figure(figsize=(10, 5))\n",
    "plt.imshow(wordcloud, interpolation='bilinear')\n",
    "\n",
    "plt.axis('off')\n",
    "\n",
    "plt.title('Frequency for Reported News Source Usage during the COVID-19 Pandemic')\n",
    "\n",
    "plt.tight_layout()\n",
    "\n",
    "plt.savefig(r\"../../8_final_visualisations/misinformation_ofcom/news_sources_figures/news_sources_word_cloud.png\", dpi=300)\n",
    "\n",
    "plt.close()"
   ]
  },
  {
   "cell_type": "markdown",
   "id": "c0f11a66-4b9a-444b-9d45-762d963b23fe",
   "metadata": {},
   "source": [
    "## 12. Vaccination"
   ]
  },
  {
   "cell_type": "markdown",
   "id": "342e4fe5-ec9a-4a80-ba84-1878d6ffacdf",
   "metadata": {},
   "source": [
    "### OFCOM DATA"
   ]
  },
  {
   "cell_type": "code",
   "execution_count": 197,
   "id": "91ab9b88-2fb5-47ac-b8ea-ec8ad3a56360",
   "metadata": {},
   "outputs": [],
   "source": [
    "vaccination_survey_dataframe = ofcom_dataframes['to_what_extent_do_you_agree_or_disagree_with_the_following_statements_i_would_agree_to_be_vaccinated_against_the_coronavirus_if_there_was_a_vaccine_approved_by_the']"
   ]
  },
  {
   "cell_type": "code",
   "execution_count": 198,
   "id": "6c15d66e-3953-4152-8580-1db62e37e9b0",
   "metadata": {},
   "outputs": [],
   "source": [
    "values_to_remove = [\n",
    "    \"NET: Agree\",\n",
    "    \"NET: Disagree\",\n",
    "    \"Standard deviation\",\n",
    "    \"Standard error\",\n",
    "    \"Unweighted base\",\n",
    "    \"Weighted base\",\n",
    "    \"Standard deviation Standard error\",\n",
    "    \"Mean\"\n",
    "]"
   ]
  },
  {
   "cell_type": "code",
   "execution_count": 199,
   "id": "ac46e46f-39e2-48c4-84af-b046494dfc0c",
   "metadata": {},
   "outputs": [
    {
     "data": {
      "text/plain": [
       "'to_what_extent_do_you_agree_or_disagree_with_the_following_statements?_i_would_agree_to_be_vaccinated_against_the_coronavirus_if_there_was_a_vaccine_approved_by_the'"
      ]
     },
     "execution_count": 199,
     "metadata": {},
     "output_type": "execute_result"
    }
   ],
   "source": [
    "vaccination_survey_dataframe['question'][0]"
   ]
  },
  {
   "cell_type": "code",
   "execution_count": 200,
   "id": "6d948451-2cb5-4ef4-b943-929dbe7c5989",
   "metadata": {},
   "outputs": [],
   "source": [
    "vaccination_survey_dataframe = vaccination_survey_dataframe[~vaccination_survey_dataframe['response'].isin(values_to_remove)]"
   ]
  },
  {
   "cell_type": "code",
   "execution_count": 201,
   "id": "01f07320-6a05-4b04-bb6b-79e19ac183a6",
   "metadata": {},
   "outputs": [],
   "source": [
    "vaccination_survey_dataframe = vaccination_survey_dataframe[['response', 'eastern', 'north_east', 'north_west', 'yorkshire_&_humberside', 'west_midlands', 'east_midlands', 'london', 'south_east', 'south_west']]"
   ]
  },
  {
   "cell_type": "code",
   "execution_count": 202,
   "id": "6d2e489a-5ece-4c21-a8aa-136dd52b2d38",
   "metadata": {},
   "outputs": [],
   "source": [
    "location_columns = ['north_east', 'eastern', 'north_west', 'yorkshire_&_humberside','west_midlands', 'east_midlands', 'london', 'south_east', 'south_west']"
   ]
  },
  {
   "cell_type": "code",
   "execution_count": 203,
   "id": "0b73d2fa-d295-476e-a6a0-daf7d79d7ff9",
   "metadata": {},
   "outputs": [],
   "source": [
    "vaccination_survey_dataframe[location_columns] = vaccination_survey_dataframe[location_columns].astype(int)"
   ]
  },
  {
   "cell_type": "code",
   "execution_count": 204,
   "id": "f7822495-59b8-41bf-9be4-1b599a3916f9",
   "metadata": {},
   "outputs": [],
   "source": [
    "vaccination_survey_dataframe = vaccination_survey_dataframe.groupby(['response'], as_index=False)[location_columns].sum()"
   ]
  },
  {
   "cell_type": "code",
   "execution_count": 205,
   "id": "acd90990-a088-40d9-81b6-00c673a35a7e",
   "metadata": {},
   "outputs": [],
   "source": [
    "vaccination_survey_dataframe['response_weighting'] = pd.to_numeric(vaccination_survey_dataframe['response'].str[-3:-1], errors='coerce'\n",
    ").fillna(0).astype(int)"
   ]
  },
  {
   "cell_type": "code",
   "execution_count": 206,
   "id": "f143c4c3-2239-4f90-ac92-609948e6ac6c",
   "metadata": {},
   "outputs": [],
   "source": [
    "for location in location_columns:\n",
    "    vaccination_survey_dataframe[f'weighted_survey_{location}'] = vaccination_survey_dataframe[location]*vaccination_survey_dataframe['response_weighting']"
   ]
  },
  {
   "cell_type": "code",
   "execution_count": 207,
   "id": "8b350ec1-341b-4790-99f1-ccf19d4b8676",
   "metadata": {},
   "outputs": [],
   "source": [
    "weighted_survey_series= vaccination_survey_dataframe[['weighted_survey_north_east',\n",
    "       'weighted_survey_north_west', 'weighted_survey_yorkshire_&_humberside',\n",
    "       'weighted_survey_west_midlands', 'weighted_survey_east_midlands',\n",
    "       'weighted_survey_london', 'weighted_survey_south_east',\n",
    "       'weighted_survey_south_west', 'weighted_survey_eastern']]"
   ]
  },
  {
   "cell_type": "code",
   "execution_count": 208,
   "id": "b78638a6-b1ec-4656-8ef1-d61ba858cf32",
   "metadata": {},
   "outputs": [],
   "source": [
    "sums = weighted_survey_series.sum()"
   ]
  },
  {
   "cell_type": "code",
   "execution_count": 209,
   "id": "d4775b45-214b-42b8-ac59-669e9d503b94",
   "metadata": {},
   "outputs": [],
   "source": [
    "weighted_survey_dataframe = sums.to_frame()"
   ]
  },
  {
   "cell_type": "code",
   "execution_count": 210,
   "id": "6e639539-9bf8-467b-bd99-c04a73b67124",
   "metadata": {},
   "outputs": [],
   "source": [
    "weighted_survey_dataframe.rename(columns={0: 'vaccine_sentiment'}, inplace=True)"
   ]
  },
  {
   "cell_type": "code",
   "execution_count": 211,
   "id": "50932168-9dad-4563-97ac-a738f662433b",
   "metadata": {},
   "outputs": [],
   "source": [
    "weighted_survey_dataframe.index = weighted_survey_dataframe.index.str.replace('weighted_survey_', '')"
   ]
  },
  {
   "cell_type": "code",
   "execution_count": 212,
   "id": "205b8f28-b1cf-43fd-a268-b9d4ae689b6a",
   "metadata": {},
   "outputs": [],
   "source": [
    "weighted_survey_dataframe.rename(index={'eastern': 'east_of_england', 'yorkshire_&_humberside': 'yorkshire_and_the_humber'}, inplace=True)\n",
    "weighted_survey_dataframe.index.name = 'area_name'"
   ]
  },
  {
   "cell_type": "markdown",
   "id": "4ee2c57b-385b-4934-a0fc-5b69f5ee5e66",
   "metadata": {},
   "source": [
    "## UKHSA Vaccine Data"
   ]
  },
  {
   "cell_type": "code",
   "execution_count": 213,
   "id": "987bf380-6618-459f-85c4-25323f4fe91e",
   "metadata": {},
   "outputs": [
    {
     "data": {
      "text/plain": [
       "Timestamp('2020-12-08 00:00:00')"
      ]
     },
     "execution_count": 213,
     "metadata": {},
     "output_type": "execute_result"
    }
   ],
   "source": [
    "ukhsa_vaccination_dataframe['date'] = pd.to_datetime(ukhsa_vaccination_dataframe['date'])\n",
    "ukhsa_vaccination_dataframe['date'].min()"
   ]
  },
  {
   "cell_type": "code",
   "execution_count": 214,
   "id": "5ca5a51f-46c5-4e75-9476-b40ba3e3a5bb",
   "metadata": {},
   "outputs": [],
   "source": [
    "december_2020_vaccination_dataframe = ukhsa_vaccination_dataframe[(ukhsa_vaccination_dataframe['date'] >= '2020-12-01') & (ukhsa_vaccination_dataframe['date'] <= '2020-12-31')]"
   ]
  },
  {
   "cell_type": "code",
   "execution_count": 215,
   "id": "cbd64441-e641-4e5b-a9ad-b2538d7fdc73",
   "metadata": {},
   "outputs": [],
   "source": [
    "december_region_vaccination = december_2020_vaccination_dataframe[['date', 'area_name', 'newPeopleVaccinatedFirstDoseByVaccinationDate', 'VaccineRegisterPopulationByVaccinationDate']]"
   ]
  },
  {
   "cell_type": "code",
   "execution_count": 216,
   "id": "fd864bb7-0fdd-4c5e-a990-49c275d590b9",
   "metadata": {},
   "outputs": [],
   "source": [
    "december_region_vaccination = december_region_vaccination.groupby(['area_name'], as_index=False)[['newPeopleVaccinatedFirstDoseByVaccinationDate', 'VaccineRegisterPopulationByVaccinationDate']].sum()"
   ]
  },
  {
   "cell_type": "code",
   "execution_count": 217,
   "id": "4198c686-a457-4cab-b4cf-ded0509ccda3",
   "metadata": {},
   "outputs": [],
   "source": [
    "december_region_vaccination['percentage_vaccine_uptake'] = (december_region_vaccination['newPeopleVaccinatedFirstDoseByVaccinationDate']/december_region_vaccination['VaccineRegisterPopulationByVaccinationDate'])*100"
   ]
  },
  {
   "cell_type": "code",
   "execution_count": 218,
   "id": "be19e12e-03b3-48df-b9a3-9b13fb7002a0",
   "metadata": {},
   "outputs": [],
   "source": [
    "december_region_vaccination = december_region_vaccination[['area_name', 'percentage_vaccine_uptake']]"
   ]
  },
  {
   "cell_type": "code",
   "execution_count": 219,
   "id": "75abea99-a6f4-4cee-a330-fb6d2bae1271",
   "metadata": {},
   "outputs": [],
   "source": [
    "december_region_vaccination = december_region_vaccination.set_index('area_name')"
   ]
  },
  {
   "cell_type": "code",
   "execution_count": 220,
   "id": "f085bdb0-80dc-41ee-bde1-14540ffeb4fc",
   "metadata": {},
   "outputs": [
    {
     "data": {
      "text/html": [
       "<div>\n",
       "<style scoped>\n",
       "    .dataframe tbody tr th:only-of-type {\n",
       "        vertical-align: middle;\n",
       "    }\n",
       "\n",
       "    .dataframe tbody tr th {\n",
       "        vertical-align: top;\n",
       "    }\n",
       "\n",
       "    .dataframe thead th {\n",
       "        text-align: right;\n",
       "    }\n",
       "</style>\n",
       "<table border=\"1\" class=\"dataframe\">\n",
       "  <thead>\n",
       "    <tr style=\"text-align: right;\">\n",
       "      <th></th>\n",
       "      <th>percentage_vaccine_uptake</th>\n",
       "    </tr>\n",
       "    <tr>\n",
       "      <th>area_name</th>\n",
       "      <th></th>\n",
       "    </tr>\n",
       "  </thead>\n",
       "  <tbody>\n",
       "    <tr>\n",
       "      <th>east_midlands</th>\n",
       "      <td>0.060550</td>\n",
       "    </tr>\n",
       "    <tr>\n",
       "      <th>east_of_england</th>\n",
       "      <td>0.054953</td>\n",
       "    </tr>\n",
       "    <tr>\n",
       "      <th>london</th>\n",
       "      <td>0.043354</td>\n",
       "    </tr>\n",
       "    <tr>\n",
       "      <th>north_east</th>\n",
       "      <td>0.098421</td>\n",
       "    </tr>\n",
       "    <tr>\n",
       "      <th>north_west</th>\n",
       "      <td>0.072159</td>\n",
       "    </tr>\n",
       "    <tr>\n",
       "      <th>south_east</th>\n",
       "      <td>0.071699</td>\n",
       "    </tr>\n",
       "    <tr>\n",
       "      <th>south_west</th>\n",
       "      <td>0.079419</td>\n",
       "    </tr>\n",
       "    <tr>\n",
       "      <th>west_midlands</th>\n",
       "      <td>0.072831</td>\n",
       "    </tr>\n",
       "    <tr>\n",
       "      <th>yorkshire_and_the_humber</th>\n",
       "      <td>0.065215</td>\n",
       "    </tr>\n",
       "  </tbody>\n",
       "</table>\n",
       "</div>"
      ],
      "text/plain": [
       "                          percentage_vaccine_uptake\n",
       "area_name                                          \n",
       "east_midlands                              0.060550\n",
       "east_of_england                            0.054953\n",
       "london                                     0.043354\n",
       "north_east                                 0.098421\n",
       "north_west                                 0.072159\n",
       "south_east                                 0.071699\n",
       "south_west                                 0.079419\n",
       "west_midlands                              0.072831\n",
       "yorkshire_and_the_humber                   0.065215"
      ]
     },
     "execution_count": 220,
     "metadata": {},
     "output_type": "execute_result"
    }
   ],
   "source": [
    "december_region_vaccination"
   ]
  },
  {
   "cell_type": "markdown",
   "id": "f4766270-25ed-428b-9058-f4d57698dfa9",
   "metadata": {},
   "source": [
    "### It would be useful to represent the data on a map so that you can visually see the uptake of vaccinations and the overall feelings towards vaccination in a similar time period"
   ]
  },
  {
   "cell_type": "markdown",
   "id": "58d14b60-0f2e-4d24-993f-72e93b04006a",
   "metadata": {},
   "source": [
    "### In order to plot the data geographically I need to first read the shape file using the geopandas library. I found the necessary region shapefiles on the [Geoportal Statistics website](https://geoportal.statistics.gov.uk/datasets/cca6931ac5e54dcfba12ebbee4d9ae60_0/explore?location=52.083344%2C0.353373%2C5.73)"
   ]
  },
  {
   "cell_type": "code",
   "execution_count": 221,
   "id": "edbd5073-acb2-4616-8c63-23e4b25a9b32",
   "metadata": {},
   "outputs": [],
   "source": "shapefile_path = r'../../shape_files/Regions Dec 2020 EN BUC (1)/RGN_DEC_2020_EN_BUC.shp'"
  },
  {
   "cell_type": "code",
   "execution_count": 222,
   "id": "2a16b71c-efd2-4298-a4da-4aca102890f6",
   "metadata": {},
   "outputs": [],
   "source": [
    "gdf = gpd.read_file(shapefile_path)"
   ]
  },
  {
   "cell_type": "code",
   "execution_count": 223,
   "id": "de20bfce-e928-47bc-a6ea-26195c708781",
   "metadata": {},
   "outputs": [],
   "source": [
    "gdf['area_name'] = gdf['RGN20NM'].str.lower().str.replace(' ', '_')"
   ]
  },
  {
   "cell_type": "code",
   "execution_count": 224,
   "id": "9ffea8f5-1eda-4365-b2f7-82ebfd26cd4e",
   "metadata": {},
   "outputs": [],
   "source": [
    "gdf = gdf.set_index('area_name')"
   ]
  },
  {
   "cell_type": "code",
   "execution_count": 225,
   "id": "83b53182-ce73-4fb1-af64-ce6ca551ded8",
   "metadata": {},
   "outputs": [],
   "source": [
    "merged_dataframe = pd.merge(gdf, weighted_survey_dataframe, left_index=True, right_index=True)"
   ]
  },
  {
   "cell_type": "markdown",
   "id": "1e919f38-98aa-4340-b193-f9b57103099e",
   "metadata": {},
   "source": [
    "### Willingness to be vaccinated plot"
   ]
  },
  {
   "cell_type": "code",
   "execution_count": 226,
   "id": "b7e86258-01ea-4131-b0f9-5170d59f3e7a",
   "metadata": {},
   "outputs": [
    {
     "data": {
      "image/png": "[encoded data removed]",
      "text/plain": [
       "<Figure size 1000x1000 with 2 Axes>"
      ]
     },
     "metadata": {},
     "output_type": "display_data"
    }
   ],
   "source": [
    "fig, ax = plt.subplots(1, 1, figsize=(10, 10))\n",
    "\n",
    "map_plot = merged_dataframe.plot(\n",
    "    ax=ax, \n",
    "    column=merged_dataframe['vaccine_sentiment'], \n",
    "    cmap='viridis_r', \n",
    "    linewidth=0.01, \n",
    "    edgecolor='0', \n",
    "    legend=True\n",
    ")\n",
    "\n",
    "ax.text(0.45, -0.05, \"Public Sentiment on Vaccine Acceptance\", fontsize=18, color='black', fontweight='bold', ha='center', transform=ax.transAxes)\n",
    "ax.text(0.12, 0.010, \"Source:\", fontsize=10, color='black', fontweight='bold', ha='center',  transform=ax.transAxes)\n",
    "ax.text(0.47, 0.010, \"OFCOM Covid-19 news and information, consumption and attitudes.\", fontsize=10, color='black', ha='center',  transform=ax.transAxes)\n",
    "ax.text(0.115, -0.01, \"Metric:\", fontsize=10, color='black', fontweight='bold', ha='center',  transform=ax.transAxes)\n",
    "ax.text(0.53, -0.01, \"Survey response: I would agree to be vaccinated if there was a vaccine approved.\", fontsize=10, color='black', ha='center',  transform=ax.transAxes)\n",
    "\n",
    "ax.set_xticks([])\n",
    "ax.set_yticks([])\n",
    "\n",
    "cbar = map_plot.get_figure().get_axes()[-1]\n",
    "\n",
    "cbar.set_yticks(np.linspace(merged_dataframe['vaccine_sentiment'].min()+25, merged_dataframe['vaccine_sentiment'].max()-25, 3))\n",
    "cbar.set_yticklabels(['High', 'Neither\\nAgree\\nNor\\nDisagree', 'Strongly\\nAgree'])\n",
    "cbar.spines['outline'].set_visible(False) \n",
    "\n",
    "colours = ['#E0E34E', '#478F8B', '#411560' ]\n",
    "\n",
    "for label, colour in zip(cbar.get_yticklabels(), colours):\n",
    "    label.set_fontweight('bold')\n",
    "    label.set_color(colour) \n",
    "    label.set_fontsize(10) \n",
    "\n",
    "ax.spines['left'].set_visible(False)\n",
    "ax.spines['right'].set_visible(False)\n",
    "ax.spines['top'].set_visible(False)\n",
    "ax.spines['bottom'].set_visible(False)\n",
    "\n",
    "plt.tight_layout()\n",
    "\n",
    "plt.show()\n",
    "\n",
    "fig.savefig(r\"../../8_final_visualisations/misinformation_ofcom/vaccination/willingness_for_vaccination.png\", dpi=300)\n",
    "\n",
    "plt.close('all')"
   ]
  },
  {
   "cell_type": "markdown",
   "id": "fbcf5217-477c-4ca0-8618-7ffadbc25f99",
   "metadata": {},
   "source": [
    "### Uptake of vaccination by region"
   ]
  },
  {
   "cell_type": "code",
   "execution_count": 227,
   "id": "eac23339-2138-46d7-8802-812f741790f9",
   "metadata": {},
   "outputs": [
    {
     "data": {
      "text/html": [
       "<div>\n",
       "<style scoped>\n",
       "    .dataframe tbody tr th:only-of-type {\n",
       "        vertical-align: middle;\n",
       "    }\n",
       "\n",
       "    .dataframe tbody tr th {\n",
       "        vertical-align: top;\n",
       "    }\n",
       "\n",
       "    .dataframe thead th {\n",
       "        text-align: right;\n",
       "    }\n",
       "</style>\n",
       "<table border=\"1\" class=\"dataframe\">\n",
       "  <thead>\n",
       "    <tr style=\"text-align: right;\">\n",
       "      <th></th>\n",
       "      <th>percentage_vaccine_uptake</th>\n",
       "    </tr>\n",
       "    <tr>\n",
       "      <th>area_name</th>\n",
       "      <th></th>\n",
       "    </tr>\n",
       "  </thead>\n",
       "  <tbody>\n",
       "    <tr>\n",
       "      <th>east_midlands</th>\n",
       "      <td>0.060550</td>\n",
       "    </tr>\n",
       "    <tr>\n",
       "      <th>east_of_england</th>\n",
       "      <td>0.054953</td>\n",
       "    </tr>\n",
       "    <tr>\n",
       "      <th>london</th>\n",
       "      <td>0.043354</td>\n",
       "    </tr>\n",
       "    <tr>\n",
       "      <th>north_east</th>\n",
       "      <td>0.098421</td>\n",
       "    </tr>\n",
       "    <tr>\n",
       "      <th>north_west</th>\n",
       "      <td>0.072159</td>\n",
       "    </tr>\n",
       "    <tr>\n",
       "      <th>south_east</th>\n",
       "      <td>0.071699</td>\n",
       "    </tr>\n",
       "    <tr>\n",
       "      <th>south_west</th>\n",
       "      <td>0.079419</td>\n",
       "    </tr>\n",
       "    <tr>\n",
       "      <th>west_midlands</th>\n",
       "      <td>0.072831</td>\n",
       "    </tr>\n",
       "    <tr>\n",
       "      <th>yorkshire_and_the_humber</th>\n",
       "      <td>0.065215</td>\n",
       "    </tr>\n",
       "  </tbody>\n",
       "</table>\n",
       "</div>"
      ],
      "text/plain": [
       "                          percentage_vaccine_uptake\n",
       "area_name                                          \n",
       "east_midlands                              0.060550\n",
       "east_of_england                            0.054953\n",
       "london                                     0.043354\n",
       "north_east                                 0.098421\n",
       "north_west                                 0.072159\n",
       "south_east                                 0.071699\n",
       "south_west                                 0.079419\n",
       "west_midlands                              0.072831\n",
       "yorkshire_and_the_humber                   0.065215"
      ]
     },
     "execution_count": 227,
     "metadata": {},
     "output_type": "execute_result"
    }
   ],
   "source": [
    "december_region_vaccination"
   ]
  },
  {
   "cell_type": "code",
   "execution_count": 228,
   "id": "cc6af5ae-4ba1-40df-94e2-87ba59e057a0",
   "metadata": {},
   "outputs": [],
   "source": [
    "merged_dataframe = pd.merge(gdf, december_region_vaccination, left_index=True, right_index=True)"
   ]
  },
  {
   "cell_type": "code",
   "execution_count": 229,
   "id": "1cc75c4a-a817-4b62-8d68-9fbf2f553766",
   "metadata": {},
   "outputs": [],
   "source": [
    "fig, ax = plt.subplots(1, 1, figsize=(10, 10))\n",
    "\n",
    "map_plot = merged_dataframe.plot(\n",
    "    ax=ax, \n",
    "    column=merged_dataframe['percentage_vaccine_uptake'], \n",
    "    cmap='viridis_r', \n",
    "    linewidth=0.01, \n",
    "    edgecolor='0',\n",
    "    legend=True)\n",
    "\n",
    "ax.text(0.31, -0.05, \"Vaccine uptake by region\", fontsize=18, color='black', fontweight='bold', ha='center', transform=ax.transAxes)\n",
    "ax.text(0.12, 0.010, \"Source:\", fontsize=10, color='black', fontweight='bold', ha='center',  transform=ax.transAxes)\n",
    "ax.text(0.37, 0.010, \"UKHSA COVID-19 vaccine monitoring reports.\", fontsize=10, color='black', ha='center',  transform=ax.transAxes)\n",
    "ax.text(0.12, -0.01, \"Metric:\", fontsize=10, color='black', fontweight='bold', ha='center',  transform=ax.transAxes)\n",
    "ax.text(0.33, -0.01, \"Percentage Vaccine Uptake by Region.\", fontsize=10, color='black', ha='center',  transform=ax.transAxes)\n",
    "\n",
    "ax.set_xticks([])\n",
    "ax.set_yticks([])\n",
    "\n",
    "cbar = map_plot.get_figure().get_axes()[-1]\n",
    "\n",
    "cbar.set_yticks(np.linspace(merged_dataframe['percentage_vaccine_uptake'].min()+0.003, merged_dataframe['percentage_vaccine_uptake'].max()-0.003, 3))\n",
    "cbar.set_yticklabels(['Low', 'Medium', 'High'])\n",
    "cbar.spines['outline'].set_visible(False) \n",
    "\n",
    "colours = ['#E0E34E', '#478F8B', '#411560' ]\n",
    "\n",
    "for label, colour in zip(cbar.get_yticklabels(), colours):\n",
    "    label.set_fontweight('bold')\n",
    "    label.set_color(colour) \n",
    "    label.set_fontsize(10) \n",
    "\n",
    "ax.spines['left'].set_visible(False)\n",
    "ax.spines['right'].set_visible(False)\n",
    "ax.spines['top'].set_visible(False)\n",
    "ax.spines['bottom'].set_visible(False)\n",
    "\n",
    "plt.tight_layout()\n",
    "\n",
    "fig.savefig(r\"../../8_final_visualisations/misinformation_ofcom/vaccination/vaccine_uptake_by_region.png\", dpi=300)\n",
    "\n",
    "plt.close('all')"
   ]
  },
  {
   "cell_type": "markdown",
   "id": "8fcd2105-bec9-4b18-b024-afe1d2bdb91e",
   "metadata": {},
   "source": [
    "##. 13 Sources of misinformation"
   ]
  },
  {
   "cell_type": "code",
   "execution_count": 230,
   "id": "a81c0480-4b1d-4091-b556-c4b89a6698e6",
   "metadata": {},
   "outputs": [],
   "source": [
    "sources = ofcom_dataframes['source_of_claims_about_about_face_maskscoverings_offering_no_protection_or_being_harmful__as_true']"
   ]
  },
  {
   "cell_type": "code",
   "execution_count": 231,
   "id": "504fdae8-4179-4de8-9f37-710cb9f6bb9d",
   "metadata": {},
   "outputs": [],
   "source": [
    "list_sources = [\n",
    "    'source_of_claims_about_about_face_maskscoverings_offering_no_protection_or_being_harmful__as_true',\n",
    "    'source_of_claims_that_the_coronavirus_vaccine_is_a_cover_for_a_plan_to_implant_trackable_microchips_in_people_reported_as_true',\n",
    "    'source_of_claims_about_empty_hospitals_on_social_media_posts_prove_that_coronavirus_has_been_exaggerated_reported_as_true',\n",
    "    'source_of_theory_linking_coronavirus_to_5g_technology_reported_as_true',\n",
    "    'source_of_claims_stating_that_the_flu_alone_is_killing_more_people_than_coronavirus_as_true',\n",
    "    'source_of_claims_about_about_injecting_disinfectant_as_true',\n",
    "    'source_of_claims_about_the_potential_dangers_of_a_coronavirus_vaccine_reported_as_true'\n",
    "]"
   ]
  },
  {
   "cell_type": "code",
   "execution_count": 232,
   "id": "7d3436f4-5cf0-4478-817e-376b4e721b80",
   "metadata": {},
   "outputs": [
    {
     "data": {
      "text/html": [
       "<div>\n",
       "<style scoped>\n",
       "    .dataframe tbody tr th:only-of-type {\n",
       "        vertical-align: middle;\n",
       "    }\n",
       "\n",
       "    .dataframe tbody tr th {\n",
       "        vertical-align: top;\n",
       "    }\n",
       "\n",
       "    .dataframe thead th {\n",
       "        text-align: right;\n",
       "    }\n",
       "</style>\n",
       "<table border=\"1\" class=\"dataframe\">\n",
       "  <thead>\n",
       "    <tr style=\"text-align: right;\">\n",
       "      <th></th>\n",
       "      <th>start_date</th>\n",
       "      <th>end_date</th>\n",
       "      <th>question</th>\n",
       "      <th>response</th>\n",
       "      <th>total</th>\n",
       "      <th>male</th>\n",
       "      <th>female</th>\n",
       "      <th>16-24</th>\n",
       "      <th>18-24</th>\n",
       "      <th>25-34</th>\n",
       "      <th>...</th>\n",
       "      <th>yorkshire_&amp;_humberside</th>\n",
       "      <th>west_midlands</th>\n",
       "      <th>east_midlands</th>\n",
       "      <th>wales</th>\n",
       "      <th>eastern</th>\n",
       "      <th>london</th>\n",
       "      <th>south_east</th>\n",
       "      <th>south_west</th>\n",
       "      <th>northern_ireland</th>\n",
       "      <th>net:_england</th>\n",
       "    </tr>\n",
       "  </thead>\n",
       "  <tbody>\n",
       "    <tr>\n",
       "      <th>0</th>\n",
       "      <td>2020-10-09</td>\n",
       "      <td>2020-10-11</td>\n",
       "      <td>source_of_claims_about_about_face_masks/coveri...</td>\n",
       "      <td>Unweighted base</td>\n",
       "      <td>235.0</td>\n",
       "      <td>109.0</td>\n",
       "      <td>126.0</td>\n",
       "      <td>23</td>\n",
       "      <td>20</td>\n",
       "      <td>37</td>\n",
       "      <td>...</td>\n",
       "      <td>16.0</td>\n",
       "      <td>11.0</td>\n",
       "      <td>22.0</td>\n",
       "      <td>13</td>\n",
       "      <td>19</td>\n",
       "      <td>30.0</td>\n",
       "      <td>31.0</td>\n",
       "      <td>21.0</td>\n",
       "      <td>7.0</td>\n",
       "      <td>190.0</td>\n",
       "    </tr>\n",
       "    <tr>\n",
       "      <th>1</th>\n",
       "      <td>2020-10-09</td>\n",
       "      <td>2020-10-11</td>\n",
       "      <td>source_of_claims_about_about_face_masks/coveri...</td>\n",
       "      <td>Weighted base</td>\n",
       "      <td>241.0</td>\n",
       "      <td>114.0</td>\n",
       "      <td>127.0</td>\n",
       "      <td>26</td>\n",
       "      <td>22</td>\n",
       "      <td>38</td>\n",
       "      <td>...</td>\n",
       "      <td>15.0</td>\n",
       "      <td>12.0</td>\n",
       "      <td>19.0</td>\n",
       "      <td>14</td>\n",
       "      <td>21</td>\n",
       "      <td>32.0</td>\n",
       "      <td>36.0</td>\n",
       "      <td>18.0</td>\n",
       "      <td>7.0</td>\n",
       "      <td>197.0</td>\n",
       "    </tr>\n",
       "    <tr>\n",
       "      <th>2</th>\n",
       "      <td>2020-10-09</td>\n",
       "      <td>2020-10-11</td>\n",
       "      <td>source_of_claims_about_about_face_masks/coveri...</td>\n",
       "      <td>“Red-top tabloids” such as The Sun or Mirror (...</td>\n",
       "      <td>2.0</td>\n",
       "      <td>1.0</td>\n",
       "      <td>1.0</td>\n",
       "      <td>0</td>\n",
       "      <td>0</td>\n",
       "      <td>1</td>\n",
       "      <td>...</td>\n",
       "      <td>0.0</td>\n",
       "      <td>1.0</td>\n",
       "      <td>0.0</td>\n",
       "      <td>0</td>\n",
       "      <td>0</td>\n",
       "      <td>0.0</td>\n",
       "      <td>0.0</td>\n",
       "      <td>0.0</td>\n",
       "      <td>0.0</td>\n",
       "      <td>2.0</td>\n",
       "    </tr>\n",
       "    <tr>\n",
       "      <th>3</th>\n",
       "      <td>2020-10-09</td>\n",
       "      <td>2020-10-11</td>\n",
       "      <td>source_of_claims_about_about_face_masks/coveri...</td>\n",
       "      <td>Non-mainstream news sources such as Russia Tod...</td>\n",
       "      <td>2.0</td>\n",
       "      <td>2.0</td>\n",
       "      <td>1.0</td>\n",
       "      <td>1</td>\n",
       "      <td>1</td>\n",
       "      <td>1</td>\n",
       "      <td>...</td>\n",
       "      <td>0.0</td>\n",
       "      <td>0.0</td>\n",
       "      <td>1.0</td>\n",
       "      <td>0</td>\n",
       "      <td>1</td>\n",
       "      <td>1.0</td>\n",
       "      <td>0.0</td>\n",
       "      <td>0.0</td>\n",
       "      <td>0.0</td>\n",
       "      <td>2.0</td>\n",
       "    </tr>\n",
       "    <tr>\n",
       "      <th>4</th>\n",
       "      <td>2020-10-09</td>\n",
       "      <td>2020-10-11</td>\n",
       "      <td>source_of_claims_about_about_face_masks/coveri...</td>\n",
       "      <td>Direct from NHS website/ email/ text/ post</td>\n",
       "      <td>2.0</td>\n",
       "      <td>2.0</td>\n",
       "      <td>0.0</td>\n",
       "      <td>0</td>\n",
       "      <td>0</td>\n",
       "      <td>0</td>\n",
       "      <td>...</td>\n",
       "      <td>0.0</td>\n",
       "      <td>0.0</td>\n",
       "      <td>0.0</td>\n",
       "      <td>0</td>\n",
       "      <td>0</td>\n",
       "      <td>0.0</td>\n",
       "      <td>0.0</td>\n",
       "      <td>1.0</td>\n",
       "      <td>0.0</td>\n",
       "      <td>1.0</td>\n",
       "    </tr>\n",
       "    <tr>\n",
       "      <th>...</th>\n",
       "      <td>...</td>\n",
       "      <td>...</td>\n",
       "      <td>...</td>\n",
       "      <td>...</td>\n",
       "      <td>...</td>\n",
       "      <td>...</td>\n",
       "      <td>...</td>\n",
       "      <td>...</td>\n",
       "      <td>...</td>\n",
       "      <td>...</td>\n",
       "      <td>...</td>\n",
       "      <td>...</td>\n",
       "      <td>...</td>\n",
       "      <td>...</td>\n",
       "      <td>...</td>\n",
       "      <td>...</td>\n",
       "      <td>...</td>\n",
       "      <td>...</td>\n",
       "      <td>...</td>\n",
       "      <td>...</td>\n",
       "      <td>...</td>\n",
       "    </tr>\n",
       "    <tr>\n",
       "      <th>61</th>\n",
       "      <td>2020-10-09</td>\n",
       "      <td>2020-10-11</td>\n",
       "      <td>source_of_claims_about_about_face_masks/coveri...</td>\n",
       "      <td>Websites/apps of online news organisations lik...</td>\n",
       "      <td>4.0</td>\n",
       "      <td>2.0</td>\n",
       "      <td>2.0</td>\n",
       "      <td>0</td>\n",
       "      <td>0</td>\n",
       "      <td>1</td>\n",
       "      <td>...</td>\n",
       "      <td>NaN</td>\n",
       "      <td>1.0</td>\n",
       "      <td>NaN</td>\n",
       "      <td>0</td>\n",
       "      <td>0</td>\n",
       "      <td>0.0</td>\n",
       "      <td>1.0</td>\n",
       "      <td>1.0</td>\n",
       "      <td>0.0</td>\n",
       "      <td>4.0</td>\n",
       "    </tr>\n",
       "    <tr>\n",
       "      <th>62</th>\n",
       "      <td>2020-10-09</td>\n",
       "      <td>2020-10-11</td>\n",
       "      <td>source_of_claims_about_about_face_masks/coveri...</td>\n",
       "      <td>Snapchat</td>\n",
       "      <td>4.0</td>\n",
       "      <td>0.0</td>\n",
       "      <td>4.0</td>\n",
       "      <td>4</td>\n",
       "      <td>4</td>\n",
       "      <td>0</td>\n",
       "      <td>...</td>\n",
       "      <td>0.0</td>\n",
       "      <td>0.0</td>\n",
       "      <td>0.0</td>\n",
       "      <td>0</td>\n",
       "      <td>0</td>\n",
       "      <td>2.0</td>\n",
       "      <td>1.0</td>\n",
       "      <td>0.0</td>\n",
       "      <td>0.0</td>\n",
       "      <td>4.0</td>\n",
       "    </tr>\n",
       "    <tr>\n",
       "      <th>63</th>\n",
       "      <td>2020-10-09</td>\n",
       "      <td>2020-10-11</td>\n",
       "      <td>source_of_claims_about_about_face_masks/coveri...</td>\n",
       "      <td>WhatsApp group(s)</td>\n",
       "      <td>3.0</td>\n",
       "      <td>1.0</td>\n",
       "      <td>3.0</td>\n",
       "      <td>2</td>\n",
       "      <td>2</td>\n",
       "      <td>0</td>\n",
       "      <td>...</td>\n",
       "      <td>0.0</td>\n",
       "      <td>0.0</td>\n",
       "      <td>0.0</td>\n",
       "      <td>1</td>\n",
       "      <td>0</td>\n",
       "      <td>3.0</td>\n",
       "      <td>0.0</td>\n",
       "      <td>0.0</td>\n",
       "      <td>0.0</td>\n",
       "      <td>3.0</td>\n",
       "    </tr>\n",
       "    <tr>\n",
       "      <th>64</th>\n",
       "      <td>2020-10-09</td>\n",
       "      <td>2020-10-11</td>\n",
       "      <td>source_of_claims_about_about_face_masks/coveri...</td>\n",
       "      <td>“Mid-market tabloids” such as The Daily Mail o...</td>\n",
       "      <td>8.0</td>\n",
       "      <td>6.0</td>\n",
       "      <td>2.0</td>\n",
       "      <td>0</td>\n",
       "      <td>0</td>\n",
       "      <td>0</td>\n",
       "      <td>...</td>\n",
       "      <td>0.0</td>\n",
       "      <td>0.0</td>\n",
       "      <td>0.0</td>\n",
       "      <td>1</td>\n",
       "      <td>1</td>\n",
       "      <td>0.0</td>\n",
       "      <td>0.0</td>\n",
       "      <td>1.0</td>\n",
       "      <td>0.0</td>\n",
       "      <td>7.0</td>\n",
       "    </tr>\n",
       "    <tr>\n",
       "      <th>65</th>\n",
       "      <td>2020-10-09</td>\n",
       "      <td>2020-10-11</td>\n",
       "      <td>source_of_claims_about_about_face_masks/coveri...</td>\n",
       "      <td>I don't know where the source is from</td>\n",
       "      <td>2.0</td>\n",
       "      <td>1.0</td>\n",
       "      <td>NaN</td>\n",
       "      <td>0</td>\n",
       "      <td>0</td>\n",
       "      <td>0</td>\n",
       "      <td>...</td>\n",
       "      <td>0.0</td>\n",
       "      <td>0.0</td>\n",
       "      <td>0.0</td>\n",
       "      <td>0</td>\n",
       "      <td>0</td>\n",
       "      <td>0.0</td>\n",
       "      <td>1.0</td>\n",
       "      <td>0.0</td>\n",
       "      <td>NaN</td>\n",
       "      <td>1.0</td>\n",
       "    </tr>\n",
       "  </tbody>\n",
       "</table>\n",
       "<p>66 rows × 31 columns</p>\n",
       "</div>"
      ],
      "text/plain": [
       "    start_date    end_date                                           question  \\\n",
       "0   2020-10-09  2020-10-11  source_of_claims_about_about_face_masks/coveri...   \n",
       "1   2020-10-09  2020-10-11  source_of_claims_about_about_face_masks/coveri...   \n",
       "2   2020-10-09  2020-10-11  source_of_claims_about_about_face_masks/coveri...   \n",
       "3   2020-10-09  2020-10-11  source_of_claims_about_about_face_masks/coveri...   \n",
       "4   2020-10-09  2020-10-11  source_of_claims_about_about_face_masks/coveri...   \n",
       "..         ...         ...                                                ...   \n",
       "61  2020-10-09  2020-10-11  source_of_claims_about_about_face_masks/coveri...   \n",
       "62  2020-10-09  2020-10-11  source_of_claims_about_about_face_masks/coveri...   \n",
       "63  2020-10-09  2020-10-11  source_of_claims_about_about_face_masks/coveri...   \n",
       "64  2020-10-09  2020-10-11  source_of_claims_about_about_face_masks/coveri...   \n",
       "65  2020-10-09  2020-10-11  source_of_claims_about_about_face_masks/coveri...   \n",
       "\n",
       "                                             response  total   male  female  \\\n",
       "0                                     Unweighted base  235.0  109.0   126.0   \n",
       "1                                       Weighted base  241.0  114.0   127.0   \n",
       "2   “Red-top tabloids” such as The Sun or Mirror (...    2.0    1.0     1.0   \n",
       "3   Non-mainstream news sources such as Russia Tod...    2.0    2.0     1.0   \n",
       "4          Direct from NHS website/ email/ text/ post    2.0    2.0     0.0   \n",
       "..                                                ...    ...    ...     ...   \n",
       "61  Websites/apps of online news organisations lik...    4.0    2.0     2.0   \n",
       "62                                           Snapchat    4.0    0.0     4.0   \n",
       "63                                  WhatsApp group(s)    3.0    1.0     3.0   \n",
       "64  “Mid-market tabloids” such as The Daily Mail o...    8.0    6.0     2.0   \n",
       "65              I don't know where the source is from    2.0    1.0     NaN   \n",
       "\n",
       "    16-24  18-24  25-34  ...  yorkshire_&_humberside  west_midlands  \\\n",
       "0      23     20     37  ...                    16.0           11.0   \n",
       "1      26     22     38  ...                    15.0           12.0   \n",
       "2       0      0      1  ...                     0.0            1.0   \n",
       "3       1      1      1  ...                     0.0            0.0   \n",
       "4       0      0      0  ...                     0.0            0.0   \n",
       "..    ...    ...    ...  ...                     ...            ...   \n",
       "61      0      0      1  ...                     NaN            1.0   \n",
       "62      4      4      0  ...                     0.0            0.0   \n",
       "63      2      2      0  ...                     0.0            0.0   \n",
       "64      0      0      0  ...                     0.0            0.0   \n",
       "65      0      0      0  ...                     0.0            0.0   \n",
       "\n",
       "    east_midlands  wales  eastern  london  south_east  south_west  \\\n",
       "0            22.0     13       19    30.0        31.0        21.0   \n",
       "1            19.0     14       21    32.0        36.0        18.0   \n",
       "2             0.0      0        0     0.0         0.0         0.0   \n",
       "3             1.0      0        1     1.0         0.0         0.0   \n",
       "4             0.0      0        0     0.0         0.0         1.0   \n",
       "..            ...    ...      ...     ...         ...         ...   \n",
       "61            NaN      0        0     0.0         1.0         1.0   \n",
       "62            0.0      0        0     2.0         1.0         0.0   \n",
       "63            0.0      1        0     3.0         0.0         0.0   \n",
       "64            0.0      1        1     0.0         0.0         1.0   \n",
       "65            0.0      0        0     0.0         1.0         0.0   \n",
       "\n",
       "    northern_ireland  net:_england  \n",
       "0                7.0         190.0  \n",
       "1                7.0         197.0  \n",
       "2                0.0           2.0  \n",
       "3                0.0           2.0  \n",
       "4                0.0           1.0  \n",
       "..               ...           ...  \n",
       "61               0.0           4.0  \n",
       "62               0.0           4.0  \n",
       "63               0.0           3.0  \n",
       "64               0.0           7.0  \n",
       "65               NaN           1.0  \n",
       "\n",
       "[66 rows x 31 columns]"
      ]
     },
     "execution_count": 232,
     "metadata": {},
     "output_type": "execute_result"
    }
   ],
   "source": [
    "ofcom_dataframes['source_of_claims_about_about_face_maskscoverings_offering_no_protection_or_being_harmful__as_true']"
   ]
  },
  {
   "cell_type": "code",
   "execution_count": 233,
   "id": "de089b8e-019f-4d7f-a18b-7f769abb8597",
   "metadata": {},
   "outputs": [],
   "source": [
    "sources_dataframe = ofcom_dataframes[list_sources[0]]\n",
    "\n",
    "for i, source in enumerate(list_sources[1:]):\n",
    "    sources_dataframe = pd.concat([sources_dataframe, ofcom_dataframes[list_sources[i]]], axis=0)    "
   ]
  },
  {
   "cell_type": "code",
   "execution_count": 234,
   "id": "e56039a9-c08c-4ba4-b844-a5cc75f5b93f",
   "metadata": {},
   "outputs": [],
   "source": [
    "sources_dataframe = sources_dataframe[['response', 'total']]"
   ]
  },
  {
   "cell_type": "code",
   "execution_count": 235,
   "id": "df2f2958-db9e-4301-9c2f-47f1648ef243",
   "metadata": {},
   "outputs": [],
   "source": [
    "sources_dataframe = sources_dataframe.groupby('response')['total'].sum()"
   ]
  },
  {
   "cell_type": "code",
   "execution_count": 236,
   "id": "ddc47e8e-7af9-474b-ac72-3682ba474101",
   "metadata": {},
   "outputs": [],
   "source": [
    "sources_dataframe = sources_dataframe.reset_index()\n",
    "sources_dataframe.index.name = 'response'"
   ]
  },
  {
   "cell_type": "code",
   "execution_count": 237,
   "id": "29be2aac-9931-4262-b4ce-58cb0a6c77cc",
   "metadata": {},
   "outputs": [],
   "source": [
    "sources_dataframe = sources_dataframe[~sources_dataframe['response'].str.contains('NET:')]\n",
    "sources_dataframe = sources_dataframe[~sources_dataframe['response'].str.contains('Unweighted base')]\n",
    "sources_dataframe = sources_dataframe[~sources_dataframe['response'].str.contains('Weighted base')]"
   ]
  },
  {
   "cell_type": "code",
   "execution_count": 238,
   "id": "c1a9aa77-b5ba-4ca8-ac4f-567f0cdf3889",
   "metadata": {},
   "outputs": [],
   "source": [
    "response_counts = dict(zip(sources_dataframe['response'], sources_dataframe['total']))\n",
    "\n",
    "wordcloud = WordCloud(width=500, height=300, background_color='white', colormap='viridis_r').generate_from_frequencies(response_counts)\n",
    "\n",
    "fig, ax = plt.subplots(1, 1, figsize=(30, 20))\n",
    "ax.imshow(wordcloud, interpolation=\"bilinear\")\n",
    "\n",
    "ax.axis(\"off\")\n",
    "\n",
    "ax.text(0.2, -0.1, \"Sources of misinformation\", fontsize=50, color='black', fontweight='bold', ha='center', transform=ax.transAxes)\n",
    "ax.text(0.005, -0.025, \"Source:\", fontsize=20, color='black', fontweight='bold', ha='center',  transform=ax.transAxes)\n",
    "ax.text(0.24, -0.025, \"OFCOM Covid-19 news and information, consumption and attitudes.\", fontsize=20, color='black', ha='center',  transform=ax.transAxes)\n",
    "ax.text(0.005, -0.05, \"Metric:\", fontsize=20, color='black', fontweight='bold', ha='center',  transform=ax.transAxes)\n",
    "ax.text(0.18, -0.05, \"Frequency of reported source for misinformation.\", fontsize=20, color='black', ha='center',  transform=ax.transAxes)\n",
    "\n",
    "plt.savefig(r\"../../8_final_visualisations/misinformation_ofcom/sources_of_misinformation/sources_of_misinformation_word_cloud.png\", dpi=300)\n",
    "\n",
    "plt.close()"
   ]
  },
  {
   "cell_type": "code",
   "execution_count": null,
   "id": "bec20af7-7632-4e21-a538-bd4443f01e7a",
   "metadata": {},
   "outputs": [],
   "source": []
  }
 ],
 "metadata": {
  "kernelspec": {
   "display_name": "Python 3 (ipykernel)",
   "language": "python",
   "name": "python3"
  },
  "language_info": {
   "codemirror_mode": {
    "name": "ipython",
    "version": 3
   },
   "file_extension": ".py",
   "mimetype": "text/x-python",
   "name": "python",
   "nbconvert_exporter": "python",
   "pygments_lexer": "ipython3",
   "version": "3.12.6"
  }
 },
 "nbformat": 4,
 "nbformat_minor": 5
}
