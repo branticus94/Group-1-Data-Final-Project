{
 "cells": [
  {
   "cell_type": "markdown",
   "id": "67d8341b-929c-4cf6-adab-44a449eb3328",
   "metadata": {
    "ExecuteTime": {
     "end_time": "2024-11-26T21:49:23.056925Z",
     "start_time": "2024-11-26T21:49:23.055961Z"
    },
    "collapsed": true,
    "jupyter": {
     "outputs_hidden": true
    }
   },
   "source": [
    "# OFCOM Survey Data Cleaning and Preprocessing\n",
    "## 1. Import necessary libraries & modules"
   ]
  },
  {
   "cell_type": "code",
   "id": "e5f8bd666f126f96",
   "metadata": {
    "ExecuteTime": {
     "end_time": "2024-11-29T01:11:04.680252Z",
     "start_time": "2024-11-29T01:11:04.677605Z"
    }
   },
   "source": [
    "import pandas as pd\n",
    "import matplotlib.pyplot as plt\n",
    "import seaborn as sns\n",
    "from pathlib import Path\n",
    "from datetime import datetime\n",
    "import re"
   ],
   "outputs": [],
   "execution_count": 33
  },
  {
   "cell_type": "markdown",
   "id": "a222e321b2f70282",
   "metadata": {},
   "source": [
    "## 2. Load the data to dataframes\n",
    "### Getting a list of files"
   ]
  },
  {
   "cell_type": "code",
   "id": "cff8b4edfd1b835b",
   "metadata": {
    "ExecuteTime": {
     "end_time": "2024-11-29T01:11:04.698386Z",
     "start_time": "2024-11-29T01:11:04.693640Z"
    }
   },
   "source": [
    "path_for_ofcom_datasets = '1_api_connectors_and_csv_parsers/2_processed_databases/ofcom_data'\n",
    "\n",
    "directory_path = Path(path_for_ofcom_datasets)\n",
    "\n",
    "file_list = [f.name for f in directory_path.iterdir() if f.is_file()]\n",
    "\n",
    "csv_filepaths = [f'{path_for_ofcom_datasets}/{file}' for file in file_list if file[-3:] == 'csv']"
   ],
   "outputs": [],
   "execution_count": 34
  },
  {
   "cell_type": "markdown",
   "id": "2571703ec2254286",
   "metadata": {},
   "source": [
    "### Reviewing the files and deciding which questions are suitable for our data analysis"
   ]
  },
  {
   "cell_type": "code",
   "id": "3b1fa9678af393a4",
   "metadata": {
    "ExecuteTime": {
     "end_time": "2024-11-29T01:11:04.774891Z",
     "start_time": "2024-11-29T01:11:04.773592Z"
    }
   },
   "source": [
    "# file_list"
   ],
   "outputs": [],
   "execution_count": 35
  },
  {
   "cell_type": "markdown",
   "id": "942c98078572fb4d",
   "metadata": {},
   "source": [
    "### My selection from the above based on our research question:"
   ]
  },
  {
   "cell_type": "code",
   "id": "a603d5e016ed5f86",
   "metadata": {
    "ExecuteTime": {
     "end_time": "2024-11-29T01:11:04.788420Z",
     "start_time": "2024-11-29T01:11:04.786293Z"
    }
   },
   "source": [
    "list_of_parameters_for_exploration = [\n",
    "\"q1_device_usage_to_connect_to_internet\",\n",
    "\"q2_frequency_of_getting_infonews_about_coronavirus_outbreak_in_last_week\",\n",
    "\"q3a_sources_used_to_get_infonews_about_coronavirus_outbreak_in_last_week\",\n",
    "\"q3b_most_important_source_used_in_last_week\",\n",
    "\"q4a_types_of_newsinformation_seen_on_social_media_and_search_engines_in_last_week\",\n",
    "\"q4b_most_important_type_of_newsinformation_from_social_media_or_search_engines\",\n",
    "\"q4b3_to_what_extent_do_you_agree_or_disagree_with_the_following_statements\",\n",
    "\"q5_trust_in_the_sources_for_informationnews_about_coronavirus_used_in_last_week\",\n",
    "\"q6_altered_behaviour_over_last_week\",\n",
    "\"q7_ways_of_sharing_informationnews_in_last_week\",\n",
    "\"q7b_why_did_you_share_this_informationnews_about_coronavirus\",\n",
    "\"q8_whether_came_across_informationnews_about_coronavirus_that_you_think_has_been_false_or_misleading_in_last_week\",\n",
    "\"'q10_whether_came_across_any_of_these_false_or_misleading_information_about_avoiding_the_coronavirus_in_the_last_week\",\n",
    "\"q10_whether_came_across_any_of_these_false_or_misleading_recommendations_about_avoiding_the_coronavirus_in_the_last_week\",\n",
    "\"q10b_how_theory_that_the_origin_or_cause_of_coronavirus_is_in_some_way_linked_to_5g_technology_has_been_reported\",\n",
    " \"q10c_source_of_theory_linking_coronavirus_to_5g_technology_reported_as_true\",\n",
    " \"q10d_how_claims_about_the_potential_dangers_associated_with_coronavirus_vaccine_have_been_reported\",\n",
    " \"q10d_how_claims_about_the_potential_dangers_of_a_coronavirus_vaccine_have_been_reported\",\n",
    " \"q10e_source_of_claims_about_the_potential_dangers_associated_with_coronavirus_vaccine_reported_as_true\",\n",
    " \"q10e_source_of_claims_about_the_potential_dangers_of_a_coronavirus_vaccine_reported_as_true\",\n",
    " \"q10f_how_claims_about_injecting_disinfectant_have_been_reported\",\n",
    " \"q10g_source_of_claims_about_about_injecting_disinfectant_as_true\",\n",
    " \"q10h_how_claims_about_face_maskscoverings_offering_no_protection_or_being_harmful_have_been_reported\",\n",
    " \"q10h_how_claims_about_masks_offering_no_protection_or_being_harmful_have_been_reported\",\n",
    " \"q10i_source_of_claims_about_about_face_maskscoverings_offering_no_protection_or_being_harmful__as_true\",\n",
    " \"q10i_source_of_claims_about_about_masks_offering_no_protection_or_being_harmful__as_true\",\n",
    " \"q10k_to_what_extent_are_you_concerned_or_not_concerned_about_the_following_statements__summary\",\n",
    " \"q10k_to_what_extent_are_you_concerned_or_not_concerned_about_the_following_statements__the_amount_of_false_or_misleading_information_that_others_in_society_may_be_getting_about_coronavirus\",\n",
    " \"q10k_to_what_extent_are_you_concerned_or_not_concerned_about_the_following_statements__the_amount_of_false_or_misleading_information_you_may_be_getting_about_coronavirus\",\n",
    " \"q10l_how_claims_about_the_coronavirus_test_which_shows_if_you_currently_have_the_virus_does_not_work_and_93_of_tests_produce_a_false_positive_have_been_reported\",\n",
    " \"q10m_source_of_claims_about_the_coronavirus_test_which_shows_if_you_currently_have_the_virus_does_not_work_and_93_of_tests_produce_a_false_positive_as_true\",\n",
    " \"q10n_how_claims_stating_that_the_flu_alone_is_killing_more_people_than_coronavirus_have_been_reported\",\n",
    " \"q10o_source_of_claims_stating_that_the_flu_alone_is_killing_more_people_than_coronavirus_as_true\",\n",
    " \"q10p_how_claims_about_empty_hospitals_on_social_media_posts_prove_that_coronavirus_has_been_exaggerated_have_been_reported\",\n",
    " \"q10q_source_of_claims_about_empty_hospitals_on_social_media_posts_prove_that_coronavirus_has_been_exaggerated_reported_as_true\",\n",
    " \"q10r_how_claims_that_the_coronavirus_vaccine_is_a_cover_for_a_plan_to_implant_trackable_microchips_in_people_have_been_reported\",\n",
    " \"q10s_source_of_claims_that_the_coronavirus_vaccine_is_a_cover_for_a_plan_to_implant_trackable_microchips_in_people_reported_as_true\",\n",
    " \"q10t_how_claims_that_the_coronavirus_vaccine_may_reduce_fertility_have_been_reported\"\n",
    "]\n"
   ],
   "outputs": [],
   "execution_count": 36
  },
  {
   "cell_type": "code",
   "id": "3dd68e34a48470e3",
   "metadata": {
    "ExecuteTime": {
     "end_time": "2024-11-29T01:11:05.002104Z",
     "start_time": "2024-11-29T01:11:04.798695Z"
    }
   },
   "source": [
    "ofcom_dataframes = {}\n",
    "for i, parameter in enumerate(list_of_parameters_for_exploration):\n",
    "    for file in csv_filepaths:\n",
    "        if list_of_parameters_for_exploration[i] in file:\n",
    "            df_for_cleaning = pd.read_csv(file)\n",
    "            ofcom_dataframes[list_of_parameters_for_exploration[i]] = df_for_cleaning"
   ],
   "outputs": [],
   "execution_count": 37
  },
  {
   "cell_type": "markdown",
   "id": "b1b6f0e6ea6139f9",
   "metadata": {},
   "source": [
    "## 3. Exploring and Understanding the Data\n",
    "### As there are many dataframes for these questions I go through them in a loop and determine if any can be combined to answer my question and what we need to address in the data"
   ]
  },
  {
   "cell_type": "code",
   "id": "86c64094-0b4f-4c50-a4cd-cb9b0bf6f119",
   "metadata": {
    "ExecuteTime": {
     "end_time": "2024-11-29T01:11:05.014750Z",
     "start_time": "2024-11-29T01:11:05.013454Z"
    }
   },
   "source": [
    "# for dataframe in ofcom_dataframes.values():\n",
    "#     print(\"Research Question: /n\", dataframe.question[0])\n",
    "#     print(\"Shape: \", dataframe.shape)\n",
    "#     print(\"Head: /n\", dataframe.head())\n",
    "#     print(\"Tail: /n\", dataframe.tail())\n",
    "#     print(\"Info: /n\", dataframe.info())"
   ],
   "outputs": [],
   "execution_count": 38
  },
  {
   "cell_type": "markdown",
   "id": "7d860a18-0f98-48c0-a8f9-0490abf3f540",
   "metadata": {},
   "source": [
    "#### From reviewing the data I note several inconsistencies mainly the date columns are duplicated in a few sets (some of the data lists 25-35 (e) whilst others list 25-34 (f) - this is the same for all age ranges. I want to remove the letter naming convention. I also want to change the column names to something I will understand for the socio-economic status AB/C1/C2/DE, adjust the survey date column to get a start and end date which is a datetime (and midpoint for plotting purposes). There are quite a few gaps in the regions data which I will need to consider what to do with - the challenge will be imputing these values may not represent the feelings at the time if there were a spike in cases."
   ]
  },
  {
   "cell_type": "code",
   "id": "fc19e4c019bf7640",
   "metadata": {
    "ExecuteTime": {
     "end_time": "2024-11-29T01:11:05.028739Z",
     "start_time": "2024-11-29T01:11:05.026247Z"
    }
   },
   "source": [
    "unique_columns = set()\n",
    "\n",
    "for dataframe in ofcom_dataframes.values():\n",
    "    unique_columns.update(dataframe.columns)\n",
    "    \n",
    "unique_columns"
   ],
   "outputs": [
    {
     "data": {
      "text/plain": [
       "{'16-24 (d)',\n",
       " '18-24 (d)',\n",
       " '18-24 (e)',\n",
       " '25-34 (e)',\n",
       " '25-34 (f)',\n",
       " '35-44 (f)',\n",
       " '35-44 (g)',\n",
       " '45-54 (g)',\n",
       " '45-54 (h)',\n",
       " '55-64 (h)',\n",
       " '55-64 (i)',\n",
       " '65+ (i)',\n",
       " '65+ (j)',\n",
       " 'AB (k)',\n",
       " 'Apple iMessage',\n",
       " 'Avoid news (k)',\n",
       " 'BBC Online (q)',\n",
       " 'BBC TV (p)',\n",
       " 'BBC services (d)',\n",
       " 'Broadcasters (b)',\n",
       " 'C1 (l)',\n",
       " 'C2 (m)',\n",
       " 'Closed groups (k)',\n",
       " 'Confusion (n)',\n",
       " 'DE (n)',\n",
       " 'Direct from Govt (r)',\n",
       " 'Drink more lemon juice (g)',\n",
       " 'Drink more water (b)',\n",
       " 'East Midlands (t)',\n",
       " 'Eastern (v)',\n",
       " 'Eat warm food/ drink (d)',\n",
       " 'Facebook',\n",
       " 'Facebook (i)',\n",
       " 'Facebook messenger',\n",
       " 'Family/ friends/ local ppl (m)',\n",
       " 'Female (c)',\n",
       " 'Gargle salt water (c)',\n",
       " \"I think it's OK for untrue stories about Coronavirus to be posted and shared on social media , as long as they are flagged as potentially untrustworthy/ untrue by the social media platform\",\n",
       " 'I think that people and organisations have a right to say what they want on social media  about Coronavirus, even if it might not be true',\n",
       " 'I think that untrue stories or items about Coronavirus should not be posted or shared on social media',\n",
       " 'Inhale steam (h)',\n",
       " 'Instagram',\n",
       " 'London (w)',\n",
       " 'Mainstream media exaggerating (l)',\n",
       " 'Male (b)',\n",
       " 'NET: England (A)',\n",
       " 'Natural remedies (f)',\n",
       " 'Newspapers (e)',\n",
       " 'No (s)',\n",
       " 'No (t)',\n",
       " 'NonBBC broadcasters (c)',\n",
       " 'Nonmainstream media (o)',\n",
       " 'North East (p)',\n",
       " 'North West (q)',\n",
       " 'Northern Ireland (z)',\n",
       " 'Officials (f)',\n",
       " 'Opinion Influencer (C)',\n",
       " 'Other online news sources (l)',\n",
       " 'Outside for essentials (p)',\n",
       " 'Positive sides of society (m)',\n",
       " 'Private (B)',\n",
       " 'Public (A)',\n",
       " 'Put clothes in sun (e)',\n",
       " 'Scotland (o)',\n",
       " 'Search engine (e.g. Google)',\n",
       " 'Snapchat',\n",
       " 'Social Media (g)',\n",
       " 'Social distancing (q)',\n",
       " 'South East (x)',\n",
       " 'South West (y)',\n",
       " 'The amount of false or misleading information that others in society may be getting about Coronavirus',\n",
       " 'The amount of false or misleading information you may be getting about Coronavirus',\n",
       " 'Theories linking Coronavirus to 5G technology (i)',\n",
       " 'Tier 1 (B)',\n",
       " 'Tier 2 (C)',\n",
       " 'Tier 3 (D)',\n",
       " 'Total (a)',\n",
       " 'Traditional media (n)',\n",
       " 'Twitter',\n",
       " 'Wales (u)',\n",
       " 'Wash hands 20 secs (o)',\n",
       " 'West Midlands (s)',\n",
       " \"What's true/ false (j)\",\n",
       " 'WhatsApp',\n",
       " 'WhatsApp (j)',\n",
       " 'WhatsApp group(s)',\n",
       " 'Yes (r)',\n",
       " 'Yes (s)',\n",
       " 'Yorkshire & Humberside (r)',\n",
       " 'YouTube',\n",
       " 'YouTube (h)',\n",
       " 'date',\n",
       " 'question',\n",
       " 'response',\n",
       " 'table'}"
      ]
     },
     "execution_count": 39,
     "metadata": {},
     "output_type": "execute_result"
    }
   ],
   "execution_count": 39
  },
  {
   "cell_type": "markdown",
   "id": "367b2d6889fe6ca0",
   "metadata": {},
   "source": [
    "## I will rename and adjust columns at this stage to help make them more understandable for me "
   ]
  },
  {
   "cell_type": "code",
   "id": "9c16abeccb792f38",
   "metadata": {
    "ExecuteTime": {
     "end_time": "2024-11-29T01:11:05.044012Z",
     "start_time": "2024-11-29T01:11:05.042171Z"
    }
   },
   "source": [
    "custom_mappings = {\n",
    "    'PUBLIC (A)': 'employment_sector_public',\n",
    "    'PRIVATE (B)': 'employment_sector_private',\n",
    "    'AB (k)': 'class_upper_and_middle',\n",
    "    'C1 (l)': 'class_lower_middle',\n",
    "    'C2 (m)': 'class_skilled_working',\n",
    "    'DE (n)': 'class_working_class_lowest_grade'\n",
    "}\n",
    "\n",
    "def format_column_name(name):\n",
    "    if name in custom_mappings:\n",
    "        return custom_mappings[name]\n",
    "    \n",
    "    name = re.sub(r'\\s?\\(.*\\)', '', name)\n",
    "    \n",
    "    name = name.lower().replace(' ', '_')\n",
    "    \n",
    "    return name\n",
    "\n",
    "formatted_columns_dict = {col: format_column_name(col) for col in unique_columns}"
   ],
   "outputs": [],
   "execution_count": 40
  },
  {
   "cell_type": "code",
   "id": "8afbfa3811adae71",
   "metadata": {
    "ExecuteTime": {
     "end_time": "2024-11-29T01:11:05.063929Z",
     "start_time": "2024-11-29T01:11:05.056552Z"
    }
   },
   "source": [
    "for i, parameter in enumerate(list_of_parameters_for_exploration):\n",
    "    try:\n",
    "        renamed_dataframe = ofcom_dataframes[list_of_parameters_for_exploration[i]]\n",
    "        \n",
    "        columns_to_rename = {old: new for old, new in formatted_columns_dict.items() if old in renamed_dataframe.columns}\n",
    "        renamed_dataframe.rename(columns=columns_to_rename, inplace=True)\n",
    "\n",
    "        if '18-24 (d)' in renamed_dataframe.columns and '18-24 (e)' in renamed_dataframe.columns:\n",
    "            renamed_dataframe['18-24'] = renamed_dataframe['18-24 (d)'].combine_first(renamed_dataframe['18-24 (e)'])\n",
    "        \n",
    "        if '25-34 (e)' in renamed_dataframe.columns and '25-34 (f)' in renamed_dataframe.columns:\n",
    "            renamed_dataframe['25-34'] = renamed_dataframe['25-34 (e)'].combine_first(renamed_dataframe['25-34 (f)'])\n",
    "        \n",
    "        if '35-44 (f)' in renamed_dataframe.columns and '35-44 (g)' in renamed_dataframe.columns:\n",
    "            renamed_dataframe['35-44'] = renamed_dataframe['35-44 (f)'].combine_first(renamed_dataframe['35-44 (g)'])\n",
    "        \n",
    "        if '45-54 (g)' in renamed_dataframe.columns and '45-54 (h)' in renamed_dataframe.columns:\n",
    "            renamed_dataframe['45-54'] = renamed_dataframe['45-54 (g)'].combine_first(renamed_dataframe['45-54 (h)'])\n",
    "        \n",
    "        if '55-64 (h)' in renamed_dataframe.columns and '55-64 (i)' in renamed_dataframe.columns:\n",
    "            renamed_dataframe['55-64'] = renamed_dataframe['55-64 (h)'].combine_first(renamed_dataframe['55-64 (i)'])\n",
    "        \n",
    "        if '65+ (i)' in renamed_dataframe.columns and '65+ (j)' in renamed_dataframe.columns:\n",
    "            renamed_dataframe['65+'] = renamed_dataframe['65+ (i)'].combine_first(renamed_dataframe['65+ (j)'])\n",
    "\n",
    "    except KeyError:\n",
    "        print(f\"This method does not work for dataframe for {list_of_parameters_for_exploration[i]}\")"
   ],
   "outputs": [
    {
     "name": "stdout",
     "output_type": "stream",
     "text": [
      "This method does not work for dataframe for 'q10_whether_came_across_any_of_these_false_or_misleading_information_about_avoiding_the_coronavirus_in_the_last_week\n"
     ]
    }
   ],
   "execution_count": 41
  },
  {
   "cell_type": "markdown",
   "id": "51290f6646c4dc7e",
   "metadata": {},
   "source": [
    "### I am unsure why this table came as an error as you can see - the columns have been appropriately renamed:"
   ]
  },
  {
   "cell_type": "code",
   "id": "1b1aa9e6184e9f86",
   "metadata": {
    "ExecuteTime": {
     "end_time": "2024-11-29T01:11:05.083288Z",
     "start_time": "2024-11-29T01:11:05.075382Z"
    }
   },
   "source": [
    "ofcom_dataframes['q10_whether_came_across_any_of_these_false_or_misleading_recommendations_about_avoiding_the_coronavirus_in_the_last_week']"
   ],
   "outputs": [
    {
     "data": {
      "text/plain": [
       "       table                                           question  \\\n",
       "0   Table 82  Q10. Whether came across any of these false or...   \n",
       "1   Table 82  Q10. Whether came across any of these false or...   \n",
       "2   Table 82  Q10. Whether came across any of these false or...   \n",
       "3   Table 82  Q10. Whether came across any of these false or...   \n",
       "4   Table 82  Q10. Whether came across any of these false or...   \n",
       "..       ...                                                ...   \n",
       "57  Table 82  Q10. Whether came across any of these false or...   \n",
       "58  Table 82  Q10. Whether came across any of these false or...   \n",
       "59  Table 82  Q10. Whether came across any of these false or...   \n",
       "60  Table 82  Q10. Whether came across any of these false or...   \n",
       "61  Table 82  Q10. Whether came across any of these false or...   \n",
       "\n",
       "                                         date  \\\n",
       "0    ONLINE Fieldwork: 9th to 13th April 2020   \n",
       "1    ONLINE Fieldwork: 9th to 13th April 2020   \n",
       "2    ONLINE Fieldwork: 9th to 13th April 2020   \n",
       "3    ONLINE Fieldwork: 9th to 13th April 2020   \n",
       "4    ONLINE Fieldwork: 9th to 13th April 2020   \n",
       "..                                        ...   \n",
       "57  ONLINE Fieldwork: 27th to 29th March 2020   \n",
       "58  ONLINE Fieldwork: 27th to 29th March 2020   \n",
       "59  ONLINE Fieldwork: 27th to 29th March 2020   \n",
       "60  ONLINE Fieldwork: 27th to 29th March 2020   \n",
       "61  ONLINE Fieldwork: 27th to 29th March 2020   \n",
       "\n",
       "                                             response  total  male  female  \\\n",
       "0                                     Unweighted base   2105  1010    1095   \n",
       "1                                       Weighted base   2106  1029    1077   \n",
       "2                                            NET: Any   1412   693     719   \n",
       "3   Theories linking the origins or causes of Coro...   1049   534     515   \n",
       "4                      Drinking water more frequently    558   251     307   \n",
       "..                                                ...    ...   ...     ...   \n",
       "57  Eating warm food/ drink and avoiding cold food...    528   228     300   \n",
       "58  Increasing use of natural remedies such as col...    488   204     284   \n",
       "59  Putting clothes in the sun or another warm pla...    239   107     132   \n",
       "60                          Drinking more lemon juice    223   103     120   \n",
       "61                                      None of these   1000   522     478   \n",
       "\n",
       "    16-24  18-24  25-34  ...  class_upper_and_middle  class_lower_middle  \\\n",
       "0   265.0  234.0  336.0  ...                     600                 510   \n",
       "1   292.0  256.0  347.0  ...                     573                 596   \n",
       "2   219.0  201.0  238.0  ...                     402                 410   \n",
       "3   153.0  141.0  176.0  ...                     306                 311   \n",
       "4    81.0   70.0   98.0  ...                     162                 159   \n",
       "..    ...    ...    ...  ...                     ...                 ...   \n",
       "57    NaN    NaN    NaN  ...                     153                 155   \n",
       "58    NaN    NaN    NaN  ...                     150                 137   \n",
       "59    NaN    NaN    NaN  ...                      68                  65   \n",
       "60    NaN    NaN    NaN  ...                      64                  60   \n",
       "61    NaN    NaN    NaN  ...                     257                 281   \n",
       "\n",
       "    class_skilled_working  class_working_class_lowest_grade  18-24  25-34  \\\n",
       "0                     448                               547    NaN    NaN   \n",
       "1                     427                               510    NaN    NaN   \n",
       "2                     288                               312    NaN    NaN   \n",
       "3                     203                               228    NaN    NaN   \n",
       "4                     119                               118    NaN    NaN   \n",
       "..                    ...                               ...    ...    ...   \n",
       "57                    102                               118   62.0  106.0   \n",
       "58                     94                               107   65.0   92.0   \n",
       "59                     53                                52   41.0   51.0   \n",
       "60                     51                                48   23.0   56.0   \n",
       "61                    197                               264   89.0  128.0   \n",
       "\n",
       "    35-44  45-54  55-64    65+  \n",
       "0     NaN    NaN    NaN    NaN  \n",
       "1     NaN    NaN    NaN    NaN  \n",
       "2     NaN    NaN    NaN    NaN  \n",
       "3     NaN    NaN    NaN    NaN  \n",
       "4     NaN    NaN    NaN    NaN  \n",
       "..    ...    ...    ...    ...  \n",
       "57   96.0   91.0   69.0  104.0  \n",
       "58   90.0   88.0   64.0   90.0  \n",
       "59   43.0   45.0   24.0   35.0  \n",
       "60   47.0   35.0   28.0   34.0  \n",
       "61  131.0  187.0  180.0  286.0  \n",
       "\n",
       "[62 rows x 24 columns]"
      ],
      "text/html": [
       "<div>\n",
       "<style scoped>\n",
       "    .dataframe tbody tr th:only-of-type {\n",
       "        vertical-align: middle;\n",
       "    }\n",
       "\n",
       "    .dataframe tbody tr th {\n",
       "        vertical-align: top;\n",
       "    }\n",
       "\n",
       "    .dataframe thead th {\n",
       "        text-align: right;\n",
       "    }\n",
       "</style>\n",
       "<table border=\"1\" class=\"dataframe\">\n",
       "  <thead>\n",
       "    <tr style=\"text-align: right;\">\n",
       "      <th></th>\n",
       "      <th>table</th>\n",
       "      <th>question</th>\n",
       "      <th>date</th>\n",
       "      <th>response</th>\n",
       "      <th>total</th>\n",
       "      <th>male</th>\n",
       "      <th>female</th>\n",
       "      <th>16-24</th>\n",
       "      <th>18-24</th>\n",
       "      <th>25-34</th>\n",
       "      <th>...</th>\n",
       "      <th>class_upper_and_middle</th>\n",
       "      <th>class_lower_middle</th>\n",
       "      <th>class_skilled_working</th>\n",
       "      <th>class_working_class_lowest_grade</th>\n",
       "      <th>18-24</th>\n",
       "      <th>25-34</th>\n",
       "      <th>35-44</th>\n",
       "      <th>45-54</th>\n",
       "      <th>55-64</th>\n",
       "      <th>65+</th>\n",
       "    </tr>\n",
       "  </thead>\n",
       "  <tbody>\n",
       "    <tr>\n",
       "      <th>0</th>\n",
       "      <td>Table 82</td>\n",
       "      <td>Q10. Whether came across any of these false or...</td>\n",
       "      <td>ONLINE Fieldwork: 9th to 13th April 2020</td>\n",
       "      <td>Unweighted base</td>\n",
       "      <td>2105</td>\n",
       "      <td>1010</td>\n",
       "      <td>1095</td>\n",
       "      <td>265.0</td>\n",
       "      <td>234.0</td>\n",
       "      <td>336.0</td>\n",
       "      <td>...</td>\n",
       "      <td>600</td>\n",
       "      <td>510</td>\n",
       "      <td>448</td>\n",
       "      <td>547</td>\n",
       "      <td>NaN</td>\n",
       "      <td>NaN</td>\n",
       "      <td>NaN</td>\n",
       "      <td>NaN</td>\n",
       "      <td>NaN</td>\n",
       "      <td>NaN</td>\n",
       "    </tr>\n",
       "    <tr>\n",
       "      <th>1</th>\n",
       "      <td>Table 82</td>\n",
       "      <td>Q10. Whether came across any of these false or...</td>\n",
       "      <td>ONLINE Fieldwork: 9th to 13th April 2020</td>\n",
       "      <td>Weighted base</td>\n",
       "      <td>2106</td>\n",
       "      <td>1029</td>\n",
       "      <td>1077</td>\n",
       "      <td>292.0</td>\n",
       "      <td>256.0</td>\n",
       "      <td>347.0</td>\n",
       "      <td>...</td>\n",
       "      <td>573</td>\n",
       "      <td>596</td>\n",
       "      <td>427</td>\n",
       "      <td>510</td>\n",
       "      <td>NaN</td>\n",
       "      <td>NaN</td>\n",
       "      <td>NaN</td>\n",
       "      <td>NaN</td>\n",
       "      <td>NaN</td>\n",
       "      <td>NaN</td>\n",
       "    </tr>\n",
       "    <tr>\n",
       "      <th>2</th>\n",
       "      <td>Table 82</td>\n",
       "      <td>Q10. Whether came across any of these false or...</td>\n",
       "      <td>ONLINE Fieldwork: 9th to 13th April 2020</td>\n",
       "      <td>NET: Any</td>\n",
       "      <td>1412</td>\n",
       "      <td>693</td>\n",
       "      <td>719</td>\n",
       "      <td>219.0</td>\n",
       "      <td>201.0</td>\n",
       "      <td>238.0</td>\n",
       "      <td>...</td>\n",
       "      <td>402</td>\n",
       "      <td>410</td>\n",
       "      <td>288</td>\n",
       "      <td>312</td>\n",
       "      <td>NaN</td>\n",
       "      <td>NaN</td>\n",
       "      <td>NaN</td>\n",
       "      <td>NaN</td>\n",
       "      <td>NaN</td>\n",
       "      <td>NaN</td>\n",
       "    </tr>\n",
       "    <tr>\n",
       "      <th>3</th>\n",
       "      <td>Table 82</td>\n",
       "      <td>Q10. Whether came across any of these false or...</td>\n",
       "      <td>ONLINE Fieldwork: 9th to 13th April 2020</td>\n",
       "      <td>Theories linking the origins or causes of Coro...</td>\n",
       "      <td>1049</td>\n",
       "      <td>534</td>\n",
       "      <td>515</td>\n",
       "      <td>153.0</td>\n",
       "      <td>141.0</td>\n",
       "      <td>176.0</td>\n",
       "      <td>...</td>\n",
       "      <td>306</td>\n",
       "      <td>311</td>\n",
       "      <td>203</td>\n",
       "      <td>228</td>\n",
       "      <td>NaN</td>\n",
       "      <td>NaN</td>\n",
       "      <td>NaN</td>\n",
       "      <td>NaN</td>\n",
       "      <td>NaN</td>\n",
       "      <td>NaN</td>\n",
       "    </tr>\n",
       "    <tr>\n",
       "      <th>4</th>\n",
       "      <td>Table 82</td>\n",
       "      <td>Q10. Whether came across any of these false or...</td>\n",
       "      <td>ONLINE Fieldwork: 9th to 13th April 2020</td>\n",
       "      <td>Drinking water more frequently</td>\n",
       "      <td>558</td>\n",
       "      <td>251</td>\n",
       "      <td>307</td>\n",
       "      <td>81.0</td>\n",
       "      <td>70.0</td>\n",
       "      <td>98.0</td>\n",
       "      <td>...</td>\n",
       "      <td>162</td>\n",
       "      <td>159</td>\n",
       "      <td>119</td>\n",
       "      <td>118</td>\n",
       "      <td>NaN</td>\n",
       "      <td>NaN</td>\n",
       "      <td>NaN</td>\n",
       "      <td>NaN</td>\n",
       "      <td>NaN</td>\n",
       "      <td>NaN</td>\n",
       "    </tr>\n",
       "    <tr>\n",
       "      <th>...</th>\n",
       "      <td>...</td>\n",
       "      <td>...</td>\n",
       "      <td>...</td>\n",
       "      <td>...</td>\n",
       "      <td>...</td>\n",
       "      <td>...</td>\n",
       "      <td>...</td>\n",
       "      <td>...</td>\n",
       "      <td>...</td>\n",
       "      <td>...</td>\n",
       "      <td>...</td>\n",
       "      <td>...</td>\n",
       "      <td>...</td>\n",
       "      <td>...</td>\n",
       "      <td>...</td>\n",
       "      <td>...</td>\n",
       "      <td>...</td>\n",
       "      <td>...</td>\n",
       "      <td>...</td>\n",
       "      <td>...</td>\n",
       "      <td>...</td>\n",
       "    </tr>\n",
       "    <tr>\n",
       "      <th>57</th>\n",
       "      <td>Table 82</td>\n",
       "      <td>Q10. Whether came across any of these false or...</td>\n",
       "      <td>ONLINE Fieldwork: 27th to 29th March 2020</td>\n",
       "      <td>Eating warm food/ drink and avoiding cold food...</td>\n",
       "      <td>528</td>\n",
       "      <td>228</td>\n",
       "      <td>300</td>\n",
       "      <td>NaN</td>\n",
       "      <td>NaN</td>\n",
       "      <td>NaN</td>\n",
       "      <td>...</td>\n",
       "      <td>153</td>\n",
       "      <td>155</td>\n",
       "      <td>102</td>\n",
       "      <td>118</td>\n",
       "      <td>62.0</td>\n",
       "      <td>106.0</td>\n",
       "      <td>96.0</td>\n",
       "      <td>91.0</td>\n",
       "      <td>69.0</td>\n",
       "      <td>104.0</td>\n",
       "    </tr>\n",
       "    <tr>\n",
       "      <th>58</th>\n",
       "      <td>Table 82</td>\n",
       "      <td>Q10. Whether came across any of these false or...</td>\n",
       "      <td>ONLINE Fieldwork: 27th to 29th March 2020</td>\n",
       "      <td>Increasing use of natural remedies such as col...</td>\n",
       "      <td>488</td>\n",
       "      <td>204</td>\n",
       "      <td>284</td>\n",
       "      <td>NaN</td>\n",
       "      <td>NaN</td>\n",
       "      <td>NaN</td>\n",
       "      <td>...</td>\n",
       "      <td>150</td>\n",
       "      <td>137</td>\n",
       "      <td>94</td>\n",
       "      <td>107</td>\n",
       "      <td>65.0</td>\n",
       "      <td>92.0</td>\n",
       "      <td>90.0</td>\n",
       "      <td>88.0</td>\n",
       "      <td>64.0</td>\n",
       "      <td>90.0</td>\n",
       "    </tr>\n",
       "    <tr>\n",
       "      <th>59</th>\n",
       "      <td>Table 82</td>\n",
       "      <td>Q10. Whether came across any of these false or...</td>\n",
       "      <td>ONLINE Fieldwork: 27th to 29th March 2020</td>\n",
       "      <td>Putting clothes in the sun or another warm pla...</td>\n",
       "      <td>239</td>\n",
       "      <td>107</td>\n",
       "      <td>132</td>\n",
       "      <td>NaN</td>\n",
       "      <td>NaN</td>\n",
       "      <td>NaN</td>\n",
       "      <td>...</td>\n",
       "      <td>68</td>\n",
       "      <td>65</td>\n",
       "      <td>53</td>\n",
       "      <td>52</td>\n",
       "      <td>41.0</td>\n",
       "      <td>51.0</td>\n",
       "      <td>43.0</td>\n",
       "      <td>45.0</td>\n",
       "      <td>24.0</td>\n",
       "      <td>35.0</td>\n",
       "    </tr>\n",
       "    <tr>\n",
       "      <th>60</th>\n",
       "      <td>Table 82</td>\n",
       "      <td>Q10. Whether came across any of these false or...</td>\n",
       "      <td>ONLINE Fieldwork: 27th to 29th March 2020</td>\n",
       "      <td>Drinking more lemon juice</td>\n",
       "      <td>223</td>\n",
       "      <td>103</td>\n",
       "      <td>120</td>\n",
       "      <td>NaN</td>\n",
       "      <td>NaN</td>\n",
       "      <td>NaN</td>\n",
       "      <td>...</td>\n",
       "      <td>64</td>\n",
       "      <td>60</td>\n",
       "      <td>51</td>\n",
       "      <td>48</td>\n",
       "      <td>23.0</td>\n",
       "      <td>56.0</td>\n",
       "      <td>47.0</td>\n",
       "      <td>35.0</td>\n",
       "      <td>28.0</td>\n",
       "      <td>34.0</td>\n",
       "    </tr>\n",
       "    <tr>\n",
       "      <th>61</th>\n",
       "      <td>Table 82</td>\n",
       "      <td>Q10. Whether came across any of these false or...</td>\n",
       "      <td>ONLINE Fieldwork: 27th to 29th March 2020</td>\n",
       "      <td>None of these</td>\n",
       "      <td>1000</td>\n",
       "      <td>522</td>\n",
       "      <td>478</td>\n",
       "      <td>NaN</td>\n",
       "      <td>NaN</td>\n",
       "      <td>NaN</td>\n",
       "      <td>...</td>\n",
       "      <td>257</td>\n",
       "      <td>281</td>\n",
       "      <td>197</td>\n",
       "      <td>264</td>\n",
       "      <td>89.0</td>\n",
       "      <td>128.0</td>\n",
       "      <td>131.0</td>\n",
       "      <td>187.0</td>\n",
       "      <td>180.0</td>\n",
       "      <td>286.0</td>\n",
       "    </tr>\n",
       "  </tbody>\n",
       "</table>\n",
       "<p>62 rows × 24 columns</p>\n",
       "</div>"
      ]
     },
     "execution_count": 42,
     "metadata": {},
     "output_type": "execute_result"
    }
   ],
   "execution_count": 42
  },
  {
   "cell_type": "markdown",
   "id": "59ee3d614d84e9ef",
   "metadata": {},
   "source": [
    "## 4. Handling Missing Data\n",
    "### I first reviewed the heatmaps (uncomment to review) for the dataframes"
   ]
  },
  {
   "cell_type": "code",
   "id": "d7b0c8c685428f81",
   "metadata": {
    "ExecuteTime": {
     "end_time": "2024-11-29T01:11:05.182086Z",
     "start_time": "2024-11-29T01:11:05.180217Z"
    }
   },
   "source": [
    "def plot_heatmaps(dataframe_dictionary):\n",
    "    for df in dataframe_dictionary.values():\n",
    "        dataframe_name = df['question'].iloc[0]\n",
    "        print(dataframe_name)\n",
    "    \n",
    "        sns.heatmap(df.isnull(), cbar=False, cmap='plasma')\n",
    "        \n",
    "        title = df['question'].iloc[0]\n",
    "        plt.title(f'Null Values Heatmap: {title}')\n",
    "        \n",
    "        plt.show()\n"
   ],
   "outputs": [],
   "execution_count": 43
  },
  {
   "cell_type": "code",
   "id": "57f2cb921b909438",
   "metadata": {
    "ExecuteTime": {
     "end_time": "2024-11-29T01:11:05.209875Z",
     "start_time": "2024-11-29T01:11:05.207436Z"
    }
   },
   "source": [
    "# plot_heatmaps(ofcom_dataframes)"
   ],
   "outputs": [],
   "execution_count": 44
  },
  {
   "cell_type": "markdown",
   "id": "4e98398e38443245",
   "metadata": {},
   "source": [
    "### I would like to drop any column based on the tier system of the lockdown, as many of the dataframes have a significant amount of data missing for these columns, I will not be looking into this for my research topic"
   ]
  },
  {
   "cell_type": "code",
   "id": "5f164dae8319451d",
   "metadata": {
    "ExecuteTime": {
     "end_time": "2024-11-29T01:11:05.246072Z",
     "start_time": "2024-11-29T01:11:05.232323Z"
    }
   },
   "source": [
    "for dataframe in ofcom_dataframes.values():\n",
    "    for tier_column in ['tier_1', 'tier_2', 'tier_3']:\n",
    "        if tier_column in dataframe.columns:\n",
    "            dataframe.drop(tier_column, axis=1, inplace=True)"
   ],
   "outputs": [],
   "execution_count": 45
  },
  {
   "cell_type": "markdown",
   "id": "d2e7885ab97df84c",
   "metadata": {},
   "source": [
    "#### This looks better (uncomment to review) however I would like to drop columns with more than 50% missing values, other than those with regional data as this would be "
   ]
  },
  {
   "cell_type": "code",
   "id": "38de8df6f06d7fb2",
   "metadata": {
    "ExecuteTime": {
     "end_time": "2024-11-29T01:11:05.268114Z",
     "start_time": "2024-11-29T01:11:05.266772Z"
    }
   },
   "source": [
    "# plot_heatmaps(ofcom_dataframes)"
   ],
   "outputs": [],
   "execution_count": 46
  },
  {
   "cell_type": "markdown",
   "id": "967027058a5fbeb7",
   "metadata": {},
   "source": [
    "### I will first drop any column which contains greater than 70% missing data\n"
   ]
  },
  {
   "cell_type": "code",
   "id": "a76f9a5379fb2010",
   "metadata": {
    "ExecuteTime": {
     "end_time": "2024-11-29T01:11:05.296850Z",
     "start_time": "2024-11-29T01:11:05.279253Z"
    }
   },
   "source": [
    "threshold = 0.7\n",
    "\n",
    "for dataframe in ofcom_dataframes.values():\n",
    "    non_null_percentage = dataframe.notnull().mean()\n",
    "    \n",
    "    dataframe.drop(columns=non_null_percentage[non_null_percentage < (1 - threshold)].index, inplace=True)\n",
    "\n",
    "    # print(dataframe)"
   ],
   "outputs": [],
   "execution_count": 47
  },
  {
   "cell_type": "markdown",
   "id": "eadbff7ffa68c886",
   "metadata": {},
   "source": [
    "### As you can see this is looking much better! (uncomment to review heatmaps). I will now fill the na values with 0 to represent no response for this part of the survey"
   ]
  },
  {
   "cell_type": "code",
   "id": "a69715e9888fd664",
   "metadata": {
    "ExecuteTime": {
     "end_time": "2024-11-29T01:11:05.307645Z",
     "start_time": "2024-11-29T01:11:05.306423Z"
    }
   },
   "source": [
    "# plot_heatmaps(ofcom_dataframes)"
   ],
   "outputs": [],
   "execution_count": 48
  },
  {
   "cell_type": "code",
   "id": "895aadee-ea55-426b-88b2-00e2aabcb358",
   "metadata": {
    "ExecuteTime": {
     "end_time": "2024-11-29T01:11:05.340450Z",
     "start_time": "2024-11-29T01:11:05.316981Z"
    }
   },
   "source": [
    "for key, dataframe in ofcom_dataframes.items():\n",
    "    dataframe.replace({None: 0, '': 0, '-': 0, ' ': 0}, inplace=True)\n",
    "    dataframe.fillna(0, inplace=True)"
   ],
   "outputs": [],
   "execution_count": 49
  },
  {
   "cell_type": "code",
   "id": "dce68316075a49fc",
   "metadata": {
    "ExecuteTime": {
     "end_time": "2024-11-29T01:11:05.351134Z",
     "start_time": "2024-11-29T01:11:05.349606Z"
    }
   },
   "source": [
    "# plot_heatmaps(ofcom_dataframes)\n"
   ],
   "outputs": [],
   "execution_count": 50
  },
  {
   "cell_type": "markdown",
   "id": "146068cb478621a1",
   "metadata": {},
   "source": [
    "### This looks much better, for the regional columns I will leave the nan values in - this is a choice to aid in plotting as matplot lib will stop plotting the line for nan values - I would not want to impute such a large number of values"
   ]
  },
  {
   "cell_type": "markdown",
   "id": "abfbbfc6b982354",
   "metadata": {},
   "source": [
    "## 5. Handling Duplicates"
   ]
  },
  {
   "cell_type": "code",
   "id": "f5766539853e8e1",
   "metadata": {
    "ExecuteTime": {
     "end_time": "2024-11-29T01:11:05.417956Z",
     "start_time": "2024-11-29T01:11:05.360733Z"
    }
   },
   "source": [
    "for dataframe in ofcom_dataframes.values():\n",
    "    print(\"Question: \", dataframe.question[0])\n",
    "    print(\"Duplicates: \", dataframe.duplicated().sum())"
   ],
   "outputs": [
    {
     "name": "stdout",
     "output_type": "stream",
     "text": [
      "Question:  Q1. Device usage to connect to internet\n",
      "Duplicates:  25\n",
      "Question:  Q2. Frequency of getting info/news about Coronavirus outbreak in last week\n",
      "Duplicates:  1\n",
      "Question:  Q3a. Sources used to get info/news about Coronavirus outbreak in last week\n",
      "Duplicates:  153\n",
      "Question:  Q3b. Most important source used in last week\n",
      "Duplicates:  133\n",
      "Question:  Q4a. Types of news/information seen on social media and search engines in last week: Summary\n",
      "Duplicates:  0\n",
      "Question:  Q4b. Most important type of news/information from social media or search engines\n",
      "Duplicates:  0\n",
      "Question:  Q4b3. To what extent do you agree or disagree with the following statements? Summary\n",
      "Duplicates:  0\n",
      "Question:  Q5. Trust in the sources for information/news about Coronavirus used in last week: STV\n",
      "Duplicates:  0\n",
      "Question:  Q6. Altered behaviour over last week\n",
      "Duplicates:  68\n",
      "Question:  Q7. Ways of sharing information/news in last week\n",
      "Duplicates:  0\n",
      "Question:  Q7b. Why did you share this information/news about Coronavirus?\n",
      "Duplicates:  0\n",
      "Question:  Q8. Whether came across information/news about Coronavirus that you think has been false or misleading in last week\n",
      "Duplicates:  0\n",
      "Question:  Q10. Whether came across any of these false or misleading recommendations about avoiding the Coronavirus in the last week\n",
      "Duplicates:  1\n",
      "Question:  Q10b. How theory that the origin or cause of Coronavirus is in some way linked to 5G technology has been reported\n",
      "Duplicates:  0\n",
      "Question:  Q10c. Source of theory linking Coronavirus to 5G technology reported as true\n",
      "Duplicates:  26\n",
      "Question:  Q10d. How claims about the potential dangers associated with Coronavirus vaccine have been reported\n",
      "Duplicates:  0\n",
      "Question:  Q10d. How claims about the potential dangers of a Coronavirus vaccine have been reported\n",
      "Duplicates:  0\n",
      "Question:  Q10e. Source of claims about the potential dangers associated with Coronavirus vaccine reported as true\n",
      "Duplicates:  9\n",
      "Question:  Q10e. Source of claims about the potential dangers of a Coronavirus vaccine reported as true\n",
      "Duplicates:  28\n",
      "Question:  Q10f. How claims about injecting disinfectant have been reported\n",
      "Duplicates:  0\n",
      "Question:  Q10g. Source of claims about about injecting disinfectant as true\n",
      "Duplicates:  9\n",
      "Question:  Q10h. How claims about face masks/coverings offering no protection or being harmful have been reported\n",
      "Duplicates:  0\n",
      "Question:  Q10h. How claims about masks offering no protection or being harmful have been reported\n",
      "Duplicates:  0\n",
      "Question:  Q10i. Source of claims about about face masks/coverings offering no protection or being harmful  as true\n",
      "Duplicates:  5\n",
      "Question:  Q10i. Source of claims about about masks offering no protection or being harmful  as true\n",
      "Duplicates:  9\n",
      "Question:  Q10k. To what extent are you concerned or not concerned about the following statements? - Summary\n",
      "Duplicates:  0\n",
      "Question:  Q10k. To what extent are you concerned or not concerned about the following statements? - The amount of false or misleading information that others in society may be getting about Coronavirus\n",
      "Duplicates:  0\n",
      "Question:  Q10k. To what extent are you concerned or not concerned about the following statements? - The amount of false or misleading information you may be getting about Coronavirus\n",
      "Duplicates:  0\n",
      "Question:  Q10l. How claims about the Coronavirus test which shows if you currently have the virus does not work and 93% of tests produce a false positive have been reported\n",
      "Duplicates:  0\n",
      "Question:  Q10m. Source of claims about the Coronavirus test which shows if you currently have the virus does not work and 93% of tests produce a false positive as true\n",
      "Duplicates:  4\n",
      "Question:  Q10n. How claims stating that the flu alone is killing more people than Coronavirus have been reported\n",
      "Duplicates:  0\n",
      "Question:  Q10o. Source of claims stating that the flu alone is killing more people than Coronavirus as true\n",
      "Duplicates:  21\n",
      "Question:  Q10p. How claims about empty hospitals on social media posts prove that Coronavirus has been exaggerated have been reported\n",
      "Duplicates:  0\n",
      "Question:  Q10q. Source of claims about empty hospitals on social media posts prove that Coronavirus has been exaggerated reported as true\n",
      "Duplicates:  8\n",
      "Question:  Q10r. How claims that the Coronavirus vaccine is a cover for a plan to implant trackable microchips in people have been reported\n",
      "Duplicates:  0\n",
      "Question:  Q10s. Source of claims that the Coronavirus vaccine is a cover for a plan to implant trackable microchips in people reported as true\n",
      "Duplicates:  9\n",
      "Question:  Q10t. How claims that the Coronavirus vaccine may reduce fertility have been reported\n",
      "Duplicates:  0\n"
     ]
    }
   ],
   "execution_count": 51
  },
  {
   "cell_type": "markdown",
   "id": "d2313d000e7054f4",
   "metadata": {},
   "source": [
    "### There are a few duplicate rows I will therefore drop these:"
   ]
  },
  {
   "cell_type": "code",
   "id": "78203c042a169213",
   "metadata": {
    "ExecuteTime": {
     "end_time": "2024-11-29T01:11:05.447561Z",
     "start_time": "2024-11-29T01:11:05.427743Z"
    }
   },
   "source": [
    "for dataframe in ofcom_dataframes.values():\n",
    "    dataframe = dataframe.drop_duplicates()"
   ],
   "outputs": [],
   "execution_count": 52
  },
  {
   "cell_type": "markdown",
   "id": "186c7ba8b7716a09",
   "metadata": {},
   "source": [
    "## 6. Data Type Conversion\n",
    "### I would like to format the date column into a start date and end date. I also want the date columns at the start"
   ]
  },
  {
   "cell_type": "code",
   "id": "8f38c423afc90b85",
   "metadata": {
    "ExecuteTime": {
     "end_time": "2024-11-29T01:11:05.458420Z",
     "start_time": "2024-11-29T01:11:05.456767Z"
    }
   },
   "source": [
    "def format_start_date (date):\n",
    "    date = date.split(':')[-1]\n",
    "    start_date = ' '.join([date.split(' ')[1], date.split(' ')[-2], date.split(' ')[-1]])\n",
    "    start_date = re.sub(r'(\\d+)(st|nd|rd|th)', r'\\1', start_date)    \n",
    "    return datetime.strptime(start_date, '%d %B %Y')"
   ],
   "outputs": [],
   "execution_count": 53
  },
  {
   "cell_type": "code",
   "id": "2ecfffe3aad5151f",
   "metadata": {
    "ExecuteTime": {
     "end_time": "2024-11-29T01:11:05.469195Z",
     "start_time": "2024-11-29T01:11:05.467596Z"
    }
   },
   "source": [
    "def format_end_date (date):\n",
    "    date = date.split(':')[-1]\n",
    "    end_date = ' '.join(date.split(' ')[-3:])   \n",
    "    end_date = re.sub(r'(\\d+)(st|nd|rd|th)', r'\\1', end_date)    \n",
    "    return datetime.strptime(end_date, '%d %B %Y')"
   ],
   "outputs": [],
   "execution_count": 54
  },
  {
   "cell_type": "code",
   "id": "4935b60e9bf27001",
   "metadata": {
    "ExecuteTime": {
     "end_time": "2024-11-29T01:11:05.550897Z",
     "start_time": "2024-11-29T01:11:05.478450Z"
    }
   },
   "source": [
    "for dataframe in ofcom_dataframes.values():\n",
    "    dataframe['start_date'] = dataframe['date'].apply(format_start_date)\n",
    "    dataframe['end_date'] = dataframe['date'].apply(format_end_date)"
   ],
   "outputs": [],
   "execution_count": 55
  },
  {
   "cell_type": "code",
   "id": "a32668adbf05c7cc",
   "metadata": {
    "ExecuteTime": {
     "end_time": "2024-11-29T01:11:05.571848Z",
     "start_time": "2024-11-29T01:11:05.560545Z"
    }
   },
   "source": [
    "for key, dataframe in ofcom_dataframes.items():\n",
    "    last_two_columns = dataframe.columns[-2:].tolist()\n",
    "    \n",
    "    other_columns = dataframe.columns[:-2].tolist()\n",
    "    \n",
    "    new_column_order = last_two_columns + other_columns\n",
    "    \n",
    "    ofcom_dataframes[key] = dataframe[new_column_order]\n",
    "\n",
    "    ofcom_dataframes[key] = ofcom_dataframes[key].drop('date', axis=1)"
   ],
   "outputs": [],
   "execution_count": 56
  },
  {
   "cell_type": "markdown",
   "id": "5929e8be88508bd3",
   "metadata": {},
   "source": [
    "### Some of the values end with a star or double star to denote that the size of the population of respondents is less than 100 or less than 50. This is not needed, so I remove this from the columns:"
   ]
  },
  {
   "cell_type": "code",
   "id": "6dfd367ec3277940",
   "metadata": {
    "ExecuteTime": {
     "end_time": "2024-11-29T01:11:05.583505Z",
     "start_time": "2024-11-29T01:11:05.581740Z"
    }
   },
   "source": [
    "def remove_stars(value):\n",
    "    if pd.notna(value):\n",
    "        value_str = str(value)\n",
    "        if value_str.endswith('**'):\n",
    "            return value_str[:-2].strip()\n",
    "        elif value_str.endswith('*'):\n",
    "            return value_str[:-1].strip()\n",
    "    return value"
   ],
   "outputs": [],
   "execution_count": 57
  },
  {
   "cell_type": "code",
   "id": "8e1af75042899516",
   "metadata": {
    "ExecuteTime": {
     "end_time": "2024-11-29T01:11:05.736818Z",
     "start_time": "2024-11-29T01:11:05.593879Z"
    }
   },
   "source": [
    "for dataframe in ofcom_dataframes.values():\n",
    "    for column in dataframe.columns:\n",
    "        dataframe[column] = dataframe[column].apply(remove_stars)"
   ],
   "outputs": [],
   "execution_count": 58
  },
  {
   "cell_type": "markdown",
   "id": "3c7e9f0c90aee9de",
   "metadata": {},
   "source": [
    "## 7. Handling Outliers\n",
    "#### Identifying outliers:"
   ]
  },
  {
   "cell_type": "code",
   "id": "b3abd6368d902397",
   "metadata": {
    "ExecuteTime": {
     "end_time": "2024-11-29T01:11:05.752038Z",
     "start_time": "2024-11-29T01:11:05.750194Z"
    }
   },
   "source": [
    "# for dataframe in ofcom_dataframes.values():    \n",
    "#     numerical_columns = dataframe.select_dtypes(include=['number']).columns\n",
    "#     \n",
    "#     plt.figure(figsize=(12, 6))\n",
    "#     \n",
    "#     sns.boxplot(data=dataframe[numerical_columns])\n",
    "#     \n",
    "#     plt.title(dataframe.question[0])\n",
    "#     plt.xticks(rotation=45)\n",
    "#         \n",
    "#     plt.show()"
   ],
   "outputs": [],
   "execution_count": 59
  },
  {
   "cell_type": "markdown",
   "id": "3e3caf5a173c7b9b",
   "metadata": {},
   "source": [
    "### The outliers although present seem appropriate and not wildly out of range for the data. I do not wish to lose this rich raw data. I will not remove them from this time series analysis as it could represent changes in value associated with the pandemic\n"
   ]
  },
  {
   "cell_type": "markdown",
   "id": "10a91476579d4e08",
   "metadata": {},
   "source": [
    "## 8. Checking for Inconsistencies\n",
    "### Finally, I will clean up the text for the question columns to formatting them with lower case and _ for space, I will also drop the table number column"
   ]
  },
  {
   "cell_type": "code",
   "id": "acf822e7-05f3-463f-a7ad-dd5c2232ad6b",
   "metadata": {
    "ExecuteTime": {
     "end_time": "2024-11-29T01:11:05.773953Z",
     "start_time": "2024-11-29T01:11:05.762827Z"
    }
   },
   "source": [
    "for key, dataframe in ofcom_dataframes.items():\n",
    "    ofcom_dataframes[key] = ofcom_dataframes[key].drop('table', axis=1)"
   ],
   "outputs": [],
   "execution_count": 60
  },
  {
   "cell_type": "code",
   "id": "6b92d273cf1dc294",
   "metadata": {
    "ExecuteTime": {
     "end_time": "2024-11-29T01:11:05.785523Z",
     "start_time": "2024-11-29T01:11:05.783995Z"
    }
   },
   "source": [
    "def format_question(question):\n",
    "    question = question.split('. ')[1:][0].lower().replace(' ', '_')\n",
    "    return question"
   ],
   "outputs": [],
   "execution_count": 61
  },
  {
   "cell_type": "code",
   "id": "30d75252796680b6",
   "metadata": {
    "ExecuteTime": {
     "end_time": "2024-11-29T01:11:05.801073Z",
     "start_time": "2024-11-29T01:11:05.795287Z"
    }
   },
   "source": [
    "for key, dataframe in ofcom_dataframes.items():\n",
    "    dataframe['question'] = dataframe['question'].apply(format_question)"
   ],
   "outputs": [],
   "execution_count": 62
  },
  {
   "cell_type": "markdown",
   "id": "b846e04ff9607daf",
   "metadata": {},
   "source": [
    "## 10. Saving to file:"
   ]
  },
  {
   "cell_type": "code",
   "id": "1c3721d4a31a523d",
   "metadata": {
    "ExecuteTime": {
     "end_time": "2024-11-29T01:11:05.858341Z",
     "start_time": "2024-11-29T01:11:05.810667Z"
    }
   },
   "source": [
    "for key, dataframe in ofcom_dataframes.items():\n",
    "    filename = '_'.join(key.split('_')[1:]) + '_cleaned.csv'\n",
    "    dataframe = dataframe.sort_values(by='start_date', ascending=True)\n",
    "    dataframe.to_csv(f\"2_cleaned_files/ofcom_survey_data/{filename}\", index=False)"
   ],
   "outputs": [],
   "execution_count": 63
  },
  {
   "cell_type": "code",
   "id": "707b3649-09ed-46df-a13c-72504d9bebc3",
   "metadata": {
    "ExecuteTime": {
     "end_time": "2024-11-29T01:11:05.868800Z",
     "start_time": "2024-11-29T01:11:05.867758Z"
    }
   },
   "source": [],
   "outputs": [],
   "execution_count": null
  }
 ],
 "metadata": {
  "kernelspec": {
   "display_name": "Python 3 (ipykernel)",
   "language": "python",
   "name": "python3"
  },
  "language_info": {
   "codemirror_mode": {
    "name": "ipython",
    "version": 3
   },
   "file_extension": ".py",
   "mimetype": "text/x-python",
   "name": "python",
   "nbconvert_exporter": "python",
   "pygments_lexer": "ipython3",
   "version": "3.12.6"
  }
 },
 "nbformat": 4,
 "nbformat_minor": 5
}
