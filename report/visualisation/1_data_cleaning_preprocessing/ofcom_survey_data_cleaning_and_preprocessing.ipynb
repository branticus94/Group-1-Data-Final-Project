{
 "cells": [
  {
   "cell_type": "markdown",
   "id": "67d8341b-929c-4cf6-adab-44a449eb3328",
   "metadata": {
    "ExecuteTime": {
     "end_time": "2024-11-26T21:49:23.056925Z",
     "start_time": "2024-11-26T21:49:23.055961Z"
    },
    "collapsed": true,
    "jupyter": {
     "outputs_hidden": true
    }
   },
   "source": [
    "# OFCOM Survey Data Cleaning and Preprocessing\n",
    "## 1. Import necessary libraries & modules"
   ]
  },
  {
   "cell_type": "code",
   "execution_count": 1,
   "id": "e5f8bd666f126f96",
   "metadata": {
    "ExecuteTime": {
     "end_time": "2024-11-29T00:12:39.989740Z",
     "start_time": "2024-11-29T00:12:39.987527Z"
    }
   },
   "outputs": [],
   "source": [
    "import pandas as pd\n",
    "import matplotlib.pyplot as plt\n",
    "import seaborn as sns\n",
    "from pathlib import Path\n",
    "from datetime import datetime\n",
    "import re"
   ]
  },
  {
   "cell_type": "markdown",
   "id": "a222e321b2f70282",
   "metadata": {},
   "source": [
    "## 2. Load the data to dataframes\n",
    "### Getting a list of files"
   ]
  },
  {
   "cell_type": "code",
   "execution_count": 2,
   "id": "cff8b4edfd1b835b",
   "metadata": {
    "ExecuteTime": {
     "end_time": "2024-11-29T00:12:40.006714Z",
     "start_time": "2024-11-29T00:12:40.001430Z"
    }
   },
   "outputs": [],
   "source": [
    "path_for_ofcom_datasets = '1_api_connectors_and_csv_parsers/2_processed_databases/ofcom_data'\n",
    "\n",
    "directory_path = Path(path_for_ofcom_datasets)\n",
    "\n",
    "file_list = [f.name for f in directory_path.iterdir() if f.is_file()]\n",
    "\n",
    "csv_filepaths = [f'{path_for_ofcom_datasets}/{file}' for file in file_list if file[-3:] == 'csv']"
   ]
  },
  {
   "cell_type": "markdown",
   "id": "2571703ec2254286",
   "metadata": {},
   "source": [
    "### Reviewing the files and deciding which questions are suitable for our data analysis"
   ]
  },
  {
   "cell_type": "code",
   "execution_count": 3,
   "id": "3b1fa9678af393a4",
   "metadata": {
    "ExecuteTime": {
     "end_time": "2024-11-29T00:12:40.073863Z",
     "start_time": "2024-11-29T00:12:40.069831Z"
    }
   },
   "outputs": [
    {
     "data": {
      "text/plain": [
       "['to_which_of_the_following_religious_groups_do_you_consider_yourself_to_be_a_member_of.csv',\n",
       " 'q5_trust_in_the_sources_for_informationnews_about_coronavirus_used_in_last_week_channel_4.csv',\n",
       " 'q13_how_closely_followed_official_advice_in_last_week_wearing_a_face_maskcovering_where_relevant.csv',\n",
       " 'q5_trust_in_the_sources_for_informationnews_about_coronavirus_used_in_last_week_broadsheets_such_as_the_times_or_guardian__online_.csv',\n",
       " 'which_of_the_following_best_describes_where_you_live.csv',\n",
       " 'q4a_types_of_newsinformation_seen_on_social_media_and_search_engines_in_last_week_whatsapp_groups.csv',\n",
       " 'q13_how_closely_followed_official_advice_in_last_week_only_meeting_outside_with_up_to_six_people_from_any_number_of_households_or_any_number_of_people_from_two_households.csv',\n",
       " 'q13b_which_of_the_following_official_advice_do_you_think_are_the_most_important_to_do_to_contain_the_coronavirus_staying_at_home_as_much_as_possible.csv',\n",
       " 'q5_trust_in_the_sources_for_informationnews_about_coronavirus_used_in_last_week_direct_from_local_health_service_websiteemailtextpost.csv',\n",
       " 'q13b_which_of_the_following_official_advice_do_you_think_are_the_most_important_to_do_to_contain_the_coronavirus_limiting_your_contact_with_other_people_including_family_and_friends.csv',\n",
       " 'q13b_which_of_the_following_official_advice_do_you_think_are_the_most_important_to_do_to_contain_the_coronavirus___2nd_most_important.csv',\n",
       " 'q10b_how_theory_linking_coronavirus_to_5g_technology_has_been_reported.csv',\n",
       " 'q5_trust_in_the_sources_for_informationnews_about_coronavirus_used_in_last_week_facebook.csv',\n",
       " 'q5_trust_in_the_sources_for_informationnews_about_coronavirus_used_in_last_week_bbc_alba.csv',\n",
       " 'q5_trust_in_the_sources_for_informationnews_about_coronavirus_used_in_last_week_advertising.csv',\n",
       " 'q4a_types_of_newsinformation_seen_on_social_media_and_search_engines_in_last_week_facebook_messenger.csv',\n",
       " 'q13_how_closely_followed_official_advice_in_last_week_only_meeting_outside_with_up_to_six_people_from_two_households.csv',\n",
       " 'q11_actions_done_after_coming_across_falsemisleading_in_the_last_week.csv',\n",
       " 'q10c_source_of_theory_that_the_origin_or_cause_of_coronavirus_is_in_some_way_linked_to_5g_technology_reported_as_true.csv',\n",
       " 'q13_how_closely_followed_official_advice_in_last_week_only_meeting_with_up_to_eight_people_from_two_households_in_public_ideally_within_5_miles_and_staying_2_metres_apart.csv',\n",
       " 'q5_trust_in_the_sources_for_informationnews_about_coronavirus_used_in_last_week_other_1.csv',\n",
       " 'q5_trust_in_the_sources_for_informationnews_about_coronavirus_used_in_last_week_channel_5.csv',\n",
       " 'q5_trust_in_the_sources_for_informationnews_about_coronavirus_used_in_last_week_snapchat.csv',\n",
       " 'q5_trust_in_the_sources_for_informationnews_about_coronavirus_used_in_last_week_other_3.csv',\n",
       " 'please_indicate_which_of_the_following_best_describes_your_working_status_before_march_2020_precovid_19_taking_into_account_any_changes_due_to_the_impact_of_the_coronavirus_pandemic.csv',\n",
       " 'what_is_the_combined_annual_income_of_your_household_prior_to_tax_being_deducted.csv',\n",
       " 'do_you_have_any_children_aged_18_or_under_if_so_how_old_are_they.csv',\n",
       " 'q13b_which_of_the_following_official_advice_do_you_think_are_the_most_important_to_do_to_contain_the_coronavirus___1st_most_important.csv',\n",
       " 'nan.csv',\n",
       " 'q8_whether_came_across_informationnews_about_coronavirus_that_you_think_has_been_false_or_misleading_in_last_week.csv',\n",
       " 'q13b_which_of_the_following_do_you_think_are_the_most_important_to_do_to_contain_the_coronavirus_limiting_your_contact_with_other_people_including_family_and_friends.csv',\n",
       " 'q5_trust_in_the_sources_for_informationnews_about_coronavirus_used_in_last_week_other_2.csv',\n",
       " 'q13_how_closely_followed_official_advice_in_last_week_only_going_outside_your_home_for_essential_shopping_exercise_and_meeting_with_one_other_person_outside_your_household.csv',\n",
       " 'q13b_which_of_the_following_official_advice_do_you_think_are_the_most_important_to_do_to_contain_the_coronavirus___3rd_most_important.csv',\n",
       " 'q6a_please_think_about_the_coronavirus_situation_and_the_information_and_news_you_need_to_manage_your_daily_life_to_what_extent_are_you_relying_on_people_that_you_knowpeople_in_your_local.csv',\n",
       " 'q10b_how_theory_that_the_origin_or_cause_of_coronavirus_is_in_some_way_linked_to_5g_technology_has_been_reported.csv',\n",
       " 'age.csv',\n",
       " 'gender.csv',\n",
       " 'opinion_influencer.csv',\n",
       " 'q4a_types_of_newsinformation_seen_on_social_media_and_search_engines_in_last_week_apple_imessage.csv',\n",
       " 'q4b1_when_you_go_onto_social_media_how_often_are_you_coming_acrossseeing_information_in_the_form_of_banners_popups_and_upfront_notices_about_coronavirus_from_official_sources.csv',\n",
       " 'q5_trust_in_the_sources_for_informationnews_about_coronavirus_used_in_last_week_midmarket_tabloids_such_as_the_daily_mail_or_daily_express__printed_.csv',\n",
       " 'q4c_use_of_types_of_media_organisations_media_organisations_from_other_countries.csv',\n",
       " 'q12_to_what_extent_do_you_agree_or_disagree_with_the_following_statements_i_am_trying_to_avoid_news_about_coronavirus.csv',\n",
       " 'q10_whether_they_came_across_claims_about_coronavirus_that_could_be_considered_as_false_or_misleading_in_the_last_week.csv',\n",
       " 'q10e_source_of_claims_about_the_potential_dangers_associated_with_coronavirus_vaccine_reported_as_true.csv',\n",
       " 'q13b_which_of_the_following_do_you_think_are_the_most_important_to_do_to_contain_the_coronavirus_not_touching_your_face_when_outside.csv',\n",
       " 'please_indicate_which_of_the_following_best_describes_your_working_status_before_precovid_19march_2020_taking_into_account_any_changes_due_to_the_impact_of_the_coronavirus_pandemic.csv',\n",
       " 'q12_to_what_extent_do_you_agree_or_disagree_with_the_following_statements_i_would_be_comfortable_to_be_vaccinated_against_the_coronavirus_if_there_was_a_vaccine_approved_by_the.csv',\n",
       " 'q5_trust_in_the_sources_for_informationnews_about_coronavirus_used_in_last_week_apple_imessage.csv',\n",
       " 'q5_trust_in_the_sources_for_informationnews_about_coronavirus_used_in_last_week_s4c.csv',\n",
       " 'q4c_use_of_types_of_media_organisations_scotlandwide_media_organisations.csv',\n",
       " 'q12b_which_tier_or_protection_level_is_your_local_area_currently_in.csv',\n",
       " 'q5_trust_in_the_sources_for_informationnews_about_coronavirus_used_in_last_week_direct_from_uk_government_websiteemailtextpost.csv',\n",
       " 'q5_trust_in_the_sources_for_informationnews_about_coronavirus_used_in_last_week_whatsapp.csv',\n",
       " 'q5_trust_in_the_sources_for_informationnews_about_coronavirus_used_in_last_week_celebrity_andor_social_media_influencer.csv',\n",
       " 'q4c_use_of_types_of_media_organisations_ukwide_media_organisations.csv',\n",
       " 'q5_trust_in_the_sources_for_informationnews_about_coronavirus_used_in_last_week_direct_from_wales_government_websiteemailtextpost.csv',\n",
       " 'go_region.csv',\n",
       " 'q12_to_what_extent_do_you_agree_or_disagree_with_the_following_statements_this_crisis_is_showing_some_positive_sides_of_society_eg_more_localcommunity_spirit_support_for_nhs.csv',\n",
       " 'q5_trust_in_the_sources_for_informationnews_about_coronavirus_used_in_last_week_broadsheets_such_as_the_times_or_guardian__printed_.csv',\n",
       " 'q5_trust_in_the_sources_for_informationnews_about_coronavirus_used_in_last_week_email.csv',\n",
       " 'q5_trust_in_the_sources_for_informationnews_about_coronavirus_used_in_last_week_cool_fm.csv',\n",
       " 'q12_to_what_extent_do_you_agree_or_disagree_with_the_following_statements_on_balance_i_am_happy_that_my_childchildren_isare_still_able_to_go_to_school.csv',\n",
       " 'q10h_how_claims_about_masks_offering_no_protection_or_being_harmful_have_been_reported.csv',\n",
       " 'q5_trust_in_the_sources_for_informationnews_about_coronavirus_used_in_last_week_smart_speaker_display_eg_amazon_echo_google_home.csv',\n",
       " 'q4c_use_of_types_of_media_organisations_northern_ireland_wide_media_organisations.csv',\n",
       " 'q10d_how_claims_about_the_potential_dangers_associated_with_coronavirus_vaccine_have_been_reported.csv',\n",
       " 'q10c_source_of_theory_linking_coronavirus_to_5g_technology_reported_as_true.csv',\n",
       " 'q10bq10dq10n_net_reported_as_true_or_false.csv',\n",
       " 'q4c_use_of_types_of_media_organisations_net_scotland_northern_ireland_waleswide_media_organisations.csv',\n",
       " 'q5_trust_in_the_sources_for_informationnews_about_coronavirus_used_in_last_week_sky.csv',\n",
       " 'q5_trust_in_the_sources_for_informationnews_about_coronavirus_used_in_last_week_direct_from_scotland_government_websiteemailtextpost.csv',\n",
       " 'q14_some_people_talk_about_left_right_and_centre_to_describe_parties_and_politicians_generally_socialist_parties_would_be_considered_left_wing_whilst_conservative_parties_would_be.csv',\n",
       " 'which_of_the_following_best_describes_your_current_working_status.csv',\n",
       " 'q12_to_what_extent_do_you_agree_or_disagree_with_the_following_statements_i_am_confused_about_what_i_should_be_doing_in_response_to_coronavirus.csv',\n",
       " 'q10u_source_of_claims_that_the_coronavirus_vaccine_may_reduce_fertility_reported_as_true.csv',\n",
       " 'q5_trust_in_the_sources_for_informationnews_about_coronavirus_used_in_last_week_stickers_eg_on_lamp_posts_or_other_places_in_your_neighbourhood.csv',\n",
       " 'have_you_taken_a_foreign_holiday_in_the_last_3_years.csv',\n",
       " 'q12_to_what_extent_do_you_agree_or_disagree_with_the_following_statements_i_find_it_hard_to_know_what_is_true_and_what_is_false_about_coronavirus.csv',\n",
       " 'q12_to_what_extent_do_you_agree_or_disagree_with_the_following_statements_i_am_confident_that_i_understand_the_rules_around_forming_a_christmas_bubble_including_who_can_be.csv',\n",
       " 'q11b_which_of_the_following_fact_checking_sites_or_tools_did_you_use.csv',\n",
       " 'which_of_the_following_cities_do_you_live_in_or_nearest_to.csv',\n",
       " 'q12_to_what_extent_do_you_agree_or_disagree_with_the_following_statements_i_follow_internationalworld_news_about_coronavirus.csv',\n",
       " 'q10_whether_came_across_any_of_these_false_or_misleading_recommendations_about_avoiding_the_coronavirus_in_the_last_week.csv',\n",
       " 'q5_trust_in_the_sources_for_informationnews_about_coronavirus_used_in_last_week_direct_from_world_health_organisation_who_websiteemailtextpost.csv',\n",
       " 'q5_trust_in_the_sources_for_informationnews_about_coronavirus_used_in_last_week_people_in_your_local_areaneighbourhood.csv',\n",
       " 'please_indicate_which_of_the_following_best_describes_your_working_status_today_taking_into_account_any_changes_due_to_the_impact_of_the_coronavirus_pandemic.csv',\n",
       " 'q13b_which_of_the_following_official_advice_do_you_think_are_the_most_important_to_do_to_contain_the_coronavirus_wearing_a_face_maskcovering.csv',\n",
       " 'q4a_types_of_newsinformation_seen_on_social_media_and_search_engines_in_last_week_instagram.csv',\n",
       " 'q4c_use_of_types_of_media_organisations_waleswide_media_organisations.csv',\n",
       " 'q4b2a_and_when_you_come_across_these_warnings_or_notices_how_often_do_you_click_through_to_view_the_content_being_flagged_in_this_way.csv',\n",
       " 'q13_how_closely_followed_official_advice_in_last_week_only_meeting_up_in_small_groups_of_people_from_outside_your_household_up_to_six_in_public_and_staying_2_metres_apart.csv',\n",
       " 'q5_trust_in_the_sources_for_informationnews_about_coronavirus_used_in_last_week_bbc__radio.csv',\n",
       " 'q10g_source_of_claims_about_about_injecting_disinfectant_as_true.csv',\n",
       " 'tenure.csv',\n",
       " 'q10e_source_of_claims_about_the_potential_dangers_of_a_coronavirus_vaccine_reported_as_true.csv',\n",
       " 'q13b_which_of_the_following_official_advice_do_you_think_are_the_most_important_to_do_to_contain_the_coronavirus_maintaining_social_distancing_staying_2_metres_apart_from_people_when_outside.csv',\n",
       " 'q13b_which_of_the_following_official_advice_do_you_think_are_the_most_important_to_do_to_contain_the_coronavirus___net_important.csv',\n",
       " 'q3b_most_important_source_used_in_last_week.csv',\n",
       " 'q1a_typically_how_often_would_you_say_you_use_social_media.csv',\n",
       " 'q8_whether_came_across_informationnews_about_coronavirus_that_you_think_has_been_falsemissing_in_last_week.csv',\n",
       " 'q12_to_what_extent_do_you_agree_or_disagree_with_the_following_statements_i_am_happy_to_be_vaccinated_against_the_coronavirus.csv',\n",
       " 'q13b_which_of_the_following_do_you_think_are_the_most_important_to_do_to_contain_the_coronavirus_staying_at_home_as_much_as_possible.csv',\n",
       " 'q9_frequency_of_coming_across_informationnews_that_you_know_to_be_false_or_misleading.csv',\n",
       " 'q13b_which_of_the_following_do_you_think_are_the_most_important_to_do_to_contain_the_coronavirus___net_important.csv',\n",
       " 'q4b3_to_what_extent_do_you_agree_or_disagree_with_the_following_statements_i_think_that_people_and_organisations_have_a_right_to_say_what_they_want.csv',\n",
       " 'q5_trust_in_the_sources_for_informationnews_about_coronavirus_used_in_last_week_magazines.csv',\n",
       " 'do_you_have_a_longstanding_physical_or_mental_condition_or_disability_that_has_lasted_or_is_likely_to_last_12_months.csv',\n",
       " 'q13_how_closely_followed_official_advice_in_last_week_practised_social_distancing.csv',\n",
       " 'q4a_types_of_newsinformation_seen_on_social_media_and_search_engines_in_last_week_twitter.csv',\n",
       " 'q13_how_closely_followed_official_advice_in_last_week_practising_social_distancing.csv',\n",
       " 'q10d_how_claims_about_the_potential_dangers_of_a_coronavirus_vaccine_have_been_reported.csv',\n",
       " 'q5_trust_in_the_sources_for_informationnews_about_coronavirus_used_in_last_week_websites_or_apps_that_bring_together_news_from_different_news_providers.csv',\n",
       " 'q5_trust_in_the_sources_for_informationnews_about_coronavirus_used_in_last_week_direct_from_government_websiteemailtextpost.csv',\n",
       " 'q10h_how_claims_about_face_maskscoverings_offering_no_protection_or_being_harmful_have_been_reported.csv',\n",
       " 'q13b_which_of_the_following_do_you_think_are_the_most_important_to_do_to_contain_the_coronavirus___3rd_most_important.csv',\n",
       " 'q12_to_what_extent_do_you_agree_or_disagree_with_the_following_statements_the_mainstream_media_is_exaggerating_the_seriousness_of_coronavirus.csv',\n",
       " 'q10l_how_claims_about_the_coronavirus_test_which_shows_if_you_currently_have_the_virus_does_not_work_and_93_of_tests_produce_a_false_positive_have_been_reported.csv',\n",
       " 'q2_frequency_of_getting_infonews_about_coronavirus_outbreak_in_last_week.csv',\n",
       " 'q10i_source_of_claims_about_about_masks_offering_no_protection_or_being_harmful__as_true.csv',\n",
       " 'q1_device_usage_to_connect_to_internet.csv',\n",
       " 'q5_trust_in_the_sources_for_informationnews_about_coronavirus_used_in_last_week_whatsapp_groups.csv',\n",
       " 'q13b_which_of_the_following_do_you_think_are_the_most_important_to_do_to_contain_the_coronavirus___summary.csv',\n",
       " 'q13_how_closely_followed_official_advice_in_last_week_only_meeting_up_with_one_other_person_at_a_time_from_outside_your_household_in_public_and_staying_2_metres_apart.csv',\n",
       " 'q4b3_to_what_extent_do_you_agree_or_disagree_with_the_following_statements_i_think_that_untrue_stories_or_items_about_coronavirus.csv',\n",
       " 'q4a_types_of_newsinformation_seen_on_social_media_and_search_engines_in_last_week_whatsapp.csv',\n",
       " 'how_many_cars_are_there_in_your_household.csv',\n",
       " 'q4c_use_of_types_of_media_organisations_summary.csv',\n",
       " 'q13_how_closely_followed_official_advice_in_last_week_only_meeting_with_any_number_of_people_from_two_households_in_public_within_5_miles_and_staying_2_metres_apart.csv',\n",
       " 'q10nq10rq10t_net_reported_as_true_or_false.csv',\n",
       " 'q10t_how_claims_that_the_coronavirus_vaccine_may_reduce_fertility_have_been_reported.csv',\n",
       " 'q5_trust_in_the_sources_for_informationnews_about_coronavirus_used_in_last_week_direct_from_local_council__websiteemailtextpost.csv',\n",
       " 'q5_trust_in_the_sources_for_informationnews_about_coronavirus_used_in_last_week_twitter.csv',\n",
       " 'q10i_source_of_claims_about_about_face_maskscoverings_offering_no_protection_or_being_harmful__as_true.csv',\n",
       " 'q13b_which_of_the_following_official_advice_do_you_think_are_the_most_important_to_do_to_contain_the_coronavirus_work_from_home_if_possible.csv',\n",
       " 'do_you_work_in_any_of_the_following_occupations.csv',\n",
       " 'q13_how_closely_followed_official_advice_in_last_week_washing_hands_regularly_for_20_seconds_or_more.csv',\n",
       " 'q5_trust_in_the_sources_for_informationnews_about_coronavirus_used_in_last_week_community_radio.csv',\n",
       " 'q5_trust_in_the_sources_for_informationnews_about_coronavirus_used_in_last_week_instagram.csv',\n",
       " 'q5_trust_in_the_sources_for_informationnews_about_coronavirus_used_in_last_week_nonmainstream_news_sources_such_as_russia_today_breitbart_swawkbox_infowars_rebel_media_etc.csv',\n",
       " 'q5_trust_in_the_sources_for_informationnews_about_coronavirus_used_in_last_week_nonmainstream_news_sources_such_as_russia_today_breitbart_swawkbox_etc.csv',\n",
       " 'q12_to_what_extent_do_you_agree_or_disagree_with_the_following_statements_i_would_agree_to_be_vaccinated_against_the_coronavirus_if_there_was_a_vaccine_approved_by_the.csv',\n",
       " 'q12_to_what_extent_do_you_agree_or_disagree_with_the_following_statements_i_am_confident_that_i_understand_the_different_rules_that_apply_in_each_tier.csv',\n",
       " 'q6_altered_behaviour_over_last_week.csv',\n",
       " 'q10n_how_claims_stating_that_the_flu_alone_is_killing_more_people_than_coronavirus_have_been_reported.csv',\n",
       " 'q10bq10dq10h_net_reported_as_true_or_false.csv',\n",
       " 'please_indicate_which_of_the_following_best_describes_your_working_status_before_march_2020_precovid_19.csv',\n",
       " 'q13b_which_of_the_following_official_advice_do_you_think_are_the_most_important_to_do_to_contain_the_coronavirus___summary.csv',\n",
       " 'q5_trust_in_the_sources_for_informationnews_about_coronavirus_used_in_last_week_itv.csv',\n",
       " 'to_which_of_the_following_ethnic_groups_do_you_consider_you_belong.csv',\n",
       " 'q4a_types_of_newsinformation_seen_on_social_media_and_search_engines_in_last_week_facebook.csv',\n",
       " 'q10k_to_what_extent_are_you_concerned_or_not_concerned_about_the_following_statements__the_amount_of_false_or_misleading_information_you_may_be_getting_about_coronavirus.csv',\n",
       " 'q13b_which_of_the_following_official_advice_do_you_think_are_the_most_important_to_do_to_contain_the_coronavirus_washing_hands_regularly_and_thoroughly.csv',\n",
       " 'q13b_which_of_the_following_do_you_think_are_the_most_important_to_do_to_contain_the_coronavirus___2nd_most_important.csv',\n",
       " 'q10r_how_claims_that_the_coronavirus_vaccine_is_a_cover_for_a_plan_to_implant_trackable_microchips_in_people_have_been_reported.csv',\n",
       " 'q5_trust_in_the_sources_for_informationnews_about_coronavirus_used_in_last_week_search_engine_eg_google.csv',\n",
       " 'q5_trust_in_the_sources_for_informationnews_about_coronavirus_used_in_last_week_smart_speaker_eg_amazon_echo_google_home.csv',\n",
       " 'q5_trust_in_the_sources_for_informationnews_about_coronavirus_used_in_last_week_midmarket_tabloids_such_as_mailonline_or_express__online_.csv',\n",
       " 'q5b_thinking_about_your_views_on_the_mainstream_media_sources_which_means_the_main_organisations_that_provide_news_such_as_the_bbc_itv_sky_news_the_press_such_as_the_sun_the_times.csv',\n",
       " 'q7b_why_did_you_share_this_informationnews_about_coronavirus.csv',\n",
       " 'q13b_which_of_the_following_official_advice_do_you_think_are_the_most_important_to_do_to_contain_the_coronavirus_not_touching_your_face_when_outside.csv',\n",
       " 'q13b_which_of_the_following_do_you_think_are_the_most_important_to_do_to_contain_the_coronavirus_work_from_home_if_possible.csv',\n",
       " 'q5_trust_in_the_sources_for_informationnews_about_coronavirus_used_in_last_week_bbc__tv.csv',\n",
       " 'q5_trust_in_the_sources_for_informationnews_about_coronavirus_used_in_last_week_local_sources_across_tv_radio_and_online.csv',\n",
       " 'q13b_which_of_the_following_do_you_think_are_the_most_important_to_do_to_contain_the_coronavirus___1st_most_important.csv',\n",
       " 'q12_to_what_extent_do_you_agree_or_disagree_with_the_following_statements_i_am_confident_that_i_understand_the_different_rules_that_apply_in_each_protection_level.csv',\n",
       " 'q4a_types_of_newsinformation_seen_on_social_media_and_search_engines_in_last_week_search_engine_eg_google.csv',\n",
       " 'social_grade.csv',\n",
       " 'q4b3_to_what_extent_do_you_agree_or_disagree_with_the_following_statements_i_think_its_ok_for_untrue_stories_about_coronavirus_to_be_posted.csv',\n",
       " 'q5_trust_in_the_sources_for_informationnews_about_coronavirus_used_in_last_week_redtop_tabloids_such_as_the_sun_or_mirror__online_.csv',\n",
       " 'q13_how_closely_followed_official_advice_in_last_week_summary.csv',\n",
       " 'q5_trust_in_the_sources_for_informationnews_about_coronavirus_used_in_last_week_itv_wales.csv',\n",
       " 'q4a_types_of_newsinformation_seen_on_social_media_and_search_engines_in_last_week_snapchat.csv',\n",
       " 'q4b2_and_when_you_go_onto_social_media_how_often_are_you_coming_across_news_or_information_that_have_warnings_or_notices_from_the_social_media_platform_attached_to_them.csv',\n",
       " 'thinking_about_your_households_food_and_grocery_shopping_are_you_personally_responsible_for_selecting_half_or_more_of_the_items_to_be_bought.csv',\n",
       " 'q13b_which_of_the_following_do_you_think_are_the_most_important_to_do_to_contain_the_coronavirus_maintaining_social_distancing.csv',\n",
       " 'q5_trust_in_the_sources_for_informationnews_about_coronavirus_used_in_last_week_commercial_radio.csv',\n",
       " 'q10_whether_came_across_any_of_these_false_or_misleading_information_about_avoiding_the_coronavirus_in_the_last_week.csv',\n",
       " 'q12_to_what_extent_do_you_agree_or_disagree_with_the_following_statements_i_intend_to_form_a_christmas_bubble_between_2327_december.csv',\n",
       " 'crossbreak_1.csv',\n",
       " 'q4b3_to_what_extent_do_you_agree_or_disagree_with_the_following_statements_summary.csv',\n",
       " 'q11_actions_done_after_coming_across_claims_which_could_be_considered_falsemisleading_in_the_last_week.csv',\n",
       " 'q5_trust_in_the_sources_for_informationnews_about_coronavirus_used_in_last_week_rté.csv',\n",
       " 'q10f_how_claims_about_injecting_disinfectant_have_been_reported.csv',\n",
       " 'q3a_sources_used_to_get_infonews_about_coronavirus_outbreak_in_last_week.csv',\n",
       " 'q7_ways_of_sharing_informationnews_in_last_week.csv',\n",
       " 'q4c1_thinking_about_local_sources_of_news_and_information_across_tv_radio_and_online_would_you_say_that_in_the_last_week_you_have_used_them_more_than_before_the_coronavirus_outbreak.csv',\n",
       " 'q5_trust_in_the_sources_for_informationnews_about_coronavirus_used_in_last_week_direct_from_nhs_websiteemailtextpost.csv',\n",
       " 'q5_trust_in_the_sources_for_informationnews_about_coronavirus_used_in_last_week_bbc__online_app.csv',\n",
       " 'q5_trust_in_the_sources_for_informationnews_about_coronavirus_used_in_last_week_family_and_friends_directly.csv',\n",
       " 'q5_trust_in_the_sources_for_informationnews_about_coronavirus_used_in_last_week_podcasts.csv',\n",
       " 'crossbreak_2.csv',\n",
       " 'q10o_source_of_claims_stating_that_the_flu_alone_is_killing_more_people_than_coronavirus_as_true.csv',\n",
       " 'q5_trust_in_the_sources_for_informationnews_about_coronavirus_used_in_last_week_newspapers_printed.csv',\n",
       " 'q4c_use_of_types_of_media_organisations_local_media_organisations.csv',\n",
       " 'q5_trust_in_the_sources_for_informationnews_about_coronavirus_used_in_last_week_utv.csv',\n",
       " 'q12_to_what_extent_do_you_agree_or_disagree_with_the_following_statements_on_balance_i_am_comfortable_that_my_childchildren_isare_back_at_school.csv',\n",
       " 'q10q_source_of_claims_about_empty_hospitals_on_social_media_posts_prove_that_coronavirus_has_been_exaggerated_reported_as_true.csv',\n",
       " 'q5_trust_in_the_sources_for_informationnews_about_coronavirus_used_in_last_week_newspapers_online.csv',\n",
       " 'q5_trust_in_the_sources_for_informationnews_about_coronavirus_used_in_last_week_direct_mail_eg_leaflets_or_other_types_of_information_that_you_get_through_the_letterbox.csv',\n",
       " 'q5_trust_in_the_sources_for_informationnews_about_coronavirus_used_in_last_week_flyers_eg_leaflets_that_you_may_be_given_or_find_when_out_and_about.csv',\n",
       " 'q5_trust_in_the_sources_for_informationnews_about_coronavirus_used_in_last_week_direct_from_northern_ireland_government_websiteemailtextpost.csv',\n",
       " 'q10p_how_claims_about_empty_hospitals_on_social_media_posts_prove_that_coronavirus_has_been_exaggerated_have_been_reported.csv',\n",
       " 'q13_how_closely_followed_official_advice_in_last_week_wearing_a_face_maskcovering_on_public_transport_or_in_an_enclosed_public_space_where_social_distancing_is_not_possible.csv',\n",
       " 'q10j_thinking_about_the_claims_that_have_just_been_listed_which_could_be_considered_as_false_or_misleading_have_any_of_these_claims_made_you_think_twice_about_the_issue.csv',\n",
       " 'marital_status.csv',\n",
       " 'q10m_source_of_claims_about_the_coronavirus_test_which_shows_if_you_currently_have_the_virus_does_not_work_and_93_of_tests_produce_a_false_positive_as_true.csv',\n",
       " 'q13_how_closely_followed_official_advice_in_last_week_only_meeting_outside_with_up_to_four_people_from_two_households.csv',\n",
       " 'q10bq10dq10nq10p_net_reported_as_true_or_false.csv',\n",
       " 'q4a_types_of_newsinformation_seen_on_social_media_and_search_engines_in_last_week_youtube.csv',\n",
       " 'q12_to_what_extent_do_you_agree_or_disagree_with_the_following_statements_i_feel_confident_that_i_understand_the_statistics_and_data_used_to_provide_the_number_of_coronavirus_cases.csv',\n",
       " 'q5_trust_in_the_sources_for_informationnews_about_coronavirus_used_in_last_week_summary.csv',\n",
       " 'q13b_which_of_the_following_do_you_think_are_the_most_important_to_do_to_contain_the_coronavirus_wearing_a_face_maskcovering.csv',\n",
       " 'q5_trust_in_the_sources_for_informationnews_about_coronavirus_used_in_last_week_official_scientists.csv',\n",
       " 'q4b_most_important_type_of_newsinformation_from_social_media_or_search_engines.csv',\n",
       " 'q10k_to_what_extent_are_you_concerned_or_not_concerned_about_the_following_statements__the_amount_of_false_or_misleading_information_that_others_in_society_may_be_getting_about_coronavirus.csv',\n",
       " 'q5_trust_in_the_sources_for_informationnews_about_coronavirus_used_in_last_week_websitesapps_of_online_news_organisations_like_buzzfeed_huffington_post_vice_etc.csv',\n",
       " 'q13_how_closely_followed_official_advice_in_last_week_only_going_outside_your_home_for_essential_shopping_and_exercise.csv',\n",
       " 'q10j_to_what_extent_has_any_of_this_false_or_misleading_information_made_you_think_twice_about_the_issue.csv',\n",
       " 'q10k_to_what_extent_are_you_concerned_or_not_concerned_about_the_following_statements__summary.csv',\n",
       " 'q13b_which_of_the_following_do_you_think_are_the_most_important_to_do_to_contain_the_coronavirus_washing_hands_regularly_and_thoroughly.csv',\n",
       " 'q5_trust_in_the_sources_for_informationnews_about_coronavirus_used_in_last_week_redtop_tabloids_such_as_the_sun_or_daily_mirror__printed_.csv',\n",
       " 'what_is_the_highest_educational_level_that_you_have_achieved_to_date.csv',\n",
       " 'q5_trust_in_the_sources_for_informationnews_about_coronavirus_used_in_last_week_facebook_messenger.csv',\n",
       " 'which_of_the_following_itv_regions_do_you_live_in.csv',\n",
       " 'q5_trust_in_the_sources_for_informationnews_about_coronavirus_used_in_last_week_youtube.csv',\n",
       " 'q4a_types_of_newsinformation_seen_on_social_media_and_search_engines_in_last_week_summary.csv',\n",
       " 'q12_to_what_extent_do_you_agree_or_disagree_with_the_following_statements.csv',\n",
       " 'q10s_source_of_claims_that_the_coronavirus_vaccine_is_a_cover_for_a_plan_to_implant_trackable_microchips_in_people_reported_as_true.csv',\n",
       " 'q12_to_what_extent_do_you_agree_or_disagree_with_the_following_statements_summary.csv',\n",
       " 'q13_how_closely_followed_official_advice_in_last_week_stay_at_home_as_much_as_possible.csv',\n",
       " 'q5_trust_in_the_sources_for_informationnews_about_coronavirus_used_in_last_week_stv.csv']"
      ]
     },
     "execution_count": 3,
     "metadata": {},
     "output_type": "execute_result"
    }
   ],
   "source": [
    "file_list"
   ]
  },
  {
   "cell_type": "markdown",
   "id": "942c98078572fb4d",
   "metadata": {},
   "source": [
    "### My selection from the above based on our research question:"
   ]
  },
  {
   "cell_type": "code",
   "execution_count": 4,
   "id": "a603d5e016ed5f86",
   "metadata": {
    "ExecuteTime": {
     "end_time": "2024-11-29T00:12:40.082044Z",
     "start_time": "2024-11-29T00:12:40.079866Z"
    }
   },
   "outputs": [],
   "source": [
    "list_of_parameters_for_exploration = [\n",
    "\"q1_device_usage_to_connect_to_internet\",\n",
    "\"q2_frequency_of_getting_infonews_about_coronavirus_outbreak_in_last_week\",\n",
    "\"q3a_sources_used_to_get_infonews_about_coronavirus_outbreak_in_last_week\",\n",
    "\"q3b_most_important_source_used_in_last_week\",\n",
    "\"q4a_types_of_newsinformation_seen_on_social_media_and_search_engines_in_last_week\",\n",
    "\"q4b_most_important_type_of_newsinformation_from_social_media_or_search_engines\",\n",
    "\"q4b3_to_what_extent_do_you_agree_or_disagree_with_the_following_statements\",\n",
    "\"q5_trust_in_the_sources_for_informationnews_about_coronavirus_used_in_last_week\",\n",
    "\"q6_altered_behaviour_over_last_week\",\n",
    "\"q7_ways_of_sharing_informationnews_in_last_week\",\n",
    "\"q7b_why_did_you_share_this_informationnews_about_coronavirus\",\n",
    "\"q8_whether_came_across_informationnews_about_coronavirus_that_you_think_has_been_false_or_misleading_in_last_week\",\n",
    "\"'q10_whether_came_across_any_of_these_false_or_misleading_information_about_avoiding_the_coronavirus_in_the_last_week\",\n",
    "\"q10_whether_came_across_any_of_these_false_or_misleading_recommendations_about_avoiding_the_coronavirus_in_the_last_week\",\n",
    "\"q10b_how_theory_that_the_origin_or_cause_of_coronavirus_is_in_some_way_linked_to_5g_technology_has_been_reported\",\n",
    " \"q10c_source_of_theory_linking_coronavirus_to_5g_technology_reported_as_true\",\n",
    " \"q10d_how_claims_about_the_potential_dangers_associated_with_coronavirus_vaccine_have_been_reported\",\n",
    " \"q10d_how_claims_about_the_potential_dangers_of_a_coronavirus_vaccine_have_been_reported\",\n",
    " \"q10e_source_of_claims_about_the_potential_dangers_associated_with_coronavirus_vaccine_reported_as_true\",\n",
    " \"q10e_source_of_claims_about_the_potential_dangers_of_a_coronavirus_vaccine_reported_as_true\",\n",
    " \"q10f_how_claims_about_injecting_disinfectant_have_been_reported\",\n",
    " \"q10g_source_of_claims_about_about_injecting_disinfectant_as_true\",\n",
    " \"q10h_how_claims_about_face_maskscoverings_offering_no_protection_or_being_harmful_have_been_reported\",\n",
    " \"q10h_how_claims_about_masks_offering_no_protection_or_being_harmful_have_been_reported\",\n",
    " \"q10i_source_of_claims_about_about_face_maskscoverings_offering_no_protection_or_being_harmful__as_true\",\n",
    " \"q10i_source_of_claims_about_about_masks_offering_no_protection_or_being_harmful__as_true\",\n",
    " \"q10k_to_what_extent_are_you_concerned_or_not_concerned_about_the_following_statements__summary\",\n",
    " \"q10k_to_what_extent_are_you_concerned_or_not_concerned_about_the_following_statements__the_amount_of_false_or_misleading_information_that_others_in_society_may_be_getting_about_coronavirus\",\n",
    " \"q10k_to_what_extent_are_you_concerned_or_not_concerned_about_the_following_statements__the_amount_of_false_or_misleading_information_you_may_be_getting_about_coronavirus\",\n",
    " \"q10l_how_claims_about_the_coronavirus_test_which_shows_if_you_currently_have_the_virus_does_not_work_and_93_of_tests_produce_a_false_positive_have_been_reported\",\n",
    " \"q10m_source_of_claims_about_the_coronavirus_test_which_shows_if_you_currently_have_the_virus_does_not_work_and_93_of_tests_produce_a_false_positive_as_true\",\n",
    " \"q10n_how_claims_stating_that_the_flu_alone_is_killing_more_people_than_coronavirus_have_been_reported\",\n",
    " \"q10o_source_of_claims_stating_that_the_flu_alone_is_killing_more_people_than_coronavirus_as_true\",\n",
    " \"q10p_how_claims_about_empty_hospitals_on_social_media_posts_prove_that_coronavirus_has_been_exaggerated_have_been_reported\",\n",
    " \"q10q_source_of_claims_about_empty_hospitals_on_social_media_posts_prove_that_coronavirus_has_been_exaggerated_reported_as_true\",\n",
    " \"q10r_how_claims_that_the_coronavirus_vaccine_is_a_cover_for_a_plan_to_implant_trackable_microchips_in_people_have_been_reported\",\n",
    " \"q10s_source_of_claims_that_the_coronavirus_vaccine_is_a_cover_for_a_plan_to_implant_trackable_microchips_in_people_reported_as_true\",\n",
    " \"q10t_how_claims_that_the_coronavirus_vaccine_may_reduce_fertility_have_been_reported\"\n",
    "]\n"
   ]
  },
  {
   "cell_type": "code",
   "execution_count": 5,
   "id": "3dd68e34a48470e3",
   "metadata": {
    "ExecuteTime": {
     "end_time": "2024-11-29T00:12:40.257741Z",
     "start_time": "2024-11-29T00:12:40.089213Z"
    }
   },
   "outputs": [],
   "source": [
    "ofcom_dataframes = {}\n",
    "for i, parameter in enumerate(list_of_parameters_for_exploration):\n",
    "    for file in csv_filepaths:\n",
    "        if list_of_parameters_for_exploration[i] in file:\n",
    "            df_for_cleaning = pd.read_csv(file)\n",
    "            ofcom_dataframes[list_of_parameters_for_exploration[i]] = df_for_cleaning"
   ]
  },
  {
   "cell_type": "markdown",
   "id": "b1b6f0e6ea6139f9",
   "metadata": {},
   "source": [
    "## 3. Exploring and Understanding the Data\n",
    "### As there are many dataframes for these questions I go through them in a loop and determine if any can be combined to answer my question and what we need to address in the data"
   ]
  },
  {
   "cell_type": "code",
   "execution_count": 6,
   "id": "86c64094-0b4f-4c50-a4cd-cb9b0bf6f119",
   "metadata": {
    "ExecuteTime": {
     "end_time": "2024-11-29T00:12:40.268819Z",
     "start_time": "2024-11-29T00:12:40.266805Z"
    }
   },
   "outputs": [],
   "source": [
    "# for dataframe in ofcom_dataframes.values():\n",
    "#     print(\"Research Question: /n\", dataframe.question[0])\n",
    "#     print(\"Shape: \", dataframe.shape)\n",
    "#     print(\"Head: /n\", dataframe.head())\n",
    "#     print(\"Tail: /n\", dataframe.tail())\n",
    "#     print(\"Info: /n\", dataframe.info())"
   ]
  },
  {
   "cell_type": "markdown",
   "id": "7d860a18-0f98-48c0-a8f9-0490abf3f540",
   "metadata": {},
   "source": [
    "#### From reviewing the data I note several inconsistencies mainly the date columns are duplicated in a few sets (some of the data lists 25-35 (e) whilst others list 25-34 (f) - this is the same for all age ranges. I want to remove the letter naming convention. I also want to change the column names to something I will understand for the socio-economic status AB/C1/C2/DE, adjust the survey date column to get a start and end date which is a datetime (and midpoint for plotting purposes). There are quite a few gaps in the regions data which I will need to consider what to do with - the challenge will be imputing these values may not represent the feelings at the time if there were a spike in cases."
   ]
  },
  {
   "cell_type": "code",
   "execution_count": 7,
   "id": "fc19e4c019bf7640",
   "metadata": {
    "ExecuteTime": {
     "end_time": "2024-11-29T00:12:40.280481Z",
     "start_time": "2024-11-29T00:12:40.277353Z"
    }
   },
   "outputs": [
    {
     "data": {
      "text/plain": [
       "{'16-24 (d)',\n",
       " '18-24 (d)',\n",
       " '18-24 (e)',\n",
       " '25-34 (e)',\n",
       " '25-34 (f)',\n",
       " '35-44 (f)',\n",
       " '35-44 (g)',\n",
       " '45-54 (g)',\n",
       " '45-54 (h)',\n",
       " '55-64 (h)',\n",
       " '55-64 (i)',\n",
       " '65+ (i)',\n",
       " '65+ (j)',\n",
       " 'AB (k)',\n",
       " 'Apple iMessage',\n",
       " 'Avoid news (k)',\n",
       " 'BBC Online (q)',\n",
       " 'BBC TV (p)',\n",
       " 'BBC services (d)',\n",
       " 'Broadcasters (b)',\n",
       " 'C1 (l)',\n",
       " 'C2 (m)',\n",
       " 'Closed groups (k)',\n",
       " 'Confusion (n)',\n",
       " 'DE (n)',\n",
       " 'Direct from Govt (r)',\n",
       " 'Drink more lemon juice (g)',\n",
       " 'Drink more water (b)',\n",
       " 'East Midlands (t)',\n",
       " 'Eastern (v)',\n",
       " 'Eat warm food/ drink (d)',\n",
       " 'Facebook',\n",
       " 'Facebook (i)',\n",
       " 'Facebook messenger',\n",
       " 'Family/ friends/ local ppl (m)',\n",
       " 'Female (c)',\n",
       " 'Gargle salt water (c)',\n",
       " \"I think it's OK for untrue stories about Coronavirus to be posted and shared on social media , as long as they are flagged as potentially untrustworthy/ untrue by the social media platform\",\n",
       " 'I think that people and organisations have a right to say what they want on social media  about Coronavirus, even if it might not be true',\n",
       " 'I think that untrue stories or items about Coronavirus should not be posted or shared on social media',\n",
       " 'Inhale steam (h)',\n",
       " 'Instagram',\n",
       " 'London (w)',\n",
       " 'Mainstream media exaggerating (l)',\n",
       " 'Male (b)',\n",
       " 'NET: England (A)',\n",
       " 'Natural remedies (f)',\n",
       " 'Newspapers (e)',\n",
       " 'No (s)',\n",
       " 'No (t)',\n",
       " 'NonBBC broadcasters (c)',\n",
       " 'Nonmainstream media (o)',\n",
       " 'North East (p)',\n",
       " 'North West (q)',\n",
       " 'Northern Ireland (z)',\n",
       " 'Officials (f)',\n",
       " 'Opinion Influencer (C)',\n",
       " 'Other online news sources (l)',\n",
       " 'Outside for essentials (p)',\n",
       " 'Positive sides of society (m)',\n",
       " 'Private (B)',\n",
       " 'Public (A)',\n",
       " 'Put clothes in sun (e)',\n",
       " 'Scotland (o)',\n",
       " 'Search engine (e.g. Google)',\n",
       " 'Snapchat',\n",
       " 'Social Media (g)',\n",
       " 'Social distancing (q)',\n",
       " 'South East (x)',\n",
       " 'South West (y)',\n",
       " 'The amount of false or misleading information that others in society may be getting about Coronavirus',\n",
       " 'The amount of false or misleading information you may be getting about Coronavirus',\n",
       " 'Theories linking Coronavirus to 5G technology (i)',\n",
       " 'Tier 1 (B)',\n",
       " 'Tier 2 (C)',\n",
       " 'Tier 3 (D)',\n",
       " 'Total (a)',\n",
       " 'Traditional media (n)',\n",
       " 'Twitter',\n",
       " 'Wales (u)',\n",
       " 'Wash hands 20 secs (o)',\n",
       " 'West Midlands (s)',\n",
       " \"What's true/ false (j)\",\n",
       " 'WhatsApp',\n",
       " 'WhatsApp (j)',\n",
       " 'WhatsApp group(s)',\n",
       " 'Yes (r)',\n",
       " 'Yes (s)',\n",
       " 'Yorkshire & Humberside (r)',\n",
       " 'YouTube',\n",
       " 'YouTube (h)',\n",
       " 'date',\n",
       " 'question',\n",
       " 'response',\n",
       " 'table'}"
      ]
     },
     "execution_count": 7,
     "metadata": {},
     "output_type": "execute_result"
    }
   ],
   "source": [
    "unique_columns = set()\n",
    "\n",
    "for dataframe in ofcom_dataframes.values():\n",
    "    unique_columns.update(dataframe.columns)\n",
    "    \n",
    "unique_columns"
   ]
  },
  {
   "cell_type": "markdown",
   "id": "367b2d6889fe6ca0",
   "metadata": {},
   "source": [
    "## I will rename and adjust columns at this stage to help make them more understandable for me "
   ]
  },
  {
   "cell_type": "code",
   "execution_count": 8,
   "id": "9c16abeccb792f38",
   "metadata": {
    "ExecuteTime": {
     "end_time": "2024-11-29T00:12:40.295308Z",
     "start_time": "2024-11-29T00:12:40.292556Z"
    }
   },
   "outputs": [],
   "source": [
    "custom_mappings = {\n",
    "    'PUBLIC (A)': 'employment_sector_public',\n",
    "    'PRIVATE (B)': 'employment_sector_private',\n",
    "    'AB (k)': 'class_upper_and_middle',\n",
    "    'C1 (l)': 'class_lower_middle',\n",
    "    'C2 (m)': 'class_skilled_working',\n",
    "    'DE (n)': 'class_working_class_lowest_grade'\n",
    "}\n",
    "\n",
    "def format_column_name(name):\n",
    "    if name in custom_mappings:\n",
    "        return custom_mappings[name]\n",
    "    \n",
    "    name = re.sub(r'\\s?\\(.*\\)', '', name)\n",
    "    \n",
    "    name = name.lower().replace(' ', '_')\n",
    "    \n",
    "    return name\n",
    "\n",
    "formatted_columns_dict = {col: format_column_name(col) for col in unique_columns}"
   ]
  },
  {
   "cell_type": "code",
   "execution_count": 9,
   "id": "8afbfa3811adae71",
   "metadata": {
    "ExecuteTime": {
     "end_time": "2024-11-29T00:12:40.314132Z",
     "start_time": "2024-11-29T00:12:40.306785Z"
    }
   },
   "outputs": [
    {
     "name": "stdout",
     "output_type": "stream",
     "text": [
      "This method does not work for dataframe for 'q10_whether_came_across_any_of_these_false_or_misleading_information_about_avoiding_the_coronavirus_in_the_last_week\n"
     ]
    }
   ],
   "source": [
    "for i, parameter in enumerate(list_of_parameters_for_exploration):\n",
    "    try:\n",
    "        renamed_dataframe = ofcom_dataframes[list_of_parameters_for_exploration[i]]\n",
    "        \n",
    "        columns_to_rename = {old: new for old, new in formatted_columns_dict.items() if old in renamed_dataframe.columns}\n",
    "        renamed_dataframe.rename(columns=columns_to_rename, inplace=True)\n",
    "\n",
    "        if '18-24 (d)' in renamed_dataframe.columns and '18-24 (e)' in renamed_dataframe.columns:\n",
    "            renamed_dataframe['18-24'] = renamed_dataframe['18-24 (d)'].combine_first(renamed_dataframe['18-24 (e)'])\n",
    "        \n",
    "        if '25-34 (e)' in renamed_dataframe.columns and '25-34 (f)' in renamed_dataframe.columns:\n",
    "            renamed_dataframe['25-34'] = renamed_dataframe['25-34 (e)'].combine_first(renamed_dataframe['25-34 (f)'])\n",
    "        \n",
    "        if '35-44 (f)' in renamed_dataframe.columns and '35-44 (g)' in renamed_dataframe.columns:\n",
    "            renamed_dataframe['35-44'] = renamed_dataframe['35-44 (f)'].combine_first(renamed_dataframe['35-44 (g)'])\n",
    "        \n",
    "        if '45-54 (g)' in renamed_dataframe.columns and '45-54 (h)' in renamed_dataframe.columns:\n",
    "            renamed_dataframe['45-54'] = renamed_dataframe['45-54 (g)'].combine_first(renamed_dataframe['45-54 (h)'])\n",
    "        \n",
    "        if '55-64 (h)' in renamed_dataframe.columns and '55-64 (i)' in renamed_dataframe.columns:\n",
    "            renamed_dataframe['55-64'] = renamed_dataframe['55-64 (h)'].combine_first(renamed_dataframe['55-64 (i)'])\n",
    "        \n",
    "        if '65+ (i)' in renamed_dataframe.columns and '65+ (j)' in renamed_dataframe.columns:\n",
    "            renamed_dataframe['65+'] = renamed_dataframe['65+ (i)'].combine_first(renamed_dataframe['65+ (j)'])\n",
    "\n",
    "    except KeyError:\n",
    "        print(f\"This method does not work for dataframe for {list_of_parameters_for_exploration[i]}\")"
   ]
  },
  {
   "cell_type": "markdown",
   "id": "51290f6646c4dc7e",
   "metadata": {},
   "source": [
    "### I am unsure why this table came as an error as you can see - the columns have been appropriately renamed:"
   ]
  },
  {
   "cell_type": "code",
   "execution_count": 10,
   "id": "1b1aa9e6184e9f86",
   "metadata": {
    "ExecuteTime": {
     "end_time": "2024-11-29T00:12:40.335832Z",
     "start_time": "2024-11-29T00:12:40.326580Z"
    }
   },
   "outputs": [
    {
     "data": {
      "text/html": [
       "<div>\n",
       "<style scoped>\n",
       "    .dataframe tbody tr th:only-of-type {\n",
       "        vertical-align: middle;\n",
       "    }\n",
       "\n",
       "    .dataframe tbody tr th {\n",
       "        vertical-align: top;\n",
       "    }\n",
       "\n",
       "    .dataframe thead th {\n",
       "        text-align: right;\n",
       "    }\n",
       "</style>\n",
       "<table border=\"1\" class=\"dataframe\">\n",
       "  <thead>\n",
       "    <tr style=\"text-align: right;\">\n",
       "      <th></th>\n",
       "      <th>table</th>\n",
       "      <th>question</th>\n",
       "      <th>date</th>\n",
       "      <th>response</th>\n",
       "      <th>total</th>\n",
       "      <th>male</th>\n",
       "      <th>female</th>\n",
       "      <th>16-24</th>\n",
       "      <th>18-24</th>\n",
       "      <th>25-34</th>\n",
       "      <th>...</th>\n",
       "      <th>class_upper_and_middle</th>\n",
       "      <th>class_lower_middle</th>\n",
       "      <th>class_skilled_working</th>\n",
       "      <th>class_working_class_lowest_grade</th>\n",
       "      <th>18-24</th>\n",
       "      <th>25-34</th>\n",
       "      <th>35-44</th>\n",
       "      <th>45-54</th>\n",
       "      <th>55-64</th>\n",
       "      <th>65+</th>\n",
       "    </tr>\n",
       "  </thead>\n",
       "  <tbody>\n",
       "    <tr>\n",
       "      <th>0</th>\n",
       "      <td>Table 82</td>\n",
       "      <td>Q10. Whether came across any of these false or...</td>\n",
       "      <td>ONLINE Fieldwork: 9th to 13th April 2020</td>\n",
       "      <td>Unweighted base</td>\n",
       "      <td>2105</td>\n",
       "      <td>1010</td>\n",
       "      <td>1095</td>\n",
       "      <td>265.0</td>\n",
       "      <td>234.0</td>\n",
       "      <td>336.0</td>\n",
       "      <td>...</td>\n",
       "      <td>600</td>\n",
       "      <td>510</td>\n",
       "      <td>448</td>\n",
       "      <td>547</td>\n",
       "      <td>NaN</td>\n",
       "      <td>NaN</td>\n",
       "      <td>NaN</td>\n",
       "      <td>NaN</td>\n",
       "      <td>NaN</td>\n",
       "      <td>NaN</td>\n",
       "    </tr>\n",
       "    <tr>\n",
       "      <th>1</th>\n",
       "      <td>Table 82</td>\n",
       "      <td>Q10. Whether came across any of these false or...</td>\n",
       "      <td>ONLINE Fieldwork: 9th to 13th April 2020</td>\n",
       "      <td>Weighted base</td>\n",
       "      <td>2106</td>\n",
       "      <td>1029</td>\n",
       "      <td>1077</td>\n",
       "      <td>292.0</td>\n",
       "      <td>256.0</td>\n",
       "      <td>347.0</td>\n",
       "      <td>...</td>\n",
       "      <td>573</td>\n",
       "      <td>596</td>\n",
       "      <td>427</td>\n",
       "      <td>510</td>\n",
       "      <td>NaN</td>\n",
       "      <td>NaN</td>\n",
       "      <td>NaN</td>\n",
       "      <td>NaN</td>\n",
       "      <td>NaN</td>\n",
       "      <td>NaN</td>\n",
       "    </tr>\n",
       "    <tr>\n",
       "      <th>2</th>\n",
       "      <td>Table 82</td>\n",
       "      <td>Q10. Whether came across any of these false or...</td>\n",
       "      <td>ONLINE Fieldwork: 9th to 13th April 2020</td>\n",
       "      <td>NET: Any</td>\n",
       "      <td>1412</td>\n",
       "      <td>693</td>\n",
       "      <td>719</td>\n",
       "      <td>219.0</td>\n",
       "      <td>201.0</td>\n",
       "      <td>238.0</td>\n",
       "      <td>...</td>\n",
       "      <td>402</td>\n",
       "      <td>410</td>\n",
       "      <td>288</td>\n",
       "      <td>312</td>\n",
       "      <td>NaN</td>\n",
       "      <td>NaN</td>\n",
       "      <td>NaN</td>\n",
       "      <td>NaN</td>\n",
       "      <td>NaN</td>\n",
       "      <td>NaN</td>\n",
       "    </tr>\n",
       "    <tr>\n",
       "      <th>3</th>\n",
       "      <td>Table 82</td>\n",
       "      <td>Q10. Whether came across any of these false or...</td>\n",
       "      <td>ONLINE Fieldwork: 9th to 13th April 2020</td>\n",
       "      <td>Theories linking the origins or causes of Coro...</td>\n",
       "      <td>1049</td>\n",
       "      <td>534</td>\n",
       "      <td>515</td>\n",
       "      <td>153.0</td>\n",
       "      <td>141.0</td>\n",
       "      <td>176.0</td>\n",
       "      <td>...</td>\n",
       "      <td>306</td>\n",
       "      <td>311</td>\n",
       "      <td>203</td>\n",
       "      <td>228</td>\n",
       "      <td>NaN</td>\n",
       "      <td>NaN</td>\n",
       "      <td>NaN</td>\n",
       "      <td>NaN</td>\n",
       "      <td>NaN</td>\n",
       "      <td>NaN</td>\n",
       "    </tr>\n",
       "    <tr>\n",
       "      <th>4</th>\n",
       "      <td>Table 82</td>\n",
       "      <td>Q10. Whether came across any of these false or...</td>\n",
       "      <td>ONLINE Fieldwork: 9th to 13th April 2020</td>\n",
       "      <td>Drinking water more frequently</td>\n",
       "      <td>558</td>\n",
       "      <td>251</td>\n",
       "      <td>307</td>\n",
       "      <td>81.0</td>\n",
       "      <td>70.0</td>\n",
       "      <td>98.0</td>\n",
       "      <td>...</td>\n",
       "      <td>162</td>\n",
       "      <td>159</td>\n",
       "      <td>119</td>\n",
       "      <td>118</td>\n",
       "      <td>NaN</td>\n",
       "      <td>NaN</td>\n",
       "      <td>NaN</td>\n",
       "      <td>NaN</td>\n",
       "      <td>NaN</td>\n",
       "      <td>NaN</td>\n",
       "    </tr>\n",
       "    <tr>\n",
       "      <th>...</th>\n",
       "      <td>...</td>\n",
       "      <td>...</td>\n",
       "      <td>...</td>\n",
       "      <td>...</td>\n",
       "      <td>...</td>\n",
       "      <td>...</td>\n",
       "      <td>...</td>\n",
       "      <td>...</td>\n",
       "      <td>...</td>\n",
       "      <td>...</td>\n",
       "      <td>...</td>\n",
       "      <td>...</td>\n",
       "      <td>...</td>\n",
       "      <td>...</td>\n",
       "      <td>...</td>\n",
       "      <td>...</td>\n",
       "      <td>...</td>\n",
       "      <td>...</td>\n",
       "      <td>...</td>\n",
       "      <td>...</td>\n",
       "      <td>...</td>\n",
       "    </tr>\n",
       "    <tr>\n",
       "      <th>57</th>\n",
       "      <td>Table 82</td>\n",
       "      <td>Q10. Whether came across any of these false or...</td>\n",
       "      <td>ONLINE Fieldwork: 27th to 29th March 2020</td>\n",
       "      <td>Eating warm food/ drink and avoiding cold food...</td>\n",
       "      <td>528</td>\n",
       "      <td>228</td>\n",
       "      <td>300</td>\n",
       "      <td>NaN</td>\n",
       "      <td>NaN</td>\n",
       "      <td>NaN</td>\n",
       "      <td>...</td>\n",
       "      <td>153</td>\n",
       "      <td>155</td>\n",
       "      <td>102</td>\n",
       "      <td>118</td>\n",
       "      <td>62.0</td>\n",
       "      <td>106.0</td>\n",
       "      <td>96.0</td>\n",
       "      <td>91.0</td>\n",
       "      <td>69.0</td>\n",
       "      <td>104.0</td>\n",
       "    </tr>\n",
       "    <tr>\n",
       "      <th>58</th>\n",
       "      <td>Table 82</td>\n",
       "      <td>Q10. Whether came across any of these false or...</td>\n",
       "      <td>ONLINE Fieldwork: 27th to 29th March 2020</td>\n",
       "      <td>Increasing use of natural remedies such as col...</td>\n",
       "      <td>488</td>\n",
       "      <td>204</td>\n",
       "      <td>284</td>\n",
       "      <td>NaN</td>\n",
       "      <td>NaN</td>\n",
       "      <td>NaN</td>\n",
       "      <td>...</td>\n",
       "      <td>150</td>\n",
       "      <td>137</td>\n",
       "      <td>94</td>\n",
       "      <td>107</td>\n",
       "      <td>65.0</td>\n",
       "      <td>92.0</td>\n",
       "      <td>90.0</td>\n",
       "      <td>88.0</td>\n",
       "      <td>64.0</td>\n",
       "      <td>90.0</td>\n",
       "    </tr>\n",
       "    <tr>\n",
       "      <th>59</th>\n",
       "      <td>Table 82</td>\n",
       "      <td>Q10. Whether came across any of these false or...</td>\n",
       "      <td>ONLINE Fieldwork: 27th to 29th March 2020</td>\n",
       "      <td>Putting clothes in the sun or another warm pla...</td>\n",
       "      <td>239</td>\n",
       "      <td>107</td>\n",
       "      <td>132</td>\n",
       "      <td>NaN</td>\n",
       "      <td>NaN</td>\n",
       "      <td>NaN</td>\n",
       "      <td>...</td>\n",
       "      <td>68</td>\n",
       "      <td>65</td>\n",
       "      <td>53</td>\n",
       "      <td>52</td>\n",
       "      <td>41.0</td>\n",
       "      <td>51.0</td>\n",
       "      <td>43.0</td>\n",
       "      <td>45.0</td>\n",
       "      <td>24.0</td>\n",
       "      <td>35.0</td>\n",
       "    </tr>\n",
       "    <tr>\n",
       "      <th>60</th>\n",
       "      <td>Table 82</td>\n",
       "      <td>Q10. Whether came across any of these false or...</td>\n",
       "      <td>ONLINE Fieldwork: 27th to 29th March 2020</td>\n",
       "      <td>Drinking more lemon juice</td>\n",
       "      <td>223</td>\n",
       "      <td>103</td>\n",
       "      <td>120</td>\n",
       "      <td>NaN</td>\n",
       "      <td>NaN</td>\n",
       "      <td>NaN</td>\n",
       "      <td>...</td>\n",
       "      <td>64</td>\n",
       "      <td>60</td>\n",
       "      <td>51</td>\n",
       "      <td>48</td>\n",
       "      <td>23.0</td>\n",
       "      <td>56.0</td>\n",
       "      <td>47.0</td>\n",
       "      <td>35.0</td>\n",
       "      <td>28.0</td>\n",
       "      <td>34.0</td>\n",
       "    </tr>\n",
       "    <tr>\n",
       "      <th>61</th>\n",
       "      <td>Table 82</td>\n",
       "      <td>Q10. Whether came across any of these false or...</td>\n",
       "      <td>ONLINE Fieldwork: 27th to 29th March 2020</td>\n",
       "      <td>None of these</td>\n",
       "      <td>1000</td>\n",
       "      <td>522</td>\n",
       "      <td>478</td>\n",
       "      <td>NaN</td>\n",
       "      <td>NaN</td>\n",
       "      <td>NaN</td>\n",
       "      <td>...</td>\n",
       "      <td>257</td>\n",
       "      <td>281</td>\n",
       "      <td>197</td>\n",
       "      <td>264</td>\n",
       "      <td>89.0</td>\n",
       "      <td>128.0</td>\n",
       "      <td>131.0</td>\n",
       "      <td>187.0</td>\n",
       "      <td>180.0</td>\n",
       "      <td>286.0</td>\n",
       "    </tr>\n",
       "  </tbody>\n",
       "</table>\n",
       "<p>62 rows × 24 columns</p>\n",
       "</div>"
      ],
      "text/plain": [
       "       table                                           question  \\\n",
       "0   Table 82  Q10. Whether came across any of these false or...   \n",
       "1   Table 82  Q10. Whether came across any of these false or...   \n",
       "2   Table 82  Q10. Whether came across any of these false or...   \n",
       "3   Table 82  Q10. Whether came across any of these false or...   \n",
       "4   Table 82  Q10. Whether came across any of these false or...   \n",
       "..       ...                                                ...   \n",
       "57  Table 82  Q10. Whether came across any of these false or...   \n",
       "58  Table 82  Q10. Whether came across any of these false or...   \n",
       "59  Table 82  Q10. Whether came across any of these false or...   \n",
       "60  Table 82  Q10. Whether came across any of these false or...   \n",
       "61  Table 82  Q10. Whether came across any of these false or...   \n",
       "\n",
       "                                         date  \\\n",
       "0    ONLINE Fieldwork: 9th to 13th April 2020   \n",
       "1    ONLINE Fieldwork: 9th to 13th April 2020   \n",
       "2    ONLINE Fieldwork: 9th to 13th April 2020   \n",
       "3    ONLINE Fieldwork: 9th to 13th April 2020   \n",
       "4    ONLINE Fieldwork: 9th to 13th April 2020   \n",
       "..                                        ...   \n",
       "57  ONLINE Fieldwork: 27th to 29th March 2020   \n",
       "58  ONLINE Fieldwork: 27th to 29th March 2020   \n",
       "59  ONLINE Fieldwork: 27th to 29th March 2020   \n",
       "60  ONLINE Fieldwork: 27th to 29th March 2020   \n",
       "61  ONLINE Fieldwork: 27th to 29th March 2020   \n",
       "\n",
       "                                             response  total  male  female  \\\n",
       "0                                     Unweighted base   2105  1010    1095   \n",
       "1                                       Weighted base   2106  1029    1077   \n",
       "2                                            NET: Any   1412   693     719   \n",
       "3   Theories linking the origins or causes of Coro...   1049   534     515   \n",
       "4                      Drinking water more frequently    558   251     307   \n",
       "..                                                ...    ...   ...     ...   \n",
       "57  Eating warm food/ drink and avoiding cold food...    528   228     300   \n",
       "58  Increasing use of natural remedies such as col...    488   204     284   \n",
       "59  Putting clothes in the sun or another warm pla...    239   107     132   \n",
       "60                          Drinking more lemon juice    223   103     120   \n",
       "61                                      None of these   1000   522     478   \n",
       "\n",
       "    16-24  18-24  25-34  ...  class_upper_and_middle  class_lower_middle  \\\n",
       "0   265.0  234.0  336.0  ...                     600                 510   \n",
       "1   292.0  256.0  347.0  ...                     573                 596   \n",
       "2   219.0  201.0  238.0  ...                     402                 410   \n",
       "3   153.0  141.0  176.0  ...                     306                 311   \n",
       "4    81.0   70.0   98.0  ...                     162                 159   \n",
       "..    ...    ...    ...  ...                     ...                 ...   \n",
       "57    NaN    NaN    NaN  ...                     153                 155   \n",
       "58    NaN    NaN    NaN  ...                     150                 137   \n",
       "59    NaN    NaN    NaN  ...                      68                  65   \n",
       "60    NaN    NaN    NaN  ...                      64                  60   \n",
       "61    NaN    NaN    NaN  ...                     257                 281   \n",
       "\n",
       "    class_skilled_working  class_working_class_lowest_grade  18-24  25-34  \\\n",
       "0                     448                               547    NaN    NaN   \n",
       "1                     427                               510    NaN    NaN   \n",
       "2                     288                               312    NaN    NaN   \n",
       "3                     203                               228    NaN    NaN   \n",
       "4                     119                               118    NaN    NaN   \n",
       "..                    ...                               ...    ...    ...   \n",
       "57                    102                               118   62.0  106.0   \n",
       "58                     94                               107   65.0   92.0   \n",
       "59                     53                                52   41.0   51.0   \n",
       "60                     51                                48   23.0   56.0   \n",
       "61                    197                               264   89.0  128.0   \n",
       "\n",
       "    35-44  45-54  55-64    65+  \n",
       "0     NaN    NaN    NaN    NaN  \n",
       "1     NaN    NaN    NaN    NaN  \n",
       "2     NaN    NaN    NaN    NaN  \n",
       "3     NaN    NaN    NaN    NaN  \n",
       "4     NaN    NaN    NaN    NaN  \n",
       "..    ...    ...    ...    ...  \n",
       "57   96.0   91.0   69.0  104.0  \n",
       "58   90.0   88.0   64.0   90.0  \n",
       "59   43.0   45.0   24.0   35.0  \n",
       "60   47.0   35.0   28.0   34.0  \n",
       "61  131.0  187.0  180.0  286.0  \n",
       "\n",
       "[62 rows x 24 columns]"
      ]
     },
     "execution_count": 10,
     "metadata": {},
     "output_type": "execute_result"
    }
   ],
   "source": [
    "ofcom_dataframes['q10_whether_came_across_any_of_these_false_or_misleading_recommendations_about_avoiding_the_coronavirus_in_the_last_week']"
   ]
  },
  {
   "cell_type": "markdown",
   "id": "59ee3d614d84e9ef",
   "metadata": {},
   "source": [
    "## 4. Handling Missing Data\n",
    "### I first reviewed the heatmaps (uncomment to review) for the dataframes"
   ]
  },
  {
   "cell_type": "code",
   "execution_count": 11,
   "id": "d7b0c8c685428f81",
   "metadata": {
    "ExecuteTime": {
     "end_time": "2024-11-29T00:12:40.414546Z",
     "start_time": "2024-11-29T00:12:40.412693Z"
    }
   },
   "outputs": [],
   "source": [
    "def plot_heatmaps(dataframe_dictionary):\n",
    "    for df in dataframe_dictionary.values():\n",
    "        dataframe_name = df['question'].iloc[0]\n",
    "        print(dataframe_name)\n",
    "    \n",
    "        sns.heatmap(df.isnull(), cbar=False, cmap='plasma')\n",
    "        \n",
    "        title = df['question'].iloc[0]\n",
    "        plt.title(f'Null Values Heatmap: {title}')\n",
    "        \n",
    "        plt.show()\n"
   ]
  },
  {
   "cell_type": "code",
   "execution_count": 12,
   "id": "57f2cb921b909438",
   "metadata": {
    "ExecuteTime": {
     "end_time": "2024-11-29T00:12:40.438262Z",
     "start_time": "2024-11-29T00:12:40.436635Z"
    }
   },
   "outputs": [],
   "source": [
    "# plot_heatmaps(ofcom_dataframes)"
   ]
  },
  {
   "cell_type": "markdown",
   "id": "4e98398e38443245",
   "metadata": {},
   "source": [
    "### I would like to drop any column based on the tier system of the lockdown, as many of the dataframes have a significant amount of data missing for these columns, I will not be looking into this for my research topic"
   ]
  },
  {
   "cell_type": "code",
   "execution_count": 13,
   "id": "5f164dae8319451d",
   "metadata": {
    "ExecuteTime": {
     "end_time": "2024-11-29T00:12:40.475380Z",
     "start_time": "2024-11-29T00:12:40.461687Z"
    }
   },
   "outputs": [],
   "source": [
    "for dataframe in ofcom_dataframes.values():\n",
    "    for tier_column in ['tier_1', 'tier_2', 'tier_3']:\n",
    "        if tier_column in dataframe.columns:\n",
    "            dataframe.drop(tier_column, axis=1, inplace=True)"
   ]
  },
  {
   "cell_type": "markdown",
   "id": "d2e7885ab97df84c",
   "metadata": {},
   "source": [
    "#### This looks better (uncomment to review) however I would like to drop columns with more than 50% missing values, other than those with regional data as this would be "
   ]
  },
  {
   "cell_type": "code",
   "execution_count": 14,
   "id": "38de8df6f06d7fb2",
   "metadata": {
    "ExecuteTime": {
     "end_time": "2024-11-29T00:12:40.498471Z",
     "start_time": "2024-11-29T00:12:40.496908Z"
    }
   },
   "outputs": [],
   "source": [
    "# plot_heatmaps(ofcom_dataframes)"
   ]
  },
  {
   "cell_type": "markdown",
   "id": "967027058a5fbeb7",
   "metadata": {},
   "source": [
    "### I will first drop any column which contains greater than 70% missing data\n"
   ]
  },
  {
   "cell_type": "code",
   "execution_count": 15,
   "id": "a76f9a5379fb2010",
   "metadata": {
    "ExecuteTime": {
     "end_time": "2024-11-29T00:12:40.528606Z",
     "start_time": "2024-11-29T00:12:40.511465Z"
    }
   },
   "outputs": [],
   "source": [
    "threshold = 0.7\n",
    "\n",
    "for dataframe in ofcom_dataframes.values():\n",
    "    non_null_percentage = dataframe.notnull().mean()\n",
    "    \n",
    "    dataframe.drop(columns=non_null_percentage[non_null_percentage < (1 - threshold)].index, inplace=True)\n",
    "\n",
    "    # print(dataframe)"
   ]
  },
  {
   "cell_type": "markdown",
   "id": "eadbff7ffa68c886",
   "metadata": {},
   "source": [
    "### As you can see this is looking much better! (uncomment to review heatmaps). I will now forward fill the columns which aren't regional columns (I would like to consider something different to regional columns)"
   ]
  },
  {
   "cell_type": "code",
   "execution_count": 16,
   "id": "a69715e9888fd664",
   "metadata": {
    "ExecuteTime": {
     "end_time": "2024-11-29T00:12:40.539947Z",
     "start_time": "2024-11-29T00:12:40.538428Z"
    }
   },
   "outputs": [],
   "source": [
    "# plot_heatmaps(ofcom_dataframes)"
   ]
  },
  {
   "cell_type": "code",
   "execution_count": 17,
   "id": "4fee73e14ebd5276",
   "metadata": {
    "ExecuteTime": {
     "end_time": "2024-11-29T00:12:40.586740Z",
     "start_time": "2024-11-29T00:12:40.548838Z"
    }
   },
   "outputs": [],
   "source": [
    "regional_columns = ['scotland', 'north_east', 'north_west', 'yorkshire_&_humberside', 'west_midlands', \n",
    "                'east_midlands', 'wales', 'eastern', 'london', 'south_east', 'south_west', 'northern_ireland', 'net:_england']\n",
    "\n",
    "for dataframe in ofcom_dataframes.values():\n",
    "    for column in dataframe.columns:\n",
    "        if column not in regional_columns:\n",
    "            dataframe[column] = dataframe[column].ffill()"
   ]
  },
  {
   "cell_type": "code",
   "execution_count": 18,
   "id": "dce68316075a49fc",
   "metadata": {
    "ExecuteTime": {
     "end_time": "2024-11-29T00:12:40.596977Z",
     "start_time": "2024-11-29T00:12:40.595785Z"
    }
   },
   "outputs": [],
   "source": [
    "# plot_heatmaps(ofcom_dataframes)\n"
   ]
  },
  {
   "cell_type": "markdown",
   "id": "146068cb478621a1",
   "metadata": {},
   "source": [
    "### This looks much better, for the regional columns I will leave the nan values in - this is a choice to aid in plotting as matplot lib will stop plotting the line for nan values - I would not want to impute such a large number of values"
   ]
  },
  {
   "cell_type": "markdown",
   "id": "abfbbfc6b982354",
   "metadata": {},
   "source": [
    "## 5. Handling Duplicates"
   ]
  },
  {
   "cell_type": "code",
   "execution_count": 19,
   "id": "f5766539853e8e1",
   "metadata": {
    "ExecuteTime": {
     "end_time": "2024-11-29T00:12:40.632701Z",
     "start_time": "2024-11-29T00:12:40.607709Z"
    }
   },
   "outputs": [
    {
     "name": "stdout",
     "output_type": "stream",
     "text": [
      "Question:  Q1. Device usage to connect to internet\n",
      "Duplicates:  25\n",
      "Question:  Q2. Frequency of getting info/news about Coronavirus outbreak in last week\n",
      "Duplicates:  1\n",
      "Question:  Q3a. Sources used to get info/news about Coronavirus outbreak in last week\n",
      "Duplicates:  153\n",
      "Question:  Q3b. Most important source used in last week\n",
      "Duplicates:  133\n",
      "Question:  Q4a. Types of news/information seen on social media and search engines in last week: Summary\n",
      "Duplicates:  0\n",
      "Question:  Q4b. Most important type of news/information from social media or search engines\n",
      "Duplicates:  0\n",
      "Question:  Q4b3. To what extent do you agree or disagree with the following statements? Summary\n",
      "Duplicates:  0\n",
      "Question:  Q5. Trust in the sources for information/news about Coronavirus used in last week: STV\n",
      "Duplicates:  0\n",
      "Question:  Q6. Altered behaviour over last week\n",
      "Duplicates:  68\n",
      "Question:  Q7. Ways of sharing information/news in last week\n",
      "Duplicates:  0\n",
      "Question:  Q7b. Why did you share this information/news about Coronavirus?\n",
      "Duplicates:  0\n",
      "Question:  Q8. Whether came across information/news about Coronavirus that you think has been false or misleading in last week\n",
      "Duplicates:  0\n",
      "Question:  Q10. Whether came across any of these false or misleading recommendations about avoiding the Coronavirus in the last week\n",
      "Duplicates:  1\n",
      "Question:  Q10b. How theory that the origin or cause of Coronavirus is in some way linked to 5G technology has been reported\n",
      "Duplicates:  0\n",
      "Question:  Q10c. Source of theory linking Coronavirus to 5G technology reported as true\n",
      "Duplicates:  26\n",
      "Question:  Q10d. How claims about the potential dangers associated with Coronavirus vaccine have been reported\n",
      "Duplicates:  0\n",
      "Question:  Q10d. How claims about the potential dangers of a Coronavirus vaccine have been reported\n",
      "Duplicates:  0\n",
      "Question:  Q10e. Source of claims about the potential dangers associated with Coronavirus vaccine reported as true\n",
      "Duplicates:  9\n",
      "Question:  Q10e. Source of claims about the potential dangers of a Coronavirus vaccine reported as true\n",
      "Duplicates:  28\n",
      "Question:  Q10f. How claims about injecting disinfectant have been reported\n",
      "Duplicates:  0\n",
      "Question:  Q10g. Source of claims about about injecting disinfectant as true\n",
      "Duplicates:  9\n",
      "Question:  Q10h. How claims about face masks/coverings offering no protection or being harmful have been reported\n",
      "Duplicates:  0\n",
      "Question:  Q10h. How claims about masks offering no protection or being harmful have been reported\n",
      "Duplicates:  0\n",
      "Question:  Q10i. Source of claims about about face masks/coverings offering no protection or being harmful  as true\n",
      "Duplicates:  5\n",
      "Question:  Q10i. Source of claims about about masks offering no protection or being harmful  as true\n",
      "Duplicates:  9\n",
      "Question:  Q10k. To what extent are you concerned or not concerned about the following statements? - Summary\n",
      "Duplicates:  0\n",
      "Question:  Q10k. To what extent are you concerned or not concerned about the following statements? - The amount of false or misleading information that others in society may be getting about Coronavirus\n",
      "Duplicates:  0\n",
      "Question:  Q10k. To what extent are you concerned or not concerned about the following statements? - The amount of false or misleading information you may be getting about Coronavirus\n",
      "Duplicates:  0\n",
      "Question:  Q10l. How claims about the Coronavirus test which shows if you currently have the virus does not work and 93% of tests produce a false positive have been reported\n",
      "Duplicates:  0\n",
      "Question:  Q10m. Source of claims about the Coronavirus test which shows if you currently have the virus does not work and 93% of tests produce a false positive as true\n",
      "Duplicates:  4\n",
      "Question:  Q10n. How claims stating that the flu alone is killing more people than Coronavirus have been reported\n",
      "Duplicates:  0\n",
      "Question:  Q10o. Source of claims stating that the flu alone is killing more people than Coronavirus as true\n",
      "Duplicates:  21\n",
      "Question:  Q10p. How claims about empty hospitals on social media posts prove that Coronavirus has been exaggerated have been reported\n",
      "Duplicates:  0\n",
      "Question:  Q10q. Source of claims about empty hospitals on social media posts prove that Coronavirus has been exaggerated reported as true\n",
      "Duplicates:  8\n",
      "Question:  Q10r. How claims that the Coronavirus vaccine is a cover for a plan to implant trackable microchips in people have been reported\n",
      "Duplicates:  0\n",
      "Question:  Q10s. Source of claims that the Coronavirus vaccine is a cover for a plan to implant trackable microchips in people reported as true\n",
      "Duplicates:  9\n",
      "Question:  Q10t. How claims that the Coronavirus vaccine may reduce fertility have been reported\n",
      "Duplicates:  0\n"
     ]
    }
   ],
   "source": [
    "for dataframe in ofcom_dataframes.values():\n",
    "    print(\"Question: \", dataframe.question[0])\n",
    "    print(\"Duplicates: \", dataframe.duplicated().sum())"
   ]
  },
  {
   "cell_type": "markdown",
   "id": "d2313d000e7054f4",
   "metadata": {},
   "source": [
    "### There are a few duplicate rows I will therefore drop these:"
   ]
  },
  {
   "cell_type": "code",
   "execution_count": 20,
   "id": "78203c042a169213",
   "metadata": {
    "ExecuteTime": {
     "end_time": "2024-11-29T00:12:40.665380Z",
     "start_time": "2024-11-29T00:12:40.643021Z"
    }
   },
   "outputs": [],
   "source": [
    "for dataframe in ofcom_dataframes.values():\n",
    "    dataframe = dataframe.drop_duplicates()\n"
   ]
  },
  {
   "cell_type": "markdown",
   "id": "186c7ba8b7716a09",
   "metadata": {},
   "source": [
    "## 6. Data Type Conversion\n",
    "### I would like to format the date column into a start date and end date. I also want the date columns at the start"
   ]
  },
  {
   "cell_type": "code",
   "execution_count": 21,
   "id": "8f38c423afc90b85",
   "metadata": {
    "ExecuteTime": {
     "end_time": "2024-11-29T00:12:40.676392Z",
     "start_time": "2024-11-29T00:12:40.674558Z"
    }
   },
   "outputs": [],
   "source": [
    "def format_start_date (date):\n",
    "    date = date.split(':')[-1]\n",
    "    start_date = ' '.join([date.split(' ')[1], date.split(' ')[-2], date.split(' ')[-1]])\n",
    "    start_date = re.sub(r'(\\d+)(st|nd|rd|th)', r'\\1', start_date)    \n",
    "    return datetime.strptime(start_date, '%d %B %Y')"
   ]
  },
  {
   "cell_type": "code",
   "execution_count": 22,
   "id": "2ecfffe3aad5151f",
   "metadata": {
    "ExecuteTime": {
     "end_time": "2024-11-29T00:12:40.688344Z",
     "start_time": "2024-11-29T00:12:40.686585Z"
    }
   },
   "outputs": [],
   "source": [
    "def format_end_date (date):\n",
    "    date = date.split(':')[-1]\n",
    "    end_date = ' '.join(date.split(' ')[-3:])   \n",
    "    end_date = re.sub(r'(\\d+)(st|nd|rd|th)', r'\\1', end_date)    \n",
    "    return datetime.strptime(end_date, '%d %B %Y')"
   ]
  },
  {
   "cell_type": "code",
   "execution_count": 23,
   "id": "4935b60e9bf27001",
   "metadata": {
    "ExecuteTime": {
     "end_time": "2024-11-29T00:12:40.771425Z",
     "start_time": "2024-11-29T00:12:40.697782Z"
    }
   },
   "outputs": [],
   "source": [
    "for dataframe in ofcom_dataframes.values():\n",
    "    dataframe['start_date'] = dataframe['date'].apply(format_start_date)\n",
    "    dataframe['end_date'] = dataframe['date'].apply(format_end_date)"
   ]
  },
  {
   "cell_type": "code",
   "execution_count": 24,
   "id": "a32668adbf05c7cc",
   "metadata": {
    "ExecuteTime": {
     "end_time": "2024-11-29T00:12:40.801116Z",
     "start_time": "2024-11-29T00:12:40.782091Z"
    }
   },
   "outputs": [],
   "source": [
    "for key, dataframe in ofcom_dataframes.items():\n",
    "    last_two_columns = dataframe.columns[-2:].tolist()\n",
    "    \n",
    "    other_columns = dataframe.columns[:-2].tolist()\n",
    "    \n",
    "    new_column_order = last_two_columns + other_columns\n",
    "    \n",
    "    ofcom_dataframes[key] = dataframe[new_column_order]\n",
    "\n",
    "    ofcom_dataframes[key] = ofcom_dataframes[key].drop('date', axis=1)"
   ]
  },
  {
   "cell_type": "markdown",
   "id": "5929e8be88508bd3",
   "metadata": {},
   "source": [
    "### Some of the values end with a star or double star to denote that the size of the population of respondents is less than 100 or less than 50. This is not needed, so I remove this from the columns:"
   ]
  },
  {
   "cell_type": "code",
   "execution_count": 25,
   "id": "6dfd367ec3277940",
   "metadata": {
    "ExecuteTime": {
     "end_time": "2024-11-29T00:12:40.813580Z",
     "start_time": "2024-11-29T00:12:40.811479Z"
    }
   },
   "outputs": [],
   "source": [
    "def remove_stars(value):\n",
    "    if pd.notna(value):\n",
    "        value_str = str(value)\n",
    "        if value_str.endswith('**'):\n",
    "            return value_str[:-2].strip()\n",
    "        elif value_str.endswith('*'):\n",
    "            return value_str[:-1].strip()\n",
    "    return value"
   ]
  },
  {
   "cell_type": "code",
   "execution_count": 26,
   "id": "8e1af75042899516",
   "metadata": {
    "ExecuteTime": {
     "end_time": "2024-11-29T00:12:40.944758Z",
     "start_time": "2024-11-29T00:12:40.826057Z"
    }
   },
   "outputs": [],
   "source": [
    "for dataframe in ofcom_dataframes.values():\n",
    "    for column in dataframe.columns:\n",
    "        dataframe[column] = dataframe[column].apply(remove_stars)"
   ]
  },
  {
   "cell_type": "markdown",
   "id": "dc38d5b24a626440",
   "metadata": {},
   "source": [
    "### Some of the columns have - instead of 0: I apply a map to change the value to 0 for these instances"
   ]
  },
  {
   "cell_type": "code",
   "execution_count": 27,
   "id": "47261ed5fdba2068",
   "metadata": {
    "ExecuteTime": {
     "end_time": "2024-11-29T00:12:40.998920Z",
     "start_time": "2024-11-29T00:12:40.954876Z"
    }
   },
   "outputs": [],
   "source": [
    "for key, dataframe in ofcom_dataframes.items():\n",
    "    dataframe = dataframe.map(lambda x: 0 if x == '-' else x)"
   ]
  },
  {
   "cell_type": "markdown",
   "id": "3c7e9f0c90aee9de",
   "metadata": {},
   "source": [
    "## 7. Handling Outliers\n",
    "#### Identifying outliers:"
   ]
  },
  {
   "cell_type": "code",
   "execution_count": 28,
   "id": "b3abd6368d902397",
   "metadata": {
    "ExecuteTime": {
     "end_time": "2024-11-29T00:12:41.011416Z",
     "start_time": "2024-11-29T00:12:41.009781Z"
    }
   },
   "outputs": [],
   "source": [
    "# for dataframe in ofcom_dataframes.values():    \n",
    "#     numerical_columns = dataframe.select_dtypes(include=['number']).columns\n",
    "#     \n",
    "#     plt.figure(figsize=(12, 6))\n",
    "#     \n",
    "#     sns.boxplot(data=dataframe[numerical_columns])\n",
    "#     \n",
    "#     plt.title(dataframe.question[0])\n",
    "#     plt.xticks(rotation=45)\n",
    "#         \n",
    "#     plt.show()"
   ]
  },
  {
   "cell_type": "markdown",
   "id": "3e3caf5a173c7b9b",
   "metadata": {},
   "source": [
    "### The outliers although present seem appropriate and not wildly out of range for the data. I do not wish to lose this rich raw data. I will not remove them from this time series analysis as it could represent changes in value associated with the pandemic\n"
   ]
  },
  {
   "cell_type": "markdown",
   "id": "10a91476579d4e08",
   "metadata": {},
   "source": [
    "## 8. Checking for Inconsistencies\n",
    "### Finally, I will clean up the text for the question columns to formatting them with lower case and _ for space, I will also drop the table number column"
   ]
  },
  {
   "cell_type": "code",
   "execution_count": 29,
   "id": "acf822e7-05f3-463f-a7ad-dd5c2232ad6b",
   "metadata": {
    "ExecuteTime": {
     "end_time": "2024-11-29T00:12:41.032218Z",
     "start_time": "2024-11-29T00:12:41.022242Z"
    }
   },
   "outputs": [],
   "source": [
    "for key, dataframe in ofcom_dataframes.items():\n",
    "    ofcom_dataframes[key] = ofcom_dataframes[key].drop('table', axis=1)"
   ]
  },
  {
   "cell_type": "code",
   "execution_count": 30,
   "id": "6b92d273cf1dc294",
   "metadata": {
    "ExecuteTime": {
     "end_time": "2024-11-29T00:12:41.043321Z",
     "start_time": "2024-11-29T00:12:41.041895Z"
    }
   },
   "outputs": [],
   "source": [
    "def format_question(question):\n",
    "    question = question.split('. ')[1:][0].lower().replace(' ', '_')\n",
    "    return question"
   ]
  },
  {
   "cell_type": "code",
   "execution_count": 31,
   "id": "30d75252796680b6",
   "metadata": {
    "ExecuteTime": {
     "end_time": "2024-11-29T00:12:41.057964Z",
     "start_time": "2024-11-29T00:12:41.052928Z"
    }
   },
   "outputs": [],
   "source": [
    "for key, dataframe in ofcom_dataframes.items():\n",
    "    dataframe['question'] = dataframe['question'].apply(format_question)"
   ]
  },
  {
   "cell_type": "markdown",
   "id": "b846e04ff9607daf",
   "metadata": {},
   "source": [
    "## 10. Saving to file:"
   ]
  },
  {
   "cell_type": "code",
   "execution_count": 32,
   "id": "1c3721d4a31a523d",
   "metadata": {
    "ExecuteTime": {
     "end_time": "2024-11-29T00:16:09.246375Z",
     "start_time": "2024-11-29T00:16:09.244461Z"
    }
   },
   "outputs": [],
   "source": [
    "for key, dataframe in ofcom_dataframes.items():\n",
    "    filename = '_'.join(key.split('_')[1:]) + '_cleaned.csv'\n",
    "    dataframe.to_csv(f\"2_cleaned_files/ofcom_survey_data/{filename}\", index=False)"
   ]
  }
 ],
 "metadata": {
  "kernelspec": {
   "display_name": "Python 3 (ipykernel)",
   "language": "python",
   "name": "python3"
  },
  "language_info": {
   "codemirror_mode": {
    "name": "ipython",
    "version": 3
   },
   "file_extension": ".py",
   "mimetype": "text/x-python",
   "name": "python",
   "nbconvert_exporter": "python",
   "pygments_lexer": "ipython3",
   "version": "3.12.6"
  }
 },
 "nbformat": 4,
 "nbformat_minor": 5
}
