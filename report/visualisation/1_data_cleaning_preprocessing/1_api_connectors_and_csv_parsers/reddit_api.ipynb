{
 "cells": [
  {
   "cell_type": "markdown",
   "id": "df64575e-f580-4271-95b7-28e2d0e99357",
   "metadata": {},
   "source": [
    "# Reddit API Connector"
   ]
  },
  {
   "cell_type": "markdown",
   "id": "17f54ef1-4860-442d-ac26-4ce18de8acfa",
   "metadata": {},
   "source": [
    "## Importing necessary libraries & modules"
   ]
  },
  {
   "cell_type": "code",
   "execution_count": 1,
   "id": "c89102d2-db79-4b10-a507-bcdf8a432097",
   "metadata": {},
   "outputs": [
    {
     "ename": "ModuleNotFoundError",
     "evalue": "No module named 'dotenv'",
     "output_type": "error",
     "traceback": [
      "\u001b[0;31m---------------------------------------------------------------------------\u001b[0m",
      "\u001b[0;31mModuleNotFoundError\u001b[0m                       Traceback (most recent call last)",
      "Cell \u001b[0;32mIn[1], line 3\u001b[0m\n\u001b[1;32m      1\u001b[0m \u001b[38;5;28;01mimport\u001b[39;00m \u001b[38;5;21;01mrequests\u001b[39;00m\n\u001b[1;32m      2\u001b[0m \u001b[38;5;28;01mfrom\u001b[39;00m \u001b[38;5;21;01mrequests\u001b[39;00m\u001b[38;5;21;01m.\u001b[39;00m\u001b[38;5;21;01mauth\u001b[39;00m \u001b[38;5;28;01mimport\u001b[39;00m HTTPBasicAuth\n\u001b[0;32m----> 3\u001b[0m \u001b[38;5;28;01mfrom\u001b[39;00m \u001b[38;5;21;01mdotenv\u001b[39;00m \u001b[38;5;28;01mimport\u001b[39;00m load_dotenv\n\u001b[1;32m      4\u001b[0m \u001b[38;5;28;01mimport\u001b[39;00m \u001b[38;5;21;01mos\u001b[39;00m\n\u001b[1;32m      5\u001b[0m \u001b[38;5;28;01mfrom\u001b[39;00m \u001b[38;5;21;01mpprint\u001b[39;00m \u001b[38;5;28;01mimport\u001b[39;00m pprint\n",
      "\u001b[0;31mModuleNotFoundError\u001b[0m: No module named 'dotenv'"
     ]
    }
   ],
   "source": [
    "import requests\n",
    "from requests.auth import HTTPBasicAuth\n",
    "from dotenv import load_dotenv\n",
    "import os\n",
    "from pprint import pprint"
   ]
  },
  {
   "cell_type": "markdown",
   "id": "14e6cb79-7082-4ef3-a803-bc433755e3d7",
   "metadata": {},
   "source": [
    "## Loading the environment variables"
   ]
  },
  {
   "cell_type": "code",
   "execution_count": 5,
   "id": "16e0c3ae-6bb4-460d-96ec-9b1844f0ea1a",
   "metadata": {},
   "outputs": [
    {
     "ename": "NameError",
     "evalue": "name 'load_dotenv' is not defined",
     "output_type": "error",
     "traceback": [
      "\u001b[0;31m---------------------------------------------------------------------------\u001b[0m",
      "\u001b[0;31mNameError\u001b[0m                                 Traceback (most recent call last)",
      "Cell \u001b[0;32mIn[5], line 1\u001b[0m\n\u001b[0;32m----> 1\u001b[0m \u001b[43mload_dotenv\u001b[49m()\n",
      "\u001b[0;31mNameError\u001b[0m: name 'load_dotenv' is not defined"
     ]
    }
   ],
   "source": [
    "load_dotenv()"
   ]
  },
  {
   "cell_type": "code",
   "execution_count": null,
   "id": "61ef4fd7-fd26-4ad8-a601-6a2ab7f13045",
   "metadata": {},
   "outputs": [],
   "source": [
    "reddit_username = os.getenv('REDDIT-USERNAME')\n",
    "reddit_password = os.getenv('REDDIT-PASSWORD')\n",
    "reddit_app_id = os.getenv('REDDIT-APP-ID')\n",
    "reddit_app_secret = os.getenv('REDDIT-APP-SECRET')\n",
    "reddit_app_name = os.getenv('REDDIT-APP-NAME')"
   ]
  },
  {
   "cell_type": "markdown",
   "id": "4c038f17-2229-4b50-8dea-900a979966fc",
   "metadata": {},
   "source": [
    "## Check to see if donenv variables are imported correctly (uncomment)"
   ]
  },
  {
   "cell_type": "code",
   "execution_count": null,
   "id": "da39f39d-c910-4db6-9244-c9ffbe39a4a3",
   "metadata": {},
   "outputs": [],
   "source": [
    "# print(reddit_username, reddit_password, reddit_app_id, reddit_app_secret, reddit_app_name)"
   ]
  },
  {
   "cell_type": "markdown",
   "id": "113320d4-1450-4109-86d9-e9535782d5e7",
   "metadata": {},
   "source": [
    "## Request Access Token"
   ]
  },
  {
   "cell_type": "code",
   "execution_count": null,
   "id": "6363cefe-f224-4078-a543-870ff6862dc0",
   "metadata": {},
   "outputs": [],
   "source": [
    "base_url = 'https://www.reddit.com/'\n",
    "data = {'grant_type': 'password', 'username': reddit_username, 'password': reddit_password}\n",
    "auth = requests.auth.HTTPBasicAuth(reddit_app_id, reddit_app_secret)\n",
    "request = requests.post(base_url + 'api/v1/access_token',\n",
    "                  data=data,\n",
    "                  headers={'user-agent': f'{reddit_app_name} by {reddit_username}'},\n",
    "\t\t  auth=auth)\n",
    "access_token_dictionary = request.json()"
   ]
  },
  {
   "cell_type": "markdown",
   "id": "ef4e3edf-735b-4527-9922-89a8e8d4603e",
   "metadata": {},
   "source": [
    "## Check to see access token (uncomment)"
   ]
  },
  {
   "cell_type": "code",
   "execution_count": null,
   "id": "7763f661-8737-4eb1-91a5-3d0c4bb78bf1",
   "metadata": {},
   "outputs": [],
   "source": [
    "# pprint(access_token_dictionary)"
   ]
  },
  {
   "cell_type": "markdown",
   "id": "011c3000-01e4-49f8-be7a-fcb2af09e4de",
   "metadata": {},
   "source": [
    "## Access the API with authentication"
   ]
  },
  {
   "cell_type": "code",
   "execution_count": null,
   "id": "be93429a-a5d4-4e56-b9fa-ce22f5f44716",
   "metadata": {},
   "outputs": [],
   "source": [
    "token = 'bearer ' + access_token_dictionary['access_token']\n",
    "\n",
    "url = 'https://oauth.reddit.com'\n",
    "headers = {'Authorization': token, 'User-Agent': f'{reddit_app_name} by {reddit_username}'}"
   ]
  },
  {
   "cell_type": "markdown",
   "id": "fe5258d3-d2db-485a-9142-d9e9ec47e3b2",
   "metadata": {},
   "source": [
    "## Test to see if I can access my profile information"
   ]
  },
  {
   "cell_type": "code",
   "execution_count": null,
   "id": "6402bfc3-1c27-4a12-a067-23a067a11176",
   "metadata": {},
   "outputs": [],
   "source": [
    "# response = requests.get(url + '/api/v1/me', headers=headers)\n",
    "#\n",
    "# if response.status_code == 200:\n",
    "#     print(response.json()['name'], response.json()['comment_karma'])"
   ]
  },
  {
   "cell_type": "markdown",
   "id": "660dfbd2-2e5b-490d-b972-25dec74a577b",
   "metadata": {},
   "source": [
    "## Searching for subreddits containing COVID"
   ]
  },
  {
   "cell_type": "code",
   "execution_count": null,
   "id": "cae0103e-47a9-4abb-90bf-b0398ef9da2e",
   "metadata": {},
   "outputs": [],
   "source": [
    "payload = {'q': 'covid', 'limit': 500, 'sort': 'relevance'}\n",
    "response = requests.get(url + '/subreddits/search', headers=headers, params=payload)\n",
    "\n",
    "values = response.json()\n",
    "\n",
    "for i in range(len(values['data']['children'])):\n",
    "    print(values['data']['children'][i]['data']['display_name'])"
   ]
  }
 ],
 "metadata": {
  "kernelspec": {
   "display_name": "Python 3 (ipykernel)",
   "language": "python",
   "name": "python3"
  },
  "language_info": {
   "codemirror_mode": {
    "name": "ipython",
    "version": 3
   },
   "file_extension": ".py",
   "mimetype": "text/x-python",
   "name": "python",
   "nbconvert_exporter": "python",
   "pygments_lexer": "ipython3",
   "version": "3.12.7"
  }
 },
 "nbformat": 4,
 "nbformat_minor": 5
}
