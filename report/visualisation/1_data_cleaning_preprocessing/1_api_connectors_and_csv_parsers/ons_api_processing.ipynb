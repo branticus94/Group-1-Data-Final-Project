{
 "cells": [
  {
   "cell_type": "markdown",
   "id": "8c1d4ca1a4bf7b83",
   "metadata": {},
   "source": [
    "# ONS API Data Retrieval (https://covid-api.com/)\n",
    "## Imports\n",
    "### Importing necessary libraries & modules"
   ]
  },
  {
   "cell_type": "code",
   "execution_count": 1,
   "id": "4802f576627f2a2b",
   "metadata": {
    "ExecuteTime": {
     "end_time": "2024-11-25T21:11:50.674935Z",
     "start_time": "2024-11-25T21:11:50.652825Z"
    }
   },
   "outputs": [],
   "source": [
    "import requests\n",
    "import pandas as pd\n",
    "from io import StringIO"
   ]
  },
  {
   "cell_type": "markdown",
   "id": "6185788e08f94818",
   "metadata": {},
   "source": [
    "## API connectors\n",
    "### Here I define the functions I will be using to connect to the ONS API & retrieve data"
   ]
  },
  {
   "cell_type": "code",
   "execution_count": 2,
   "id": "4618b82a30ef3df3",
   "metadata": {
    "ExecuteTime": {
     "end_time": "2024-11-25T21:11:51.119622Z",
     "start_time": "2024-11-25T21:11:51.115142Z"
    }
   },
   "outputs": [],
   "source": [
    "base_url = 'https://api.beta.ons.gov.uk/v1/'"
   ]
  },
  {
   "cell_type": "code",
   "execution_count": 3,
   "id": "f02fefdfc3b67d3a",
   "metadata": {
    "ExecuteTime": {
     "end_time": "2024-11-25T21:11:51.261787Z",
     "start_time": "2024-11-25T21:11:51.258223Z"
    }
   },
   "outputs": [],
   "source": [
    "def get_data(url, params=None):\n",
    "    request_response = requests.get(url, params=params)\n",
    "    if request_response.status_code == 200:\n",
    "        return request_response.json()\n",
    "    else:\n",
    "        return [request_response.status_code, request_response.text]"
   ]
  },
  {
   "cell_type": "code",
   "execution_count": 4,
   "id": "5fad0291e6c868c6",
   "metadata": {
    "ExecuteTime": {
     "end_time": "2024-11-25T21:11:51.405570Z",
     "start_time": "2024-11-25T21:11:51.402429Z"
    }
   },
   "outputs": [],
   "source": [
    "def get_available_datasets():\n",
    "    available_datasets_response = get_data(f\"{base_url}datasets\")\n",
    "    \n",
    "    available_datasets_response = available_datasets_response['items']\n",
    "    \n",
    "    available_datasets = {}\n",
    "    for i, available_dataset in enumerate(available_datasets_response):\n",
    "        available_datasets[f\"{i+1}\"] =  available_dataset['id']\n",
    "        \n",
    "    return available_datasets, available_datasets_response"
   ]
  },
  {
   "cell_type": "code",
   "execution_count": 5,
   "id": "342cc2dcd8af4ec8",
   "metadata": {
    "ExecuteTime": {
     "end_time": "2024-11-25T21:11:51.560805Z",
     "start_time": "2024-11-25T21:11:51.557975Z"
    }
   },
   "outputs": [],
   "source": [
    "def get_data_link(i, available_datasets_response):\n",
    "    try:\n",
    "        data_link = available_datasets_response[i-1]['links']['latest_version']['href']\n",
    "        print(data_link)\n",
    "        return data_link\n",
    "    except IndexError:\n",
    "        print(\"This is not a valid selection, please choose an appropriate dataset\")"
   ]
  },
  {
   "cell_type": "code",
   "execution_count": 6,
   "id": "c5cabcafe2a7328e",
   "metadata": {
    "ExecuteTime": {
     "end_time": "2024-11-25T21:11:51.700711Z",
     "start_time": "2024-11-25T21:11:51.698063Z"
    }
   },
   "outputs": [],
   "source": [
    "def get_data_for_selected_parameter(link):\n",
    "    link_response = get_data(link)\n",
    "    csv_link = link_response['downloads']['csv']['href']\n",
    "    response = requests.get(csv_link)\n",
    "    dataframe = pd.read_csv(StringIO(response.text))\n",
    "    return dataframe"
   ]
  },
  {
   "cell_type": "markdown",
   "id": "958081672ecde5e2",
   "metadata": {},
   "source": [
    "## Functions to display available dataset & save data to csv file"
   ]
  },
  {
   "cell_type": "code",
   "execution_count": 7,
   "id": "e31e94294c81718f",
   "metadata": {
    "ExecuteTime": {
     "end_time": "2024-11-25T21:11:51.998827Z",
     "start_time": "2024-11-25T21:11:51.996481Z"
    }
   },
   "outputs": [],
   "source": [
    "def print_dataset(available_datasets):\n",
    "    for i in range(1, len(available_datasets)):\n",
    "        print(f\"{i}. {available_datasets[str(i)].replace('-', ' ').title()}\")"
   ]
  },
  {
   "cell_type": "code",
   "execution_count": 8,
   "id": "dd260c08d3ae5ecd",
   "metadata": {
    "ExecuteTime": {
     "end_time": "2024-11-25T21:11:52.158066Z",
     "start_time": "2024-11-25T21:11:52.155588Z"
    }
   },
   "outputs": [],
   "source": [
    "def save_to_csv(file_name, dataframe):\n",
    "    dataframe.to_csv(file_name, index=False)"
   ]
  },
  {
   "cell_type": "markdown",
   "id": "ad2dbe6e4bb634a3",
   "metadata": {},
   "source": [
    "## Running the functions to make data selection"
   ]
  },
  {
   "cell_type": "code",
   "execution_count": 9,
   "id": "1165c99ca3156277",
   "metadata": {
    "ExecuteTime": {
     "end_time": "2024-11-25T21:11:52.729679Z",
     "start_time": "2024-11-25T21:11:52.503122Z"
    }
   },
   "outputs": [],
   "source": [
    "available_datasets, available_datasets_response = get_available_datasets()"
   ]
  },
  {
   "cell_type": "code",
   "execution_count": 10,
   "id": "a6a9f265d5281bb1",
   "metadata": {
    "ExecuteTime": {
     "end_time": "2024-11-25T21:11:52.755340Z",
     "start_time": "2024-11-25T21:11:52.753101Z"
    }
   },
   "outputs": [
    {
     "name": "stdout",
     "output_type": "stream",
     "text": [
      "1. Wellbeing Quarterly\n",
      "2. Wellbeing Local Authority\n",
      "3. Weekly Deaths Region\n",
      "4. Weekly Deaths Local Authority\n",
      "5. Weekly Deaths Health Board\n",
      "6. Weekly Deaths Age Sex\n",
      "7. Uk Spending On Cards\n",
      "8. Uk Business By Enterprises And Local Units\n",
      "9. Traffic Camera Activity\n",
      "10. Trade\n",
      "11. Tax Benefits Statistics\n",
      "12. Suicides In The Uk\n",
      "13. Sexual Orientation By Region\n",
      "14. Sexual Orientation By Age And Sex\n",
      "15. Retail Sales Index Large And Small Businesses\n",
      "16. Retail Sales Index All Businesses\n",
      "17. Retail Sales Index\n",
      "18. Regional Gdp By Year\n",
      "19. Regional Gdp By Quarter\n"
     ]
    }
   ],
   "source": [
    "print_dataset(available_datasets)"
   ]
  },
  {
   "cell_type": "markdown",
   "id": "f8b515ba1e0d10bb",
   "metadata": {},
   "source": [
    "### Please enter the number of the dataset you would like to select:"
   ]
  },
  {
   "cell_type": "code",
   "execution_count": 11,
   "id": "c73ea9a971d21d9b",
   "metadata": {
    "ExecuteTime": {
     "end_time": "2024-11-25T21:11:53.514686Z",
     "start_time": "2024-11-25T21:11:53.512931Z"
    }
   },
   "outputs": [],
   "source": [
    "selected_dataset = 1"
   ]
  },
  {
   "cell_type": "markdown",
   "id": "502141feda65f651",
   "metadata": {},
   "source": [
    "### The below code will save the output to a csv"
   ]
  },
  {
   "cell_type": "code",
   "execution_count": 12,
   "id": "652972ba806ace40",
   "metadata": {
    "ExecuteTime": {
     "end_time": "2024-11-25T21:11:54.210978Z",
     "start_time": "2024-11-25T21:11:54.208758Z"
    }
   },
   "outputs": [
    {
     "name": "stdout",
     "output_type": "stream",
     "text": [
      "https://api.beta.ons.gov.uk/v1/datasets/wellbeing-quarterly/editions/time-series/versions/9\n"
     ]
    }
   ],
   "source": [
    "link = get_data_link(selected_dataset, available_datasets_response)"
   ]
  },
  {
   "cell_type": "code",
   "execution_count": 13,
   "id": "55895f0d-eda5-4cc5-bd91-1febbf7da3e1",
   "metadata": {
    "ExecuteTime": {
     "end_time": "2024-11-25T21:11:55.321150Z",
     "start_time": "2024-11-25T21:11:54.653361Z"
    }
   },
   "outputs": [],
   "source": [
    "dataframe = get_data_for_selected_parameter(link)"
   ]
  },
  {
   "cell_type": "code",
   "execution_count": 14,
   "id": "58e550fc8c0a6975",
   "metadata": {
    "ExecuteTime": {
     "end_time": "2024-11-25T21:11:55.325719Z",
     "start_time": "2024-11-25T21:11:55.324124Z"
    }
   },
   "outputs": [],
   "source": [
    "file_name = available_datasets[str(selected_dataset)].replace('-', '_')"
   ]
  },
  {
   "cell_type": "code",
   "execution_count": 16,
   "id": "4b7b3ff70539b659",
   "metadata": {
    "ExecuteTime": {
     "end_time": "2024-11-25T21:11:56.429395Z",
     "start_time": "2024-11-25T21:11:56.415089Z"
    }
   },
   "outputs": [],
   "source": [
    "save_to_csv(f'2_processed_databases/ons_data/{file_name}', dataframe)"
   ]
  },
  {
   "cell_type": "code",
   "execution_count": null,
   "id": "f5fca72f-b416-406f-8c33-8e601c493eee",
   "metadata": {},
   "outputs": [],
   "source": []
  }
 ],
 "metadata": {
  "kernelspec": {
   "display_name": "Python 3 (ipykernel)",
   "language": "python",
   "name": "python3"
  },
  "language_info": {
   "codemirror_mode": {
    "name": "ipython",
    "version": 3
   },
   "file_extension": ".py",
   "mimetype": "text/x-python",
   "name": "python",
   "nbconvert_exporter": "python",
   "pygments_lexer": "ipython3",
   "version": "3.12.7"
  }
 },
 "nbformat": 4,
 "nbformat_minor": 5
}
