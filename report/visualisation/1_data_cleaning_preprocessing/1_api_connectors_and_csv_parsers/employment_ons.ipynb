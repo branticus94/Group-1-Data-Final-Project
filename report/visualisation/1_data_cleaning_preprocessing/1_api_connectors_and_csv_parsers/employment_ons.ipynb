{
 "cells": [
  {
   "cell_type": "code",
   "execution_count": 4,
   "id": "initial_id",
   "metadata": {
    "ExecuteTime": {
     "end_time": "2024-11-25T21:26:59.647019Z",
     "start_time": "2024-11-25T21:26:59.391355Z"
    }
   },
   "outputs": [],
   "source": [
    "import pandas as pd"
   ]
  },
  {
   "cell_type": "code",
   "execution_count": 10,
   "id": "c4a929b739ccb7",
   "metadata": {
    "ExecuteTime": {
     "end_time": "2024-11-25T21:31:14.352298Z",
     "start_time": "2024-11-25T21:31:14.191848Z"
    }
   },
   "outputs": [],
   "source": [
    "labour_market_statistics_df = pd.read_csv('Raw Databases/Labour Market Statistics.csv', low_memory=False)"
   ]
  },
  {
   "cell_type": "code",
   "execution_count": 15,
   "id": "f31d298b679e34e2",
   "metadata": {},
   "outputs": [
    {
     "data": {
      "text/plain": [
       "Index(['Title',\n",
       "       'AWE: Whole Economy Real Terms Year on Year Single Month Growth (%): Seasonally Adjusted Regular Pay',\n",
       "       'AWE: Whole Economy Real Terms Year on Year three Month Growth (%): Seasonally Adjusted Regular Pay',\n",
       "       'AWE: Whole Economy Real Terms Level (£): Seasonally Adjusted Regular Pay',\n",
       "       'AWE: Whole Economy Real Terms Year on Year Single Month Growth (%): Seasonally Adjusted Total Pay',\n",
       "       'AWE: Whole Economy Real Terms Year on Year Three Month Growth (%): Seasonally Adjusted Total Pay',\n",
       "       'AWE: Whole Economy Real Terms Level (£): Seasonally Adjusted Total Pay',\n",
       "       'Employment rate Canada (OECD) seasonally adjusted',\n",
       "       'Employment Rate Japan (OECD) seasonally adjusted',\n",
       "       'Employment Rate United States (OECD) seasonally adjusted',\n",
       "       ...\n",
       "       'STANDARDISED ILO UNEMPLOYMENT RATES SEASONALLY ADJUSTED Luxembourg - Eurostat',\n",
       "       'STANDARDISED ILO UNEMPLOYMENT RATES SEASONALLY ADJUSTED Netherlands - Eurostat',\n",
       "       'STANDARDISED ILO UNEMPLOYMENT RATES SEASONALLY ADJUSTED Austria - Eurostat',\n",
       "       'STANDARDISED ILO UNEMPLOYMENT RATES SEASONALLY ADJUSTED Portugal - Eurostat',\n",
       "       'STANDARDISED ILO UNEMPLOYMENT RATES SEASONALLY ADJUSTED Finland - Eurostat',\n",
       "       'STANDARDISED ILO UNEMPLOYMENT RATES SEASONALLY ADJUSTED Sweden - Eurostat',\n",
       "       'STANDARDISED ILO UNEMPLOYMENT RATES SEASONALLY ADJUSTED United Kingdom Eurostat',\n",
       "       'STANDARDISED ILO UNEMPLOYMENT RATES SEASONALLY ADJUSTED United States',\n",
       "       'STANDARDISED ILO UNEMPLOYMENT RATES SEASONALLY ADJUSTED Japan- Eurostat',\n",
       "       'STANDARDISED ILO UNEMPLOYMENT RATES SEASONALLY ADJUSTED Canada-OECD'],\n",
       "      dtype='object', length=1831)"
      ]
     },
     "execution_count": 15,
     "metadata": {},
     "output_type": "execute_result"
    }
   ],
   "source": [
    "labour_market_statistics_df.columns"
   ]
  },
  {
   "cell_type": "code",
   "execution_count": null,
   "id": "5113cc33-9da9-468f-921f-56962aba3108",
   "metadata": {},
   "outputs": [],
   "source": []
  }
 ],
 "metadata": {
  "kernelspec": {
   "display_name": "Python 3 (ipykernel)",
   "language": "python",
   "name": "python3"
  },
  "language_info": {
   "codemirror_mode": {
    "name": "ipython",
    "version": 3
   },
   "file_extension": ".py",
   "mimetype": "text/x-python",
   "name": "python",
   "nbconvert_exporter": "python",
   "pygments_lexer": "ipython3",
   "version": "3.12.7"
  }
 },
 "nbformat": 4,
 "nbformat_minor": 5
}
