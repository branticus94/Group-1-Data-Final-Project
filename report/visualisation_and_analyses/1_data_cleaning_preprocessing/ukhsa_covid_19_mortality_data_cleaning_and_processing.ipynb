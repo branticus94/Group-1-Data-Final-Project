{
 "cells": [
  {
   "cell_type": "markdown",
   "id": "edb301b9-897f-42eb-8823-d8ca9e061fe7",
   "metadata": {},
   "source": [
    "# COVID mortality data by UK region"
   ]
  },
  {
   "cell_type": "markdown",
   "id": "b7796599-aeaf-4a9a-855b-96367baee91b",
   "metadata": {},
   "source": [
    "### The following workbook shows the processing, visualisation & analysis of the COVID mortality data."
   ]
  },
  {
   "cell_type": "markdown",
   "id": "f0cca6b4-0691-4a62-b660-f146bb496676",
   "metadata": {},
   "source": [
    "# Data Cleaning & Pre-Processing"
   ]
  },
  {
   "cell_type": "markdown",
   "id": "387444c6-a013-4026-b534-4e2185287ad8",
   "metadata": {},
   "source": [
    "## 1. Importing required libraries & modules for the cleaning and visualisation"
   ]
  },
  {
   "cell_type": "code",
   "execution_count": 1,
   "id": "72ec0106-1028-4720-9e4c-0e6e6b68817b",
   "metadata": {
    "ExecuteTime": {
     "end_time": "2024-11-29T20:53:39.721072Z",
     "start_time": "2024-11-29T20:53:39.655568Z"
    }
   },
   "outputs": [],
   "source": [
    "import pandas as pd\n",
    "import seaborn as sns\n",
    "import matplotlib.pyplot as plt\n",
    "from datetime import datetime\n",
    "import os\n",
    "import gc\n",
    "from PIL import Image as img\n",
    "import glob\n",
    "from IPython.display import Image"
   ]
  },
  {
   "cell_type": "markdown",
   "id": "228305f7-c51e-4334-aba2-e6b796a7ec9e",
   "metadata": {},
   "source": [
    "## 2. Loading the data \n",
    "The data was obtained from the UKHSA API and saved to a sql database. I therefore load the data for processing using sqlalchemy."
   ]
  },
  {
   "cell_type": "code",
   "execution_count": 2,
   "id": "3d4accfe-050f-46c1-81c0-4204f63a9f04",
   "metadata": {
    "ExecuteTime": {
     "end_time": "2024-11-29T20:53:39.743295Z",
     "start_time": "2024-11-29T20:53:39.725667Z"
    }
   },
   "outputs": [],
   "source": [
    "covid_deaths_df = pd.read_csv('1_api_connectors_and_csv_parsers/2_processed_databases/ukhsa_mortality_data/government_office_region_covid_19_deaths_onsbyday.csv')"
   ]
  },
  {
   "cell_type": "markdown",
   "id": "a80eec2d-e4cd-4ec1-b100-39006c52344f",
   "metadata": {},
   "source": [
    "## 3. Inspecting the data"
   ]
  },
  {
   "cell_type": "markdown",
   "id": "fd8c6855-addd-4555-89a7-3f8b6fe0050b",
   "metadata": {},
   "source": [
    "### Displaying the head & tail of dataframe\n",
    "\n",
    "You can see there are several redundancies in the dataframe. The theme, sub_theme, topic, geography_type, metric_group, stratum, sex, age and in_reporting_delay_period appear to be the same. They are likely redundant columns which will need addressing. \n",
    "\n",
    "I would also like to reshape the data. I would like the data to be ordered by date as the index with the column specifying the area and the data to be cumulative to facilitate a time series analysis of cumulative deaths over time."
   ]
  },
  {
   "cell_type": "code",
   "execution_count": 3,
   "id": "5a696ead-37a4-4046-9747-bfc75780e714",
   "metadata": {
    "ExecuteTime": {
     "end_time": "2024-11-29T20:53:39.811232Z",
     "start_time": "2024-11-29T20:53:39.806336Z"
    }
   },
   "outputs": [
    {
     "data": {
      "text/plain": [
       "<bound method NDFrame.head of                     theme    sub_theme     topic            geography_type  \\\n",
       "0      infectious_disease  respiratory  COVID-19  Government Office Region   \n",
       "1      infectious_disease  respiratory  COVID-19  Government Office Region   \n",
       "2      infectious_disease  respiratory  COVID-19  Government Office Region   \n",
       "3      infectious_disease  respiratory  COVID-19  Government Office Region   \n",
       "4      infectious_disease  respiratory  COVID-19  Government Office Region   \n",
       "...                   ...          ...       ...                       ...   \n",
       "12991  infectious_disease  respiratory  COVID-19  Government Office Region   \n",
       "12992  infectious_disease  respiratory  COVID-19  Government Office Region   \n",
       "12993  infectious_disease  respiratory  COVID-19  Government Office Region   \n",
       "12994  infectious_disease  respiratory  COVID-19  Government Office Region   \n",
       "12995  infectious_disease  respiratory  COVID-19  Government Office Region   \n",
       "\n",
       "                      geography geography_code                    metric  \\\n",
       "0                 East Midlands      E12000004  COVID-19_deaths_ONSByDay   \n",
       "1                 East Midlands      E12000004  COVID-19_deaths_ONSByDay   \n",
       "2                 East Midlands      E12000004  COVID-19_deaths_ONSByDay   \n",
       "3                 East Midlands      E12000004  COVID-19_deaths_ONSByDay   \n",
       "4                 East Midlands      E12000004  COVID-19_deaths_ONSByDay   \n",
       "...                         ...            ...                       ...   \n",
       "12991  Yorkshire and The Humber      E12000003  COVID-19_deaths_ONSByDay   \n",
       "12992  Yorkshire and The Humber      E12000003  COVID-19_deaths_ONSByDay   \n",
       "12993  Yorkshire and The Humber      E12000003  COVID-19_deaths_ONSByDay   \n",
       "12994  Yorkshire and The Humber      E12000003  COVID-19_deaths_ONSByDay   \n",
       "12995  Yorkshire and The Humber      E12000003  COVID-19_deaths_ONSByDay   \n",
       "\n",
       "      metric_group  stratum  sex  age  year  month  epiweek        date  \\\n",
       "0           deaths  default  all  all  2020      1        5  2020-01-30   \n",
       "1           deaths  default  all  all  2020      1        5  2020-01-31   \n",
       "2           deaths  default  all  all  2020      2        5  2020-02-01   \n",
       "3           deaths  default  all  all  2020      2        5  2020-02-02   \n",
       "4           deaths  default  all  all  2020      2        6  2020-02-03   \n",
       "...            ...      ...  ...  ...   ...    ...      ...         ...   \n",
       "12991       deaths  default  all  all  2024      1        2  2024-01-08   \n",
       "12992       deaths  default  all  all  2024      1        2  2024-01-09   \n",
       "12993       deaths  default  all  all  2024      1        2  2024-01-10   \n",
       "12994       deaths  default  all  all  2024      1        2  2024-01-11   \n",
       "12995       deaths  default  all  all  2024      1        2  2024-01-12   \n",
       "\n",
       "       metric_value  in_reporting_delay_period  \n",
       "0               0.0                          0  \n",
       "1               0.0                          0  \n",
       "2               0.0                          0  \n",
       "3               0.0                          0  \n",
       "4               0.0                          0  \n",
       "...             ...                        ...  \n",
       "12991           1.0                          0  \n",
       "12992           2.0                          0  \n",
       "12993           1.0                          0  \n",
       "12994           0.0                          0  \n",
       "12995           0.0                          0  \n",
       "\n",
       "[12996 rows x 17 columns]>"
      ]
     },
     "execution_count": 3,
     "metadata": {},
     "output_type": "execute_result"
    }
   ],
   "source": [
    "covid_deaths_df.head"
   ]
  },
  {
   "cell_type": "code",
   "execution_count": 4,
   "id": "9b9d4278-0d30-4107-951c-c19637a76196",
   "metadata": {
    "ExecuteTime": {
     "end_time": "2024-11-29T20:53:39.829520Z",
     "start_time": "2024-11-29T20:53:39.825399Z"
    }
   },
   "outputs": [
    {
     "data": {
      "text/plain": [
       "<bound method NDFrame.tail of                     theme    sub_theme     topic            geography_type  \\\n",
       "0      infectious_disease  respiratory  COVID-19  Government Office Region   \n",
       "1      infectious_disease  respiratory  COVID-19  Government Office Region   \n",
       "2      infectious_disease  respiratory  COVID-19  Government Office Region   \n",
       "3      infectious_disease  respiratory  COVID-19  Government Office Region   \n",
       "4      infectious_disease  respiratory  COVID-19  Government Office Region   \n",
       "...                   ...          ...       ...                       ...   \n",
       "12991  infectious_disease  respiratory  COVID-19  Government Office Region   \n",
       "12992  infectious_disease  respiratory  COVID-19  Government Office Region   \n",
       "12993  infectious_disease  respiratory  COVID-19  Government Office Region   \n",
       "12994  infectious_disease  respiratory  COVID-19  Government Office Region   \n",
       "12995  infectious_disease  respiratory  COVID-19  Government Office Region   \n",
       "\n",
       "                      geography geography_code                    metric  \\\n",
       "0                 East Midlands      E12000004  COVID-19_deaths_ONSByDay   \n",
       "1                 East Midlands      E12000004  COVID-19_deaths_ONSByDay   \n",
       "2                 East Midlands      E12000004  COVID-19_deaths_ONSByDay   \n",
       "3                 East Midlands      E12000004  COVID-19_deaths_ONSByDay   \n",
       "4                 East Midlands      E12000004  COVID-19_deaths_ONSByDay   \n",
       "...                         ...            ...                       ...   \n",
       "12991  Yorkshire and The Humber      E12000003  COVID-19_deaths_ONSByDay   \n",
       "12992  Yorkshire and The Humber      E12000003  COVID-19_deaths_ONSByDay   \n",
       "12993  Yorkshire and The Humber      E12000003  COVID-19_deaths_ONSByDay   \n",
       "12994  Yorkshire and The Humber      E12000003  COVID-19_deaths_ONSByDay   \n",
       "12995  Yorkshire and The Humber      E12000003  COVID-19_deaths_ONSByDay   \n",
       "\n",
       "      metric_group  stratum  sex  age  year  month  epiweek        date  \\\n",
       "0           deaths  default  all  all  2020      1        5  2020-01-30   \n",
       "1           deaths  default  all  all  2020      1        5  2020-01-31   \n",
       "2           deaths  default  all  all  2020      2        5  2020-02-01   \n",
       "3           deaths  default  all  all  2020      2        5  2020-02-02   \n",
       "4           deaths  default  all  all  2020      2        6  2020-02-03   \n",
       "...            ...      ...  ...  ...   ...    ...      ...         ...   \n",
       "12991       deaths  default  all  all  2024      1        2  2024-01-08   \n",
       "12992       deaths  default  all  all  2024      1        2  2024-01-09   \n",
       "12993       deaths  default  all  all  2024      1        2  2024-01-10   \n",
       "12994       deaths  default  all  all  2024      1        2  2024-01-11   \n",
       "12995       deaths  default  all  all  2024      1        2  2024-01-12   \n",
       "\n",
       "       metric_value  in_reporting_delay_period  \n",
       "0               0.0                          0  \n",
       "1               0.0                          0  \n",
       "2               0.0                          0  \n",
       "3               0.0                          0  \n",
       "4               0.0                          0  \n",
       "...             ...                        ...  \n",
       "12991           1.0                          0  \n",
       "12992           2.0                          0  \n",
       "12993           1.0                          0  \n",
       "12994           0.0                          0  \n",
       "12995           0.0                          0  \n",
       "\n",
       "[12996 rows x 17 columns]>"
      ]
     },
     "execution_count": 4,
     "metadata": {},
     "output_type": "execute_result"
    }
   ],
   "source": [
    "covid_deaths_df.tail"
   ]
  },
  {
   "cell_type": "code",
   "execution_count": 5,
   "id": "b1b15dbb-c385-4043-bef2-911dc31e170d",
   "metadata": {
    "ExecuteTime": {
     "end_time": "2024-11-29T20:53:39.862351Z",
     "start_time": "2024-11-29T20:53:39.856595Z"
    }
   },
   "outputs": [
    {
     "data": {
      "text/html": [
       "<div>\n",
       "<style scoped>\n",
       "    .dataframe tbody tr th:only-of-type {\n",
       "        vertical-align: middle;\n",
       "    }\n",
       "\n",
       "    .dataframe tbody tr th {\n",
       "        vertical-align: top;\n",
       "    }\n",
       "\n",
       "    .dataframe thead th {\n",
       "        text-align: right;\n",
       "    }\n",
       "</style>\n",
       "<table border=\"1\" class=\"dataframe\">\n",
       "  <thead>\n",
       "    <tr style=\"text-align: right;\">\n",
       "      <th></th>\n",
       "      <th>theme</th>\n",
       "      <th>sub_theme</th>\n",
       "      <th>topic</th>\n",
       "      <th>geography_type</th>\n",
       "      <th>geography</th>\n",
       "      <th>geography_code</th>\n",
       "      <th>metric</th>\n",
       "      <th>metric_group</th>\n",
       "      <th>stratum</th>\n",
       "      <th>sex</th>\n",
       "      <th>age</th>\n",
       "      <th>year</th>\n",
       "      <th>month</th>\n",
       "      <th>epiweek</th>\n",
       "      <th>date</th>\n",
       "      <th>metric_value</th>\n",
       "      <th>in_reporting_delay_period</th>\n",
       "    </tr>\n",
       "  </thead>\n",
       "  <tbody>\n",
       "    <tr>\n",
       "      <th>5820</th>\n",
       "      <td>infectious_disease</td>\n",
       "      <td>respiratory</td>\n",
       "      <td>COVID-19</td>\n",
       "      <td>Government Office Region</td>\n",
       "      <td>North West</td>\n",
       "      <td>E12000002</td>\n",
       "      <td>COVID-19_deaths_ONSByDay</td>\n",
       "      <td>deaths</td>\n",
       "      <td>default</td>\n",
       "      <td>all</td>\n",
       "      <td>all</td>\n",
       "      <td>2020</td>\n",
       "      <td>3</td>\n",
       "      <td>11</td>\n",
       "      <td>2020-03-14</td>\n",
       "      <td>3.0</td>\n",
       "      <td>0</td>\n",
       "    </tr>\n",
       "    <tr>\n",
       "      <th>2097</th>\n",
       "      <td>infectious_disease</td>\n",
       "      <td>respiratory</td>\n",
       "      <td>COVID-19</td>\n",
       "      <td>Government Office Region</td>\n",
       "      <td>East of England</td>\n",
       "      <td>E12000006</td>\n",
       "      <td>COVID-19_deaths_ONSByDay</td>\n",
       "      <td>deaths</td>\n",
       "      <td>default</td>\n",
       "      <td>all</td>\n",
       "      <td>all</td>\n",
       "      <td>2021</td>\n",
       "      <td>11</td>\n",
       "      <td>45</td>\n",
       "      <td>2021-11-13</td>\n",
       "      <td>11.0</td>\n",
       "      <td>0</td>\n",
       "    </tr>\n",
       "    <tr>\n",
       "      <th>9698</th>\n",
       "      <td>infectious_disease</td>\n",
       "      <td>respiratory</td>\n",
       "      <td>COVID-19</td>\n",
       "      <td>Government Office Region</td>\n",
       "      <td>South West</td>\n",
       "      <td>E12000009</td>\n",
       "      <td>COVID-19_deaths_ONSByDay</td>\n",
       "      <td>deaths</td>\n",
       "      <td>default</td>\n",
       "      <td>all</td>\n",
       "      <td>all</td>\n",
       "      <td>2022</td>\n",
       "      <td>11</td>\n",
       "      <td>48</td>\n",
       "      <td>2022-11-29</td>\n",
       "      <td>3.0</td>\n",
       "      <td>0</td>\n",
       "    </tr>\n",
       "    <tr>\n",
       "      <th>5925</th>\n",
       "      <td>infectious_disease</td>\n",
       "      <td>respiratory</td>\n",
       "      <td>COVID-19</td>\n",
       "      <td>Government Office Region</td>\n",
       "      <td>North West</td>\n",
       "      <td>E12000002</td>\n",
       "      <td>COVID-19_deaths_ONSByDay</td>\n",
       "      <td>deaths</td>\n",
       "      <td>default</td>\n",
       "      <td>all</td>\n",
       "      <td>all</td>\n",
       "      <td>2020</td>\n",
       "      <td>6</td>\n",
       "      <td>26</td>\n",
       "      <td>2020-06-27</td>\n",
       "      <td>10.0</td>\n",
       "      <td>0</td>\n",
       "    </tr>\n",
       "    <tr>\n",
       "      <th>12798</th>\n",
       "      <td>infectious_disease</td>\n",
       "      <td>respiratory</td>\n",
       "      <td>COVID-19</td>\n",
       "      <td>Government Office Region</td>\n",
       "      <td>Yorkshire and The Humber</td>\n",
       "      <td>E12000003</td>\n",
       "      <td>COVID-19_deaths_ONSByDay</td>\n",
       "      <td>deaths</td>\n",
       "      <td>default</td>\n",
       "      <td>all</td>\n",
       "      <td>all</td>\n",
       "      <td>2023</td>\n",
       "      <td>6</td>\n",
       "      <td>26</td>\n",
       "      <td>2023-06-29</td>\n",
       "      <td>1.0</td>\n",
       "      <td>0</td>\n",
       "    </tr>\n",
       "  </tbody>\n",
       "</table>\n",
       "</div>"
      ],
      "text/plain": [
       "                    theme    sub_theme     topic            geography_type  \\\n",
       "5820   infectious_disease  respiratory  COVID-19  Government Office Region   \n",
       "2097   infectious_disease  respiratory  COVID-19  Government Office Region   \n",
       "9698   infectious_disease  respiratory  COVID-19  Government Office Region   \n",
       "5925   infectious_disease  respiratory  COVID-19  Government Office Region   \n",
       "12798  infectious_disease  respiratory  COVID-19  Government Office Region   \n",
       "\n",
       "                      geography geography_code                    metric  \\\n",
       "5820                 North West      E12000002  COVID-19_deaths_ONSByDay   \n",
       "2097            East of England      E12000006  COVID-19_deaths_ONSByDay   \n",
       "9698                 South West      E12000009  COVID-19_deaths_ONSByDay   \n",
       "5925                 North West      E12000002  COVID-19_deaths_ONSByDay   \n",
       "12798  Yorkshire and The Humber      E12000003  COVID-19_deaths_ONSByDay   \n",
       "\n",
       "      metric_group  stratum  sex  age  year  month  epiweek        date  \\\n",
       "5820        deaths  default  all  all  2020      3       11  2020-03-14   \n",
       "2097        deaths  default  all  all  2021     11       45  2021-11-13   \n",
       "9698        deaths  default  all  all  2022     11       48  2022-11-29   \n",
       "5925        deaths  default  all  all  2020      6       26  2020-06-27   \n",
       "12798       deaths  default  all  all  2023      6       26  2023-06-29   \n",
       "\n",
       "       metric_value  in_reporting_delay_period  \n",
       "5820            3.0                          0  \n",
       "2097           11.0                          0  \n",
       "9698            3.0                          0  \n",
       "5925           10.0                          0  \n",
       "12798           1.0                          0  "
      ]
     },
     "execution_count": 5,
     "metadata": {},
     "output_type": "execute_result"
    }
   ],
   "source": [
    "covid_deaths_df.sample(5)"
   ]
  },
  {
   "cell_type": "code",
   "execution_count": 6,
   "id": "67c385ad-cf27-4973-9624-f73d1b0c30d7",
   "metadata": {
    "ExecuteTime": {
     "end_time": "2024-11-29T20:53:39.878294Z",
     "start_time": "2024-11-29T20:53:39.873406Z"
    }
   },
   "outputs": [
    {
     "data": {
      "text/plain": [
       "(12996, 17)"
      ]
     },
     "execution_count": 6,
     "metadata": {},
     "output_type": "execute_result"
    }
   ],
   "source": [
    "covid_deaths_df.shape"
   ]
  },
  {
   "cell_type": "code",
   "execution_count": 7,
   "id": "d115f496-2b8e-435a-bc2d-fddd16249570",
   "metadata": {
    "ExecuteTime": {
     "end_time": "2024-11-29T20:53:39.929712Z",
     "start_time": "2024-11-29T20:53:39.923949Z"
    }
   },
   "outputs": [
    {
     "data": {
      "text/html": [
       "<div>\n",
       "<style scoped>\n",
       "    .dataframe tbody tr th:only-of-type {\n",
       "        vertical-align: middle;\n",
       "    }\n",
       "\n",
       "    .dataframe tbody tr th {\n",
       "        vertical-align: top;\n",
       "    }\n",
       "\n",
       "    .dataframe thead th {\n",
       "        text-align: right;\n",
       "    }\n",
       "</style>\n",
       "<table border=\"1\" class=\"dataframe\">\n",
       "  <thead>\n",
       "    <tr style=\"text-align: right;\">\n",
       "      <th></th>\n",
       "      <th>theme</th>\n",
       "      <th>sub_theme</th>\n",
       "      <th>topic</th>\n",
       "      <th>geography_type</th>\n",
       "      <th>geography</th>\n",
       "      <th>geography_code</th>\n",
       "      <th>metric</th>\n",
       "      <th>metric_group</th>\n",
       "      <th>stratum</th>\n",
       "      <th>sex</th>\n",
       "      <th>age</th>\n",
       "      <th>year</th>\n",
       "      <th>month</th>\n",
       "      <th>epiweek</th>\n",
       "      <th>date</th>\n",
       "      <th>metric_value</th>\n",
       "      <th>in_reporting_delay_period</th>\n",
       "    </tr>\n",
       "  </thead>\n",
       "  <tbody>\n",
       "    <tr>\n",
       "      <th>0</th>\n",
       "      <td>infectious_disease</td>\n",
       "      <td>respiratory</td>\n",
       "      <td>COVID-19</td>\n",
       "      <td>Government Office Region</td>\n",
       "      <td>East Midlands</td>\n",
       "      <td>E12000004</td>\n",
       "      <td>COVID-19_deaths_ONSByDay</td>\n",
       "      <td>deaths</td>\n",
       "      <td>default</td>\n",
       "      <td>all</td>\n",
       "      <td>all</td>\n",
       "      <td>2020</td>\n",
       "      <td>1</td>\n",
       "      <td>5</td>\n",
       "      <td>2020-01-30</td>\n",
       "      <td>0.0</td>\n",
       "      <td>0</td>\n",
       "    </tr>\n",
       "    <tr>\n",
       "      <th>1</th>\n",
       "      <td>infectious_disease</td>\n",
       "      <td>respiratory</td>\n",
       "      <td>COVID-19</td>\n",
       "      <td>Government Office Region</td>\n",
       "      <td>East Midlands</td>\n",
       "      <td>E12000004</td>\n",
       "      <td>COVID-19_deaths_ONSByDay</td>\n",
       "      <td>deaths</td>\n",
       "      <td>default</td>\n",
       "      <td>all</td>\n",
       "      <td>all</td>\n",
       "      <td>2020</td>\n",
       "      <td>1</td>\n",
       "      <td>5</td>\n",
       "      <td>2020-01-31</td>\n",
       "      <td>0.0</td>\n",
       "      <td>0</td>\n",
       "    </tr>\n",
       "    <tr>\n",
       "      <th>2</th>\n",
       "      <td>infectious_disease</td>\n",
       "      <td>respiratory</td>\n",
       "      <td>COVID-19</td>\n",
       "      <td>Government Office Region</td>\n",
       "      <td>East Midlands</td>\n",
       "      <td>E12000004</td>\n",
       "      <td>COVID-19_deaths_ONSByDay</td>\n",
       "      <td>deaths</td>\n",
       "      <td>default</td>\n",
       "      <td>all</td>\n",
       "      <td>all</td>\n",
       "      <td>2020</td>\n",
       "      <td>2</td>\n",
       "      <td>5</td>\n",
       "      <td>2020-02-01</td>\n",
       "      <td>0.0</td>\n",
       "      <td>0</td>\n",
       "    </tr>\n",
       "    <tr>\n",
       "      <th>3</th>\n",
       "      <td>infectious_disease</td>\n",
       "      <td>respiratory</td>\n",
       "      <td>COVID-19</td>\n",
       "      <td>Government Office Region</td>\n",
       "      <td>East Midlands</td>\n",
       "      <td>E12000004</td>\n",
       "      <td>COVID-19_deaths_ONSByDay</td>\n",
       "      <td>deaths</td>\n",
       "      <td>default</td>\n",
       "      <td>all</td>\n",
       "      <td>all</td>\n",
       "      <td>2020</td>\n",
       "      <td>2</td>\n",
       "      <td>5</td>\n",
       "      <td>2020-02-02</td>\n",
       "      <td>0.0</td>\n",
       "      <td>0</td>\n",
       "    </tr>\n",
       "    <tr>\n",
       "      <th>4</th>\n",
       "      <td>infectious_disease</td>\n",
       "      <td>respiratory</td>\n",
       "      <td>COVID-19</td>\n",
       "      <td>Government Office Region</td>\n",
       "      <td>East Midlands</td>\n",
       "      <td>E12000004</td>\n",
       "      <td>COVID-19_deaths_ONSByDay</td>\n",
       "      <td>deaths</td>\n",
       "      <td>default</td>\n",
       "      <td>all</td>\n",
       "      <td>all</td>\n",
       "      <td>2020</td>\n",
       "      <td>2</td>\n",
       "      <td>6</td>\n",
       "      <td>2020-02-03</td>\n",
       "      <td>0.0</td>\n",
       "      <td>0</td>\n",
       "    </tr>\n",
       "    <tr>\n",
       "      <th>...</th>\n",
       "      <td>...</td>\n",
       "      <td>...</td>\n",
       "      <td>...</td>\n",
       "      <td>...</td>\n",
       "      <td>...</td>\n",
       "      <td>...</td>\n",
       "      <td>...</td>\n",
       "      <td>...</td>\n",
       "      <td>...</td>\n",
       "      <td>...</td>\n",
       "      <td>...</td>\n",
       "      <td>...</td>\n",
       "      <td>...</td>\n",
       "      <td>...</td>\n",
       "      <td>...</td>\n",
       "      <td>...</td>\n",
       "      <td>...</td>\n",
       "    </tr>\n",
       "    <tr>\n",
       "      <th>12991</th>\n",
       "      <td>infectious_disease</td>\n",
       "      <td>respiratory</td>\n",
       "      <td>COVID-19</td>\n",
       "      <td>Government Office Region</td>\n",
       "      <td>Yorkshire and The Humber</td>\n",
       "      <td>E12000003</td>\n",
       "      <td>COVID-19_deaths_ONSByDay</td>\n",
       "      <td>deaths</td>\n",
       "      <td>default</td>\n",
       "      <td>all</td>\n",
       "      <td>all</td>\n",
       "      <td>2024</td>\n",
       "      <td>1</td>\n",
       "      <td>2</td>\n",
       "      <td>2024-01-08</td>\n",
       "      <td>1.0</td>\n",
       "      <td>0</td>\n",
       "    </tr>\n",
       "    <tr>\n",
       "      <th>12992</th>\n",
       "      <td>infectious_disease</td>\n",
       "      <td>respiratory</td>\n",
       "      <td>COVID-19</td>\n",
       "      <td>Government Office Region</td>\n",
       "      <td>Yorkshire and The Humber</td>\n",
       "      <td>E12000003</td>\n",
       "      <td>COVID-19_deaths_ONSByDay</td>\n",
       "      <td>deaths</td>\n",
       "      <td>default</td>\n",
       "      <td>all</td>\n",
       "      <td>all</td>\n",
       "      <td>2024</td>\n",
       "      <td>1</td>\n",
       "      <td>2</td>\n",
       "      <td>2024-01-09</td>\n",
       "      <td>2.0</td>\n",
       "      <td>0</td>\n",
       "    </tr>\n",
       "    <tr>\n",
       "      <th>12993</th>\n",
       "      <td>infectious_disease</td>\n",
       "      <td>respiratory</td>\n",
       "      <td>COVID-19</td>\n",
       "      <td>Government Office Region</td>\n",
       "      <td>Yorkshire and The Humber</td>\n",
       "      <td>E12000003</td>\n",
       "      <td>COVID-19_deaths_ONSByDay</td>\n",
       "      <td>deaths</td>\n",
       "      <td>default</td>\n",
       "      <td>all</td>\n",
       "      <td>all</td>\n",
       "      <td>2024</td>\n",
       "      <td>1</td>\n",
       "      <td>2</td>\n",
       "      <td>2024-01-10</td>\n",
       "      <td>1.0</td>\n",
       "      <td>0</td>\n",
       "    </tr>\n",
       "    <tr>\n",
       "      <th>12994</th>\n",
       "      <td>infectious_disease</td>\n",
       "      <td>respiratory</td>\n",
       "      <td>COVID-19</td>\n",
       "      <td>Government Office Region</td>\n",
       "      <td>Yorkshire and The Humber</td>\n",
       "      <td>E12000003</td>\n",
       "      <td>COVID-19_deaths_ONSByDay</td>\n",
       "      <td>deaths</td>\n",
       "      <td>default</td>\n",
       "      <td>all</td>\n",
       "      <td>all</td>\n",
       "      <td>2024</td>\n",
       "      <td>1</td>\n",
       "      <td>2</td>\n",
       "      <td>2024-01-11</td>\n",
       "      <td>0.0</td>\n",
       "      <td>0</td>\n",
       "    </tr>\n",
       "    <tr>\n",
       "      <th>12995</th>\n",
       "      <td>infectious_disease</td>\n",
       "      <td>respiratory</td>\n",
       "      <td>COVID-19</td>\n",
       "      <td>Government Office Region</td>\n",
       "      <td>Yorkshire and The Humber</td>\n",
       "      <td>E12000003</td>\n",
       "      <td>COVID-19_deaths_ONSByDay</td>\n",
       "      <td>deaths</td>\n",
       "      <td>default</td>\n",
       "      <td>all</td>\n",
       "      <td>all</td>\n",
       "      <td>2024</td>\n",
       "      <td>1</td>\n",
       "      <td>2</td>\n",
       "      <td>2024-01-12</td>\n",
       "      <td>0.0</td>\n",
       "      <td>0</td>\n",
       "    </tr>\n",
       "  </tbody>\n",
       "</table>\n",
       "<p>12996 rows × 17 columns</p>\n",
       "</div>"
      ],
      "text/plain": [
       "                    theme    sub_theme     topic            geography_type  \\\n",
       "0      infectious_disease  respiratory  COVID-19  Government Office Region   \n",
       "1      infectious_disease  respiratory  COVID-19  Government Office Region   \n",
       "2      infectious_disease  respiratory  COVID-19  Government Office Region   \n",
       "3      infectious_disease  respiratory  COVID-19  Government Office Region   \n",
       "4      infectious_disease  respiratory  COVID-19  Government Office Region   \n",
       "...                   ...          ...       ...                       ...   \n",
       "12991  infectious_disease  respiratory  COVID-19  Government Office Region   \n",
       "12992  infectious_disease  respiratory  COVID-19  Government Office Region   \n",
       "12993  infectious_disease  respiratory  COVID-19  Government Office Region   \n",
       "12994  infectious_disease  respiratory  COVID-19  Government Office Region   \n",
       "12995  infectious_disease  respiratory  COVID-19  Government Office Region   \n",
       "\n",
       "                      geography geography_code                    metric  \\\n",
       "0                 East Midlands      E12000004  COVID-19_deaths_ONSByDay   \n",
       "1                 East Midlands      E12000004  COVID-19_deaths_ONSByDay   \n",
       "2                 East Midlands      E12000004  COVID-19_deaths_ONSByDay   \n",
       "3                 East Midlands      E12000004  COVID-19_deaths_ONSByDay   \n",
       "4                 East Midlands      E12000004  COVID-19_deaths_ONSByDay   \n",
       "...                         ...            ...                       ...   \n",
       "12991  Yorkshire and The Humber      E12000003  COVID-19_deaths_ONSByDay   \n",
       "12992  Yorkshire and The Humber      E12000003  COVID-19_deaths_ONSByDay   \n",
       "12993  Yorkshire and The Humber      E12000003  COVID-19_deaths_ONSByDay   \n",
       "12994  Yorkshire and The Humber      E12000003  COVID-19_deaths_ONSByDay   \n",
       "12995  Yorkshire and The Humber      E12000003  COVID-19_deaths_ONSByDay   \n",
       "\n",
       "      metric_group  stratum  sex  age  year  month  epiweek        date  \\\n",
       "0           deaths  default  all  all  2020      1        5  2020-01-30   \n",
       "1           deaths  default  all  all  2020      1        5  2020-01-31   \n",
       "2           deaths  default  all  all  2020      2        5  2020-02-01   \n",
       "3           deaths  default  all  all  2020      2        5  2020-02-02   \n",
       "4           deaths  default  all  all  2020      2        6  2020-02-03   \n",
       "...            ...      ...  ...  ...   ...    ...      ...         ...   \n",
       "12991       deaths  default  all  all  2024      1        2  2024-01-08   \n",
       "12992       deaths  default  all  all  2024      1        2  2024-01-09   \n",
       "12993       deaths  default  all  all  2024      1        2  2024-01-10   \n",
       "12994       deaths  default  all  all  2024      1        2  2024-01-11   \n",
       "12995       deaths  default  all  all  2024      1        2  2024-01-12   \n",
       "\n",
       "       metric_value  in_reporting_delay_period  \n",
       "0               0.0                          0  \n",
       "1               0.0                          0  \n",
       "2               0.0                          0  \n",
       "3               0.0                          0  \n",
       "4               0.0                          0  \n",
       "...             ...                        ...  \n",
       "12991           1.0                          0  \n",
       "12992           2.0                          0  \n",
       "12993           1.0                          0  \n",
       "12994           0.0                          0  \n",
       "12995           0.0                          0  \n",
       "\n",
       "[12996 rows x 17 columns]"
      ]
     },
     "execution_count": 7,
     "metadata": {},
     "output_type": "execute_result"
    }
   ],
   "source": [
    "covid_deaths_df"
   ]
  },
  {
   "cell_type": "markdown",
   "id": "cce99b83-0d14-4323-a7cf-61f678a30332",
   "metadata": {},
   "source": [
    "### Using the pandas .info() method to see the columns, total entries and associated datatypes\n",
    "\n",
    "As you can see there are 12996 entries in the dataframe."
   ]
  },
  {
   "cell_type": "code",
   "execution_count": 8,
   "id": "80cf2b5d-f822-40d3-a4ff-db66dcd51c6c",
   "metadata": {
    "ExecuteTime": {
     "end_time": "2024-11-29T20:53:40.162522Z",
     "start_time": "2024-11-29T20:53:40.155616Z"
    }
   },
   "outputs": [
    {
     "name": "stdout",
     "output_type": "stream",
     "text": [
      "<class 'pandas.core.frame.DataFrame'>\n",
      "RangeIndex: 12996 entries, 0 to 12995\n",
      "Data columns (total 17 columns):\n",
      " #   Column                     Non-Null Count  Dtype  \n",
      "---  ------                     --------------  -----  \n",
      " 0   theme                      12996 non-null  object \n",
      " 1   sub_theme                  12996 non-null  object \n",
      " 2   topic                      12996 non-null  object \n",
      " 3   geography_type             12996 non-null  object \n",
      " 4   geography                  12996 non-null  object \n",
      " 5   geography_code             12996 non-null  object \n",
      " 6   metric                     12996 non-null  object \n",
      " 7   metric_group               12996 non-null  object \n",
      " 8   stratum                    12996 non-null  object \n",
      " 9   sex                        12996 non-null  object \n",
      " 10  age                        12996 non-null  object \n",
      " 11  year                       12996 non-null  int64  \n",
      " 12  month                      12996 non-null  int64  \n",
      " 13  epiweek                    12996 non-null  int64  \n",
      " 14  date                       12996 non-null  object \n",
      " 15  metric_value               12996 non-null  float64\n",
      " 16  in_reporting_delay_period  12996 non-null  int64  \n",
      "dtypes: float64(1), int64(4), object(12)\n",
      "memory usage: 1.7+ MB\n"
     ]
    }
   ],
   "source": [
    "covid_deaths_df.info()"
   ]
  },
  {
   "cell_type": "markdown",
   "id": "a3bd95c1-10fe-43bc-bed0-4aea9a7c60b1",
   "metadata": {},
   "source": [
    "### Using describe to see the statistics for numerical columns"
   ]
  },
  {
   "cell_type": "code",
   "execution_count": 9,
   "id": "61d27a16-c6ef-4b59-a765-36e7f2b253f8",
   "metadata": {
    "ExecuteTime": {
     "end_time": "2024-11-29T20:53:40.225347Z",
     "start_time": "2024-11-29T20:53:40.220951Z"
    }
   },
   "outputs": [
    {
     "data": {
      "text/plain": [
       "count    12996.000000\n",
       "mean        15.309403\n",
       "std         28.393523\n",
       "min          0.000000\n",
       "25%          3.000000\n",
       "50%          7.000000\n",
       "75%         14.000000\n",
       "max        327.000000\n",
       "Name: metric_value, dtype: float64"
      ]
     },
     "execution_count": 9,
     "metadata": {},
     "output_type": "execute_result"
    }
   ],
   "source": [
    "covid_deaths_df['metric_value'].describe()"
   ]
  },
  {
   "cell_type": "markdown",
   "id": "d64a54f2-8729-4744-9934-649d57f297c9",
   "metadata": {},
   "source": [
    "## 4.Handling Missing Data\n",
    "\n",
    "Using the isnull function, you can see that the data has no null values therefore there is no need to handle the null data."
   ]
  },
  {
   "cell_type": "code",
   "execution_count": 10,
   "id": "14f97701-ae6c-4426-87e5-64341ce039b0",
   "metadata": {
    "ExecuteTime": {
     "end_time": "2024-11-29T20:53:40.455558Z",
     "start_time": "2024-11-29T20:53:40.449214Z"
    }
   },
   "outputs": [
    {
     "data": {
      "text/plain": [
       "theme                        0\n",
       "sub_theme                    0\n",
       "topic                        0\n",
       "geography_type               0\n",
       "geography                    0\n",
       "geography_code               0\n",
       "metric                       0\n",
       "metric_group                 0\n",
       "stratum                      0\n",
       "sex                          0\n",
       "age                          0\n",
       "year                         0\n",
       "month                        0\n",
       "epiweek                      0\n",
       "date                         0\n",
       "metric_value                 0\n",
       "in_reporting_delay_period    0\n",
       "dtype: int64"
      ]
     },
     "execution_count": 10,
     "metadata": {},
     "output_type": "execute_result"
    }
   ],
   "source": [
    "covid_deaths_df.isnull().sum()"
   ]
  },
  {
   "cell_type": "markdown",
   "id": "4b46d8a3-f434-4541-9565-28f0026ad71c",
   "metadata": {},
   "source": [
    "This is seen visually below when I plot a missing data heatmap!"
   ]
  },
  {
   "cell_type": "code",
   "execution_count": 11,
   "id": "dda0dcfc-df10-4984-8484-d7ead9e4ef74",
   "metadata": {
    "ExecuteTime": {
     "end_time": "2024-11-29T20:53:40.967011Z",
     "start_time": "2024-11-29T20:53:40.681554Z"
    }
   },
   "outputs": [
    {
     "data": {
      "text/plain": [
       "Text(0.5, 1.0, 'Missing Data Heatmap')"
      ]
     },
     "execution_count": 11,
     "metadata": {},
     "output_type": "execute_result"
    },
    {
     "data": {
      "image/png": "[encoded data removed]",
      "text/plain": [
       "<Figure size 640x480 with 1 Axes>"
      ]
     },
     "metadata": {},
     "output_type": "display_data"
    }
   ],
   "source": [
    "plt.figure()\n",
    "sns.heatmap(covid_deaths_df.isnull(), cbar=False, cmap='plasma', annot=False)\n",
    "\n",
    "plt.title('Missing Data Heatmap', fontsize=15)"
   ]
  },
  {
   "cell_type": "markdown",
   "id": "c832b1b9-d090-495b-b255-beeef5d31c3f",
   "metadata": {},
   "source": [
    "## 5. Normalizing data types"
   ]
  },
  {
   "cell_type": "markdown",
   "id": "94accf6a-5f2c-4a6e-8773-0f6eaf943616",
   "metadata": {},
   "source": [
    "As I want to plot a time series of cumulative mortality I need to ensure the datatypes of the metric_value and the date colum, ensuring the correct datatype will be essential for visualization. To do this I inspect the data type of the first element in each column."
   ]
  },
  {
   "cell_type": "code",
   "execution_count": 12,
   "id": "cdcf651b-19ac-46cb-b448-7de1d5188832",
   "metadata": {
    "ExecuteTime": {
     "end_time": "2024-11-29T20:53:41.295707Z",
     "start_time": "2024-11-29T20:53:41.290817Z"
    }
   },
   "outputs": [
    {
     "data": {
      "text/plain": [
       "str"
      ]
     },
     "execution_count": 12,
     "metadata": {},
     "output_type": "execute_result"
    }
   ],
   "source": [
    "type(covid_deaths_df['date'].iloc[0])"
   ]
  },
  {
   "cell_type": "code",
   "execution_count": 13,
   "id": "d49513bc-60d2-4129-8109-87ed237a129e",
   "metadata": {
    "ExecuteTime": {
     "end_time": "2024-11-29T20:53:41.400377Z",
     "start_time": "2024-11-29T20:53:41.397186Z"
    }
   },
   "outputs": [
    {
     "data": {
      "text/plain": [
       "numpy.float64"
      ]
     },
     "execution_count": 13,
     "metadata": {},
     "output_type": "execute_result"
    }
   ],
   "source": [
    "type(covid_deaths_df['metric_value'].iloc[0])"
   ]
  },
  {
   "cell_type": "markdown",
   "id": "d89342c7-24c1-4178-8894-c2f5f9635f80",
   "metadata": {},
   "source": [
    "As you can see, the metric_value is a number - it would be more appropriate to have this as an int however it is not essential. The date needs to be converted from a string to a datetime object."
   ]
  },
  {
   "cell_type": "code",
   "execution_count": 14,
   "id": "2f59c434-6ec4-428e-b466-07e9c03a251a",
   "metadata": {
    "ExecuteTime": {
     "end_time": "2024-11-29T20:53:41.426126Z",
     "start_time": "2024-11-29T20:53:41.422336Z"
    }
   },
   "outputs": [],
   "source": [
    "covid_deaths_df['date'] = pd.to_datetime(covid_deaths_df['date'], format='%Y-%m-%d', errors='coerce')"
   ]
  },
  {
   "cell_type": "code",
   "execution_count": 15,
   "id": "b24b1768-a546-462d-b71b-9041e1f4a998",
   "metadata": {
    "ExecuteTime": {
     "end_time": "2024-11-29T20:53:41.462841Z",
     "start_time": "2024-11-29T20:53:41.455931Z"
    }
   },
   "outputs": [
    {
     "name": "stdout",
     "output_type": "stream",
     "text": [
      "<class 'pandas.core.frame.DataFrame'>\n",
      "RangeIndex: 12996 entries, 0 to 12995\n",
      "Data columns (total 17 columns):\n",
      " #   Column                     Non-Null Count  Dtype         \n",
      "---  ------                     --------------  -----         \n",
      " 0   theme                      12996 non-null  object        \n",
      " 1   sub_theme                  12996 non-null  object        \n",
      " 2   topic                      12996 non-null  object        \n",
      " 3   geography_type             12996 non-null  object        \n",
      " 4   geography                  12996 non-null  object        \n",
      " 5   geography_code             12996 non-null  object        \n",
      " 6   metric                     12996 non-null  object        \n",
      " 7   metric_group               12996 non-null  object        \n",
      " 8   stratum                    12996 non-null  object        \n",
      " 9   sex                        12996 non-null  object        \n",
      " 10  age                        12996 non-null  object        \n",
      " 11  year                       12996 non-null  int64         \n",
      " 12  month                      12996 non-null  int64         \n",
      " 13  epiweek                    12996 non-null  int64         \n",
      " 14  date                       12996 non-null  datetime64[ns]\n",
      " 15  metric_value               12996 non-null  float64       \n",
      " 16  in_reporting_delay_period  12996 non-null  int64         \n",
      "dtypes: datetime64[ns](1), float64(1), int64(4), object(11)\n",
      "memory usage: 1.7+ MB\n"
     ]
    }
   ],
   "source": [
    "covid_deaths_df.info()"
   ]
  },
  {
   "cell_type": "markdown",
   "id": "59fc7a13-860a-4a32-8393-411f55b4b8b2",
   "metadata": {},
   "source": [
    "As you can see the date is now a datetime, perfect for time series analysis!"
   ]
  },
  {
   "cell_type": "markdown",
   "id": "d5a4d9f0-7019-4837-8101-213fe74669c4",
   "metadata": {},
   "source": [
    "## 6. Remove Duplicates"
   ]
  },
  {
   "cell_type": "code",
   "execution_count": 16,
   "id": "2de7a58b-0c99-420e-9ce9-9db718a11f85",
   "metadata": {
    "ExecuteTime": {
     "end_time": "2024-11-29T20:53:41.492903Z",
     "start_time": "2024-11-29T20:53:41.484488Z"
    }
   },
   "outputs": [],
   "source": [
    "covid_deaths_df.drop_duplicates(inplace=True)"
   ]
  },
  {
   "cell_type": "markdown",
   "id": "9f992cc4-aba7-431b-9f42-03421b1b026e",
   "metadata": {},
   "source": [
    "## 7. Handling Unnecessary Data"
   ]
  },
  {
   "cell_type": "code",
   "execution_count": 17,
   "id": "92c19892-6f8c-4cce-aa23-71d765f51b37",
   "metadata": {
    "ExecuteTime": {
     "end_time": "2024-11-29T20:53:41.508985Z",
     "start_time": "2024-11-29T20:53:41.500179Z"
    }
   },
   "outputs": [
    {
     "name": "stdout",
     "output_type": "stream",
     "text": [
      "Columns with high percentage of duplicates:\n",
      "theme: 1.0\n",
      "sub_theme: 1.0\n",
      "topic: 1.0\n",
      "geography_type: 1.0\n",
      "metric: 1.0\n",
      "metric_group: 1.0\n",
      "stratum: 1.0\n",
      "sex: 1.0\n",
      "age: 1.0\n",
      "in_reporting_delay_period: 1.0\n"
     ]
    }
   ],
   "source": [
    "threshold = 0.95\n",
    "\n",
    "high_percentage_columns = []\n",
    "percentages = []\n",
    "\n",
    "for col in covid_deaths_df.columns:\n",
    "    most_frequent_value_percentage = covid_deaths_df[col].value_counts(normalize=True).max()\n",
    "    \n",
    "    if most_frequent_value_percentage > threshold:\n",
    "        high_percentage_columns.append(col)\n",
    "        percentages.append(most_frequent_value_percentage)\n",
    "\n",
    "print(\"Columns with high percentage of duplicates:\")\n",
    "for i, column in enumerate(high_percentage_columns):\n",
    "    print(f\"{column}: {percentages[i]}\" )"
   ]
  },
  {
   "cell_type": "markdown",
   "id": "88b9a5dc-9815-42cd-90ed-92c0047790e6",
   "metadata": {},
   "source": [
    "### As predicted above the majority of columns contain only duplicates. "
   ]
  },
  {
   "cell_type": "markdown",
   "id": "30fb8409-3697-4dca-bec2-bcea6d649dcf",
   "metadata": {},
   "source": [
    "#### I would like to drop them all, but first I will just confirm that the sex and age column are not necessary"
   ]
  },
  {
   "cell_type": "code",
   "execution_count": 18,
   "id": "146c88e4-76a6-4452-bbcf-818a5310af0c",
   "metadata": {
    "ExecuteTime": {
     "end_time": "2024-11-29T20:53:41.534138Z",
     "start_time": "2024-11-29T20:53:41.531505Z"
    }
   },
   "outputs": [
    {
     "data": {
      "text/plain": [
       "0        all\n",
       "1        all\n",
       "2        all\n",
       "3        all\n",
       "4        all\n",
       "        ... \n",
       "12991    all\n",
       "12992    all\n",
       "12993    all\n",
       "12994    all\n",
       "12995    all\n",
       "Name: sex, Length: 12996, dtype: object"
      ]
     },
     "execution_count": 18,
     "metadata": {},
     "output_type": "execute_result"
    }
   ],
   "source": [
    "covid_deaths_df['sex']"
   ]
  },
  {
   "cell_type": "code",
   "execution_count": 19,
   "id": "8e5c2b2e-e0c0-4929-9512-cf9df8522551",
   "metadata": {
    "ExecuteTime": {
     "end_time": "2024-11-29T20:53:41.560156Z",
     "start_time": "2024-11-29T20:53:41.556871Z"
    }
   },
   "outputs": [
    {
     "data": {
      "text/plain": [
       "0        all\n",
       "1        all\n",
       "2        all\n",
       "3        all\n",
       "4        all\n",
       "        ... \n",
       "12991    all\n",
       "12992    all\n",
       "12993    all\n",
       "12994    all\n",
       "12995    all\n",
       "Name: age, Length: 12996, dtype: object"
      ]
     },
     "execution_count": 19,
     "metadata": {},
     "output_type": "execute_result"
    }
   ],
   "source": [
    "covid_deaths_df['age']"
   ]
  },
  {
   "cell_type": "code",
   "execution_count": 20,
   "id": "452efb1e-f706-478a-97eb-4cbdc2ad92e7",
   "metadata": {
    "ExecuteTime": {
     "end_time": "2024-11-29T20:53:41.586402Z",
     "start_time": "2024-11-29T20:53:41.584390Z"
    }
   },
   "outputs": [
    {
     "data": {
      "text/plain": [
       "['theme',\n",
       " 'sub_theme',\n",
       " 'topic',\n",
       " 'geography_type',\n",
       " 'metric',\n",
       " 'metric_group',\n",
       " 'stratum',\n",
       " 'sex',\n",
       " 'age',\n",
       " 'in_reporting_delay_period']"
      ]
     },
     "execution_count": 20,
     "metadata": {},
     "output_type": "execute_result"
    }
   ],
   "source": [
    "high_percentage_columns"
   ]
  },
  {
   "cell_type": "markdown",
   "id": "5643367c-76c7-4bf9-ad7a-bce8a8f81be5",
   "metadata": {},
   "source": [
    "### I therefore will drop the columns with duplicate data."
   ]
  },
  {
   "cell_type": "code",
   "execution_count": 21,
   "id": "8f881ae7-b192-4186-8c78-1a52c0ff618f",
   "metadata": {
    "ExecuteTime": {
     "end_time": "2024-11-29T20:53:41.807514Z",
     "start_time": "2024-11-29T20:53:41.803649Z"
    }
   },
   "outputs": [],
   "source": [
    "covid_deaths_df.drop(columns=high_percentage_columns, inplace=True)"
   ]
  },
  {
   "cell_type": "markdown",
   "id": "7e547dd4-dd79-4222-a319-a1d9adeb8e25",
   "metadata": {},
   "source": [
    "### Reviewing the changes"
   ]
  },
  {
   "cell_type": "code",
   "execution_count": 22,
   "id": "cc569a99-0d7b-4fd5-b962-e24678aa5fd0",
   "metadata": {
    "ExecuteTime": {
     "end_time": "2024-11-29T20:53:41.830865Z",
     "start_time": "2024-11-29T20:53:41.825886Z"
    }
   },
   "outputs": [
    {
     "data": {
      "text/html": [
       "<div>\n",
       "<style scoped>\n",
       "    .dataframe tbody tr th:only-of-type {\n",
       "        vertical-align: middle;\n",
       "    }\n",
       "\n",
       "    .dataframe tbody tr th {\n",
       "        vertical-align: top;\n",
       "    }\n",
       "\n",
       "    .dataframe thead th {\n",
       "        text-align: right;\n",
       "    }\n",
       "</style>\n",
       "<table border=\"1\" class=\"dataframe\">\n",
       "  <thead>\n",
       "    <tr style=\"text-align: right;\">\n",
       "      <th></th>\n",
       "      <th>geography</th>\n",
       "      <th>geography_code</th>\n",
       "      <th>year</th>\n",
       "      <th>month</th>\n",
       "      <th>epiweek</th>\n",
       "      <th>date</th>\n",
       "      <th>metric_value</th>\n",
       "    </tr>\n",
       "  </thead>\n",
       "  <tbody>\n",
       "    <tr>\n",
       "      <th>0</th>\n",
       "      <td>East Midlands</td>\n",
       "      <td>E12000004</td>\n",
       "      <td>2020</td>\n",
       "      <td>1</td>\n",
       "      <td>5</td>\n",
       "      <td>2020-01-30</td>\n",
       "      <td>0.0</td>\n",
       "    </tr>\n",
       "    <tr>\n",
       "      <th>1</th>\n",
       "      <td>East Midlands</td>\n",
       "      <td>E12000004</td>\n",
       "      <td>2020</td>\n",
       "      <td>1</td>\n",
       "      <td>5</td>\n",
       "      <td>2020-01-31</td>\n",
       "      <td>0.0</td>\n",
       "    </tr>\n",
       "    <tr>\n",
       "      <th>2</th>\n",
       "      <td>East Midlands</td>\n",
       "      <td>E12000004</td>\n",
       "      <td>2020</td>\n",
       "      <td>2</td>\n",
       "      <td>5</td>\n",
       "      <td>2020-02-01</td>\n",
       "      <td>0.0</td>\n",
       "    </tr>\n",
       "    <tr>\n",
       "      <th>3</th>\n",
       "      <td>East Midlands</td>\n",
       "      <td>E12000004</td>\n",
       "      <td>2020</td>\n",
       "      <td>2</td>\n",
       "      <td>5</td>\n",
       "      <td>2020-02-02</td>\n",
       "      <td>0.0</td>\n",
       "    </tr>\n",
       "    <tr>\n",
       "      <th>4</th>\n",
       "      <td>East Midlands</td>\n",
       "      <td>E12000004</td>\n",
       "      <td>2020</td>\n",
       "      <td>2</td>\n",
       "      <td>6</td>\n",
       "      <td>2020-02-03</td>\n",
       "      <td>0.0</td>\n",
       "    </tr>\n",
       "    <tr>\n",
       "      <th>...</th>\n",
       "      <td>...</td>\n",
       "      <td>...</td>\n",
       "      <td>...</td>\n",
       "      <td>...</td>\n",
       "      <td>...</td>\n",
       "      <td>...</td>\n",
       "      <td>...</td>\n",
       "    </tr>\n",
       "    <tr>\n",
       "      <th>12991</th>\n",
       "      <td>Yorkshire and The Humber</td>\n",
       "      <td>E12000003</td>\n",
       "      <td>2024</td>\n",
       "      <td>1</td>\n",
       "      <td>2</td>\n",
       "      <td>2024-01-08</td>\n",
       "      <td>1.0</td>\n",
       "    </tr>\n",
       "    <tr>\n",
       "      <th>12992</th>\n",
       "      <td>Yorkshire and The Humber</td>\n",
       "      <td>E12000003</td>\n",
       "      <td>2024</td>\n",
       "      <td>1</td>\n",
       "      <td>2</td>\n",
       "      <td>2024-01-09</td>\n",
       "      <td>2.0</td>\n",
       "    </tr>\n",
       "    <tr>\n",
       "      <th>12993</th>\n",
       "      <td>Yorkshire and The Humber</td>\n",
       "      <td>E12000003</td>\n",
       "      <td>2024</td>\n",
       "      <td>1</td>\n",
       "      <td>2</td>\n",
       "      <td>2024-01-10</td>\n",
       "      <td>1.0</td>\n",
       "    </tr>\n",
       "    <tr>\n",
       "      <th>12994</th>\n",
       "      <td>Yorkshire and The Humber</td>\n",
       "      <td>E12000003</td>\n",
       "      <td>2024</td>\n",
       "      <td>1</td>\n",
       "      <td>2</td>\n",
       "      <td>2024-01-11</td>\n",
       "      <td>0.0</td>\n",
       "    </tr>\n",
       "    <tr>\n",
       "      <th>12995</th>\n",
       "      <td>Yorkshire and The Humber</td>\n",
       "      <td>E12000003</td>\n",
       "      <td>2024</td>\n",
       "      <td>1</td>\n",
       "      <td>2</td>\n",
       "      <td>2024-01-12</td>\n",
       "      <td>0.0</td>\n",
       "    </tr>\n",
       "  </tbody>\n",
       "</table>\n",
       "<p>12996 rows × 7 columns</p>\n",
       "</div>"
      ],
      "text/plain": [
       "                      geography geography_code  year  month  epiweek  \\\n",
       "0                 East Midlands      E12000004  2020      1        5   \n",
       "1                 East Midlands      E12000004  2020      1        5   \n",
       "2                 East Midlands      E12000004  2020      2        5   \n",
       "3                 East Midlands      E12000004  2020      2        5   \n",
       "4                 East Midlands      E12000004  2020      2        6   \n",
       "...                         ...            ...   ...    ...      ...   \n",
       "12991  Yorkshire and The Humber      E12000003  2024      1        2   \n",
       "12992  Yorkshire and The Humber      E12000003  2024      1        2   \n",
       "12993  Yorkshire and The Humber      E12000003  2024      1        2   \n",
       "12994  Yorkshire and The Humber      E12000003  2024      1        2   \n",
       "12995  Yorkshire and The Humber      E12000003  2024      1        2   \n",
       "\n",
       "            date  metric_value  \n",
       "0     2020-01-30           0.0  \n",
       "1     2020-01-31           0.0  \n",
       "2     2020-02-01           0.0  \n",
       "3     2020-02-02           0.0  \n",
       "4     2020-02-03           0.0  \n",
       "...          ...           ...  \n",
       "12991 2024-01-08           1.0  \n",
       "12992 2024-01-09           2.0  \n",
       "12993 2024-01-10           1.0  \n",
       "12994 2024-01-11           0.0  \n",
       "12995 2024-01-12           0.0  \n",
       "\n",
       "[12996 rows x 7 columns]"
      ]
     },
     "execution_count": 22,
     "metadata": {},
     "output_type": "execute_result"
    }
   ],
   "source": [
    "covid_deaths_df"
   ]
  },
  {
   "cell_type": "markdown",
   "id": "11150565-7f97-4dd7-8166-dc4f2a52c236",
   "metadata": {},
   "source": [
    "### Saving the cleaned data for number of deaths per day by region"
   ]
  },
  {
   "cell_type": "code",
   "execution_count": 23,
   "id": "5ed5bb36-4b59-431f-987b-0148445c1d89",
   "metadata": {
    "ExecuteTime": {
     "end_time": "2024-11-29T20:53:42.081656Z",
     "start_time": "2024-11-29T20:53:42.060525Z"
    }
   },
   "outputs": [],
   "source": [
    "covid_deaths_df.to_csv(f\"2_cleaned_files/ukhsa_mortality_data/uk_regional_covid_mortality_cleaned.csv\", index=False)"
   ]
  },
  {
   "cell_type": "markdown",
   "id": "d212adc2-e0cb-40b7-b926-bf6a0f6698dc",
   "metadata": {},
   "source": [
    "## 8. Pivoting the data table and calculating cumulative"
   ]
  },
  {
   "cell_type": "markdown",
   "id": "dc8b3424-8dc0-4404-b8b1-075f82195ac0",
   "metadata": {},
   "source": [
    "### I use the .pivot() method to pivot the table to show the deaths in each region for each date - this will aid with data analysis"
   ]
  },
  {
   "cell_type": "code",
   "execution_count": 24,
   "id": "7249930b-b5b3-443e-922f-4112b1de5f9e",
   "metadata": {
    "ExecuteTime": {
     "end_time": "2024-11-29T20:53:42.308118Z",
     "start_time": "2024-11-29T20:53:42.301347Z"
    }
   },
   "outputs": [],
   "source": [
    "pivoted_df = covid_deaths_df.pivot(index='date', columns='geography', values='metric_value')"
   ]
  },
  {
   "cell_type": "code",
   "execution_count": 25,
   "id": "79b10a905091efdd",
   "metadata": {
    "ExecuteTime": {
     "end_time": "2024-11-29T20:55:43.321499Z",
     "start_time": "2024-11-29T20:55:43.295864Z"
    }
   },
   "outputs": [
    {
     "data": {
      "text/html": [
       "<div>\n",
       "<style scoped>\n",
       "    .dataframe tbody tr th:only-of-type {\n",
       "        vertical-align: middle;\n",
       "    }\n",
       "\n",
       "    .dataframe tbody tr th {\n",
       "        vertical-align: top;\n",
       "    }\n",
       "\n",
       "    .dataframe thead th {\n",
       "        text-align: right;\n",
       "    }\n",
       "</style>\n",
       "<table border=\"1\" class=\"dataframe\">\n",
       "  <thead>\n",
       "    <tr style=\"text-align: right;\">\n",
       "      <th>geography</th>\n",
       "      <th>East Midlands</th>\n",
       "      <th>East of England</th>\n",
       "      <th>London</th>\n",
       "      <th>North East</th>\n",
       "      <th>North West</th>\n",
       "      <th>South East</th>\n",
       "      <th>South West</th>\n",
       "      <th>West Midlands</th>\n",
       "      <th>Yorkshire and The Humber</th>\n",
       "    </tr>\n",
       "    <tr>\n",
       "      <th>date</th>\n",
       "      <th></th>\n",
       "      <th></th>\n",
       "      <th></th>\n",
       "      <th></th>\n",
       "      <th></th>\n",
       "      <th></th>\n",
       "      <th></th>\n",
       "      <th></th>\n",
       "      <th></th>\n",
       "    </tr>\n",
       "  </thead>\n",
       "  <tbody>\n",
       "    <tr>\n",
       "      <th>2020-01-30</th>\n",
       "      <td>0.0</td>\n",
       "      <td>0.0</td>\n",
       "      <td>0.0</td>\n",
       "      <td>0.0</td>\n",
       "      <td>0.0</td>\n",
       "      <td>1.0</td>\n",
       "      <td>0.0</td>\n",
       "      <td>0.0</td>\n",
       "      <td>0.0</td>\n",
       "    </tr>\n",
       "    <tr>\n",
       "      <th>2020-01-31</th>\n",
       "      <td>0.0</td>\n",
       "      <td>0.0</td>\n",
       "      <td>0.0</td>\n",
       "      <td>0.0</td>\n",
       "      <td>0.0</td>\n",
       "      <td>0.0</td>\n",
       "      <td>0.0</td>\n",
       "      <td>0.0</td>\n",
       "      <td>0.0</td>\n",
       "    </tr>\n",
       "    <tr>\n",
       "      <th>2020-02-01</th>\n",
       "      <td>0.0</td>\n",
       "      <td>0.0</td>\n",
       "      <td>0.0</td>\n",
       "      <td>0.0</td>\n",
       "      <td>0.0</td>\n",
       "      <td>0.0</td>\n",
       "      <td>0.0</td>\n",
       "      <td>0.0</td>\n",
       "      <td>0.0</td>\n",
       "    </tr>\n",
       "    <tr>\n",
       "      <th>2020-02-02</th>\n",
       "      <td>0.0</td>\n",
       "      <td>1.0</td>\n",
       "      <td>0.0</td>\n",
       "      <td>0.0</td>\n",
       "      <td>0.0</td>\n",
       "      <td>0.0</td>\n",
       "      <td>0.0</td>\n",
       "      <td>0.0</td>\n",
       "      <td>0.0</td>\n",
       "    </tr>\n",
       "    <tr>\n",
       "      <th>2020-02-03</th>\n",
       "      <td>0.0</td>\n",
       "      <td>0.0</td>\n",
       "      <td>0.0</td>\n",
       "      <td>0.0</td>\n",
       "      <td>0.0</td>\n",
       "      <td>0.0</td>\n",
       "      <td>0.0</td>\n",
       "      <td>0.0</td>\n",
       "      <td>0.0</td>\n",
       "    </tr>\n",
       "    <tr>\n",
       "      <th>...</th>\n",
       "      <td>...</td>\n",
       "      <td>...</td>\n",
       "      <td>...</td>\n",
       "      <td>...</td>\n",
       "      <td>...</td>\n",
       "      <td>...</td>\n",
       "      <td>...</td>\n",
       "      <td>...</td>\n",
       "      <td>...</td>\n",
       "    </tr>\n",
       "    <tr>\n",
       "      <th>2024-01-08</th>\n",
       "      <td>3.0</td>\n",
       "      <td>0.0</td>\n",
       "      <td>3.0</td>\n",
       "      <td>1.0</td>\n",
       "      <td>6.0</td>\n",
       "      <td>2.0</td>\n",
       "      <td>3.0</td>\n",
       "      <td>2.0</td>\n",
       "      <td>1.0</td>\n",
       "    </tr>\n",
       "    <tr>\n",
       "      <th>2024-01-09</th>\n",
       "      <td>0.0</td>\n",
       "      <td>3.0</td>\n",
       "      <td>5.0</td>\n",
       "      <td>1.0</td>\n",
       "      <td>2.0</td>\n",
       "      <td>0.0</td>\n",
       "      <td>2.0</td>\n",
       "      <td>2.0</td>\n",
       "      <td>2.0</td>\n",
       "    </tr>\n",
       "    <tr>\n",
       "      <th>2024-01-10</th>\n",
       "      <td>0.0</td>\n",
       "      <td>0.0</td>\n",
       "      <td>1.0</td>\n",
       "      <td>0.0</td>\n",
       "      <td>1.0</td>\n",
       "      <td>0.0</td>\n",
       "      <td>0.0</td>\n",
       "      <td>3.0</td>\n",
       "      <td>1.0</td>\n",
       "    </tr>\n",
       "    <tr>\n",
       "      <th>2024-01-11</th>\n",
       "      <td>0.0</td>\n",
       "      <td>0.0</td>\n",
       "      <td>1.0</td>\n",
       "      <td>0.0</td>\n",
       "      <td>0.0</td>\n",
       "      <td>1.0</td>\n",
       "      <td>0.0</td>\n",
       "      <td>0.0</td>\n",
       "      <td>0.0</td>\n",
       "    </tr>\n",
       "    <tr>\n",
       "      <th>2024-01-12</th>\n",
       "      <td>0.0</td>\n",
       "      <td>0.0</td>\n",
       "      <td>0.0</td>\n",
       "      <td>0.0</td>\n",
       "      <td>0.0</td>\n",
       "      <td>0.0</td>\n",
       "      <td>0.0</td>\n",
       "      <td>0.0</td>\n",
       "      <td>0.0</td>\n",
       "    </tr>\n",
       "  </tbody>\n",
       "</table>\n",
       "<p>1444 rows × 9 columns</p>\n",
       "</div>"
      ],
      "text/plain": [
       "geography   East Midlands  East of England  London  North East  North West  \\\n",
       "date                                                                         \n",
       "2020-01-30            0.0              0.0     0.0         0.0         0.0   \n",
       "2020-01-31            0.0              0.0     0.0         0.0         0.0   \n",
       "2020-02-01            0.0              0.0     0.0         0.0         0.0   \n",
       "2020-02-02            0.0              1.0     0.0         0.0         0.0   \n",
       "2020-02-03            0.0              0.0     0.0         0.0         0.0   \n",
       "...                   ...              ...     ...         ...         ...   \n",
       "2024-01-08            3.0              0.0     3.0         1.0         6.0   \n",
       "2024-01-09            0.0              3.0     5.0         1.0         2.0   \n",
       "2024-01-10            0.0              0.0     1.0         0.0         1.0   \n",
       "2024-01-11            0.0              0.0     1.0         0.0         0.0   \n",
       "2024-01-12            0.0              0.0     0.0         0.0         0.0   \n",
       "\n",
       "geography   South East  South West  West Midlands  Yorkshire and The Humber  \n",
       "date                                                                         \n",
       "2020-01-30         1.0         0.0            0.0                       0.0  \n",
       "2020-01-31         0.0         0.0            0.0                       0.0  \n",
       "2020-02-01         0.0         0.0            0.0                       0.0  \n",
       "2020-02-02         0.0         0.0            0.0                       0.0  \n",
       "2020-02-03         0.0         0.0            0.0                       0.0  \n",
       "...                ...         ...            ...                       ...  \n",
       "2024-01-08         2.0         3.0            2.0                       1.0  \n",
       "2024-01-09         0.0         2.0            2.0                       2.0  \n",
       "2024-01-10         0.0         0.0            3.0                       1.0  \n",
       "2024-01-11         1.0         0.0            0.0                       0.0  \n",
       "2024-01-12         0.0         0.0            0.0                       0.0  \n",
       "\n",
       "[1444 rows x 9 columns]"
      ]
     },
     "execution_count": 25,
     "metadata": {},
     "output_type": "execute_result"
    }
   ],
   "source": [
    "pivoted_df"
   ]
  },
  {
   "cell_type": "code",
   "execution_count": 26,
   "id": "9b28c01f-c660-4066-aaf3-f4a953208ff5",
   "metadata": {
    "ExecuteTime": {
     "end_time": "2024-11-29T20:53:42.337972Z",
     "start_time": "2024-11-29T20:53:42.331956Z"
    }
   },
   "outputs": [],
   "source": [
    "pivoted_df.to_csv(f\"2_cleaned_files/ukhsa_mortality_data/uk_regional_covid_mortality_pivoted_cleaned.csv\", index=True)"
   ]
  },
  {
   "cell_type": "markdown",
   "id": "702c23d3-9ddb-4e93-84a6-4f3f7d724bdc",
   "metadata": {},
   "source": [
    "### I use the .cumsum() method to pivot the table to show the cumulative mortality for each date"
   ]
  },
  {
   "cell_type": "code",
   "execution_count": 27,
   "id": "8e9d51d2-ea11-4134-a43c-18f4699ff9bf",
   "metadata": {
    "ExecuteTime": {
     "end_time": "2024-11-29T20:53:42.354318Z",
     "start_time": "2024-11-29T20:53:42.352209Z"
    }
   },
   "outputs": [],
   "source": [
    "cumulative_df = pivoted_df.cumsum()"
   ]
  },
  {
   "cell_type": "code",
   "execution_count": 28,
   "id": "38bc9bca-b377-459c-a6a0-b32b2e807850",
   "metadata": {
    "ExecuteTime": {
     "end_time": "2024-11-29T20:53:42.404018Z",
     "start_time": "2024-11-29T20:53:42.382443Z"
    }
   },
   "outputs": [],
   "source": [
    "cumulative_df.to_csv(f\"2_cleaned_files/ukhsa_mortality_data/uk_regional_cumulative_mortality_cleaned.csv\", index=True)"
   ]
  }
 ],
 "metadata": {
  "kernelspec": {
   "display_name": "Python 3 (ipykernel)",
   "language": "python",
   "name": "python3"
  },
  "language_info": {
   "codemirror_mode": {
    "name": "ipython",
    "version": 3
   },
   "file_extension": ".py",
   "mimetype": "text/x-python",
   "name": "python",
   "nbconvert_exporter": "python",
   "pygments_lexer": "ipython3",
   "version": "3.12.6"
  }
 },
 "nbformat": 4,
 "nbformat_minor": 5
}
