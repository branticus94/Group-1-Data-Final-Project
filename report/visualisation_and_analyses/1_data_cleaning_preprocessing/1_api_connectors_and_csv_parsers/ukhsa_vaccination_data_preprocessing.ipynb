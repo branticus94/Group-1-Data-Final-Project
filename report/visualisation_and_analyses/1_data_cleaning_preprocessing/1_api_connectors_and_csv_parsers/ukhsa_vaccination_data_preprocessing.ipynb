{
 "cells": [
  {
   "cell_type": "markdown",
   "id": "cef184e11b738a09",
   "metadata": {},
   "source": [
    "# UKHSA Vaccination Data (https://ukhsa-dashboard.data.gov.uk/covid-19-archive-data-download)\n",
    "## Data Extraction and Creation of Data Structure for Final Cleaning\n",
    "\n",
    "### Imports"
   ]
  },
  {
   "cell_type": "code",
   "execution_count": 1,
   "id": "initial_id",
   "metadata": {
    "ExecuteTime": {
     "end_time": "2024-11-26T15:36:18.691445Z",
     "start_time": "2024-11-26T15:36:18.688488Z"
    }
   },
   "outputs": [],
   "source": [
    "import pandas as pd\n",
    "from pathlib import Path\n",
    "import re\n",
    "import os\n",
    "from IPython.display import display, HTML "
   ]
  },
  {
   "cell_type": "markdown",
   "id": "1f031006c7e1492e",
   "metadata": {},
   "source": [
    "### Function to stratify all available files/metrics\n",
    "\n",
    "#### From looking at the directory there are 519 files spanning 3 years!\n",
    "\n",
    "##### I need to come up with a way of grouping by the metric and then combining the dataset across the available years so that we can further analyse the data I manually merged all of the data from the zip online (https://ukhsa-dashboard.data.gov.uk/covid-19-archive-data-download) and restructured it for easier sorting/searching/combining"
   ]
  },
  {
   "cell_type": "code",
   "execution_count": 2,
   "id": "d88b9bdaf196a4d4",
   "metadata": {
    "ExecuteTime": {
     "end_time": "2024-11-26T15:36:20.837662Z",
     "start_time": "2024-11-26T15:36:20.835091Z"
    }
   },
   "outputs": [],
   "source": [
    "def split_by_case(word):\n",
    "    return re.findall(r'[A-Z][a-z]*', word)"
   ]
  },
  {
   "cell_type": "code",
   "execution_count": 3,
   "id": "28eb28b6f8d5df58",
   "metadata": {
    "ExecuteTime": {
     "end_time": "2024-11-26T15:37:38.216535Z",
     "start_time": "2024-11-26T15:37:38.190134Z"
    }
   },
   "outputs": [],
   "source": [
    "path_for_vaccine_datasets = '1_raw_databases/ukhsa_vaccine_data/spreadsheets'\n",
    "\n",
    "directory_path = Path(path_for_vaccine_datasets)\n",
    "\n",
    "if os.path.isdir(directory_path):\n",
    "        if os.listdir(directory_path):\n",
    "\n",
    "            file_list = [f.name for f in directory_path.iterdir() if f.is_file()]\n",
    "            \n",
    "            file_paths = [f'{path_for_vaccine_datasets}/{file}' for file in file_list if file[-4:] == '.csv']\n",
    "            \n",
    "            available_data = [] \n",
    "            \n",
    "            for i, file in enumerate(file_list):\n",
    "                if file[:-9] not in available_data:\n",
    "                    available_data.append(file[:-9])\n",
    "                    \n",
    "            metrics = []       \n",
    "            \n",
    "            for data in available_data:\n",
    "                if data not in metrics:\n",
    "                    ending = data.split('_')[1]\n",
    "                    age = \"\" \n",
    "                    if \"75plus\" in data or \"65plus\" in data:\n",
    "                        index = data.find(\"plus\") - 2\n",
    "                        age = data[index:index+2] + \" \" + data[index+2:index+6] + \" \"\n",
    "                    data = data[0].upper() + data[1:]\n",
    "                    words = split_by_case(data)\n",
    "                    if words[0] == 'Cum':\n",
    "                        words[0] = 'Cumulative'\n",
    "                    metric = ' '.join(map(str, words)) + \" \" + age + ending.capitalize()\n",
    "                    metrics.append(metric)\n",
    "            \n",
    "            metrics_dictionary = dict(zip(metrics, available_data))\n",
    "            \n",
    "            metrics_dictionary = dict(sorted(metrics_dictionary.items()))\n",
    "        else:\n",
    "                google_drive_url = 'https://drive.google.com/file/d/1ata9dPfKjFPwAGGjA95-4aSEpvLctRfH/view?usp=sharing'\n",
    "                display(HTML(f'<a href=\"{google_drive_url}\" target=\"_blank\">Click here to download the vaccination data from Google Drive</a>'))\n",
    "                print(\"Click the above link to download the data from Google Drive and save in the directory: report/visualisation_and_analyses/1_data_cleaning_preprocessing/1_api_connectors_and_csv_parsers/1_raw_databases/ukhsa_cases_data\")"
   ]
  },
  {
   "cell_type": "markdown",
   "id": "6846b45d6576ee1f",
   "metadata": {},
   "source": [
    "### List of all metrics available"
   ]
  },
  {
   "cell_type": "code",
   "execution_count": 4,
   "id": "a026dcd0ef399cf",
   "metadata": {
    "ExecuteTime": {
     "end_time": "2024-11-26T15:37:40.028534Z",
     "start_time": "2024-11-26T15:37:40.026053Z"
    }
   },
   "outputs": [
    {
     "name": "stdout",
     "output_type": "stream",
     "text": [
      "1: Cumulative People Vaccinated Autumn By Vaccination Date 65 plus Ltla. \n",
      "2: Cumulative People Vaccinated Autumn By Vaccination Date 65 plus Nation. \n",
      "3: Cumulative People Vaccinated Autumn By Vaccination Date 65 plus Region. \n",
      "4: Cumulative People Vaccinated Autumn By Vaccination Date 65 plus Utla. \n",
      "5: Cumulative People Vaccinated Booster Dose By Publish Date Nation. \n",
      "6: Cumulative People Vaccinated Complete By Publish Date Ltla. \n",
      "7: Cumulative People Vaccinated Complete By Publish Date Nation. \n",
      "8: Cumulative People Vaccinated Complete By Publish Date Overview. \n",
      "9: Cumulative People Vaccinated Complete By Publish Date Region. \n",
      "10: Cumulative People Vaccinated Complete By Publish Date Utla. \n",
      "11: Cumulative People Vaccinated Complete By Vaccination Date Ltla. \n",
      "12: Cumulative People Vaccinated Complete By Vaccination Date Nation. \n",
      "13: Cumulative People Vaccinated Complete By Vaccination Date Region. \n",
      "14: Cumulative People Vaccinated Complete By Vaccination Date Utla. \n",
      "15: Cumulative People Vaccinated First Dose By Publish Date Ltla. \n",
      "16: Cumulative People Vaccinated First Dose By Publish Date Nation. \n",
      "17: Cumulative People Vaccinated First Dose By Publish Date Overview. \n",
      "18: Cumulative People Vaccinated First Dose By Publish Date Region. \n",
      "19: Cumulative People Vaccinated First Dose By Publish Date Utla. \n",
      "20: Cumulative People Vaccinated First Dose By Vaccination Date Ltla. \n",
      "21: Cumulative People Vaccinated First Dose By Vaccination Date Nation. \n",
      "22: Cumulative People Vaccinated First Dose By Vaccination Date Overview. \n",
      "23: Cumulative People Vaccinated First Dose By Vaccination Date Region. \n",
      "24: Cumulative People Vaccinated First Dose By Vaccination Date Utla. \n",
      "25: Cumulative People Vaccinated Second Dose By Publish Date Ltla. \n",
      "26: Cumulative People Vaccinated Second Dose By Publish Date Nation. \n",
      "27: Cumulative People Vaccinated Second Dose By Publish Date Overview. \n",
      "28: Cumulative People Vaccinated Second Dose By Publish Date Region. \n",
      "29: Cumulative People Vaccinated Second Dose By Publish Date Utla. \n",
      "30: Cumulative People Vaccinated Second Dose By Vaccination Date Ltla. \n",
      "31: Cumulative People Vaccinated Second Dose By Vaccination Date Nation. \n",
      "32: Cumulative People Vaccinated Second Dose By Vaccination Date Overview. \n",
      "33: Cumulative People Vaccinated Second Dose By Vaccination Date Region. \n",
      "34: Cumulative People Vaccinated Second Dose By Vaccination Date Utla. \n",
      "35: Cumulative People Vaccinated Spring By Vaccination Date 75 plus Ltla. \n",
      "36: Cumulative People Vaccinated Spring By Vaccination Date 75 plus Nation. \n",
      "37: Cumulative People Vaccinated Spring By Vaccination Date 75 plus Region. \n",
      "38: Cumulative People Vaccinated Spring By Vaccination Date 75 plus Utla. \n",
      "39: Cumulative People Vaccinated Third Dose By Publish Date Nation. \n",
      "40: Cumulative People Vaccinated Third Injection By Publish Date Ltla. \n",
      "41: Cumulative People Vaccinated Third Injection By Publish Date Nation. \n",
      "42: Cumulative People Vaccinated Third Injection By Publish Date Overview. \n",
      "43: Cumulative People Vaccinated Third Injection By Publish Date Region. \n",
      "44: Cumulative People Vaccinated Third Injection By Publish Date Utla. \n",
      "45: Cumulative People Vaccinated Third Injection By Vaccination Date Ltla. \n",
      "46: Cumulative People Vaccinated Third Injection By Vaccination Date Nation. \n",
      "47: Cumulative People Vaccinated Third Injection By Vaccination Date Region. \n",
      "48: Cumulative People Vaccinated Third Injection By Vaccination Date Utla. \n",
      "49: Cumulative Vaccination Autumn Uptake By Vaccination Date Percentage 65 plus Ltla. \n",
      "50: Cumulative Vaccination Autumn Uptake By Vaccination Date Percentage 65 plus Nation. \n",
      "51: Cumulative Vaccination Autumn Uptake By Vaccination Date Percentage 65 plus Region. \n",
      "52: Cumulative Vaccination Autumn Uptake By Vaccination Date Percentage 65 plus Utla. \n",
      "53: Cumulative Vaccination Booster Dose Uptake By Publish Date Percentage Nation. \n",
      "54: Cumulative Vaccination Complete Coverage By Publish Date Percentage Nation. \n",
      "55: Cumulative Vaccination Complete Coverage By Publish Date Percentage Overview. \n",
      "56: Cumulative Vaccination Complete Coverage By Vaccination Date Percentage Ltla. \n",
      "57: Cumulative Vaccination Complete Coverage By Vaccination Date Percentage Nation. \n",
      "58: Cumulative Vaccination Complete Coverage By Vaccination Date Percentage Region. \n",
      "59: Cumulative Vaccination Complete Coverage By Vaccination Date Percentage Utla. \n",
      "60: Cumulative Vaccination First Dose Uptake By Publish Date Percentage Ltla. \n",
      "61: Cumulative Vaccination First Dose Uptake By Publish Date Percentage Nation. \n",
      "62: Cumulative Vaccination First Dose Uptake By Publish Date Percentage Overview. \n",
      "63: Cumulative Vaccination First Dose Uptake By Publish Date Percentage Utla. \n",
      "64: Cumulative Vaccination First Dose Uptake By Vaccination Date Percentage Ltla. \n",
      "65: Cumulative Vaccination First Dose Uptake By Vaccination Date Percentage Nation. \n",
      "66: Cumulative Vaccination First Dose Uptake By Vaccination Date Percentage Region. \n",
      "67: Cumulative Vaccination First Dose Uptake By Vaccination Date Percentage Utla. \n",
      "68: Cumulative Vaccination Second Dose Uptake By Publish Date Percentage Ltla. \n",
      "69: Cumulative Vaccination Second Dose Uptake By Publish Date Percentage Nation. \n",
      "70: Cumulative Vaccination Second Dose Uptake By Publish Date Percentage Overview. \n",
      "71: Cumulative Vaccination Second Dose Uptake By Publish Date Percentage Utla. \n",
      "72: Cumulative Vaccination Second Dose Uptake By Vaccination Date Percentage Ltla. \n",
      "73: Cumulative Vaccination Second Dose Uptake By Vaccination Date Percentage Nation. \n",
      "74: Cumulative Vaccination Second Dose Uptake By Vaccination Date Percentage Region. \n",
      "75: Cumulative Vaccination Second Dose Uptake By Vaccination Date Percentage Utla. \n",
      "76: Cumulative Vaccination Spring Uptake By Vaccination Date Percentage 75 plus Ltla. \n",
      "77: Cumulative Vaccination Spring Uptake By Vaccination Date Percentage 75 plus Nation. \n",
      "78: Cumulative Vaccination Spring Uptake By Vaccination Date Percentage 75 plus Region. \n",
      "79: Cumulative Vaccination Spring Uptake By Vaccination Date Percentage 75 plus Utla. \n",
      "80: Cumulative Vaccination Third Injection Uptake By Publish Date Percentage Ltla. \n",
      "81: Cumulative Vaccination Third Injection Uptake By Publish Date Percentage Nation. \n",
      "82: Cumulative Vaccination Third Injection Uptake By Publish Date Percentage Overview. \n",
      "83: Cumulative Vaccination Third Injection Uptake By Publish Date Percentage Utla. \n",
      "84: Cumulative Vaccination Third Injection Uptake By Vaccination Date Percentage Ltla. \n",
      "85: Cumulative Vaccination Third Injection Uptake By Vaccination Date Percentage Nation. \n",
      "86: Cumulative Vaccination Third Injection Uptake By Vaccination Date Percentage Region. \n",
      "87: Cumulative Vaccination Third Injection Uptake By Vaccination Date Percentage Utla. \n",
      "88: Cumulative Vaccines Given By Publish Date Ltla. \n",
      "89: Cumulative Vaccines Given By Publish Date Nation. \n",
      "90: Cumulative Vaccines Given By Publish Date Overview. \n",
      "91: Cumulative Vaccines Given By Publish Date Region. \n",
      "92: Cumulative Vaccines Given By Publish Date Utla. \n",
      "93: New People Vaccinated Autumn By Vaccination Date 65 plus Ltla. \n",
      "94: New People Vaccinated Autumn By Vaccination Date 65 plus Nation. \n",
      "95: New People Vaccinated Autumn By Vaccination Date 65 plus Region. \n",
      "96: New People Vaccinated Autumn By Vaccination Date 65 plus Utla. \n",
      "97: New People Vaccinated Booster Dose By Publish Date Nation. \n",
      "98: New People Vaccinated Complete By Publish Date Ltla. \n",
      "99: New People Vaccinated Complete By Publish Date Nation. \n",
      "100: New People Vaccinated Complete By Publish Date Overview. \n",
      "101: New People Vaccinated Complete By Publish Date Region. \n",
      "102: New People Vaccinated Complete By Publish Date Utla. \n",
      "103: New People Vaccinated Complete By Vaccination Date Ltla. \n",
      "104: New People Vaccinated Complete By Vaccination Date Nation. \n",
      "105: New People Vaccinated Complete By Vaccination Date Region. \n",
      "106: New People Vaccinated Complete By Vaccination Date Utla. \n",
      "107: New People Vaccinated First Dose By Publish Date Change Ltla. \n",
      "108: New People Vaccinated First Dose By Publish Date Change Nation. \n",
      "109: New People Vaccinated First Dose By Publish Date Change Overview. \n",
      "110: New People Vaccinated First Dose By Publish Date Change Percentage Ltla. \n",
      "111: New People Vaccinated First Dose By Publish Date Change Percentage Nation. \n",
      "112: New People Vaccinated First Dose By Publish Date Change Percentage Overview. \n",
      "113: New People Vaccinated First Dose By Publish Date Change Percentage Region. \n",
      "114: New People Vaccinated First Dose By Publish Date Change Percentage Utla. \n",
      "115: New People Vaccinated First Dose By Publish Date Change Region. \n",
      "116: New People Vaccinated First Dose By Publish Date Change Utla. \n",
      "117: New People Vaccinated First Dose By Publish Date Direction Ltla. \n",
      "118: New People Vaccinated First Dose By Publish Date Direction Nation. \n",
      "119: New People Vaccinated First Dose By Publish Date Direction Overview. \n",
      "120: New People Vaccinated First Dose By Publish Date Direction Region. \n",
      "121: New People Vaccinated First Dose By Publish Date Direction Utla. \n",
      "122: New People Vaccinated First Dose By Publish Date Ltla. \n",
      "123: New People Vaccinated First Dose By Publish Date Nation. \n",
      "124: New People Vaccinated First Dose By Publish Date Overview. \n",
      "125: New People Vaccinated First Dose By Publish Date Region. \n",
      "126: New People Vaccinated First Dose By Publish Date Rolling Sum Ltla. \n",
      "127: New People Vaccinated First Dose By Publish Date Rolling Sum Nation. \n",
      "128: New People Vaccinated First Dose By Publish Date Rolling Sum Overview. \n",
      "129: New People Vaccinated First Dose By Publish Date Rolling Sum Region. \n",
      "130: New People Vaccinated First Dose By Publish Date Rolling Sum Utla. \n",
      "131: New People Vaccinated First Dose By Publish Date Utla. \n",
      "132: New People Vaccinated First Dose By Vaccination Date Ltla. \n",
      "133: New People Vaccinated First Dose By Vaccination Date Nation. \n",
      "134: New People Vaccinated First Dose By Vaccination Date Overview. \n",
      "135: New People Vaccinated First Dose By Vaccination Date Region. \n",
      "136: New People Vaccinated First Dose By Vaccination Date Utla. \n",
      "137: New People Vaccinated Second Dose By Publish Date Change Ltla. \n",
      "138: New People Vaccinated Second Dose By Publish Date Change Nation. \n",
      "139: New People Vaccinated Second Dose By Publish Date Change Overview. \n",
      "140: New People Vaccinated Second Dose By Publish Date Change Percentage Ltla. \n",
      "141: New People Vaccinated Second Dose By Publish Date Change Percentage Nation. \n",
      "142: New People Vaccinated Second Dose By Publish Date Change Percentage Overview. \n",
      "143: New People Vaccinated Second Dose By Publish Date Change Percentage Region. \n",
      "144: New People Vaccinated Second Dose By Publish Date Change Percentage Utla. \n",
      "145: New People Vaccinated Second Dose By Publish Date Change Region. \n",
      "146: New People Vaccinated Second Dose By Publish Date Change Utla. \n",
      "147: New People Vaccinated Second Dose By Publish Date Direction Ltla. \n",
      "148: New People Vaccinated Second Dose By Publish Date Direction Nation. \n",
      "149: New People Vaccinated Second Dose By Publish Date Direction Overview. \n",
      "150: New People Vaccinated Second Dose By Publish Date Direction Region. \n",
      "151: New People Vaccinated Second Dose By Publish Date Direction Utla. \n",
      "152: New People Vaccinated Second Dose By Publish Date Ltla. \n",
      "153: New People Vaccinated Second Dose By Publish Date Nation. \n",
      "154: New People Vaccinated Second Dose By Publish Date Overview. \n",
      "155: New People Vaccinated Second Dose By Publish Date Region. \n",
      "156: New People Vaccinated Second Dose By Publish Date Rolling Sum Ltla. \n",
      "157: New People Vaccinated Second Dose By Publish Date Rolling Sum Nation. \n",
      "158: New People Vaccinated Second Dose By Publish Date Rolling Sum Overview. \n",
      "159: New People Vaccinated Second Dose By Publish Date Rolling Sum Region. \n",
      "160: New People Vaccinated Second Dose By Publish Date Rolling Sum Utla. \n",
      "161: New People Vaccinated Second Dose By Publish Date Utla. \n",
      "162: New People Vaccinated Second Dose By Vaccination Date Ltla. \n",
      "163: New People Vaccinated Second Dose By Vaccination Date Nation. \n",
      "164: New People Vaccinated Second Dose By Vaccination Date Overview. \n",
      "165: New People Vaccinated Second Dose By Vaccination Date Region. \n",
      "166: New People Vaccinated Second Dose By Vaccination Date Utla. \n",
      "167: New People Vaccinated Spring By Vaccination Date 75 plus Ltla. \n",
      "168: New People Vaccinated Spring By Vaccination Date 75 plus Nation. \n",
      "169: New People Vaccinated Spring By Vaccination Date 75 plus Region. \n",
      "170: New People Vaccinated Spring By Vaccination Date 75 plus Utla. \n",
      "171: New People Vaccinated Third Dose By Publish Date Nation. \n",
      "172: New People Vaccinated Third Injection By Publish Date Change Ltla. \n",
      "173: New People Vaccinated Third Injection By Publish Date Change Nation. \n",
      "174: New People Vaccinated Third Injection By Publish Date Change Overview. \n",
      "175: New People Vaccinated Third Injection By Publish Date Change Percentage Ltla. \n",
      "176: New People Vaccinated Third Injection By Publish Date Change Percentage Nation. \n",
      "177: New People Vaccinated Third Injection By Publish Date Change Percentage Overview. \n",
      "178: New People Vaccinated Third Injection By Publish Date Change Percentage Region. \n",
      "179: New People Vaccinated Third Injection By Publish Date Change Percentage Utla. \n",
      "180: New People Vaccinated Third Injection By Publish Date Change Region. \n",
      "181: New People Vaccinated Third Injection By Publish Date Change Utla. \n",
      "182: New People Vaccinated Third Injection By Publish Date Direction Ltla. \n",
      "183: New People Vaccinated Third Injection By Publish Date Direction Nation. \n",
      "184: New People Vaccinated Third Injection By Publish Date Direction Overview. \n",
      "185: New People Vaccinated Third Injection By Publish Date Direction Region. \n",
      "186: New People Vaccinated Third Injection By Publish Date Direction Utla. \n",
      "187: New People Vaccinated Third Injection By Publish Date Ltla. \n",
      "188: New People Vaccinated Third Injection By Publish Date Nation. \n",
      "189: New People Vaccinated Third Injection By Publish Date Overview. \n",
      "190: New People Vaccinated Third Injection By Publish Date Region. \n",
      "191: New People Vaccinated Third Injection By Publish Date Rolling Sum Ltla. \n",
      "192: New People Vaccinated Third Injection By Publish Date Rolling Sum Nation. \n",
      "193: New People Vaccinated Third Injection By Publish Date Rolling Sum Overview. \n",
      "194: New People Vaccinated Third Injection By Publish Date Rolling Sum Region. \n",
      "195: New People Vaccinated Third Injection By Publish Date Rolling Sum Utla. \n",
      "196: New People Vaccinated Third Injection By Publish Date Utla. \n",
      "197: New People Vaccinated Third Injection By Vaccination Date Ltla. \n",
      "198: New People Vaccinated Third Injection By Vaccination Date Nation. \n",
      "199: New People Vaccinated Third Injection By Vaccination Date Region. \n",
      "200: New People Vaccinated Third Injection By Vaccination Date Utla. \n",
      "201: New Vaccines Given By Publish Date Ltla. \n",
      "202: New Vaccines Given By Publish Date Nation. \n",
      "203: New Vaccines Given By Publish Date Overview. \n",
      "204: New Vaccines Given By Publish Date Region. \n",
      "205: New Vaccines Given By Publish Date Utla. \n",
      "206: Vaccinations Age Demographics Ltla. \n",
      "207: Vaccinations Age Demographics Nation. \n",
      "208: Vaccinations Age Demographics Region. \n",
      "209: Vaccinations Age Demographics Utla. \n",
      "210: Vaccine Register Population By Vaccination Date Ltla. \n",
      "211: Vaccine Register Population By Vaccination Date Nation. \n",
      "212: Vaccine Register Population By Vaccination Date Region. \n",
      "213: Vaccine Register Population By Vaccination Date Utla. \n",
      "214: Weekly People Vaccinated First Dose By Vaccination Date Nation. \n",
      "215: Weekly People Vaccinated First Dose By Vaccination Date Overview. \n",
      "216: Weekly People Vaccinated Second Dose By Vaccination Date Nation. \n",
      "217: Weekly People Vaccinated Second Dose By Vaccination Date Overview. \n"
     ]
    }
   ],
   "source": [
    "for i, key in enumerate(metrics_dictionary.keys()):\n",
    "    print(f\"{i+1}: {key}. \")"
   ]
  },
  {
   "cell_type": "markdown",
   "id": "5754b92ebc305263",
   "metadata": {},
   "source": [
    "### List of the regional metrics available"
   ]
  },
  {
   "cell_type": "code",
   "execution_count": 5,
   "id": "fbeced3b3668fb3d",
   "metadata": {
    "ExecuteTime": {
     "end_time": "2024-11-24T12:55:54.466979Z",
     "start_time": "2024-11-24T12:55:54.463370Z"
    }
   },
   "outputs": [
    {
     "name": "stdout",
     "output_type": "stream",
     "text": [
      "3: Cumulative People Vaccinated Autumn By Vaccination Date 65 plus Region. \n",
      "9: Cumulative People Vaccinated Complete By Publish Date Region. \n",
      "13: Cumulative People Vaccinated Complete By Vaccination Date Region. \n",
      "18: Cumulative People Vaccinated First Dose By Publish Date Region. \n",
      "23: Cumulative People Vaccinated First Dose By Vaccination Date Region. \n",
      "28: Cumulative People Vaccinated Second Dose By Publish Date Region. \n",
      "33: Cumulative People Vaccinated Second Dose By Vaccination Date Region. \n",
      "37: Cumulative People Vaccinated Spring By Vaccination Date 75 plus Region. \n",
      "43: Cumulative People Vaccinated Third Injection By Publish Date Region. \n",
      "47: Cumulative People Vaccinated Third Injection By Vaccination Date Region. \n",
      "51: Cumulative Vaccination Autumn Uptake By Vaccination Date Percentage 65 plus Region. \n",
      "58: Cumulative Vaccination Complete Coverage By Vaccination Date Percentage Region. \n",
      "66: Cumulative Vaccination First Dose Uptake By Vaccination Date Percentage Region. \n",
      "74: Cumulative Vaccination Second Dose Uptake By Vaccination Date Percentage Region. \n",
      "78: Cumulative Vaccination Spring Uptake By Vaccination Date Percentage 75 plus Region. \n",
      "86: Cumulative Vaccination Third Injection Uptake By Vaccination Date Percentage Region. \n",
      "91: Cumulative Vaccines Given By Publish Date Region. \n",
      "95: New People Vaccinated Autumn By Vaccination Date 65 plus Region. \n",
      "101: New People Vaccinated Complete By Publish Date Region. \n",
      "105: New People Vaccinated Complete By Vaccination Date Region. \n",
      "113: New People Vaccinated First Dose By Publish Date Change Percentage Region. \n",
      "115: New People Vaccinated First Dose By Publish Date Change Region. \n",
      "120: New People Vaccinated First Dose By Publish Date Direction Region. \n",
      "125: New People Vaccinated First Dose By Publish Date Region. \n",
      "129: New People Vaccinated First Dose By Publish Date Rolling Sum Region. \n",
      "135: New People Vaccinated First Dose By Vaccination Date Region. \n",
      "143: New People Vaccinated Second Dose By Publish Date Change Percentage Region. \n",
      "145: New People Vaccinated Second Dose By Publish Date Change Region. \n",
      "150: New People Vaccinated Second Dose By Publish Date Direction Region. \n",
      "155: New People Vaccinated Second Dose By Publish Date Region. \n",
      "159: New People Vaccinated Second Dose By Publish Date Rolling Sum Region. \n",
      "165: New People Vaccinated Second Dose By Vaccination Date Region. \n",
      "169: New People Vaccinated Spring By Vaccination Date 75 plus Region. \n",
      "178: New People Vaccinated Third Injection By Publish Date Change Percentage Region. \n",
      "180: New People Vaccinated Third Injection By Publish Date Change Region. \n",
      "185: New People Vaccinated Third Injection By Publish Date Direction Region. \n",
      "190: New People Vaccinated Third Injection By Publish Date Region. \n",
      "194: New People Vaccinated Third Injection By Publish Date Rolling Sum Region. \n",
      "199: New People Vaccinated Third Injection By Vaccination Date Region. \n",
      "204: New Vaccines Given By Publish Date Region. \n",
      "208: Vaccinations Age Demographics Region. \n",
      "212: Vaccine Register Population By Vaccination Date Region. \n"
     ]
    }
   ],
   "source": [
    "for i, key in enumerate(metrics_dictionary.keys()):\n",
    "    if \"Region\" in key:\n",
    "        print(f\"{i+1}: {key}. \")"
   ]
  },
  {
   "cell_type": "markdown",
   "id": "53c7e52868457894",
   "metadata": {},
   "source": [
    "### List of the national metrics available"
   ]
  },
  {
   "cell_type": "code",
   "execution_count": 6,
   "id": "731278461c56f7b4",
   "metadata": {
    "ExecuteTime": {
     "end_time": "2024-11-24T12:06:21.175226Z",
     "start_time": "2024-11-24T12:06:21.171801Z"
    }
   },
   "outputs": [
    {
     "name": "stdout",
     "output_type": "stream",
     "text": [
      "2: Cumulative People Vaccinated Autumn By Vaccination Date 65 plus Nation. \n",
      "5: Cumulative People Vaccinated Booster Dose By Publish Date Nation. \n",
      "7: Cumulative People Vaccinated Complete By Publish Date Nation. \n",
      "12: Cumulative People Vaccinated Complete By Vaccination Date Nation. \n",
      "16: Cumulative People Vaccinated First Dose By Publish Date Nation. \n",
      "21: Cumulative People Vaccinated First Dose By Vaccination Date Nation. \n",
      "26: Cumulative People Vaccinated Second Dose By Publish Date Nation. \n",
      "31: Cumulative People Vaccinated Second Dose By Vaccination Date Nation. \n",
      "36: Cumulative People Vaccinated Spring By Vaccination Date 75 plus Nation. \n",
      "39: Cumulative People Vaccinated Third Dose By Publish Date Nation. \n",
      "41: Cumulative People Vaccinated Third Injection By Publish Date Nation. \n",
      "46: Cumulative People Vaccinated Third Injection By Vaccination Date Nation. \n",
      "50: Cumulative Vaccination Autumn Uptake By Vaccination Date Percentage 65 plus Nation. \n",
      "53: Cumulative Vaccination Booster Dose Uptake By Publish Date Percentage Nation. \n",
      "54: Cumulative Vaccination Complete Coverage By Publish Date Percentage Nation. \n",
      "57: Cumulative Vaccination Complete Coverage By Vaccination Date Percentage Nation. \n",
      "61: Cumulative Vaccination First Dose Uptake By Publish Date Percentage Nation. \n",
      "65: Cumulative Vaccination First Dose Uptake By Vaccination Date Percentage Nation. \n",
      "69: Cumulative Vaccination Second Dose Uptake By Publish Date Percentage Nation. \n",
      "73: Cumulative Vaccination Second Dose Uptake By Vaccination Date Percentage Nation. \n",
      "77: Cumulative Vaccination Spring Uptake By Vaccination Date Percentage 75 plus Nation. \n",
      "81: Cumulative Vaccination Third Injection Uptake By Publish Date Percentage Nation. \n",
      "85: Cumulative Vaccination Third Injection Uptake By Vaccination Date Percentage Nation. \n",
      "89: Cumulative Vaccines Given By Publish Date Nation. \n",
      "94: New People Vaccinated Autumn By Vaccination Date 65 plus Nation. \n",
      "97: New People Vaccinated Booster Dose By Publish Date Nation. \n",
      "99: New People Vaccinated Complete By Publish Date Nation. \n",
      "104: New People Vaccinated Complete By Vaccination Date Nation. \n",
      "108: New People Vaccinated First Dose By Publish Date Change Nation. \n",
      "111: New People Vaccinated First Dose By Publish Date Change Percentage Nation. \n",
      "118: New People Vaccinated First Dose By Publish Date Direction Nation. \n",
      "123: New People Vaccinated First Dose By Publish Date Nation. \n",
      "127: New People Vaccinated First Dose By Publish Date Rolling Sum Nation. \n",
      "133: New People Vaccinated First Dose By Vaccination Date Nation. \n",
      "138: New People Vaccinated Second Dose By Publish Date Change Nation. \n",
      "141: New People Vaccinated Second Dose By Publish Date Change Percentage Nation. \n",
      "148: New People Vaccinated Second Dose By Publish Date Direction Nation. \n",
      "153: New People Vaccinated Second Dose By Publish Date Nation. \n",
      "157: New People Vaccinated Second Dose By Publish Date Rolling Sum Nation. \n",
      "163: New People Vaccinated Second Dose By Vaccination Date Nation. \n",
      "168: New People Vaccinated Spring By Vaccination Date 75 plus Nation. \n",
      "171: New People Vaccinated Third Dose By Publish Date Nation. \n",
      "173: New People Vaccinated Third Injection By Publish Date Change Nation. \n",
      "176: New People Vaccinated Third Injection By Publish Date Change Percentage Nation. \n",
      "183: New People Vaccinated Third Injection By Publish Date Direction Nation. \n",
      "188: New People Vaccinated Third Injection By Publish Date Nation. \n",
      "192: New People Vaccinated Third Injection By Publish Date Rolling Sum Nation. \n",
      "198: New People Vaccinated Third Injection By Vaccination Date Nation. \n",
      "202: New Vaccines Given By Publish Date Nation. \n",
      "207: Vaccinations Age Demographics Nation. \n",
      "211: Vaccine Register Population By Vaccination Date Nation. \n",
      "214: Weekly People Vaccinated First Dose By Vaccination Date Nation. \n",
      "216: Weekly People Vaccinated Second Dose By Vaccination Date Nation. \n"
     ]
    }
   ],
   "source": [
    "for i, key in enumerate(metrics_dictionary.keys()):\n",
    "    if \"Nation\" in key:\n",
    "        print(f\"{i+1}: {key}. \")"
   ]
  },
  {
   "cell_type": "markdown",
   "id": "7219fa6e-27c5-4e98-8957-7e7e3e580781",
   "metadata": {},
   "source": [
    "99, 216, 214, 211, 207"
   ]
  },
  {
   "cell_type": "markdown",
   "id": "354c1dc233090680",
   "metadata": {},
   "source": [
    "### Select a statistic to combine data across years into a dataframe for further analysis/save as csv\n",
    "\n",
    "#### Change the number below to generate a dataframe of your desired metric which can be saved as a csv"
   ]
  },
  {
   "cell_type": "code",
   "execution_count": 7,
   "id": "b1427c624f949d28",
   "metadata": {
    "ExecuteTime": {
     "end_time": "2024-11-24T17:53:56.587636Z",
     "start_time": "2024-11-24T17:53:56.584796Z"
    }
   },
   "outputs": [],
   "source": [
    "selected_data = 212"
   ]
  },
  {
   "cell_type": "code",
   "execution_count": 8,
   "id": "3d55201fd2dcca93",
   "metadata": {
    "ExecuteTime": {
     "end_time": "2024-11-24T17:57:25.471277Z",
     "start_time": "2024-11-24T17:57:25.469230Z"
    }
   },
   "outputs": [],
   "source": [
    "keys = list(metrics_dictionary.keys())\n",
    "selected_key = keys[selected_data-1]\n",
    "selected_metric = metrics_dictionary[selected_key]"
   ]
  },
  {
   "cell_type": "code",
   "execution_count": 9,
   "id": "5992fa5280607d",
   "metadata": {
    "ExecuteTime": {
     "end_time": "2024-11-24T17:53:57.061544Z",
     "start_time": "2024-11-24T17:53:57.058549Z"
    }
   },
   "outputs": [],
   "source": [
    "available_files_for_metric = []\n",
    "\n",
    "for file in file_paths:\n",
    "    if selected_metric in file:\n",
    "        available_files_for_metric.append(file)"
   ]
  },
  {
   "cell_type": "code",
   "execution_count": 10,
   "id": "738099e2fd97b938",
   "metadata": {
    "ExecuteTime": {
     "end_time": "2024-11-24T17:53:57.238647Z",
     "start_time": "2024-11-24T17:53:57.232652Z"
    }
   },
   "outputs": [],
   "source": [
    "dataframes = []\n",
    "\n",
    "for file in available_files_for_metric:\n",
    "    df = pd.read_csv(file)\n",
    "    dataframes.append(df)"
   ]
  },
  {
   "cell_type": "code",
   "execution_count": 11,
   "id": "a61be644323b9015",
   "metadata": {
    "ExecuteTime": {
     "end_time": "2024-11-24T17:53:57.735147Z",
     "start_time": "2024-11-24T17:53:57.733194Z"
    }
   },
   "outputs": [],
   "source": [
    "combined_df = pd.concat(dataframes, ignore_index=True)"
   ]
  },
  {
   "cell_type": "code",
   "execution_count": 12,
   "id": "8bb81fa3c3bcbf1d",
   "metadata": {
    "ExecuteTime": {
     "end_time": "2024-11-24T17:53:58.504432Z",
     "start_time": "2024-11-24T17:53:58.496828Z"
    }
   },
   "outputs": [
    {
     "data": {
      "text/html": [
       "<div>\n",
       "<style scoped>\n",
       "    .dataframe tbody tr th:only-of-type {\n",
       "        vertical-align: middle;\n",
       "    }\n",
       "\n",
       "    .dataframe tbody tr th {\n",
       "        vertical-align: top;\n",
       "    }\n",
       "\n",
       "    .dataframe thead th {\n",
       "        text-align: right;\n",
       "    }\n",
       "</style>\n",
       "<table border=\"1\" class=\"dataframe\">\n",
       "  <thead>\n",
       "    <tr style=\"text-align: right;\">\n",
       "      <th></th>\n",
       "      <th>date</th>\n",
       "      <th>area_type</th>\n",
       "      <th>area_code</th>\n",
       "      <th>area_name</th>\n",
       "      <th>metric</th>\n",
       "      <th>metric_name</th>\n",
       "      <th>value</th>\n",
       "    </tr>\n",
       "  </thead>\n",
       "  <tbody>\n",
       "    <tr>\n",
       "      <th>0</th>\n",
       "      <td>2023-01-01</td>\n",
       "      <td>region</td>\n",
       "      <td>E12000006</td>\n",
       "      <td>East of England</td>\n",
       "      <td>VaccineRegisterPopulationByVaccinationDate</td>\n",
       "      <td>Vaccination register (NIMS) population by vacc...</td>\n",
       "      <td>6022362.0</td>\n",
       "    </tr>\n",
       "    <tr>\n",
       "      <th>1</th>\n",
       "      <td>2023-01-01</td>\n",
       "      <td>region</td>\n",
       "      <td>E12000009</td>\n",
       "      <td>South West</td>\n",
       "      <td>VaccineRegisterPopulationByVaccinationDate</td>\n",
       "      <td>Vaccination register (NIMS) population by vacc...</td>\n",
       "      <td>5413425.0</td>\n",
       "    </tr>\n",
       "    <tr>\n",
       "      <th>2</th>\n",
       "      <td>2023-01-01</td>\n",
       "      <td>region</td>\n",
       "      <td>E12000008</td>\n",
       "      <td>South East</td>\n",
       "      <td>VaccineRegisterPopulationByVaccinationDate</td>\n",
       "      <td>Vaccination register (NIMS) population by vacc...</td>\n",
       "      <td>8855622.0</td>\n",
       "    </tr>\n",
       "    <tr>\n",
       "      <th>3</th>\n",
       "      <td>2023-01-01</td>\n",
       "      <td>region</td>\n",
       "      <td>E12000003</td>\n",
       "      <td>Yorkshire and The Humber</td>\n",
       "      <td>VaccineRegisterPopulationByVaccinationDate</td>\n",
       "      <td>Vaccination register (NIMS) population by vacc...</td>\n",
       "      <td>5201594.0</td>\n",
       "    </tr>\n",
       "    <tr>\n",
       "      <th>4</th>\n",
       "      <td>2023-01-01</td>\n",
       "      <td>region</td>\n",
       "      <td>E12000001</td>\n",
       "      <td>North East</td>\n",
       "      <td>VaccineRegisterPopulationByVaccinationDate</td>\n",
       "      <td>Vaccination register (NIMS) population by vacc...</td>\n",
       "      <td>2509369.0</td>\n",
       "    </tr>\n",
       "    <tr>\n",
       "      <th>...</th>\n",
       "      <td>...</td>\n",
       "      <td>...</td>\n",
       "      <td>...</td>\n",
       "      <td>...</td>\n",
       "      <td>...</td>\n",
       "      <td>...</td>\n",
       "      <td>...</td>\n",
       "    </tr>\n",
       "    <tr>\n",
       "      <th>9904</th>\n",
       "      <td>2021-12-31</td>\n",
       "      <td>region</td>\n",
       "      <td>E12000002</td>\n",
       "      <td>North West</td>\n",
       "      <td>VaccineRegisterPopulationByVaccinationDate</td>\n",
       "      <td>Vaccination register (NIMS) population by vacc...</td>\n",
       "      <td>7085990.0</td>\n",
       "    </tr>\n",
       "    <tr>\n",
       "      <th>9905</th>\n",
       "      <td>2021-12-31</td>\n",
       "      <td>region</td>\n",
       "      <td>E12000009</td>\n",
       "      <td>South West</td>\n",
       "      <td>VaccineRegisterPopulationByVaccinationDate</td>\n",
       "      <td>Vaccination register (NIMS) population by vacc...</td>\n",
       "      <td>5413425.0</td>\n",
       "    </tr>\n",
       "    <tr>\n",
       "      <th>9906</th>\n",
       "      <td>2021-12-31</td>\n",
       "      <td>region</td>\n",
       "      <td>E12000004</td>\n",
       "      <td>East Midlands</td>\n",
       "      <td>VaccineRegisterPopulationByVaccinationDate</td>\n",
       "      <td>Vaccination register (NIMS) population by vacc...</td>\n",
       "      <td>4626975.0</td>\n",
       "    </tr>\n",
       "    <tr>\n",
       "      <th>9907</th>\n",
       "      <td>2021-12-31</td>\n",
       "      <td>region</td>\n",
       "      <td>E12000006</td>\n",
       "      <td>East of England</td>\n",
       "      <td>VaccineRegisterPopulationByVaccinationDate</td>\n",
       "      <td>Vaccination register (NIMS) population by vacc...</td>\n",
       "      <td>6022362.0</td>\n",
       "    </tr>\n",
       "    <tr>\n",
       "      <th>9908</th>\n",
       "      <td>2021-12-31</td>\n",
       "      <td>region</td>\n",
       "      <td>E12000001</td>\n",
       "      <td>North East</td>\n",
       "      <td>VaccineRegisterPopulationByVaccinationDate</td>\n",
       "      <td>Vaccination register (NIMS) population by vacc...</td>\n",
       "      <td>2509369.0</td>\n",
       "    </tr>\n",
       "  </tbody>\n",
       "</table>\n",
       "<p>9909 rows × 7 columns</p>\n",
       "</div>"
      ],
      "text/plain": [
       "            date area_type  area_code                 area_name  \\\n",
       "0     2023-01-01    region  E12000006           East of England   \n",
       "1     2023-01-01    region  E12000009                South West   \n",
       "2     2023-01-01    region  E12000008                South East   \n",
       "3     2023-01-01    region  E12000003  Yorkshire and The Humber   \n",
       "4     2023-01-01    region  E12000001                North East   \n",
       "...          ...       ...        ...                       ...   \n",
       "9904  2021-12-31    region  E12000002                North West   \n",
       "9905  2021-12-31    region  E12000009                South West   \n",
       "9906  2021-12-31    region  E12000004             East Midlands   \n",
       "9907  2021-12-31    region  E12000006           East of England   \n",
       "9908  2021-12-31    region  E12000001                North East   \n",
       "\n",
       "                                          metric  \\\n",
       "0     VaccineRegisterPopulationByVaccinationDate   \n",
       "1     VaccineRegisterPopulationByVaccinationDate   \n",
       "2     VaccineRegisterPopulationByVaccinationDate   \n",
       "3     VaccineRegisterPopulationByVaccinationDate   \n",
       "4     VaccineRegisterPopulationByVaccinationDate   \n",
       "...                                          ...   \n",
       "9904  VaccineRegisterPopulationByVaccinationDate   \n",
       "9905  VaccineRegisterPopulationByVaccinationDate   \n",
       "9906  VaccineRegisterPopulationByVaccinationDate   \n",
       "9907  VaccineRegisterPopulationByVaccinationDate   \n",
       "9908  VaccineRegisterPopulationByVaccinationDate   \n",
       "\n",
       "                                            metric_name      value  \n",
       "0     Vaccination register (NIMS) population by vacc...  6022362.0  \n",
       "1     Vaccination register (NIMS) population by vacc...  5413425.0  \n",
       "2     Vaccination register (NIMS) population by vacc...  8855622.0  \n",
       "3     Vaccination register (NIMS) population by vacc...  5201594.0  \n",
       "4     Vaccination register (NIMS) population by vacc...  2509369.0  \n",
       "...                                                 ...        ...  \n",
       "9904  Vaccination register (NIMS) population by vacc...  7085990.0  \n",
       "9905  Vaccination register (NIMS) population by vacc...  5413425.0  \n",
       "9906  Vaccination register (NIMS) population by vacc...  4626975.0  \n",
       "9907  Vaccination register (NIMS) population by vacc...  6022362.0  \n",
       "9908  Vaccination register (NIMS) population by vacc...  2509369.0  \n",
       "\n",
       "[9909 rows x 7 columns]"
      ]
     },
     "execution_count": 12,
     "metadata": {},
     "output_type": "execute_result"
    }
   ],
   "source": [
    "combined_df"
   ]
  },
  {
   "cell_type": "markdown",
   "id": "be5aacce6b81b9a9",
   "metadata": {},
   "source": [
    "### Save file as CSV"
   ]
  },
  {
   "cell_type": "code",
   "execution_count": 13,
   "id": "751d04d3b2179fac",
   "metadata": {
    "ExecuteTime": {
     "end_time": "2024-11-24T17:58:25.462182Z",
     "start_time": "2024-11-24T17:58:25.455222Z"
    }
   },
   "outputs": [],
   "source": [
    "combined_df.to_csv(f\"2_processed_databases/ukhsa_vaccination_data/{selected_metric}.csv\", index=False)"
   ]
  }
 ],
 "metadata": {
  "kernelspec": {
   "display_name": "Python 3 (ipykernel)",
   "language": "python",
   "name": "python3"
  },
  "language_info": {
   "codemirror_mode": {
    "name": "ipython",
    "version": 3
   },
   "file_extension": ".py",
   "mimetype": "text/x-python",
   "name": "python",
   "nbconvert_exporter": "python",
   "pygments_lexer": "ipython3",
   "version": "3.12.6"
  }
 },
 "nbformat": 4,
 "nbformat_minor": 5
}
